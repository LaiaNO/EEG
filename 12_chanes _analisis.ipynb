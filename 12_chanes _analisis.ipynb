{
 "metadata": {
  "language_info": {
   "codemirror_mode": {
    "name": "ipython",
    "version": 3
   },
   "file_extension": ".py",
   "mimetype": "text/x-python",
   "name": "python",
   "nbconvert_exporter": "python",
   "pygments_lexer": "ipython3",
   "version": "3.9.0-final"
  },
  "orig_nbformat": 2,
  "kernelspec": {
   "name": "python3",
   "display_name": "Python 3",
   "language": "python"
  }
 },
 "nbformat": 4,
 "nbformat_minor": 2,
 "cells": [
  {
   "cell_type": "code",
   "execution_count": 2,
   "metadata": {},
   "outputs": [],
   "source": [
    "import matplotlib\n",
    "import matplotlib.pyplot as plt # plotting\n",
    "import numpy as np # linear algebra\n",
    "import pandas as pd # data processing, CSV file I/O (e.g. pd.read_csv)\n",
    "import scipy\n",
    "import scipy.interpolate\n",
    "import mne\n",
    "import scipy\n",
    "import statistics\n",
    "from pywt import wavedec\n",
    "from scipy import signal\n",
    "import matplotlib.colors as mcolors\n",
    "import random\n",
    "import seaborn as sns\n",
    "import os\n",
    "from scipy import stats\n",
    "import statsmodels.api as sm\n",
    "from numpy import asarray\n",
    "from numpy import savetxt\n",
    "import pickle\n",
    "import csv"
   ]
  },
  {
   "cell_type": "code",
   "execution_count": 4,
   "metadata": {},
   "outputs": [],
   "source": [
    "from Extract_info import calcul"
   ]
  },
  {
   "cell_type": "code",
   "execution_count": 6,
   "metadata": {},
   "outputs": [],
   "source": [
    "from BandPower_Epoch_1c import BanPoer_Epoch\n",
    "from BandPower_Epoch_1c import BanPoer_Epoch2\n",
    "from BandPower_Epoch_1c import bandpower"
   ]
  },
  {
   "cell_type": "code",
   "execution_count": 8,
   "metadata": {},
   "outputs": [],
   "source": [
    "with open(\"PROGRAMA FINAL/EO_EC_Pacients_save.txt\", \"rb\") as fp:   # Unpickling\n",
    "    EO_EC_Pacients_up = pickle.load(fp)\n",
    "\n",
    "\n",
    "with open(\"PROGRAMA FINAL/sorted_list_ECsave.txt\", \"rb\") as fp:   # Unpickling\n",
    "    sorted_list_EC_up = pickle.load(fp)\n",
    "\n",
    "\n",
    "with open(\"PROGRAMA FINAL/sorted_list_EO_save.txt\", \"rb\") as fp:   # Unpickling\n",
    "    sorted_list_EO_up = pickle.load(fp)"
   ]
  },
  {
   "cell_type": "code",
   "execution_count": 10,
   "metadata": {},
   "outputs": [],
   "source": [
    "#Import the data to analise\n",
    "# open the file in universal line ending mode \n",
    "with open('Files/TEIQue-SF.csv', 'rU') as infile:\n",
    "  # read the file as a dictionary for each row ({header : value})\n",
    "  reader = csv.DictReader(infile)\n",
    "  data = {}\n",
    "  for row in reader:\n",
    "    for header, value in row.items():\n",
    "      try:\n",
    "        data[header].append(value)\n",
    "      except KeyError:\n",
    "        data[header] = [value]\n",
    "\n",
    "# extract the variables you want\n",
    "names = data['ID']\n",
    "TeiQueSF_emotionality = data['TeiQueSF_emotionality']\n",
    "TeiQueSF_well_being = data['TeiQueSF_well_being']"
   ]
  },
  {
   "cell_type": "code",
   "execution_count": 40,
   "metadata": {},
   "outputs": [
    {
     "output_type": "stream",
     "name": "stdout",
     "text": [
      "0\n",
      "1\n"
     ]
    }
   ],
   "source": [
    "lis_C1_EO = []\n",
    "lis_C2_EO = []\n",
    "\n",
    "for i in range(0,2):\n",
    "    print(i)\n",
    "    p1 = ('chanels_'+str(i)+'_delta_EO')\n",
    "    p2 = ('chanels_'+str(i)+'_theta_EO')\n",
    "    p3 = ('chanels_'+str(i)+'_alpha_EO')\n",
    "    p4 = ('chanels_'+str(i)+'_beta_EO')\n",
    "    p5 = ('chanels_'+str(i)+'_gama_l_EO')\n",
    "    p6 = ('chanels_'+str(i)+'_gama_u_EO')\n",
    "\n",
    "    if i == int(0):\n",
    "        lis_C1_EO = [p1, p2, p3, p4, p5, p6]\n",
    "    if i == int(1):\n",
    "        lis_C2_E0 = [p1, p2, p3, p4, p5, p6]\n",
    "\n",
    "    p1, p2, p3, p4, p5, p6 = BanPoer_Epoch(EO_EC_Pacients_up, 0,i)\n",
    "\n",
    "    dicnom = ('chanels_'+str(i)+'_EO')\n",
    "    dicnom = {}\n",
    "    dicnom = {\n",
    "        \"Delta\": p1,\n",
    "        \"Theta\": p2,\n",
    "        \"Alpha\": p3,\n",
    "        \"Beta\": p4,\n",
    "        \"Gama_lower\": p5,\n",
    "        \"Gama_upper\": p6}\n"
   ]
  },
  {
   "cell_type": "code",
   "execution_count": 42,
   "metadata": {},
   "outputs": [
    {
     "output_type": "stream",
     "name": "stdout",
     "text": [
      "0\n",
      "1\n"
     ]
    }
   ],
   "source": [
    "lis_C1_EO2 = []\n",
    "lis_C2_EO2 = []\n",
    "\n",
    "for i in range(0,2):\n",
    "    print(i)\n",
    "    p1 = ('chanels_'+str(i)+'_delta_EO2')\n",
    "    p2 = ('chanels_'+str(i)+'_theta_EO2')\n",
    "    p3 = ('chanels_'+str(i)+'_alpha_EO2')\n",
    "    p4 = ('chanels_'+str(i)+'_beta_EO2')\n",
    "    p5 = ('chanels_'+str(i)+'_gama_l_EO2')\n",
    "    p6 = ('chanels_'+str(i)+'_gama_u_EO2')\n",
    "\n",
    "    if i == int(0):\n",
    "        lis_C1_EO2 = [p1, p2, p3, p4, p5, p6]\n",
    "    if i == int(1):\n",
    "        lis_C2_E02 = [p1, p2, p3, p4, p5, p6]\n",
    "\n",
    "    p1, p2, p3, p4, p5, p6 = BanPoer_Epoch2(EO_EC_Pacients_up, 0,i)\n",
    "\n",
    "    dicnom = ('chanels_'+str(i)+'_EO2')\n",
    "    dicnom = {}\n",
    "    dicnom = {\n",
    "        \"Delta\": p1,\n",
    "        \"Theta\": p2,\n",
    "        \"Alpha\": p3,\n",
    "        \"Beta\": p4,\n",
    "        \"Gama_lower\": p5,\n",
    "        \"Gama_upper\": p6}"
   ]
  },
  {
   "cell_type": "code",
   "execution_count": 12,
   "metadata": {},
   "outputs": [],
   "source": [
    "'''chanels1_delta_EO, chanels1_theta_EO, chanels1_alpha_EO, chanels1_beta_EO, chanels1_gama_l_EO, chanels1_gama_u_EO  = BanPoer_Epoch(EO_EC_Pacients_up, 0,0)\n",
    "chanel1_EO = {}\n",
    "chanel1_EO = {\n",
    "    \"Delta\": chanels1_delta_EO,\n",
    "    \"Theta\": chanels1_theta_EO,\n",
    "    \"Alpha\": chanels1_alpha_EO,\n",
    "    \"Beta\": chanels1_beta_EO,\n",
    "    \"Gama_lower\": chanels1_gama_l_EO,\n",
    "    \"Gama_upper\": chanels1_gama_u_EO}'''"
   ]
  },
  {
   "cell_type": "code",
   "execution_count": 14,
   "metadata": {},
   "outputs": [],
   "source": [
    "'''chanels1_delta_EO2, chanels1_theta_EO2, chanels1_alpha_EO2, chanels1_beta_EO2, chanels1_gama_l_EO2, chanels1_gama_u_EO2 = BanPoer_Epoch2(EO_EC_Pacients_up, 0,0)\n",
    "chanel1_EO2 = {}\n",
    "chanel1_EO2 = {\n",
    "    \"Delta\": chanels1_delta_EO2,\n",
    "    \"Theta\": chanels1_theta_EO2,\n",
    "    \"Alpha\": chanels1_alpha_EO2,\n",
    "    \"Beta\": chanels1_beta_EO2,\n",
    "    \"Gama_lower\": chanels1_gama_l_EO,\n",
    "    \"Gama_upper\": chanels1_gama_u_EO}'''"
   ]
  },
  {
   "cell_type": "code",
   "execution_count": 16,
   "metadata": {},
   "outputs": [
    {
     "output_type": "execute_result",
     "data": {
      "text/plain": [
       "0.17746749017018348"
      ]
     },
     "metadata": {},
     "execution_count": 16
    }
   ],
   "source": [
    "chanels1_delta_EO[10]"
   ]
  },
  {
   "cell_type": "code",
   "execution_count": 18,
   "metadata": {},
   "outputs": [
    {
     "output_type": "execute_result",
     "data": {
      "text/plain": [
       "7.391428215856357e-13"
      ]
     },
     "metadata": {},
     "execution_count": 18
    }
   ],
   "source": [
    "def bandpower3():\n",
    "\n",
    "def BanPoer_Epoch3(EO_EC_Pacients, numchanel, eovsEO):\n",
    "\n",
    "    pacient_beta_EO = []\n",
    "    pacient_alpha_EO = []\n",
    "    pacient_gama_l_EO = []\n",
    "    pacient_gama_u_EO = []\n",
    "    pacient_theta_EO = []\n",
    "    pacient_delta_EO = []\n",
    "\n",
    "    chanels_betta = []\n",
    "    chanels_gama_u = []\n",
    "    chanels_gama_l = []\n",
    "    chanels_alpha = []\n",
    "    chanels_theta = []\n",
    "    chanels_delta = []\n",
    "\n",
    "    for pacient in EO_EC_Pacients:\n",
    "        EO_Epochs = epoch_return(pacient[eovsEO])\n",
    "\n",
    "        for epoch in EO_Epochs[numchanel]:\n",
    "            \n",
    "            #gamma upper\n",
    "            f_gama_upper = bandpower3(epoch, 250, 80, 250)\n",
    "            chanels_gama_u.append(f_gama_upper)\n",
    "            #gamma lower\n",
    "            f_gama_lower = bandpower3(epoch, 250, 30, 80)\n",
    "            chanels_gama_l.append(f_gama_lower)\n",
    "            #beta\n",
    "            f_beta = bandpower3(epoch, 250, 15, 30)\n",
    "            chanels_betta.append(f_beta)\n",
    "            #alpha\n",
    "            f_alpha = bandpower3(epoch, 250, 8, 12)\n",
    "            chanels_alpha.append(f_alpha)\n",
    "            #theta\n",
    "            f_theta = bandpower3(epoch, 250, 4, 8)\n",
    "            chanels_theta.append(f_theta)\n",
    "            #delta\n",
    "            f_delta = bandpower3(epoch, 250, 2, 4)\n",
    "            chanels_delta.append(f_delta)\n",
    "                \n",
    "\n",
    "        mean_x = statistics.median(chanels_betta)\n",
    "        mean_l = statistics.median(chanels_gama_l)\n",
    "        mean_y = statistics.median(chanels_gama_u)\n",
    "        mean_t = statistics.median(chanels_alpha)\n",
    "        mean_o = statistics.median(chanels_theta)\n",
    "        mean_p = statistics.median(chanels_delta)\n",
    "\n",
    "        pacient_beta_EO.append(mean_x)\n",
    "        pacient_alpha_EO.append(mean_t)\n",
    "        pacient_gama_u_EO.append(mean_y)\n",
    "        pacient_gama_l_EO.append(mean_l)\n",
    "        pacient_theta_EO.append(mean_o)\n",
    "        pacient_delta_EO.append(mean_p)\n",
    "\n",
    "    return pacient_delta_EO, pacient_theta_EO, pacient_alpha_EO, pacient_beta_EO, pacient_gama_l_EO, pacient_gama_u_EO "
   ]
  },
  {
   "cell_type": "code",
   "execution_count": 27,
   "metadata": {},
   "outputs": [],
   "source": [
    "\n",
    "def calcul1(names, sorted_list_EO, TeiQueSF_emotionality, pacient_beta, yo, oy, color):\n",
    "    all_info = []\n",
    "    x_corr = []\n",
    "    y_corr = []\n",
    "    for i in range(0, len(sorted_list_EO)):\n",
    "        hename = sorted_list_EO[i]\n",
    "        hename = str(hename[:-7])\n",
    "        if hename in names:\n",
    "            indices = [i for i, s in enumerate(names) if hename in s]\n",
    "            x = (float(TeiQueSF_emotionality[int(indices[0])]))\n",
    "            x_corr.append(x)\n",
    "            y = (float(pacient_beta[i]))\n",
    "            y_corr.append(y)\n",
    "            plt.scatter(x,y, c=color)\n",
    "            \n",
    "    #LINE EC\n",
    "    z = np.poly1d(np.polyfit(x_corr, y_corr, 1))\n",
    "    y_len = np.array(len(y_corr))\n",
    "    xp = np.linspace(yo, oy, y_len)\n",
    "    y = z(xp)\n",
    "    plt.plot(xp, y, c='b')\n",
    "\n",
    "    #PLOT ALL POINTS\n",
    "    plt.title('Plot show the correlation between TeiQueSF_emotionality and Band Power')\n",
    "    print(stats.pearsonr(x_corr, y_corr))\n",
    "\n",
    "    return stats.pearsonr(x_corr, y_corr)\n",
    "\n",
    "\n",
    "\n",
    "def minus_return_bandpower1(names, sorted_list_EO, TeiQueSF_emotionality, list_bands):\n",
    "    all_info = []\n",
    "    x_corr = []\n",
    "    y_corr = []\n",
    "    minus_5 = []\n",
    "    contador = 0\n",
    "    for e in list_bands:\n",
    "        for i in range(0, len(sorted_list_EO)):\n",
    "            hename = sorted_list_EO[i]\n",
    "            hename = str(hename[:-7])\n",
    "            if hename in names:\n",
    "                indices = [i for i, s in enumerate(names) if hename in s]\n",
    "                x = (float(TeiQueSF_emotionality[int(indices[0])]))\n",
    "                if x<5.0:\n",
    "                    contador = contador + 1\n",
    "                    x_corr.append(x)\n",
    "                    y = (float(e[i]))\n",
    "                    y_corr.append(y)\n",
    "\n",
    "        #PLOT ALL POINTS\n",
    "        resultat = statistics.median(y_corr)\n",
    "        minus_5.append(resultat)\n",
    "        print('menos 5')\n",
    "        print(contador)\n",
    "        \n",
    "    return minus_5\n",
    "\n",
    "\n",
    "\n",
    "\n",
    "def max5_return_bandpower1(names, sorted_list_EO, TeiQueSF_emotionality, list_bands):\n",
    "    all_info = []\n",
    "    x_corr = []\n",
    "    y_corr = []\n",
    "    max_5 = []\n",
    "    contador = 0 \n",
    "    for e in list_bands:\n",
    "        for i in range(0, len(sorted_list_EO)):\n",
    "            hename = sorted_list_EO[i]\n",
    "            hename = str(hename[:-7])\n",
    "            if hename in names:\n",
    "                indices = [i for i, s in enumerate(names) if hename in s]\n",
    "                x = (float(TeiQueSF_emotionality[int(indices[0])]))\n",
    "                if x>5.0:\n",
    "                    x_corr.append(x)\n",
    "                    y = (float(e[i]))\n",
    "                    y_corr.append(y)\n",
    "                    contador = contador + 1\n",
    "\n",
    "        #PLOT ALL POINTS\n",
    "        resultat = statistics.median(y_corr)\n",
    "        max_5.append(resultat)\n",
    "        print('max 5')\n",
    "        print(contador)\n",
    "\n",
    "\n",
    "    return max_5\n",
    "\n",
    "\n",
    "def plotbar_info_bandpower1 (names, sorted_list_EO, TeiQueSF_emotionality, list_bands):\n",
    "    #chanels1_delta_EO, chanels1_theta_EO, chanels1_alpha_EO, chanels1_beta_EO, chanels1_gama_l_EO, chanels1_gama_u_EO\n",
    "    labels = ['Delta', 'Theta', 'Alpha', 'Beta', 'Gama Lower', 'Gama Upper']\n",
    "    minus5 = minus_return_bandpower1(names, sorted_list_EO, TeiQueSF_emotionality, list_bands)\n",
    "    max5 = max5_return_bandpower1(names, sorted_list_EO, TeiQueSF_emotionality, list_bands)\n",
    "    print(minus5)\n",
    "\n",
    "    x = np.arange(len(labels))  # the label locations\n",
    "    width = 0.35  # the width of the bars\n",
    "\n",
    "    fig, ax = plt.subplots()\n",
    "    rects1 = ax.bar(x - width/2, minus5, width, label='-5')\n",
    "    rects2 = ax.bar(x + width/2, max5, width, label='+5')\n",
    "\n",
    "    # Add some text for labels, title and custom x-axis tick labels, etc.\n",
    "    ax.set_ylabel('Band Power')\n",
    "    ax.set_xticks(x)\n",
    "    ax.set_xticklabels(labels)\n",
    "    ax.legend()\n",
    "\n",
    "    fig.tight_layout()\n",
    "\n",
    "    plt.show()\n"
   ]
  },
  {
   "cell_type": "code",
   "execution_count": 43,
   "metadata": {},
   "outputs": [
    {
     "output_type": "error",
     "ename": "ValueError",
     "evalue": "could not convert string to float: 'c'",
     "traceback": [
      "\u001b[0;31m---------------------------------------------------------------------------\u001b[0m",
      "\u001b[0;31mValueError\u001b[0m                                Traceback (most recent call last)",
      "\u001b[0;32m<ipython-input-43-68bcd3b04d6a>\u001b[0m in \u001b[0;36m<module>\u001b[0;34m\u001b[0m\n\u001b[1;32m      3\u001b[0m \u001b[0;34m\u001b[0m\u001b[0m\n\u001b[1;32m      4\u001b[0m \u001b[0;32mfor\u001b[0m \u001b[0me\u001b[0m \u001b[0;32min\u001b[0m \u001b[0mrange\u001b[0m\u001b[0;34m(\u001b[0m\u001b[0;36m0\u001b[0m\u001b[0;34m,\u001b[0m\u001b[0;36m5\u001b[0m\u001b[0;34m)\u001b[0m\u001b[0;34m:\u001b[0m\u001b[0;34m\u001b[0m\u001b[0;34m\u001b[0m\u001b[0m\n\u001b[0;32m----> 5\u001b[0;31m     \u001b[0meo_betta_pi\u001b[0m \u001b[0;34m=\u001b[0m \u001b[0mcalcul1\u001b[0m\u001b[0;34m(\u001b[0m\u001b[0mnames\u001b[0m\u001b[0;34m,\u001b[0m \u001b[0msorted_list_EO_up\u001b[0m\u001b[0;34m,\u001b[0m \u001b[0mTeiQueSF_emotionality\u001b[0m\u001b[0;34m,\u001b[0m \u001b[0mlis_C1_EO\u001b[0m\u001b[0;34m[\u001b[0m\u001b[0me\u001b[0m\u001b[0;34m]\u001b[0m\u001b[0;34m,\u001b[0m \u001b[0;36m2\u001b[0m\u001b[0;34m,\u001b[0m \u001b[0;36m7\u001b[0m\u001b[0;34m,\u001b[0m \u001b[0mcolors\u001b[0m\u001b[0;34m[\u001b[0m\u001b[0me\u001b[0m\u001b[0;34m]\u001b[0m\u001b[0;34m)\u001b[0m\u001b[0;34m\u001b[0m\u001b[0;34m\u001b[0m\u001b[0m\n\u001b[0m\u001b[1;32m      6\u001b[0m     \u001b[0mpi_x_patient\u001b[0m\u001b[0;34m.\u001b[0m\u001b[0mappend\u001b[0m\u001b[0;34m(\u001b[0m\u001b[0meo_betta_pi\u001b[0m\u001b[0;34m)\u001b[0m\u001b[0;34m\u001b[0m\u001b[0;34m\u001b[0m\u001b[0m\n\u001b[1;32m      7\u001b[0m \u001b[0mplotbar_info_bandpower1\u001b[0m\u001b[0;34m(\u001b[0m\u001b[0mnames\u001b[0m\u001b[0;34m,\u001b[0m \u001b[0msorted_list_EO_up\u001b[0m\u001b[0;34m,\u001b[0m \u001b[0mTeiQueSF_emotionality\u001b[0m\u001b[0;34m,\u001b[0m \u001b[0mlist_bands_c1_EO\u001b[0m\u001b[0;34m)\u001b[0m\u001b[0;34m\u001b[0m\u001b[0;34m\u001b[0m\u001b[0m\n",
      "\u001b[0;32m<ipython-input-27-11d02571b7be>\u001b[0m in \u001b[0;36mcalcul1\u001b[0;34m(names, sorted_list_EO, TeiQueSF_emotionality, pacient_beta, yo, oy, color)\u001b[0m\n\u001b[1;32m     10\u001b[0m             \u001b[0mx\u001b[0m \u001b[0;34m=\u001b[0m \u001b[0;34m(\u001b[0m\u001b[0mfloat\u001b[0m\u001b[0;34m(\u001b[0m\u001b[0mTeiQueSF_emotionality\u001b[0m\u001b[0;34m[\u001b[0m\u001b[0mint\u001b[0m\u001b[0;34m(\u001b[0m\u001b[0mindices\u001b[0m\u001b[0;34m[\u001b[0m\u001b[0;36m0\u001b[0m\u001b[0;34m]\u001b[0m\u001b[0;34m)\u001b[0m\u001b[0;34m]\u001b[0m\u001b[0;34m)\u001b[0m\u001b[0;34m)\u001b[0m\u001b[0;34m\u001b[0m\u001b[0;34m\u001b[0m\u001b[0m\n\u001b[1;32m     11\u001b[0m             \u001b[0mx_corr\u001b[0m\u001b[0;34m.\u001b[0m\u001b[0mappend\u001b[0m\u001b[0;34m(\u001b[0m\u001b[0mx\u001b[0m\u001b[0;34m)\u001b[0m\u001b[0;34m\u001b[0m\u001b[0;34m\u001b[0m\u001b[0m\n\u001b[0;32m---> 12\u001b[0;31m             \u001b[0my\u001b[0m \u001b[0;34m=\u001b[0m \u001b[0;34m(\u001b[0m\u001b[0mfloat\u001b[0m\u001b[0;34m(\u001b[0m\u001b[0mpacient_beta\u001b[0m\u001b[0;34m[\u001b[0m\u001b[0mi\u001b[0m\u001b[0;34m]\u001b[0m\u001b[0;34m)\u001b[0m\u001b[0;34m)\u001b[0m\u001b[0;34m\u001b[0m\u001b[0;34m\u001b[0m\u001b[0m\n\u001b[0m\u001b[1;32m     13\u001b[0m             \u001b[0my_corr\u001b[0m\u001b[0;34m.\u001b[0m\u001b[0mappend\u001b[0m\u001b[0;34m(\u001b[0m\u001b[0my\u001b[0m\u001b[0;34m)\u001b[0m\u001b[0;34m\u001b[0m\u001b[0;34m\u001b[0m\u001b[0m\n\u001b[1;32m     14\u001b[0m             \u001b[0mplt\u001b[0m\u001b[0;34m.\u001b[0m\u001b[0mscatter\u001b[0m\u001b[0;34m(\u001b[0m\u001b[0mx\u001b[0m\u001b[0;34m,\u001b[0m\u001b[0my\u001b[0m\u001b[0;34m,\u001b[0m \u001b[0mc\u001b[0m\u001b[0;34m=\u001b[0m\u001b[0mcolor\u001b[0m\u001b[0;34m)\u001b[0m\u001b[0;34m\u001b[0m\u001b[0;34m\u001b[0m\u001b[0m\n",
      "\u001b[0;31mValueError\u001b[0m: could not convert string to float: 'c'"
     ]
    }
   ],
   "source": [
    "colors = ['r','b','g','y','r']\n",
    "pi_x_patient=[]\n",
    "\n",
    "for e in range(0,5):\n",
    "    eo_betta_pi = calcul1(names, sorted_list_EO_up, TeiQueSF_emotionality, lis_C1_EO[e], 2, 7, colors[e])\n",
    "    pi_x_patient.append(eo_betta_pi)\n",
    "plotbar_info_bandpower1(names, sorted_list_EO_up, TeiQueSF_emotionality, list_bands_c1_EO)"
   ]
  },
  {
   "cell_type": "code",
   "execution_count": null,
   "metadata": {},
   "outputs": [],
   "source": [
    "pi_x_patient=[]\n",
    "\n",
    "for e in range(0,5):\n",
    "    eo_betta_pi = calcul1(names, sorted_list_EO_up, TeiQueSF_emotionality, lis_C1_EO2[e], 2, 7, colors[e])\n",
    "    pi_x_patient.append(eo_betta_pi)\n",
    "from Extract_info import plotbar_info_bandpower\n",
    "plotbar_info_bandpower1(names, sorted_list_EO_up, TeiQueSF_emotionality, list_bands_c1_EO2)"
   ]
  },
  {
   "cell_type": "code",
   "execution_count": null,
   "metadata": {},
   "outputs": [],
   "source": []
  }
 ]
}