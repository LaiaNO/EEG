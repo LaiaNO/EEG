{
 "metadata": {
  "language_info": {
   "codemirror_mode": {
    "name": "ipython",
    "version": 3
   },
   "file_extension": ".py",
   "mimetype": "text/x-python",
   "name": "python",
   "nbconvert_exporter": "python",
   "pygments_lexer": "ipython3",
   "version": "3.8.5-final"
  },
  "orig_nbformat": 2,
  "kernelspec": {
   "name": "python3",
   "display_name": "Python 3"
  }
 },
 "nbformat": 4,
 "nbformat_minor": 2,
 "cells": [
  {
   "cell_type": "code",
   "execution_count": 1,
   "metadata": {},
   "outputs": [],
   "source": [
    "#IMPORTS\n",
    "\n",
    "import matplotlib\n",
    "import matplotlib.pyplot as plt # plotting\n",
    "import numpy as np # linear algebra\n",
    "import pandas as pd # data processing, CSV file I/O (e.g. pd.read_csv)\n",
    "import scipy\n",
    "import scipy.interpolate\n",
    "import mne\n",
    "import scipy\n",
    "import statistics\n"
   ]
  },
  {
   "cell_type": "code",
   "execution_count": 2,
   "metadata": {},
   "outputs": [],
   "source": [
    "#DEF\n",
    "#DEF UPPER CHANNEL\n",
    "def upperchanel(chanlesnames):\n",
    "    upperchanels=[]\n",
    "    for i in chanlesnames:\n",
    "        r = i.upper()\n",
    "        upperchanels.append(r)\n",
    "    return upperchanels\n",
    "\n",
    "#DEF GRUP INFO DE CADA COMPONENT\n",
    "def group_inf(nomgroup, data_chan, upperchanels):\n",
    "    group_date = []\n",
    "\n",
    "    for e in nomgroup:\n",
    "        if e in upperchanels:\n",
    "            num = upperchanels.index(e)\n",
    "            #print(num)\n",
    "            group_date.append(data_chan[num])  \n",
    "    #print(group_date)\n",
    "    return group_date\n",
    "\n",
    "#DEF MEDIUM DELS GRUPS\n",
    "#group_dat = [[1,2,3,..., 119345],[1,2,3,..., 119345],[1,2,3,..., 119345],[1,2,3,..., 119345]]\n",
    "def mediumchanels(group_dat):\n",
    "    segundo = len(group_dat[0])\n",
    "    primero = len(group_dat)\n",
    "    mean_data = []\n",
    "    for i in range (0,segundo):\n",
    "        suma1=[]\n",
    "        for e in range(0,primero):\n",
    "            suma1.append(group_dat[e][i])\n",
    "        numpero = statistics.median(suma1)\n",
    "        mean_data.append(numpero)\n",
    "    return mean_data\n",
    "\n",
    "\n",
    "def opteciogrups(chanlesnames, groupp, data_chan):\n",
    "    group_date_finale = [] #Save all informatio chanels 12.\n",
    "    group_date_final = [] #final copy\n",
    "    upchan = upperchanel(chanlesnames)\n",
    "    for i in groupp:\n",
    "        group_date = group_inf(i, data_chan, upchan)\n",
    "        mean_group = mediumchanels(group_date)\n",
    "        mean_array = np.array(mean_group)\n",
    "        group_date_finale.append(mean_array)\n",
    "    group_date_final = np.array(group_date_finale)\n",
    "    return group_date_final\n",
    "    \n",
    "#standar erros mean\n",
    "#filter 30hz? paper check"
   ]
  },
  {
   "cell_type": "code",
   "execution_count": 4,
   "metadata": {},
   "outputs": [],
   "source": [
    "#general info\n",
    "#GROUPS\n",
    "group1= [\"FP2\", \"AFZ\", \"FZ\", \"FCZ\", \"CZ\"]\n",
    "group2= [\"F7\", \"F5\", \"F3\", \"F1\", \"AF7\", \"AF3\", \"FP1\"]\n",
    "group3= [\"FP2\", \"AF4\", \"AF8\", \"F2\", \"F4\", \"F6\", \"F8\"]\n",
    "group4= [\"FT7\", \"T7\", \"TP7\"]\n",
    "group5= [\"FC5\", \"FC3\", \"FC1\", \"C5\", \"C3\", \"C1\"]\n",
    "group6= [\"CP5\", \"CP3\", \"CP1\", \"P7\", \"P5\", \"P3\", \"P1\"]\n",
    "group7= [\"PO7\", \"PO3\", \"O1\", \"PO9\"]\n",
    "group8= [\"PO4\", \"PO8\", \"O2\", \"PO10\"]\n",
    "group9= [\"P2\", \"P4\", \"P6\", \"P8\", \"CP2\", \"CP4\", \"CP6\"]\n",
    "group10= [\"FT8\", \"T8\", \"TP8\"]\n",
    "group11= [\"CPZ\", \"PZ\", \"POZ\", \"OZ\", \"IZ\"]\n",
    "group12= [\"FC2\", \"FC4\", \"FC6\", \"C2\", \"C4\", \"C6\"]\n",
    "\n",
    "#X\n",
    "groups = [group1, group2, group3, group4, group5, group6, group7, group8, group9, group10, group11, group12]"
   ]
  },
  {
   "cell_type": "code",
   "execution_count": 5,
   "metadata": {},
   "outputs": [
    {
     "output_type": "stream",
     "name": "stdout",
     "text": [
      "Reading Files/Preprocessed/sub-010003_EC.fdt\n",
      "Reading 0 ... 119515  =      0.000 ...   478.060 secs...\n"
     ]
    },
    {
     "output_type": "error",
     "ename": "NameError",
     "evalue": "name 'info' is not defined",
     "traceback": [
      "\u001b[0;31m---------------------------------------------------------------------------\u001b[0m",
      "\u001b[0;31mNameError\u001b[0m                                 Traceback (most recent call last)",
      "\u001b[0;32m<ipython-input-5-ba3e7886dc4b>\u001b[0m in \u001b[0;36m<module>\u001b[0;34m\u001b[0m\n\u001b[1;32m      8\u001b[0m \u001b[0mgroups_date_finalle2\u001b[0m \u001b[0;34m=\u001b[0m \u001b[0mopteciogrups\u001b[0m\u001b[0;34m(\u001b[0m\u001b[0mchanles_names2\u001b[0m\u001b[0;34m,\u001b[0m \u001b[0mgroups\u001b[0m\u001b[0;34m,\u001b[0m \u001b[0mdatax2\u001b[0m\u001b[0;34m)\u001b[0m\u001b[0;34m\u001b[0m\u001b[0;34m\u001b[0m\u001b[0m\n\u001b[1;32m      9\u001b[0m \u001b[0;31m#TRANSFORM TO MNE\u001b[0m\u001b[0;34m\u001b[0m\u001b[0;34m\u001b[0m\u001b[0;34m\u001b[0m\u001b[0m\n\u001b[0;32m---> 10\u001b[0;31m \u001b[0mraw2\u001b[0m \u001b[0;34m=\u001b[0m \u001b[0mmne\u001b[0m\u001b[0;34m.\u001b[0m\u001b[0mio\u001b[0m\u001b[0;34m.\u001b[0m\u001b[0mRawArray\u001b[0m\u001b[0;34m(\u001b[0m\u001b[0mgroups_date_finalle2\u001b[0m\u001b[0;34m,\u001b[0m \u001b[0minfo\u001b[0m\u001b[0;34m)\u001b[0m\u001b[0;34m\u001b[0m\u001b[0;34m\u001b[0m\u001b[0m\n\u001b[0m",
      "\u001b[0;31mNameError\u001b[0m: name 'info' is not defined"
     ]
    }
   ],
   "source": [
    "#LOAD\n",
    "x2=mne.io.read_raw_eeglab('Files/Preprocessed/sub-010003_EC.set', preload=True, verbose=True)\n",
    "#GET DATA\n",
    "datax2 = x2._data\n",
    "#GET CHANELS\n",
    "chanles_names2 = x2.ch_names\n",
    "#REDUCE CHANELS TO 12\n",
    "groups_date_finalle2 = opteciogrups(chanles_names2, groups, datax2)\n",
    "#TRANSFORM TO MNE\n",
    "raw2 = mne.io.RawArray(groups_date_finalle2, info)"
   ]
  },
  {
   "cell_type": "code",
   "execution_count": null,
   "metadata": {},
   "outputs": [],
   "source": []
  }
 ]
}