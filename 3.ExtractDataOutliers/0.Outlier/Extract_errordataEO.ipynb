{
 "metadata": {
  "language_info": {
   "codemirror_mode": {
    "name": "ipython",
    "version": 3
   },
   "file_extension": ".py",
   "mimetype": "text/x-python",
   "name": "python",
   "nbconvert_exporter": "python",
   "pygments_lexer": "ipython3",
   "version": "3.8.5-final"
  },
  "orig_nbformat": 2,
  "kernelspec": {
   "name": "python3",
   "display_name": "Python 3",
   "language": "python"
  }
 },
 "nbformat": 4,
 "nbformat_minor": 2,
 "cells": [
  {
   "cell_type": "code",
   "execution_count": 1,
   "metadata": {},
   "outputs": [],
   "source": [
    "import pandas as pd # data processing, CSV file I/O (e.g. pd.read_csv)\n",
    "import scipy.interpolate\n",
    "import statistics\n",
    "import seaborn as sns\n",
    "import os\n",
    "import statsmodels.api as sm\n",
    "from numpy import asarray\n",
    "from numpy import savetxt\n",
    "import pickle\n",
    "import csv\n",
    "import numpy as np\n",
    "from scipy import stats\n"
   ]
  },
  {
   "cell_type": "code",
   "execution_count": 2,
   "metadata": {},
   "outputs": [],
   "source": [
    "#Obrim els seguents archius:\n",
    "\n",
    "#Data EO amb 12 brain reagions y els powerband\n",
    "with open(\"/Users/laianavarroolivella/Proyectos/EEG/2.banpowerEpoch12BR/list_finalEO.txt\", \"rb\") as fp: \n",
    "    dataEO = pickle.load(fp)\n",
    "#Llista dels noms dels pacients EO \n",
    "with open(\"/Users/laianavarroolivella/Proyectos/EEG/1.dataToBrainReagions/sorted_list_EO.txt\", \"rb\") as fp:   # Unpickling\n",
    "    listEO_Names = pickle.load(fp)"
   ]
  },
  {
   "cell_type": "code",
   "execution_count": 3,
   "metadata": {
    "tags": []
   },
   "outputs": [],
   "source": [
    "lis_noms = ['Anterior_midline', 'Left_frontal', 'Right_frontal', 'Left_temporal', 'Left_central', 'Left_parietal', 'Left_Occipital', 'Right_Occipital', 'Right_parietal', 'Right_temporal', 'Posterior_midline', 'Right_central']\n",
    "\n",
    "labels = ['Delta', 'Theta', 'Alpha', 'Beta', 'Gama Lower']"
   ]
  },
  {
   "cell_type": "code",
   "execution_count": 4,
   "metadata": {
    "tags": []
   },
   "outputs": [],
   "source": [
    "#Create a list with all the name in the same dimensions as the data\n",
    "dabeNames_BR_Bads_BP =[]\n",
    "for e in range(0, len(dataEO)):  #Per cada brain reagon\n",
    "    dp = []\n",
    "    for i in range(0, len(dataEO[e])): #Per cada Band\n",
    "        new =[]\n",
    "        for r in listEO_Names:\n",
    "            new.append(str(r))\n",
    "        dp.append(new)\n",
    "    dabeNames_BR_Bads_BP.append(dp)"
   ]
  },
  {
   "cell_type": "code",
   "execution_count": 5,
   "metadata": {},
   "outputs": [],
   "source": [
    "#Z-Score, delete the outliers\n",
    "Clean_Data = [] #On guardarem totes les dades [pacients][bands][data]\n",
    "New_listnames = [] #On guararem els noms dels pacients que han passat\n",
    "Possitions = [] #On guardare les pcisions\n",
    "for e in range(0, len(dataEO)):  #Per cada brain reagon\n",
    "    Clean_Data_BR = []\n",
    "    New_listnames_BR = []\n",
    "    Possitions_BR= []\n",
    "    for i in range(0, len(dataEO[e])): #Per cada Band\n",
    "        Clean_Data_Band = []\n",
    "        New_listnames_Band = []\n",
    "        Possitions_Band = []\n",
    "        df=pd.DataFrame(dataEO[e][i])  #Pas to Data frame\n",
    "        df['z_score']=stats.zscore(df) #Get z-score\n",
    "        for r in df['z_score']:        #Per cada linea en z-score\n",
    "            if -2.5 < r > 2.5 :  #Si el z-score es major que 2.5\n",
    "                rows = list(df['z_score'][df['z_score'] == float(r)].index) #Select la posicio que tingui el z-score alt\n",
    "                text = str(rows) #El guardem en string\n",
    "                Nombredada = df[0][int(text[1:-1])]  #busquem en la pocicio quina dada te\n",
    "                Posicio = dataEO[e][i].index(Nombredada) #busquem en dataEO quina posicio te la dada\n",
    "                Clean_Data_Band.append(dataEO[e][i][Posicio])\n",
    "                Possitions_Band.append(Posicio)\n",
    "                Nompacient = listEO_Names[Posicio] #busquem en aquella posicio el nom del pacient\n",
    "                New_listnames_Band.append(Nompacient)\n",
    "        Clean_Data_BR.append(Clean_Data_Band)\n",
    "        New_listnames_BR.append(New_listnames_Band)\n",
    "        Possitions_BR.append(Possitions_Band)\n",
    "    Clean_Data.append(Clean_Data_BR)\n",
    "    New_listnames.append(New_listnames_BR)\n",
    "    Possitions.append(Possitions_BR)"
   ]
  },
  {
   "cell_type": "code",
   "execution_count": 6,
   "metadata": {},
   "outputs": [],
   "source": [
    "# List of the outliers\n",
    "Names_New = dabeNames_BR_Bads_BP.copy()\n",
    "Dadas_New = dataEO.copy()\n",
    "for e in range(0, len(dataEO)):  #Per cada brain reagon\n",
    "    for i in range(0, len(dataEO[e])): #Per cada Band\n",
    "        df=pd.DataFrame(dataEO[e][i])  #Pas to Data frame\n",
    "        df['z_score']=stats.zscore(df) #Get z-score\n",
    "        for r in df['z_score']:        #Per cada linea en z-score\n",
    "            if -2.5 < r > 2.5 :  #Si el z-score es major que 2.5\n",
    "                rows = list(df['z_score'][df['z_score'] == float(r)].index) #Select la posicio que tingui el z-score alt\n",
    "                text = str(rows) #El guardem en string\n",
    "                Nombredada = df[0][int(text[1:-1])]  #busquem en la pocicio quina dada te\n",
    "                Posicio = dataEO[e][i].index(Nombredada) #busquem en dataEO quina posicio te la dada\n",
    "                del Dadas_New[e][i][Posicio]\n",
    "                del Names_New[e][i][Posicio]"
   ]
  },
  {
   "cell_type": "code",
   "execution_count": 7,
   "metadata": {
    "tags": []
   },
   "outputs": [],
   "source": [
    "from collections import defaultdict\n",
    "d = defaultdict(int)\n",
    "for i in New_listnames:\n",
    "    for w in i:\n",
    "        for r in w:\n",
    "            for e in w:\n",
    "                d[e] += 1      "
   ]
  },
  {
   "cell_type": "code",
   "execution_count": 8,
   "metadata": {},
   "outputs": [],
   "source": [
    "#Name of the EC files in name order.\n",
    "with open(\"Listoflist_no_outliersEO.txt\", \"wb\") as fp:   #Pickling\n",
    "    pickle.dump(Names_New, fp)\n",
    "\n",
    "with open(\"Dades_no_outliersEO.txt\", \"wb\") as fp:   #Pickling\n",
    "    pickle.dump(Dadas_New, fp)\n",
    "\n",
    "#Name of the EC files ordered in the name file.\n",
    "with open(\"Listoflist_outliersEO.txt\", \"wb\") as fp:   #Pickling\n",
    "    pickle.dump(New_listnames, fp)\n",
    "\n",
    "with open(\"Dades_outliersEO.txt\", \"wb\") as fp:   #Pickling\n",
    "    pickle.dump(Clean_Data, fp)"
   ]
  }
 ]
}