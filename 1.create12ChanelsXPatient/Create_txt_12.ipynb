{
 "metadata": {
  "language_info": {
   "codemirror_mode": {
    "name": "ipython",
    "version": 3
   },
   "file_extension": ".py",
   "mimetype": "text/x-python",
   "name": "python",
   "nbconvert_exporter": "python",
   "pygments_lexer": "ipython3",
   "version": "3.8.5-final"
  },
  "orig_nbformat": 2,
  "kernelspec": {
   "name": "python3",
   "display_name": "Python 3.8.5 64-bit ('base': conda)",
   "metadata": {
    "interpreter": {
     "hash": "47118186456967e3c1047db8e7e8640be95e41027d91cfa2ea66d2138c8f2405"
    }
   }
  }
 },
 "nbformat": 4,
 "nbformat_minor": 2,
 "cells": [
  {
   "cell_type": "code",
   "execution_count": 1,
   "metadata": {},
   "outputs": [],
   "source": [
    "#IMPORTS\n",
    "import numpy as np\n",
    "from numpy import asarray\n",
    "from numpy import savetxt\n",
    "import pickle\n",
    "\n",
    "#IMPOT FUNTION THAT RETURNS A LIS OF ALL PAIENTS DATA AS:\n",
    "#"
   ]
  },
  {
   "cell_type": "code",
   "execution_count": null,
   "metadata": {},
   "outputs": [],
   "source": [
    "from Import_all_12 import Import_Patients"
   ]
  },
  {
   "cell_type": "code",
   "execution_count": null,
   "metadata": {},
   "outputs": [],
   "source": [
    "basePATH = 'Files/Preprocessed/'\n",
    "sorted_list_EO, sorted_list_EC, EO_EC_Pacients = Import_Patients(basePATH)\n",
    "print(len(sorted_list_EO))"
   ]
  },
  {
   "cell_type": "code",
   "execution_count": null,
   "metadata": {},
   "outputs": [],
   "source": [
    "with open(\"EO_EC_Pacients_save.txt\", \"wb\") as fp:   #Pickling\n",
    "    pickle.dump(EO_EC_Pacients, fp)\n",
    "\n",
    "with open(\"EO_EC_Pacients_save.txt\", \"rb\") as fp:   # Unpickling\n",
    "    EO_EC_Pacients_up = pickle.load(fp)\n",
    "\n",
    "\n",
    "\n",
    "with open(\"sorted_list_ECsave.txt\", \"wb\") as fp:   #Pickling\n",
    "    pickle.dump(sorted_list_EC, fp)\n",
    "\n",
    "with open(\"sorted_list_ECsave.txt\", \"rb\") as fp:   # Unpickling\n",
    "    sorted_list_EC_up = pickle.load(fp)\n",
    "\n",
    "\n",
    "\n",
    "with open(\"sorted_list_EO_save.txt\", \"wb\") as fp:   #Pickling\n",
    "    pickle.dump(sorted_list_EO, fp)\n",
    "\n",
    "with open(\"sorted_list_EO_save.txt\", \"rb\") as fp:   # Unpickling\n",
    "    sorted_list_EO_up = pickle.load(fp)"
   ]
  }
 ]
}