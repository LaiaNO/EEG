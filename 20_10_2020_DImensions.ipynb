{
 "cells": [
  {
   "cell_type": "code",
   "execution_count": 1,
   "metadata": {},
   "outputs": [],
   "source": [
    "# Digitized EEG channel locations & Preprocessed resting state EEG data:"
   ]
  },
  {
   "cell_type": "code",
   "execution_count": 2,
   "metadata": {},
   "outputs": [],
   "source": [
    "#IMPORT\n",
    "\n",
    "import matplotlib\n",
    "import matplotlib.pyplot as plt # plotting\n",
    "import numpy as np # linear algebra\n",
    "import pandas as pd # data processing, CSV file I/O (e.g. pd.read_csv)\n",
    "import scipy\n",
    "import scipy.interpolate"
   ]
  },
  {
   "cell_type": "markdown",
   "metadata": {},
   "source": [
    "# Digitized EEG channel locations:"
   ]
  },
  {
   "cell_type": "code",
   "execution_count": 3,
   "metadata": {},
   "outputs": [
    {
     "output_type": "execute_result",
     "data": {
      "text/plain": [
       "\"\\nPolhemus PATRIOT Motion Tracking System (Polhemus, Colchester, VT, USA) localizer together \\nwith the Brainstorm toolbox was used to digitize the exact location of each electrode on a \\nparticipant's head relative to three fiducial points.\\n\""
      ]
     },
     "metadata": {},
     "execution_count": 3
    }
   ],
   "source": [
    "'''\n",
    "Polhemus PATRIOT Motion Tracking System (Polhemus, Colchester, VT, USA) localizer together \n",
    "with the Brainstorm toolbox was used to digitize the exact location of each electrode on a \n",
    "participant's head relative to three fiducial points.\n",
    "'''"
   ]
  },
  {
   "cell_type": "code",
   "execution_count": 4,
   "metadata": {},
   "outputs": [],
   "source": [
    "import scipy.io\n",
    "study = scipy.io.loadmat('Files/Localized/brainstormstudy.mat')\n",
    "sub = scipy.io.loadmat('Files/Localized/sub-010005.mat')"
   ]
  },
  {
   "cell_type": "code",
   "execution_count": 5,
   "metadata": {},
   "outputs": [
    {
     "output_type": "stream",
     "name": "stdout",
     "text": [
      "<class 'dict'>\n<class 'dict'>\n"
     ]
    }
   ],
   "source": [
    "print(type(study))\n",
    "print(type(sub))"
   ]
  },
  {
   "cell_type": "code",
   "execution_count": 6,
   "metadata": {},
   "outputs": [],
   "source": [
    "HP = {key: sub[key] for key in sub.keys() & {'HeadPoints'}}\n",
    "Chan = {key: sub[key] for key in sub.keys() & {'Channel'}}"
   ]
  },
  {
   "cell_type": "code",
   "execution_count": 7,
   "metadata": {},
   "outputs": [
    {
     "output_type": "stream",
     "name": "stdout",
     "text": [
      "[['HeadPoints'\n  array([[(array([[ 1.05390162e-01, -7.54655022e-04,  1.09510858e-04,\n         1.05562767e-01, -5.89822497e-04,  1.23496666e-03],\n       [-3.39141038e-04,  7.53056392e-02, -7.50044597e-02,\n         3.39141038e-04,  7.49013978e-02, -7.52025773e-02],\n       [ 7.42615340e-05, -1.50498157e-04, -4.87955560e-04,\n        -7.42615340e-05,  1.50498157e-04,  4.87955560e-04]]), array([[array(['NA'], dtype='<U2'), array(['LPA'], dtype='<U3'),\n        array(['RPA'], dtype='<U3'), array(['NA'], dtype='<U2'),\n        array(['LPA'], dtype='<U3'), array(['RPA'], dtype='<U3')]],\n      dtype=object), array([[array(['CARDINAL'], dtype='<U8'),\n        array(['CARDINAL'], dtype='<U8'),\n        array(['CARDINAL'], dtype='<U8'),\n        array(['CARDINAL'], dtype='<U8'),\n        array(['CARDINAL'], dtype='<U8'),\n        array(['CARDINAL'], dtype='<U8')]], dtype=object))]],\n      dtype=[('Loc', 'O'), ('Label', 'O'), ('Type', 'O')])]]\n(1, 2)\n"
     ]
    }
   ],
   "source": [
    "#HEAD POINTS\n",
    "\n",
    "data1 = list(HP.items())\n",
    "HP1 = np.array(data1)\n",
    "\n",
    "print(HP1)\n",
    "print(HP1.shape)\n"
   ]
  },
  {
   "cell_type": "code",
   "execution_count": 8,
   "metadata": {},
   "outputs": [
    {
     "output_type": "stream",
     "name": "stdout",
     "text": [
      "[[(array([[ 1.05390162e-01, -7.54655022e-04,  1.09510858e-04,\n         1.05562767e-01, -5.89822497e-04,  1.23496666e-03],\n       [-3.39141038e-04,  7.53056392e-02, -7.50044597e-02,\n         3.39141038e-04,  7.49013978e-02, -7.52025773e-02],\n       [ 7.42615340e-05, -1.50498157e-04, -4.87955560e-04,\n        -7.42615340e-05,  1.50498157e-04,  4.87955560e-04]]), array([[array(['NA'], dtype='<U2'), array(['LPA'], dtype='<U3'),\n        array(['RPA'], dtype='<U3'), array(['NA'], dtype='<U2'),\n        array(['LPA'], dtype='<U3'), array(['RPA'], dtype='<U3')]],\n      dtype=object), array([[array(['CARDINAL'], dtype='<U8'),\n        array(['CARDINAL'], dtype='<U8'),\n        array(['CARDINAL'], dtype='<U8'),\n        array(['CARDINAL'], dtype='<U8'),\n        array(['CARDINAL'], dtype='<U8'),\n        array(['CARDINAL'], dtype='<U8')]], dtype=object))]]\n"
     ]
    }
   ],
   "source": [
    "#Selection\n",
    "HP2 = HP1[0][1]\n",
    "print(HP2)"
   ]
  },
  {
   "cell_type": "code",
   "execution_count": 9,
   "metadata": {},
   "outputs": [
    {
     "output_type": "execute_result",
     "data": {
      "text/plain": [
       "(array([[ 1.05390162e-01, -7.54655022e-04,  1.09510858e-04,\n",
       "         1.05562767e-01, -5.89822497e-04,  1.23496666e-03],\n",
       "       [-3.39141038e-04,  7.53056392e-02, -7.50044597e-02,\n",
       "         3.39141038e-04,  7.49013978e-02, -7.52025773e-02],\n",
       "       [ 7.42615340e-05, -1.50498157e-04, -4.87955560e-04,\n",
       "        -7.42615340e-05,  1.50498157e-04,  4.87955560e-04]]), array([[array(['NA'], dtype='<U2'), array(['LPA'], dtype='<U3'),\n",
       "        array(['RPA'], dtype='<U3'), array(['NA'], dtype='<U2'),\n",
       "        array(['LPA'], dtype='<U3'), array(['RPA'], dtype='<U3')]],\n",
       "      dtype=object), array([[array(['CARDINAL'], dtype='<U8'),\n",
       "        array(['CARDINAL'], dtype='<U8'),\n",
       "        array(['CARDINAL'], dtype='<U8'),\n",
       "        array(['CARDINAL'], dtype='<U8'),\n",
       "        array(['CARDINAL'], dtype='<U8'),\n",
       "        array(['CARDINAL'], dtype='<U8')]], dtype=object))"
      ]
     },
     "metadata": {},
     "execution_count": 9
    }
   ],
   "source": [
    "#Final selected data\n",
    "HP_Cord = HP2[0][0]\n",
    "HP_Cord"
   ]
  },
  {
   "cell_type": "code",
   "execution_count": 10,
   "metadata": {
    "scrolled": true
   },
   "outputs": [
    {
     "output_type": "stream",
     "name": "stdout",
     "text": [
      "[['Channel'\n  array([[(array(['Green_1_FP1'], dtype='<U11'), array([], dtype='<U1'), array(['EEG'], dtype='<U3'), array([[0.11221639],\n       [0.03699045],\n       [0.0599444 ]]), array([], shape=(0, 0), dtype=uint8), array([], shape=(0, 0), dtype=uint8)),\n        (array(['Green_2_FP2'], dtype='<U11'), array([], shape=(1, 0), dtype=float64), array(['EEG'], dtype='<U3'), array([[ 0.11411683],\n       [-0.03592944],\n       [ 0.06041879]]), array([], shape=(1, 0), dtype=float64), array([], shape=(1, 0), dtype=float64)),\n        (array(['Green_3_F7'], dtype='<U10'), array([], shape=(1, 0), dtype=float64), array(['EEG'], dtype='<U3'), array([[0.06099049],\n       [0.07887165],\n       [0.049688  ]]), array([], shape=(1, 0), dtype=float64), array([], shape=(1, 0), dtype=float64)),\n        (array(['Green_4_F3'], dtype='<U10'), array([], shape=(1, 0), dtype=float64), array(['EEG'], dtype='<U3'), array([[0.06888137],\n       [0.05800198],\n       [0.10342762]]), array([], shape=(1, 0), dtype=float64), array([], shape=(1, 0), dtype=float64)),\n        (array(['Green_5_Fz'], dtype='<U10'), array([], shape=(1, 0), dtype=float64), array(['EEG'], dtype='<U3'), array([[0.07703392],\n       [0.00292361],\n       [0.12755632]]), array([], shape=(1, 0), dtype=float64), array([], shape=(1, 0), dtype=float64)),\n        (array(['Green_6_F4'], dtype='<U10'), array([], shape=(1, 0), dtype=float64), array(['EEG'], dtype='<U3'), array([[ 0.07398517],\n       [-0.05325982],\n       [ 0.1101454 ]]), array([], shape=(1, 0), dtype=float64), array([], shape=(1, 0), dtype=float64)),\n        (array(['Green_7_F8'], dtype='<U10'), array([], shape=(1, 0), dtype=float64), array(['EEG'], dtype='<U3'), array([[ 0.06148706],\n       [-0.07971031],\n       [ 0.05492488]]), array([], shape=(1, 0), dtype=float64), array([], shape=(1, 0), dtype=float64)),\n        (array(['Green_8_FC5'], dtype='<U11'), array([], shape=(1, 0), dtype=float64), array(['EEG'], dtype='<U3'), array([[0.03443652],\n       [0.08188294],\n       [0.07928303]]), array([], shape=(1, 0), dtype=float64), array([], shape=(1, 0), dtype=float64)),\n        (array(['Green_9_FC1'], dtype='<U11'), array([], shape=(1, 0), dtype=float64), array(['EEG'], dtype='<U3'), array([[0.037188  ],\n       [0.03259103],\n       [0.13631994]]), array([], shape=(1, 0), dtype=float64), array([], shape=(1, 0), dtype=float64)),\n        (array(['Green_10_FC2'], dtype='<U12'), array([], shape=(1, 0), dtype=float64), array(['EEG'], dtype='<U3'), array([[ 0.04157288],\n       [-0.03803777],\n       [ 0.13482458]]), array([], shape=(1, 0), dtype=float64), array([], shape=(1, 0), dtype=float64)),\n        (array(['Green_11_FC6'], dtype='<U12'), array([], shape=(1, 0), dtype=float64), array(['EEG'], dtype='<U3'), array([[ 0.03621629],\n       [-0.08175441],\n       [ 0.081847  ]]), array([], shape=(1, 0), dtype=float64), array([], shape=(1, 0), dtype=float64)),\n        (array(['Green_12_T7'], dtype='<U11'), array([], shape=(1, 0), dtype=float64), array(['EEG'], dtype='<U3'), array([[0.00137197],\n       [0.08773422],\n       [0.0423905 ]]), array([], shape=(1, 0), dtype=float64), array([], shape=(1, 0), dtype=float64)),\n        (array(['Green_13_C3'], dtype='<U11'), array([], shape=(1, 0), dtype=float64), array(['EEG'], dtype='<U3'), array([[0.00439769],\n       [0.06754162],\n       [0.11417871]]), array([], shape=(1, 0), dtype=float64), array([], shape=(1, 0), dtype=float64)),\n        (array(['Green_14_Cz'], dtype='<U11'), array([], shape=(1, 0), dtype=float64), array(['EEG'], dtype='<U3'), array([[ 0.00127494],\n       [-0.00035243],\n       [ 0.15230447]]), array([], shape=(1, 0), dtype=float64), array([], shape=(1, 0), dtype=float64)),\n        (array(['Green_15_C4'], dtype='<U11'), array([], shape=(1, 0), dtype=float64), array(['EEG'], dtype='<U3'), array([[ 0.00486852],\n       [-0.06944618],\n       [ 0.11731134]]), array([], shape=(1, 0), dtype=float64), array([], shape=(1, 0), dtype=float64)),\n        (array(['Green_16_T8'], dtype='<U11'), array([], shape=(1, 0), dtype=float64), array(['EEG'], dtype='<U3'), array([[-0.00173983],\n       [-0.09245905],\n       [ 0.0546799 ]]), array([], shape=(1, 0), dtype=float64), array([], shape=(1, 0), dtype=float64)),\n        (array(['Green_17_VEOG'], dtype='<U13'), array([], shape=(1, 0), dtype=float64), array(['EEG'], dtype='<U3'), array([[0.11087877],\n       [0.04497239],\n       [0.02777619]]), array([], shape=(1, 0), dtype=float64), array([], shape=(1, 0), dtype=float64)),\n        (array(['Green_18_CP5'], dtype='<U12'), array([], shape=(1, 0), dtype=float64), array(['EEG'], dtype='<U3'), array([[-0.03209911],\n       [ 0.07841711],\n       [ 0.07688105]]), array([], shape=(1, 0), dtype=float64), array([], shape=(1, 0), dtype=float64)),\n        (array(['Green_19_CP1'], dtype='<U12'), array([], shape=(1, 0), dtype=float64), array(['EEG'], dtype='<U3'), array([[-0.03817605],\n       [ 0.03489146],\n       [ 0.13856555]]), array([], shape=(1, 0), dtype=float64), array([], shape=(1, 0), dtype=float64)),\n        (array(['Green_20_CP2'], dtype='<U12'), array([], shape=(1, 0), dtype=float64), array(['EEG'], dtype='<U3'), array([[-0.03374976],\n       [-0.03735523],\n       [ 0.1386569 ]]), array([], shape=(1, 0), dtype=float64), array([], shape=(1, 0), dtype=float64)),\n        (array(['Green_21_CP6'], dtype='<U12'), array([], shape=(1, 0), dtype=float64), array(['EEG'], dtype='<U3'), array([[-0.03191885],\n       [-0.08448502],\n       [ 0.08182012]]), array([], shape=(1, 0), dtype=float64), array([], shape=(1, 0), dtype=float64)),\n        (array(['Green_22_AFz'], dtype='<U12'), array([], shape=(1, 0), dtype=float64), array(['EEG'], dtype='<U3'), array([[0.10558284],\n       [0.00114983],\n       [0.10040295]]), array([], shape=(1, 0), dtype=float64), array([], shape=(1, 0), dtype=float64)),\n        (array(['Green_23_P7'], dtype='<U11'), array([], shape=(1, 0), dtype=float64), array(['EEG'], dtype='<U3'), array([[-0.05893941],\n       [ 0.07833838],\n       [ 0.04490121]]), array([], shape=(1, 0), dtype=float64), array([], shape=(1, 0), dtype=float64)),\n        (array(['Green_24_P3'], dtype='<U11'), array([], shape=(1, 0), dtype=float64), array(['EEG'], dtype='<U3'), array([[-0.06547991],\n       [ 0.05647255],\n       [ 0.10247792]]), array([], shape=(1, 0), dtype=float64), array([], shape=(1, 0), dtype=float64)),\n        (array(['Green_25_Pz'], dtype='<U11'), array([], shape=(1, 0), dtype=float64), array(['EEG'], dtype='<U3'), array([[-0.07589774],\n       [-0.00207389],\n       [ 0.1265594 ]]), array([], shape=(1, 0), dtype=float64), array([], shape=(1, 0), dtype=float64)),\n        (array(['Green_26_P4'], dtype='<U11'), array([], shape=(1, 0), dtype=float64), array(['EEG'], dtype='<U3'), array([[-0.06430274],\n       [-0.05658399],\n       [ 0.10372281]]), array([], shape=(1, 0), dtype=float64), array([], shape=(1, 0), dtype=float64)),\n        (array(['Green_27_P8'], dtype='<U11'), array([], shape=(1, 0), dtype=float64), array(['EEG'], dtype='<U3'), array([[-0.05781993],\n       [-0.08038566],\n       [ 0.05382664]]), array([], shape=(1, 0), dtype=float64), array([], shape=(1, 0), dtype=float64)),\n        (array(['Green_28_PO9'], dtype='<U12'), array([], shape=(1, 0), dtype=float64), array(['EEG'], dtype='<U3'), array([[-0.08853646],\n       [ 0.05855601],\n       [ 0.01263884]]), array([], shape=(1, 0), dtype=float64), array([], shape=(1, 0), dtype=float64)),\n        (array(['Green_29_O1'], dtype='<U11'), array([], shape=(1, 0), dtype=float64), array(['EEG'], dtype='<U3'), array([[-0.10137796],\n       [ 0.03721005],\n       [ 0.04947582]]), array([], shape=(1, 0), dtype=float64), array([], shape=(1, 0), dtype=float64)),\n        (array(['Green_30_Oz'], dtype='<U11'), array([], shape=(1, 0), dtype=float64), array(['EEG'], dtype='<U3'), array([[-0.1067241 ],\n       [ 0.00128503],\n       [ 0.05301773]]), array([], shape=(1, 0), dtype=float64), array([], shape=(1, 0), dtype=float64)),\n        (array(['Green_31_O2'], dtype='<U11'), array([], shape=(1, 0), dtype=float64), array(['EEG'], dtype='<U3'), array([[-0.10577454],\n       [-0.03080002],\n       [ 0.05350132]]), array([], shape=(1, 0), dtype=float64), array([], shape=(1, 0), dtype=float64)),\n        (array(['Green_32_PO10'], dtype='<U13'), array([], shape=(1, 0), dtype=float64), array(['EEG'], dtype='<U3'), array([[-0.08792879],\n       [-0.05966214],\n       [ 0.02052461]]), array([], shape=(1, 0), dtype=float64), array([], shape=(1, 0), dtype=float64)),\n        (array(['Yellow_1_AF7'], dtype='<U12'), array([], shape=(1, 0), dtype=float64), array(['EEG'], dtype='<U3'), array([[0.09120146],\n       [0.06557695],\n       [0.05254787]]), array([], shape=(1, 0), dtype=float64), array([], shape=(1, 0), dtype=float64)),\n        (array(['Yellow_2_AF3'], dtype='<U12'), array([], shape=(1, 0), dtype=float64), array(['EEG'], dtype='<U3'), array([[0.10203707],\n       [0.041866  ],\n       [0.0895832 ]]), array([], shape=(1, 0), dtype=float64), array([], shape=(1, 0), dtype=float64)),\n        (array(['Yellow_3_AF4'], dtype='<U12'), array([], shape=(1, 0), dtype=float64), array(['EEG'], dtype='<U3'), array([[ 0.10226322],\n       [-0.0362505 ],\n       [ 0.09289522]]), array([], shape=(1, 0), dtype=float64), array([], shape=(1, 0), dtype=float64)),\n        (array(['Yellow_4_AF8'], dtype='<U12'), array([], shape=(1, 0), dtype=float64), array(['EEG'], dtype='<U3'), array([[ 0.09308555],\n       [-0.05841718],\n       [ 0.06180846]]), array([], shape=(1, 0), dtype=float64), array([], shape=(1, 0), dtype=float64)),\n        (array(['Yellow_5_F5'], dtype='<U11'), array([], shape=(1, 0), dtype=float64), array(['EEG'], dtype='<U3'), array([[0.0670918 ],\n       [0.07348076],\n       [0.07663388]]), array([], shape=(1, 0), dtype=float64), array([], shape=(1, 0), dtype=float64)),\n        (array(['Yellow_6_F1'], dtype='<U11'), array([], shape=(1, 0), dtype=float64), array(['EEG'], dtype='<U3'), array([[0.07522738],\n       [0.03261443],\n       [0.1201834 ]]), array([], shape=(1, 0), dtype=float64), array([], shape=(1, 0), dtype=float64)),\n        (array(['Yellow_7_F2'], dtype='<U11'), array([], shape=(1, 0), dtype=float64), array(['EEG'], dtype='<U3'), array([[ 0.07513799],\n       [-0.02794053],\n       [ 0.1237606 ]]), array([], shape=(1, 0), dtype=float64), array([], shape=(1, 0), dtype=float64)),\n        (array(['Yellow_8_F6'], dtype='<U11'), array([], shape=(1, 0), dtype=float64), array(['EEG'], dtype='<U3'), array([[ 0.06759031],\n       [-0.07276298],\n       [ 0.08342636]]), array([], shape=(1, 0), dtype=float64), array([], shape=(1, 0), dtype=float64)),\n        (array(['Yellow_10_FT7'], dtype='<U13'), array([], shape=(1, 0), dtype=float64), array(['EEG'], dtype='<U3'), array([[0.03090007],\n       [0.08858476],\n       [0.04640922]]), array([], shape=(1, 0), dtype=float64), array([], shape=(1, 0), dtype=float64)),\n        (array(['Yellow_11_FC3'], dtype='<U13'), array([], shape=(1, 0), dtype=float64), array(['EEG'], dtype='<U3'), array([[0.03863417],\n       [0.06049807],\n       [0.10782026]]), array([], shape=(1, 0), dtype=float64), array([], shape=(1, 0), dtype=float64)),\n        (array(['Yellow_12_FC4'], dtype='<U13'), array([], shape=(1, 0), dtype=float64), array(['EEG'], dtype='<U3'), array([[ 0.03803265],\n       [-0.06518028],\n       [ 0.11447873]]), array([], shape=(1, 0), dtype=float64), array([], shape=(1, 0), dtype=float64)),\n        (array(['Yellow_13_FT8'], dtype='<U13'), array([], shape=(1, 0), dtype=float64), array(['EEG'], dtype='<U3'), array([[ 0.02688812],\n       [-0.0888213 ],\n       [ 0.05641863]]), array([], shape=(1, 0), dtype=float64), array([], shape=(1, 0), dtype=float64)),\n        (array(['Yellow_15_C5'], dtype='<U12'), array([], shape=(1, 0), dtype=float64), array(['EEG'], dtype='<U3'), array([[-0.0002133 ],\n       [ 0.08331762],\n       [ 0.07788918]]), array([], shape=(1, 0), dtype=float64), array([], shape=(1, 0), dtype=float64)),\n        (array(['Yellow_16_C1'], dtype='<U12'), array([], shape=(1, 0), dtype=float64), array(['EEG'], dtype='<U3'), array([[-0.00026514],\n       [ 0.03514808],\n       [ 0.14327555]]), array([], shape=(1, 0), dtype=float64), array([], shape=(1, 0), dtype=float64)),\n        (array(['Yellow_17_C2'], dtype='<U12'), array([], shape=(1, 0), dtype=float64), array(['EEG'], dtype='<U3'), array([[ 0.00152114],\n       [-0.03360813],\n       [ 0.14553534]]), array([], shape=(1, 0), dtype=float64), array([], shape=(1, 0), dtype=float64)),\n        (array(['Yellow_18_C6'], dtype='<U12'), array([], shape=(1, 0), dtype=float64), array(['EEG'], dtype='<U3'), array([[ 0.00399249],\n       [-0.08639608],\n       [ 0.08572619]]), array([], shape=(1, 0), dtype=float64), array([], shape=(1, 0), dtype=float64)),\n        (array(['Yellow_19_TP7'], dtype='<U13'), array([], shape=(1, 0), dtype=float64), array(['EEG'], dtype='<U3'), array([[-0.02867167],\n       [ 0.08402325],\n       [ 0.03923394]]), array([], shape=(1, 0), dtype=float64), array([], shape=(1, 0), dtype=float64)),\n        (array(['Yellow_20_CP3'], dtype='<U13'), array([], shape=(1, 0), dtype=float64), array(['EEG'], dtype='<U3'), array([[-0.03192919],\n       [ 0.06603044],\n       [ 0.10941656]]), array([], shape=(1, 0), dtype=float64), array([], shape=(1, 0), dtype=float64)),\n        (array(['Yellow_21_CPz'], dtype='<U13'), array([], shape=(1, 0), dtype=float64), array(['EEG'], dtype='<U3'), array([[-0.0397321 ],\n       [ 0.00482289],\n       [ 0.14693875]]), array([], shape=(1, 0), dtype=float64), array([], shape=(1, 0), dtype=float64)),\n        (array(['Yellow_22_CP4'], dtype='<U13'), array([], shape=(1, 0), dtype=float64), array(['EEG'], dtype='<U3'), array([[-0.033545  ],\n       [-0.06604234],\n       [ 0.11711315]]), array([], shape=(1, 0), dtype=float64), array([], shape=(1, 0), dtype=float64)),\n        (array(['Yellow_23_TP8'], dtype='<U13'), array([], shape=(1, 0), dtype=float64), array(['EEG'], dtype='<U3'), array([[-0.03818221],\n       [-0.07746698],\n       [ 0.05257153]]), array([], shape=(1, 0), dtype=float64), array([], shape=(1, 0), dtype=float64)),\n        (array(['Yellow_24_P5'], dtype='<U12'), array([], shape=(1, 0), dtype=float64), array(['EEG'], dtype='<U3'), array([[-0.0636899 ],\n       [ 0.06824244],\n       [ 0.07700046]]), array([], shape=(1, 0), dtype=float64), array([], shape=(1, 0), dtype=float64)),\n        (array(['Yellow_25_P1'], dtype='<U12'), array([], shape=(1, 0), dtype=float64), array(['EEG'], dtype='<U3'), array([[-0.07049509],\n       [ 0.03091899],\n       [ 0.11928789]]), array([], shape=(1, 0), dtype=float64), array([], shape=(1, 0), dtype=float64)),\n        (array(['Yellow_26_P2'], dtype='<U12'), array([], shape=(1, 0), dtype=float64), array(['EEG'], dtype='<U3'), array([[-0.06617221],\n       [-0.035112  ],\n       [ 0.12273649]]), array([], shape=(1, 0), dtype=float64), array([], shape=(1, 0), dtype=float64)),\n        (array(['Yellow_27_P6'], dtype='<U12'), array([], shape=(1, 0), dtype=float64), array(['EEG'], dtype='<U3'), array([[-0.0647654 ],\n       [-0.07093433],\n       [ 0.07645201]]), array([], shape=(1, 0), dtype=float64), array([], shape=(1, 0), dtype=float64)),\n        (array(['Yellow_28_PO7'], dtype='<U13'), array([], shape=(1, 0), dtype=float64), array(['EEG'], dtype='<U3'), array([[-0.08567368],\n       [ 0.05920603],\n       [ 0.04966005]]), array([], shape=(1, 0), dtype=float64), array([], shape=(1, 0), dtype=float64)),\n        (array(['Yellow_29_PO3'], dtype='<U13'), array([], shape=(1, 0), dtype=float64), array(['EEG'], dtype='<U3'), array([[-0.09190564],\n       [ 0.03819403],\n       [ 0.08227977]]), array([], shape=(1, 0), dtype=float64), array([], shape=(1, 0), dtype=float64)),\n        (array(['Yellow_30_POz'], dtype='<U13'), array([], shape=(1, 0), dtype=float64), array(['EEG'], dtype='<U3'), array([[-0.09686098],\n       [ 0.00608728],\n       [ 0.09088358]]), array([], shape=(1, 0), dtype=float64), array([], shape=(1, 0), dtype=float64)),\n        (array(['Yellow_31_PO4'], dtype='<U13'), array([], shape=(1, 0), dtype=float64), array(['EEG'], dtype='<U3'), array([[-0.09214574],\n       [-0.0359165 ],\n       [ 0.0881049 ]]), array([], shape=(1, 0), dtype=float64), array([], shape=(1, 0), dtype=float64)),\n        (array(['Yellow_32_PO8'], dtype='<U13'), array([], shape=(1, 0), dtype=float64), array(['EEG'], dtype='<U3'), array([[-0.08263519],\n       [-0.061573  ],\n       [ 0.05444237]]), array([], shape=(1, 0), dtype=float64), array([], shape=(1, 0), dtype=float64)),\n        (array(['Reference'], dtype='<U9'), array([], shape=(1, 0), dtype=float64), array(['EEG'], dtype='<U3'), array([[ 0.04183656],\n       [-0.00051224],\n       [ 0.13652123]]), array([], shape=(1, 0), dtype=float64), array([], shape=(1, 0), dtype=float64))]],\n      dtype=[('Name', 'O'), ('Comment', 'O'), ('Type', 'O'), ('Loc', 'O'), ('Orient', 'O'), ('Weight', 'O')])]]\n"
     ]
    }
   ],
   "source": [
    "data = list(Chan.items())\n",
    "an_array = np.array(data)\n",
    "\n",
    "print(an_array)"
   ]
  },
  {
   "cell_type": "code",
   "execution_count": 11,
   "metadata": {},
   "outputs": [
    {
     "output_type": "stream",
     "name": "stdout",
     "text": [
      "(63,)\n(array(['Green_1_FP1'], dtype='<U11'), array([], dtype='<U1'), array(['EEG'], dtype='<U3'), array([[0.11221639],\n       [0.03699045],\n       [0.0599444 ]]), array([], shape=(0, 0), dtype=uint8), array([], shape=(0, 0), dtype=uint8))\n"
     ]
    }
   ],
   "source": [
    "#Select 3 points\n",
    "data = an_array[0][1]\n",
    "data1 = data[0]\n",
    "print(data1.shape)\n",
    "print(data1[0])"
   ]
  },
  {
   "cell_type": "markdown",
   "metadata": {},
   "source": [
    "# Preprocessed resting state EEG data:"
   ]
  },
  {
   "cell_type": "code",
   "execution_count": 12,
   "metadata": {},
   "outputs": [
    {
     "output_type": "execute_result",
     "data": {
      "text/plain": [
       "'The folder contains preprocessed EEG data files after removing ICA components separately for eyes-closed (EC) \\nand eyes-open (EO) conditions. Each participant (N= 202) have 4 files (2 for EC condition and 2 for EO). \\nThese .set and .fdt files have the following naming structure:\\n\\nsub-BIDS_condition.fdt (.set)\\n\\n*condition: eyes closed (EC) or eyes open(EO)\\n BIDS number: 6-digit numbers created for data-paper (e.g., sub-010001)'"
      ]
     },
     "metadata": {},
     "execution_count": 12
    }
   ],
   "source": [
    "'''The folder contains preprocessed EEG data files after removing ICA components separately for eyes-closed (EC) \n",
    "and eyes-open (EO) conditions. Each participant (N= 202) have 4 files (2 for EC condition and 2 for EO). \n",
    "These .set and .fdt files have the following naming structure:\n",
    "\n",
    "sub-BIDS_condition.fdt (.set)\n",
    "\n",
    "*condition: eyes closed (EC) or eyes open(EO)\n",
    " BIDS number: 6-digit numbers created for data-paper (e.g., sub-010001)'''"
   ]
  },
  {
   "cell_type": "code",
   "execution_count": 13,
   "metadata": {},
   "outputs": [],
   "source": [
    "import mne\n",
    "#from mne import io\n",
    "import scipy"
   ]
  },
  {
   "cell_type": "code",
   "execution_count": 14,
   "metadata": {},
   "outputs": [],
   "source": [
    "setfile = scipy.io.loadmat('Files/Preprocessed/sub-010002_EC.set')\n",
    "#fdtfile = scipy.io.loadmat('Files/Preprocessed/sub-010002_EC.fdt')\n",
    "#aw = mne.io.read_raw_edf(\"Files/Preprocessed/sub-010002_EC.set\", preload=True)"
   ]
  },
  {
   "cell_type": "code",
   "execution_count": 16,
   "metadata": {},
   "outputs": [
    {
     "output_type": "execute_result",
     "data": {
      "text/plain": [
       "dict"
      ]
     },
     "metadata": {},
     "execution_count": 16
    }
   ],
   "source": [
    "type(setfile)"
   ]
  },
  {
   "cell_type": "code",
   "execution_count": null,
   "metadata": {},
   "outputs": [],
   "source": []
  }
 ],
 "metadata": {
  "kernelspec": {
   "name": "Python 3.8.5 64-bit ('mne': conda)",
   "display_name": "Python 3.8.5 64-bit ('mne': conda)",
   "metadata": {
    "interpreter": {
     "hash": "3200f7448d59227010205cc5b50bbd31df2f5d61631e99e91415e111d1859613"
    }
   }
  },
  "language_info": {
   "codemirror_mode": {
    "name": "ipython",
    "version": 3
   },
   "file_extension": ".py",
   "mimetype": "text/x-python",
   "name": "python",
   "nbconvert_exporter": "python",
   "pygments_lexer": "ipython3",
   "version": "3.8.5-final"
  }
 },
 "nbformat": 4,
 "nbformat_minor": 4
}