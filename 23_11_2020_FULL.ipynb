{
 "metadata": {
  "language_info": {
   "codemirror_mode": {
    "name": "ipython",
    "version": 3
   },
   "file_extension": ".py",
   "mimetype": "text/x-python",
   "name": "python",
   "nbconvert_exporter": "python",
   "pygments_lexer": "ipython3",
   "version": "3.8.5-final"
  },
  "orig_nbformat": 2,
  "kernelspec": {
   "name": "python3",
   "display_name": "Python 3"
  }
 },
 "nbformat": 4,
 "nbformat_minor": 2,
 "cells": [
  {
   "cell_type": "code",
   "execution_count": 64,
   "metadata": {},
   "outputs": [],
   "source": [
    "#IMPORTS\n",
    "\n",
    "import matplotlib\n",
    "import matplotlib.pyplot as plt # plotting\n",
    "import numpy as np # linear algebra\n",
    "import pandas as pd # data processing, CSV file I/O (e.g. pd.read_csv)\n",
    "import scipy\n",
    "import scipy.interpolate\n",
    "import mne\n",
    "import scipy\n",
    "import statistics\n",
    "from pywt import wavedec\n",
    "from scipy import signal\n",
    "import matplotlib.colors as mcolors\n",
    "import random\n",
    "import seaborn as sns\n",
    "import os\n",
    "from scipy import stats\n",
    "import statsmodels.api as sm\n",
    "import numpy as np\n",
    "import matplotlib.pyplot as plt"
   ]
  },
  {
   "cell_type": "code",
   "execution_count": 39,
   "metadata": {},
   "outputs": [
    {
     "output_type": "error",
     "ename": "ImportError",
     "evalue": "cannot import name 'collect' from 'Definicions' (/Users/laianavarroolivella/Documents/GitHub/EEG/Definicions.py)",
     "traceback": [
      "\u001b[0;31m---------------------------------------------------------------------------\u001b[0m",
      "\u001b[0;31mImportError\u001b[0m                               Traceback (most recent call last)",
      "\u001b[0;32m<ipython-input-39-eab12833a11b>\u001b[0m in \u001b[0;36m<module>\u001b[0;34m\u001b[0m\n\u001b[1;32m      7\u001b[0m \u001b[0;32mfrom\u001b[0m \u001b[0mDefinicions\u001b[0m \u001b[0;32mimport\u001b[0m \u001b[0mbandpower\u001b[0m\u001b[0;34m\u001b[0m\u001b[0;34m\u001b[0m\u001b[0m\n\u001b[1;32m      8\u001b[0m \u001b[0;32mfrom\u001b[0m \u001b[0mDefinicions\u001b[0m \u001b[0;32mimport\u001b[0m \u001b[0mepoch_return\u001b[0m\u001b[0;34m\u001b[0m\u001b[0;34m\u001b[0m\u001b[0m\n\u001b[0;32m----> 9\u001b[0;31m \u001b[0;32mfrom\u001b[0m \u001b[0mDefinicions\u001b[0m \u001b[0;32mimport\u001b[0m \u001b[0mcollect\u001b[0m\u001b[0;34m\u001b[0m\u001b[0;34m\u001b[0m\u001b[0m\n\u001b[0m",
      "\u001b[0;31mImportError\u001b[0m: cannot import name 'collect' from 'Definicions' (/Users/laianavarroolivella/Documents/GitHub/EEG/Definicions.py)"
     ]
    }
   ],
   "source": [
    "from Definicions import upperchanel\n",
    "from Definicions import group_inf\n",
    "from Definicions import mediumchanels\n",
    "from Definicions import opteciogrups\n",
    "from Definicions import find_nearest\n",
    "from Definicions import grabt\n",
    "from Definicions import bandpower\n",
    "from Definicions import epoch_return\n",
    "from Definicions import collect"
   ]
  },
  {
   "cell_type": "code",
   "execution_count": 3,
   "metadata": {},
   "outputs": [],
   "source": [
    "#Init. info.\n",
    "#GROUPS\n",
    "group1= [\"FP2\", \"AFZ\", \"FZ\", \"FCZ\", \"CZ\"]\n",
    "group2= [\"F7\", \"F5\", \"F3\", \"F1\", \"AF7\", \"AF3\", \"FP1\"]\n",
    "group3= [\"FP2\", \"AF4\", \"AF8\", \"F2\", \"F4\", \"F6\", \"F8\"]\n",
    "group4= [\"FT7\", \"T7\", \"TP7\"]\n",
    "group5= [\"FC5\", \"FC3\", \"FC1\", \"C5\", \"C3\", \"C1\"]\n",
    "group6= [\"CP5\", \"CP3\", \"CP1\", \"P7\", \"P5\", \"P3\", \"P1\"]\n",
    "group7= [\"PO7\", \"PO3\", \"O1\", \"PO9\"]\n",
    "group8= [\"PO4\", \"PO8\", \"O2\", \"PO10\"]\n",
    "group9= [\"P2\", \"P4\", \"P6\", \"P8\", \"CP2\", \"CP4\", \"CP6\"]\n",
    "group10= [\"FT8\", \"T8\", \"TP8\"]\n",
    "group11= [\"CPZ\", \"PZ\", \"POZ\", \"OZ\", \"IZ\"]\n",
    "group12= [\"FC2\", \"FC4\", \"FC6\", \"C2\", \"C4\", \"C6\"]\n",
    "\n",
    "#X\n",
    "groups = [group1, group2, group3, group4, group5, group6, group7, group8, group9, group10, group11, group12]\n",
    "\n",
    "#General aspects\n",
    "titlegrup = [\"ch1\",\"ch2\",\"ch3\",\"ch4\",\"ch5\",\"ch6\",\"ch7\",\"ch8\",\"ch9\",\"ch10\",\"ch11\",\"ch12\"]\n",
    "ct_ty = [\"eeg\", \"eeg\", \"eeg\", \"eeg\", \"eeg\", \"eeg\", \"eeg\", \"eeg\", \"eeg\", \"eeg\", \"eeg\", \"eeg\"]\n",
    "sfreq = 250\n",
    "info = mne.create_info(ch_names=titlegrup, sfreq=sfreq, ch_types=ct_ty)"
   ]
  },
  {
   "cell_type": "code",
   "execution_count": 4,
   "metadata": {},
   "outputs": [],
   "source": [
    "#Load\n",
    "basePATH = 'Files/Preprocessed/'\n",
    "listPATHEC = []\n",
    "listPATHEO = []\n",
    "\n",
    "for root, dirs, files in os.walk(\"Files/Preprocessed/\"):\n",
    "    for filename in files:\n",
    "        if '.set' in filename:\n",
    "            if 'EC' in filename:\n",
    "                listPATHEC.append(filename)\n",
    "            if 'EO' in filename:\n",
    "                listPATHEO.append(filename)\n",
    "\n",
    "sorted_list_EO = sorted(listPATHEO)\n",
    "sorted_list_EC = sorted(listPATHEC)\n"
   ]
  },
  {
   "cell_type": "code",
   "execution_count": 5,
   "metadata": {},
   "outputs": [
    {
     "output_type": "execute_result",
     "data": {
      "text/plain": [
       "['sub-010002_EO.set',\n",
       " 'sub-010003_EO.set',\n",
       " 'sub-010004_EO.set',\n",
       " 'sub-010005_EO.set',\n",
       " 'sub-010006_EO.set',\n",
       " 'sub-010007_EO.set',\n",
       " 'sub-010010_EO.set',\n",
       " 'sub-010012_EO.set',\n",
       " 'sub-010016_EO.set',\n",
       " 'sub-010017_EO.set',\n",
       " 'sub-010019_EO.set',\n",
       " 'sub-010020_EO.set',\n",
       " 'sub-010021_EO.set',\n",
       " 'sub-010022_EO.set',\n",
       " 'sub-010023_EO.set']"
      ]
     },
     "metadata": {},
     "execution_count": 5
    }
   ],
   "source": [
    "sorted_list_EO"
   ]
  },
  {
   "cell_type": "code",
   "execution_count": 6,
   "metadata": {},
   "outputs": [
    {
     "output_type": "execute_result",
     "data": {
      "text/plain": [
       "['sub-010002_EC.set',\n",
       " 'sub-010003_EC.set',\n",
       " 'sub-010004_EC.set',\n",
       " 'sub-010005_EC.set',\n",
       " 'sub-010006_EC.set',\n",
       " 'sub-010007_EC.set',\n",
       " 'sub-010010_EC.set',\n",
       " 'sub-010012_EC.set',\n",
       " 'sub-010016_EC.set',\n",
       " 'sub-010017_EC.set',\n",
       " 'sub-010019_EC.set',\n",
       " 'sub-010020_EC.set',\n",
       " 'sub-010021_EC.set',\n",
       " 'sub-010022_EC.set',\n",
       " 'sub-010023_EC.set']"
      ]
     },
     "metadata": {},
     "execution_count": 6
    }
   ],
   "source": [
    "sorted_list_EC"
   ]
  },
  {
   "cell_type": "code",
   "execution_count": 7,
   "metadata": {},
   "outputs": [
    {
     "output_type": "stream",
     "name": "stdout",
     "text": [
      "Reading Files/Preprocessed/sub-010002_EO.fdt\n",
      "Reading 0 ... 117860  =      0.000 ...   471.440 secs...\n",
      "Reading Files/Preprocessed/sub-010002_EC.fdt\n",
      "Reading 0 ... 119344  =      0.000 ...   477.376 secs...\n",
      "Reading Files/Preprocessed/sub-010003_EO.fdt\n",
      "Reading 0 ... 119999  =      0.000 ...   479.996 secs...\n",
      "Reading Files/Preprocessed/sub-010003_EC.fdt\n",
      "Reading 0 ... 119515  =      0.000 ...   478.060 secs...\n",
      "Reading Files/Preprocessed/sub-010004_EO.fdt\n",
      "Reading 0 ... 119748  =      0.000 ...   478.992 secs...\n",
      "Reading Files/Preprocessed/sub-010004_EC.fdt\n",
      "Reading 0 ... 119277  =      0.000 ...   477.108 secs...\n",
      "Reading Files/Preprocessed/sub-010005_EO.fdt\n",
      "Reading 0 ... 119821  =      0.000 ...   479.284 secs...\n",
      "Reading Files/Preprocessed/sub-010005_EC.fdt\n",
      "Reading 0 ... 119999  =      0.000 ...   479.996 secs...\n",
      "Reading Files/Preprocessed/sub-010006_EO.fdt\n",
      "Reading 0 ... 110270  =      0.000 ...   441.080 secs...\n",
      "Reading Files/Preprocessed/sub-010006_EC.fdt\n",
      "Reading 0 ... 116011  =      0.000 ...   464.044 secs...\n",
      "Reading Files/Preprocessed/sub-010007_EO.fdt\n",
      "Reading 0 ... 119035  =      0.000 ...   476.140 secs...\n",
      "Reading Files/Preprocessed/sub-010007_EC.fdt\n",
      "Reading 0 ... 119979  =      0.000 ...   479.916 secs...\n",
      "Reading Files/Preprocessed/sub-010010_EO.fdt\n",
      "Reading 0 ... 114916  =      0.000 ...   459.664 secs...\n",
      "Reading Files/Preprocessed/sub-010010_EC.fdt\n",
      "Reading 0 ... 119042  =      0.000 ...   476.168 secs...\n",
      "Reading Files/Preprocessed/sub-010012_EO.fdt\n",
      "Reading 0 ... 118402  =      0.000 ...   473.608 secs...\n",
      "Reading Files/Preprocessed/sub-010012_EC.fdt\n",
      "Reading 0 ... 119999  =      0.000 ...   479.996 secs...\n",
      "Reading Files/Preprocessed/sub-010016_EO.fdt\n",
      "Reading 0 ... 119478  =      0.000 ...   477.912 secs...\n",
      "Reading Files/Preprocessed/sub-010016_EC.fdt\n",
      "Reading 0 ... 119042  =      0.000 ...   476.168 secs...\n",
      "Reading Files/Preprocessed/sub-010017_EO.fdt\n",
      "Reading 0 ... 118769  =      0.000 ...   475.076 secs...\n",
      "Reading Files/Preprocessed/sub-010017_EC.fdt\n",
      "Reading 0 ... 119451  =      0.000 ...   477.804 secs...\n",
      "Reading Files/Preprocessed/sub-010019_EO.fdt\n",
      "Reading 0 ... 119511  =      0.000 ...   478.044 secs...\n",
      "Reading Files/Preprocessed/sub-010019_EC.fdt\n",
      "Reading 0 ... 119999  =      0.000 ...   479.996 secs...\n",
      "Reading Files/Preprocessed/sub-010020_EO.fdt\n",
      "Reading 0 ... 104402  =      0.000 ...   417.608 secs...\n",
      "Reading Files/Preprocessed/sub-010020_EC.fdt\n",
      "Reading 0 ... 107237  =      0.000 ...   428.948 secs...\n",
      "Reading Files/Preprocessed/sub-010021_EO.fdt\n",
      "Reading 0 ... 114834  =      0.000 ...   459.336 secs...\n",
      "Reading Files/Preprocessed/sub-010021_EC.fdt\n",
      "Reading 0 ... 114594  =      0.000 ...   458.376 secs...\n",
      "Reading Files/Preprocessed/sub-010022_EO.fdt\n",
      "Reading 0 ... 118241  =      0.000 ...   472.964 secs...\n",
      "Reading Files/Preprocessed/sub-010022_EC.fdt\n",
      "Reading 0 ... 119418  =      0.000 ...   477.672 secs...\n",
      "Reading Files/Preprocessed/sub-010023_EO.fdt\n",
      "Reading 0 ... 105067  =      0.000 ...   420.268 secs...\n",
      "Reading Files/Preprocessed/sub-010023_EC.fdt\n",
      "Reading 0 ... 119999  =      0.000 ...   479.996 secs...\n"
     ]
    }
   ],
   "source": [
    "EO_EC_Pacients = []\n",
    "\n",
    "for i in sorted_list_EO:\n",
    "    #LOAD\n",
    "    x=mne.io.read_raw_eeglab(basePATH+i, preload=True, verbose=True)\n",
    "    #GET DATA\n",
    "    data = x._data\n",
    "    #GET CHANELS\n",
    "    chanles_names = x.ch_names\n",
    "    #REDUCE CHANELS TO 12\n",
    "    EO = opteciogrups(chanles_names, groups, data)\n",
    "\n",
    "    #Select the same but with EC\n",
    "    EC_name = [sorted_list_EC.index(e) for e in sorted_list_EC if i[:-6] in e]\n",
    "    EC_name_PATH = sorted_list_EC[EC_name[0]]\n",
    "    #LOAD\n",
    "    x2=mne.io.read_raw_eeglab(basePATH+EC_name_PATH, preload=True, verbose=True)\n",
    "    #GET DATA\n",
    "    data2 = x2._data\n",
    "    #GET CHANELS\n",
    "    chanles_names2 = x2.ch_names\n",
    "    #REDUCE CHANELS TO 12\n",
    "    EC = opteciogrups(chanles_names2, groups, data2)\n",
    "\n",
    "    #save\n",
    "    EO_EC_P = []\n",
    "    EO_EC_P.append(EO)\n",
    "    EO_EC_P.append(EC)\n",
    "    EO_EC_Pacients.append(EO_EC_P)"
   ]
  },
  {
   "cell_type": "code",
   "execution_count": 8,
   "metadata": {},
   "outputs": [
    {
     "output_type": "execute_result",
     "data": {
      "text/plain": [
       "'for pacient in EO_EC_Pacients:\\n    for data in pacient:\\n        matplotlib.pyplot.psd(data[1])\\n        plt.show()'"
      ]
     },
     "metadata": {},
     "execution_count": 8
    }
   ],
   "source": [
    "'''for pacient in EO_EC_Pacients:\n",
    "    for data in pacient:\n",
    "        matplotlib.pyplot.psd(data[1])\n",
    "        plt.show()'''"
   ]
  },
  {
   "cell_type": "code",
   "execution_count": 9,
   "metadata": {},
   "outputs": [
    {
     "output_type": "stream",
     "name": "stdout",
     "text": [
      "0.3744544526705594\n",
      "0.21603496313804388\n",
      "0.0\n",
      "0.16288720891739927\n",
      "0.26194765500706896\n",
      "-\n",
      "-\n",
      "0.18170465425783033\n",
      "0.10463344997809054\n",
      "0.0\n",
      "0.3513599840638411\n",
      "0.2366187675488578\n",
      "-\n",
      "-\n",
      "0.27456971026273974\n",
      "0.18675315255706249\n",
      "0.0\n",
      "0.24027943134780042\n",
      "0.2344915724020948\n",
      "-\n",
      "-\n",
      "0.3079983446483514\n",
      "0.13425120023854598\n",
      "0.0\n",
      "0.2277488388517392\n",
      "0.3421448026784485\n",
      "-\n",
      "-\n",
      "0.28929706717598047\n",
      "0.18167014570627746\n",
      "0.0\n",
      "0.21240150288304752\n",
      "0.19591209655258687\n",
      "-\n",
      "-\n",
      "0.2957629768330244\n",
      "0.21601060314192136\n",
      "0.0\n",
      "0.24258085693550321\n",
      "0.2604840008910376\n",
      "-\n",
      "-\n",
      "0.3870169005880384\n",
      "0.13513044240306488\n",
      "0.0\n",
      "0.24738071198845357\n",
      "0.28521083924410195\n",
      "-\n",
      "-\n",
      "0.3854300066180164\n",
      "0.1634993927852999\n",
      "0.0\n",
      "0.16563833656433805\n",
      "0.3029064381969524\n",
      "-\n",
      "-\n",
      "0.283872772844328\n",
      "0.17127261135374003\n",
      "0.0\n",
      "0.27648467575699\n",
      "0.3629193510633104\n",
      "-\n",
      "-\n",
      "0.27611635375128885\n",
      "0.1416841565173853\n",
      "0.0\n",
      "0.24345520230261247\n",
      "0.47927760062658137\n",
      "-\n",
      "-\n",
      "0.302926882625352\n",
      "0.22282935720600536\n",
      "0.0\n",
      "0.2578036319575719\n",
      "0.28146483992756655\n",
      "-\n",
      "-\n",
      "0.1961075057543929\n",
      "0.16727224184018963\n",
      "0.0\n",
      "0.3159050436226005\n",
      "0.32667453420502224\n",
      "-\n",
      "-\n",
      "0.36762609364415505\n",
      "0.12705730770815096\n",
      "0.0\n",
      "0.20036831528026583\n",
      "0.29950121096720456\n",
      "-\n",
      "-\n",
      "0.20677488149747494\n",
      "0.1257939322752123\n",
      "0.0\n",
      "0.3136642831636161\n",
      "0.46214627810396264\n",
      "-\n",
      "-\n",
      "0.2730675532923792\n",
      "0.11079642216789713\n",
      "0.0\n",
      "0.2673421143930534\n",
      "0.2694064226984023\n",
      "-\n",
      "-\n"
     ]
    }
   ],
   "source": [
    "'''#realitve general\n",
    "pacie_beta = []\n",
    "\n",
    "for pacient in EO_EC_Pacients:\n",
    "    f_beta = bandpower(pacient[0][1], 250, [13, 32],relative=True)\n",
    "    pacie_beta.append(f_beta)\n",
    "    print(f_beta)\n",
    "    #gamma\n",
    "    f_gama = bandpower(pacient[0][1], 250, [32, 100],relative=True)\n",
    "    print(f_gama)\n",
    "    #alpha\n",
    "    f_alpha = bandpower(pacient[0][1], 250, [9, 13],relative=True)\n",
    "    print(f_alpha)\n",
    "    #theta\n",
    "    f_theta = bandpower(pacient[0][1], 250, [4, 8],relative=True)\n",
    "    print(f_theta)\n",
    "    #delta\n",
    "    f_delta = bandpower(pacient[0][1], 250, [0.1, 4],relative=True)\n",
    "    print(f_delta)\n",
    "    print('-')\n",
    "    print('-')'''\n"
   ]
  },
  {
   "cell_type": "code",
   "execution_count": 46,
   "metadata": {},
   "outputs": [],
   "source": [
    "\n",
    "#Relative for EO\n",
    "\n",
    "#Subject = EO_EC_Pacients[S] max=15\n",
    "#EO = EO_EC_Pacients[S][0]\n",
    "#EC = EO_EC_Pacients[S][1]\n",
    "#Channel = EO_EC_Pacients[0][1][Num] max=12\n",
    "pacient_beta = []\n",
    "pacient_beta_EC = []\n",
    "\n",
    "for pacient in EO_EC_Pacients:\n",
    "    EO_Epochs = epoch_return(pacient[0])\n",
    "    chanels_betta = []\n",
    "    for chane in EO_Epochs:\n",
    "        for epoch in chane:\n",
    "            f_beta = bandpower(epoch, 250, [13, 32],relative=True)\n",
    "            chanels_betta.append(f_beta)\n",
    "            #gamma\n",
    "            f_gama = bandpower(epoch, 250, [32, 100],relative=True)\n",
    "            #alpha\n",
    "            f_alpha = bandpower(epoch, 250, [9, 13],relative=True)\n",
    "            #theta\n",
    "            f_theta = bandpower(epoch, 250, [4, 8],relative=True)\n",
    "            #delta\n",
    "            f_delta = bandpower(epoch, 250, [0.1, 4],relative=True)\n",
    "    mean_beta = statistics.median(chanels_betta)\n",
    "    pacient_beta.append(mean_beta)\n"
   ]
  },
  {
   "cell_type": "code",
   "execution_count": 48,
   "metadata": {},
   "outputs": [],
   "source": [
    "for pacient in EO_EC_Pacients:\n",
    "    chanels_betta_EC = []\n",
    "    EC_Epochs = epoch_return(pacient[1])\n",
    "    for chane in EC_Epochs:\n",
    "        for epoch in chane:\n",
    "            f_beta = bandpower(epoch, 250, [13, 32],relative=True)\n",
    "            chanels_betta_EC.append(f_beta)\n",
    "            #gamma\n",
    "            f_gama = bandpower(epoch, 250, [32, 100],relative=True)\n",
    "            #alpha\n",
    "            f_alpha = bandpower(epoch, 250, [9, 13],relative=True)\n",
    "            #theta\n",
    "            f_theta = bandpower(epoch, 250, [4, 8],relative=True)\n",
    "            #delta\n",
    "            f_delta = bandpower(epoch, 250, [0.1, 4],relative=True)\n",
    "    mean_beta_EC = statistics.median(chanels_betta_EC)\n",
    "    pacient_beta_EC.append(mean_beta_EC)"
   ]
  },
  {
   "cell_type": "code",
   "execution_count": 21,
   "metadata": {},
   "outputs": [],
   "source": [
    "import csv\n",
    "\n",
    "# open the file in universal line ending mode \n",
    "with open('Files/TEIQue-SF.csv', 'rU') as infile:\n",
    "  # read the file as a dictionary for each row ({header : value})\n",
    "  reader = csv.DictReader(infile)\n",
    "  data = {}\n",
    "  for row in reader:\n",
    "    for header, value in row.items():\n",
    "      try:\n",
    "        data[header].append(value)\n",
    "      except KeyError:\n",
    "        data[header] = [value]\n",
    "\n",
    "# extract the variables you want\n",
    "names = data['ID']\n",
    "TeiQueSF_emotionality = data['TeiQueSF_emotionality']\n",
    "TeiQueSF_emotionality = data['TeiQueSF_emotionality']"
   ]
  },
  {
   "cell_type": "code",
   "execution_count": 59,
   "metadata": {},
   "outputs": [
    {
     "output_type": "display_data",
     "data": {
      "text/plain": "<Figure size 432x288 with 1 Axes>",
      "image/svg+xml": "<?xml version=\"1.0\" encoding=\"utf-8\" standalone=\"no\"?>\n<!DOCTYPE svg PUBLIC \"-//W3C//DTD SVG 1.1//EN\"\n  \"http://www.w3.org/Graphics/SVG/1.1/DTD/svg11.dtd\">\n<!-- Created with matplotlib (https://matplotlib.org/) -->\n<svg height=\"263.63625pt\" version=\"1.1\" viewBox=\"0 0 460.359375 263.63625\" width=\"460.359375pt\" xmlns=\"http://www.w3.org/2000/svg\" xmlns:xlink=\"http://www.w3.org/1999/xlink\">\n <metadata>\n  <rdf:RDF xmlns:cc=\"http://creativecommons.org/ns#\" xmlns:dc=\"http://purl.org/dc/elements/1.1/\" xmlns:rdf=\"http://www.w3.org/1999/02/22-rdf-syntax-ns#\">\n   <cc:Work>\n    <dc:type rdf:resource=\"http://purl.org/dc/dcmitype/StillImage\"/>\n    <dc:date>2020-12-03T16:38:02.212222</dc:date>\n    <dc:format>image/svg+xml</dc:format>\n    <dc:creator>\n     <cc:Agent>\n      <dc:title>Matplotlib v3.3.1, https://matplotlib.org/</dc:title>\n     </cc:Agent>\n    </dc:creator>\n   </cc:Work>\n  </rdf:RDF>\n </metadata>\n <defs>\n  <style type=\"text/css\">*{stroke-linecap:butt;stroke-linejoin:round;}</style>\n </defs>\n <g id=\"figure_1\">\n  <g id=\"patch_1\">\n   <path d=\"M 0 263.63625 \nL 460.359375 263.63625 \nL 460.359375 0 \nL 0 0 \nz\n\" style=\"fill:none;\"/>\n  </g>\n  <g id=\"axes_1\">\n   <g id=\"patch_2\">\n    <path d=\"M 62.779687 239.758125 \nL 397.579687 239.758125 \nL 397.579687 22.318125 \nL 62.779687 22.318125 \nz\n\" style=\"fill:#ffffff;\"/>\n   </g>\n   <g id=\"PathCollection_1\">\n    <defs>\n     <path d=\"M 0 3 \nC 0.795609 3 1.55874 2.683901 2.12132 2.12132 \nC 2.683901 1.55874 3 0.795609 3 0 \nC 3 -0.795609 2.683901 -1.55874 2.12132 -2.12132 \nC 1.55874 -2.683901 0.795609 -3 0 -3 \nC -0.795609 -3 -1.55874 -2.683901 -2.12132 -2.12132 \nC -2.683901 -1.55874 -3 -0.795609 -3 0 \nC -3 0.795609 -2.683901 1.55874 -2.12132 2.12132 \nC -1.55874 2.683901 -0.795609 3 0 3 \nz\n\" id=\"m37075fbb8f\" style=\"stroke:#1f77b4;\"/>\n    </defs>\n    <g clip-path=\"url(#pdbc0fe01a8)\">\n     <use style=\"fill:#1f77b4;stroke:#1f77b4;\" x=\"323.452415\" xlink:href=\"#m37075fbb8f\" y=\"43.863785\"/>\n    </g>\n   </g>\n   <g id=\"PathCollection_2\">\n    <defs>\n     <path d=\"M 0 3 \nC 0.795609 3 1.55874 2.683901 2.12132 2.12132 \nC 2.683901 1.55874 3 0.795609 3 0 \nC 3 -0.795609 2.683901 -1.55874 2.12132 -2.12132 \nC 1.55874 -2.683901 0.795609 -3 0 -3 \nC -0.795609 -3 -1.55874 -2.683901 -2.12132 -2.12132 \nC -2.683901 -1.55874 -3 -0.795609 -3 0 \nC -3 0.795609 -2.683901 1.55874 -2.12132 2.12132 \nC -1.55874 2.683901 -0.795609 3 0 3 \nz\n\" id=\"m5a65e97817\" style=\"stroke:#ff7f0e;\"/>\n    </defs>\n    <g clip-path=\"url(#pdbc0fe01a8)\">\n     <use style=\"fill:#ff7f0e;stroke:#ff7f0e;\" x=\"254.725142\" xlink:href=\"#m5a65e97817\" y=\"192.794599\"/>\n    </g>\n   </g>\n   <g id=\"PathCollection_3\">\n    <defs>\n     <path d=\"M 0 3 \nC 0.795609 3 1.55874 2.683901 2.12132 2.12132 \nC 2.683901 1.55874 3 0.795609 3 0 \nC 3 -0.795609 2.683901 -1.55874 2.12132 -2.12132 \nC 1.55874 -2.683901 0.795609 -3 0 -3 \nC -0.795609 -3 -1.55874 -2.683901 -2.12132 -2.12132 \nC -2.683901 -1.55874 -3 -0.795609 -3 0 \nC -3 0.795609 -2.683901 1.55874 -2.12132 2.12132 \nC -1.55874 2.683901 -0.795609 3 0 3 \nz\n\" id=\"m6863bd756c\" style=\"stroke:#2ca02c;\"/>\n    </defs>\n    <g clip-path=\"url(#pdbc0fe01a8)\">\n     <use style=\"fill:#2ca02c;stroke:#2ca02c;\" x=\"303.816051\" xlink:href=\"#m6863bd756c\" y=\"159.85689\"/>\n    </g>\n   </g>\n   <g id=\"PathCollection_4\">\n    <defs>\n     <path d=\"M 0 3 \nC 0.795609 3 1.55874 2.683901 2.12132 2.12132 \nC 2.683901 1.55874 3 0.795609 3 0 \nC 3 -0.795609 2.683901 -1.55874 2.12132 -2.12132 \nC 1.55874 -2.683901 0.795609 -3 0 -3 \nC -0.795609 -3 -1.55874 -2.683901 -2.12132 -2.12132 \nC -2.683901 -1.55874 -3 -0.795609 -3 0 \nC -3 0.795609 -2.683901 1.55874 -2.12132 2.12132 \nC -1.55874 2.683901 -0.795609 3 0 3 \nz\n\" id=\"ma485bee9f8\" style=\"stroke:#d62728;\"/>\n    </defs>\n    <g clip-path=\"url(#pdbc0fe01a8)\">\n     <use style=\"fill:#d62728;stroke:#d62728;\" x=\"382.361506\" xlink:href=\"#ma485bee9f8\" y=\"180.700133\"/>\n    </g>\n   </g>\n   <g id=\"PathCollection_5\">\n    <defs>\n     <path d=\"M 0 3 \nC 0.795609 3 1.55874 2.683901 2.12132 2.12132 \nC 2.683901 1.55874 3 0.795609 3 0 \nC 3 -0.795609 2.683901 -1.55874 2.12132 -2.12132 \nC 1.55874 -2.683901 0.795609 -3 0 -3 \nC -0.795609 -3 -1.55874 -2.683901 -2.12132 -2.12132 \nC -2.683901 -1.55874 -3 -0.795609 -3 0 \nC -3 0.795609 -2.683901 1.55874 -2.12132 2.12132 \nC -1.55874 2.683901 -0.795609 3 0 3 \nz\n\" id=\"mb6b5db588e\" style=\"stroke:#9467bd;\"/>\n    </defs>\n    <g clip-path=\"url(#pdbc0fe01a8)\">\n     <use style=\"fill:#9467bd;stroke:#9467bd;\" x=\"274.361506\" xlink:href=\"#mb6b5db588e\" y=\"141.919867\"/>\n    </g>\n   </g>\n   <g id=\"PathCollection_6\">\n    <defs>\n     <path d=\"M 0 3 \nC 0.795609 3 1.55874 2.683901 2.12132 2.12132 \nC 2.683901 1.55874 3 0.795609 3 0 \nC 3 -0.795609 2.683901 -1.55874 2.12132 -2.12132 \nC 1.55874 -2.683901 0.795609 -3 0 -3 \nC -0.795609 -3 -1.55874 -2.683901 -2.12132 -2.12132 \nC -2.683901 -1.55874 -3 -0.795609 -3 0 \nC -3 0.795609 -2.683901 1.55874 -2.12132 2.12132 \nC -1.55874 2.683901 -0.795609 3 0 3 \nz\n\" id=\"m95fc49e5b0\" style=\"stroke:#8c564b;\"/>\n    </defs>\n    <g clip-path=\"url(#pdbc0fe01a8)\">\n     <use style=\"fill:#8c564b;stroke:#8c564b;\" x=\"176.179688\" xlink:href=\"#m95fc49e5b0\" y=\"131.979612\"/>\n    </g>\n   </g>\n   <g id=\"PathCollection_7\">\n    <defs>\n     <path d=\"M 0 3 \nC 0.795609 3 1.55874 2.683901 2.12132 2.12132 \nC 2.683901 1.55874 3 0.795609 3 0 \nC 3 -0.795609 2.683901 -1.55874 2.12132 -2.12132 \nC 1.55874 -2.683901 0.795609 -3 0 -3 \nC -0.795609 -3 -1.55874 -2.683901 -2.12132 -2.12132 \nC -2.683901 -1.55874 -3 -0.795609 -3 0 \nC -3 0.795609 -2.683901 1.55874 -2.12132 2.12132 \nC -1.55874 2.683901 -0.795609 3 0 3 \nz\n\" id=\"m5f4f4bb6aa\" style=\"stroke:#e377c2;\"/>\n    </defs>\n    <g clip-path=\"url(#pdbc0fe01a8)\">\n     <use style=\"fill:#e377c2;stroke:#e377c2;\" x=\"127.088778\" xlink:href=\"#m5f4f4bb6aa\" y=\"112.243132\"/>\n    </g>\n   </g>\n   <g id=\"PathCollection_8\">\n    <defs>\n     <path d=\"M 0 3 \nC 0.795609 3 1.55874 2.683901 2.12132 2.12132 \nC 2.683901 1.55874 3 0.795609 3 0 \nC 3 -0.795609 2.683901 -1.55874 2.12132 -2.12132 \nC 1.55874 -2.683901 0.795609 -3 0 -3 \nC -0.795609 -3 -1.55874 -2.683901 -2.12132 -2.12132 \nC -2.683901 -1.55874 -3 -0.795609 -3 0 \nC -3 0.795609 -2.683901 1.55874 -2.12132 2.12132 \nC -1.55874 2.683901 -0.795609 3 0 3 \nz\n\" id=\"me8d6a9edc5\" style=\"stroke:#7f7f7f;\"/>\n    </defs>\n    <g clip-path=\"url(#pdbc0fe01a8)\">\n     <use style=\"fill:#7f7f7f;stroke:#7f7f7f;\" x=\"244.90696\" xlink:href=\"#me8d6a9edc5\" y=\"32.201761\"/>\n    </g>\n   </g>\n   <g id=\"PathCollection_9\">\n    <defs>\n     <path d=\"M 0 3 \nC 0.795609 3 1.55874 2.683901 2.12132 2.12132 \nC 2.683901 1.55874 3 0.795609 3 0 \nC 3 -0.795609 2.683901 -1.55874 2.12132 -2.12132 \nC 1.55874 -2.683901 0.795609 -3 0 -3 \nC -0.795609 -3 -1.55874 -2.683901 -2.12132 -2.12132 \nC -2.683901 -1.55874 -3 -0.795609 -3 0 \nC -3 0.795609 -2.683901 1.55874 -2.12132 2.12132 \nC -1.55874 2.683901 -0.795609 3 0 3 \nz\n\" id=\"m0e869dad7c\" style=\"stroke:#bcbd22;\"/>\n    </defs>\n    <g clip-path=\"url(#pdbc0fe01a8)\">\n     <use style=\"fill:#bcbd22;stroke:#bcbd22;\" x=\"343.088778\" xlink:href=\"#m0e869dad7c\" y=\"106.935693\"/>\n    </g>\n   </g>\n   <g id=\"PathCollection_10\">\n    <defs>\n     <path d=\"M 0 3 \nC 0.795609 3 1.55874 2.683901 2.12132 2.12132 \nC 2.683901 1.55874 3 0.795609 3 0 \nC 3 -0.795609 2.683901 -1.55874 2.12132 -2.12132 \nC 1.55874 -2.683901 0.795609 -3 0 -3 \nC -0.795609 -3 -1.55874 -2.683901 -2.12132 -2.12132 \nC -2.683901 -1.55874 -3 -0.795609 -3 0 \nC -3 0.795609 -2.683901 1.55874 -2.12132 2.12132 \nC -1.55874 2.683901 -0.795609 3 0 3 \nz\n\" id=\"md6e51452b7\" style=\"stroke:#17becf;\"/>\n    </defs>\n    <g clip-path=\"url(#pdbc0fe01a8)\">\n     <use style=\"fill:#17becf;stroke:#17becf;\" x=\"244.90696\" xlink:href=\"#md6e51452b7\" y=\"157.484522\"/>\n    </g>\n   </g>\n   <g id=\"PathCollection_11\">\n    <g clip-path=\"url(#pdbc0fe01a8)\">\n     <use style=\"fill:#1f77b4;stroke:#1f77b4;\" x=\"323.452415\" xlink:href=\"#m37075fbb8f\" y=\"155.375106\"/>\n    </g>\n   </g>\n   <g id=\"PathCollection_12\">\n    <g clip-path=\"url(#pdbc0fe01a8)\">\n     <use style=\"fill:#ff7f0e;stroke:#ff7f0e;\" x=\"244.90696\" xlink:href=\"#m5a65e97817\" y=\"229.874489\"/>\n    </g>\n   </g>\n   <g id=\"PathCollection_13\">\n    <g clip-path=\"url(#pdbc0fe01a8)\">\n     <use style=\"fill:#2ca02c;stroke:#2ca02c;\" x=\"254.725142\" xlink:href=\"#m6863bd756c\" y=\"107.467601\"/>\n    </g>\n   </g>\n   <g id=\"PathCollection_14\">\n    <g clip-path=\"url(#pdbc0fe01a8)\">\n     <use style=\"fill:#d62728;stroke:#d62728;\" x=\"77.997869\" xlink:href=\"#ma485bee9f8\" y=\"211.741685\"/>\n    </g>\n   </g>\n   <g id=\"PathCollection_15\">\n    <g clip-path=\"url(#pdbc0fe01a8)\">\n     <use style=\"fill:#9467bd;stroke:#9467bd;\" x=\"195.816051\" xlink:href=\"#mb6b5db588e\" y=\"168.995509\"/>\n    </g>\n   </g>\n   <g id=\"matplotlib.axis_1\">\n    <g id=\"xtick_1\">\n     <g id=\"line2d_1\">\n      <defs>\n       <path d=\"M 0 0 \nL 0 3.5 \n\" id=\"mf12c457218\" style=\"stroke:#000000;stroke-width:0.8;\"/>\n      </defs>\n      <g>\n       <use style=\"stroke:#000000;stroke-width:0.8;\" x=\"97.634233\" xlink:href=\"#mf12c457218\" y=\"239.758125\"/>\n      </g>\n     </g>\n     <g id=\"text_1\">\n      <!-- 3.0 -->\n      <g transform=\"translate(89.68267 254.356563)scale(0.1 -0.1)\">\n       <defs>\n        <path d=\"M 40.578125 39.3125 \nQ 47.65625 37.796875 51.625 33 \nQ 55.609375 28.21875 55.609375 21.1875 \nQ 55.609375 10.40625 48.1875 4.484375 \nQ 40.765625 -1.421875 27.09375 -1.421875 \nQ 22.515625 -1.421875 17.65625 -0.515625 \nQ 12.796875 0.390625 7.625 2.203125 \nL 7.625 11.71875 \nQ 11.71875 9.328125 16.59375 8.109375 \nQ 21.484375 6.890625 26.8125 6.890625 \nQ 36.078125 6.890625 40.9375 10.546875 \nQ 45.796875 14.203125 45.796875 21.1875 \nQ 45.796875 27.640625 41.28125 31.265625 \nQ 36.765625 34.90625 28.71875 34.90625 \nL 20.21875 34.90625 \nL 20.21875 43.015625 \nL 29.109375 43.015625 \nQ 36.375 43.015625 40.234375 45.921875 \nQ 44.09375 48.828125 44.09375 54.296875 \nQ 44.09375 59.90625 40.109375 62.90625 \nQ 36.140625 65.921875 28.71875 65.921875 \nQ 24.65625 65.921875 20.015625 65.03125 \nQ 15.375 64.15625 9.8125 62.3125 \nL 9.8125 71.09375 \nQ 15.4375 72.65625 20.34375 73.4375 \nQ 25.25 74.21875 29.59375 74.21875 \nQ 40.828125 74.21875 47.359375 69.109375 \nQ 53.90625 64.015625 53.90625 55.328125 \nQ 53.90625 49.265625 50.4375 45.09375 \nQ 46.96875 40.921875 40.578125 39.3125 \nz\n\" id=\"DejaVuSans-51\"/>\n        <path d=\"M 10.6875 12.40625 \nL 21 12.40625 \nL 21 0 \nL 10.6875 0 \nz\n\" id=\"DejaVuSans-46\"/>\n        <path d=\"M 31.78125 66.40625 \nQ 24.171875 66.40625 20.328125 58.90625 \nQ 16.5 51.421875 16.5 36.375 \nQ 16.5 21.390625 20.328125 13.890625 \nQ 24.171875 6.390625 31.78125 6.390625 \nQ 39.453125 6.390625 43.28125 13.890625 \nQ 47.125 21.390625 47.125 36.375 \nQ 47.125 51.421875 43.28125 58.90625 \nQ 39.453125 66.40625 31.78125 66.40625 \nz\nM 31.78125 74.21875 \nQ 44.046875 74.21875 50.515625 64.515625 \nQ 56.984375 54.828125 56.984375 36.375 \nQ 56.984375 17.96875 50.515625 8.265625 \nQ 44.046875 -1.421875 31.78125 -1.421875 \nQ 19.53125 -1.421875 13.0625 8.265625 \nQ 6.59375 17.96875 6.59375 36.375 \nQ 6.59375 54.828125 13.0625 64.515625 \nQ 19.53125 74.21875 31.78125 74.21875 \nz\n\" id=\"DejaVuSans-48\"/>\n       </defs>\n       <use xlink:href=\"#DejaVuSans-51\"/>\n       <use x=\"63.623047\" xlink:href=\"#DejaVuSans-46\"/>\n       <use x=\"95.410156\" xlink:href=\"#DejaVuSans-48\"/>\n      </g>\n     </g>\n    </g>\n    <g id=\"xtick_2\">\n     <g id=\"line2d_2\">\n      <g>\n       <use style=\"stroke:#000000;stroke-width:0.8;\" x=\"136.90696\" xlink:href=\"#mf12c457218\" y=\"239.758125\"/>\n      </g>\n     </g>\n     <g id=\"text_2\">\n      <!-- 3.5 -->\n      <g transform=\"translate(128.955398 254.356563)scale(0.1 -0.1)\">\n       <defs>\n        <path d=\"M 10.796875 72.90625 \nL 49.515625 72.90625 \nL 49.515625 64.59375 \nL 19.828125 64.59375 \nL 19.828125 46.734375 \nQ 21.96875 47.46875 24.109375 47.828125 \nQ 26.265625 48.1875 28.421875 48.1875 \nQ 40.625 48.1875 47.75 41.5 \nQ 54.890625 34.8125 54.890625 23.390625 \nQ 54.890625 11.625 47.5625 5.09375 \nQ 40.234375 -1.421875 26.90625 -1.421875 \nQ 22.3125 -1.421875 17.546875 -0.640625 \nQ 12.796875 0.140625 7.71875 1.703125 \nL 7.71875 11.625 \nQ 12.109375 9.234375 16.796875 8.0625 \nQ 21.484375 6.890625 26.703125 6.890625 \nQ 35.15625 6.890625 40.078125 11.328125 \nQ 45.015625 15.765625 45.015625 23.390625 \nQ 45.015625 31 40.078125 35.4375 \nQ 35.15625 39.890625 26.703125 39.890625 \nQ 22.75 39.890625 18.8125 39.015625 \nQ 14.890625 38.140625 10.796875 36.28125 \nz\n\" id=\"DejaVuSans-53\"/>\n       </defs>\n       <use xlink:href=\"#DejaVuSans-51\"/>\n       <use x=\"63.623047\" xlink:href=\"#DejaVuSans-46\"/>\n       <use x=\"95.410156\" xlink:href=\"#DejaVuSans-53\"/>\n      </g>\n     </g>\n    </g>\n    <g id=\"xtick_3\">\n     <g id=\"line2d_3\">\n      <g>\n       <use style=\"stroke:#000000;stroke-width:0.8;\" x=\"176.179688\" xlink:href=\"#mf12c457218\" y=\"239.758125\"/>\n      </g>\n     </g>\n     <g id=\"text_3\">\n      <!-- 4.0 -->\n      <g transform=\"translate(168.228125 254.356563)scale(0.1 -0.1)\">\n       <defs>\n        <path d=\"M 37.796875 64.3125 \nL 12.890625 25.390625 \nL 37.796875 25.390625 \nz\nM 35.203125 72.90625 \nL 47.609375 72.90625 \nL 47.609375 25.390625 \nL 58.015625 25.390625 \nL 58.015625 17.1875 \nL 47.609375 17.1875 \nL 47.609375 0 \nL 37.796875 0 \nL 37.796875 17.1875 \nL 4.890625 17.1875 \nL 4.890625 26.703125 \nz\n\" id=\"DejaVuSans-52\"/>\n       </defs>\n       <use xlink:href=\"#DejaVuSans-52\"/>\n       <use x=\"63.623047\" xlink:href=\"#DejaVuSans-46\"/>\n       <use x=\"95.410156\" xlink:href=\"#DejaVuSans-48\"/>\n      </g>\n     </g>\n    </g>\n    <g id=\"xtick_4\">\n     <g id=\"line2d_4\">\n      <g>\n       <use style=\"stroke:#000000;stroke-width:0.8;\" x=\"215.452415\" xlink:href=\"#mf12c457218\" y=\"239.758125\"/>\n      </g>\n     </g>\n     <g id=\"text_4\">\n      <!-- 4.5 -->\n      <g transform=\"translate(207.500852 254.356563)scale(0.1 -0.1)\">\n       <use xlink:href=\"#DejaVuSans-52\"/>\n       <use x=\"63.623047\" xlink:href=\"#DejaVuSans-46\"/>\n       <use x=\"95.410156\" xlink:href=\"#DejaVuSans-53\"/>\n      </g>\n     </g>\n    </g>\n    <g id=\"xtick_5\">\n     <g id=\"line2d_5\">\n      <g>\n       <use style=\"stroke:#000000;stroke-width:0.8;\" x=\"254.725142\" xlink:href=\"#mf12c457218\" y=\"239.758125\"/>\n      </g>\n     </g>\n     <g id=\"text_5\">\n      <!-- 5.0 -->\n      <g transform=\"translate(246.77358 254.356563)scale(0.1 -0.1)\">\n       <use xlink:href=\"#DejaVuSans-53\"/>\n       <use x=\"63.623047\" xlink:href=\"#DejaVuSans-46\"/>\n       <use x=\"95.410156\" xlink:href=\"#DejaVuSans-48\"/>\n      </g>\n     </g>\n    </g>\n    <g id=\"xtick_6\">\n     <g id=\"line2d_6\">\n      <g>\n       <use style=\"stroke:#000000;stroke-width:0.8;\" x=\"293.997869\" xlink:href=\"#mf12c457218\" y=\"239.758125\"/>\n      </g>\n     </g>\n     <g id=\"text_6\">\n      <!-- 5.5 -->\n      <g transform=\"translate(286.046307 254.356563)scale(0.1 -0.1)\">\n       <use xlink:href=\"#DejaVuSans-53\"/>\n       <use x=\"63.623047\" xlink:href=\"#DejaVuSans-46\"/>\n       <use x=\"95.410156\" xlink:href=\"#DejaVuSans-53\"/>\n      </g>\n     </g>\n    </g>\n    <g id=\"xtick_7\">\n     <g id=\"line2d_7\">\n      <g>\n       <use style=\"stroke:#000000;stroke-width:0.8;\" x=\"333.270597\" xlink:href=\"#mf12c457218\" y=\"239.758125\"/>\n      </g>\n     </g>\n     <g id=\"text_7\">\n      <!-- 6.0 -->\n      <g transform=\"translate(325.319034 254.356563)scale(0.1 -0.1)\">\n       <defs>\n        <path d=\"M 33.015625 40.375 \nQ 26.375 40.375 22.484375 35.828125 \nQ 18.609375 31.296875 18.609375 23.390625 \nQ 18.609375 15.53125 22.484375 10.953125 \nQ 26.375 6.390625 33.015625 6.390625 \nQ 39.65625 6.390625 43.53125 10.953125 \nQ 47.40625 15.53125 47.40625 23.390625 \nQ 47.40625 31.296875 43.53125 35.828125 \nQ 39.65625 40.375 33.015625 40.375 \nz\nM 52.59375 71.296875 \nL 52.59375 62.3125 \nQ 48.875 64.0625 45.09375 64.984375 \nQ 41.3125 65.921875 37.59375 65.921875 \nQ 27.828125 65.921875 22.671875 59.328125 \nQ 17.53125 52.734375 16.796875 39.40625 \nQ 19.671875 43.65625 24.015625 45.921875 \nQ 28.375 48.1875 33.59375 48.1875 \nQ 44.578125 48.1875 50.953125 41.515625 \nQ 57.328125 34.859375 57.328125 23.390625 \nQ 57.328125 12.15625 50.6875 5.359375 \nQ 44.046875 -1.421875 33.015625 -1.421875 \nQ 20.359375 -1.421875 13.671875 8.265625 \nQ 6.984375 17.96875 6.984375 36.375 \nQ 6.984375 53.65625 15.1875 63.9375 \nQ 23.390625 74.21875 37.203125 74.21875 \nQ 40.921875 74.21875 44.703125 73.484375 \nQ 48.484375 72.75 52.59375 71.296875 \nz\n\" id=\"DejaVuSans-54\"/>\n       </defs>\n       <use xlink:href=\"#DejaVuSans-54\"/>\n       <use x=\"63.623047\" xlink:href=\"#DejaVuSans-46\"/>\n       <use x=\"95.410156\" xlink:href=\"#DejaVuSans-48\"/>\n      </g>\n     </g>\n    </g>\n    <g id=\"xtick_8\">\n     <g id=\"line2d_8\">\n      <g>\n       <use style=\"stroke:#000000;stroke-width:0.8;\" x=\"372.543324\" xlink:href=\"#mf12c457218\" y=\"239.758125\"/>\n      </g>\n     </g>\n     <g id=\"text_8\">\n      <!-- 6.5 -->\n      <g transform=\"translate(364.591761 254.356563)scale(0.1 -0.1)\">\n       <use xlink:href=\"#DejaVuSans-54\"/>\n       <use x=\"63.623047\" xlink:href=\"#DejaVuSans-46\"/>\n       <use x=\"95.410156\" xlink:href=\"#DejaVuSans-53\"/>\n      </g>\n     </g>\n    </g>\n   </g>\n   <g id=\"matplotlib.axis_2\">\n    <g id=\"ytick_1\">\n     <g id=\"line2d_9\">\n      <defs>\n       <path d=\"M 0 0 \nL -3.5 0 \n\" id=\"md74fdc241f\" style=\"stroke:#000000;stroke-width:0.8;\"/>\n      </defs>\n      <g>\n       <use style=\"stroke:#000000;stroke-width:0.8;\" x=\"62.779687\" xlink:href=\"#md74fdc241f\" y=\"227.532692\"/>\n      </g>\n     </g>\n     <g id=\"text_9\">\n      <!-- 0.20 -->\n      <g transform=\"translate(33.514062 231.331911)scale(0.1 -0.1)\">\n       <defs>\n        <path d=\"M 19.1875 8.296875 \nL 53.609375 8.296875 \nL 53.609375 0 \nL 7.328125 0 \nL 7.328125 8.296875 \nQ 12.9375 14.109375 22.625 23.890625 \nQ 32.328125 33.6875 34.8125 36.53125 \nQ 39.546875 41.84375 41.421875 45.53125 \nQ 43.3125 49.21875 43.3125 52.78125 \nQ 43.3125 58.59375 39.234375 62.25 \nQ 35.15625 65.921875 28.609375 65.921875 \nQ 23.96875 65.921875 18.8125 64.3125 \nQ 13.671875 62.703125 7.8125 59.421875 \nL 7.8125 69.390625 \nQ 13.765625 71.78125 18.9375 73 \nQ 24.125 74.21875 28.421875 74.21875 \nQ 39.75 74.21875 46.484375 68.546875 \nQ 53.21875 62.890625 53.21875 53.421875 \nQ 53.21875 48.921875 51.53125 44.890625 \nQ 49.859375 40.875 45.40625 35.40625 \nQ 44.1875 33.984375 37.640625 27.21875 \nQ 31.109375 20.453125 19.1875 8.296875 \nz\n\" id=\"DejaVuSans-50\"/>\n       </defs>\n       <use xlink:href=\"#DejaVuSans-48\"/>\n       <use x=\"63.623047\" xlink:href=\"#DejaVuSans-46\"/>\n       <use x=\"95.410156\" xlink:href=\"#DejaVuSans-50\"/>\n       <use x=\"159.033203\" xlink:href=\"#DejaVuSans-48\"/>\n      </g>\n     </g>\n    </g>\n    <g id=\"ytick_2\">\n     <g id=\"line2d_10\">\n      <g>\n       <use style=\"stroke:#000000;stroke-width:0.8;\" x=\"62.779687\" xlink:href=\"#md74fdc241f\" y=\"189.280916\"/>\n      </g>\n     </g>\n     <g id=\"text_10\">\n      <!-- 0.25 -->\n      <g transform=\"translate(33.514062 193.080135)scale(0.1 -0.1)\">\n       <use xlink:href=\"#DejaVuSans-48\"/>\n       <use x=\"63.623047\" xlink:href=\"#DejaVuSans-46\"/>\n       <use x=\"95.410156\" xlink:href=\"#DejaVuSans-50\"/>\n       <use x=\"159.033203\" xlink:href=\"#DejaVuSans-53\"/>\n      </g>\n     </g>\n    </g>\n    <g id=\"ytick_3\">\n     <g id=\"line2d_11\">\n      <g>\n       <use style=\"stroke:#000000;stroke-width:0.8;\" x=\"62.779687\" xlink:href=\"#md74fdc241f\" y=\"151.02914\"/>\n      </g>\n     </g>\n     <g id=\"text_11\">\n      <!-- 0.30 -->\n      <g transform=\"translate(33.514062 154.828359)scale(0.1 -0.1)\">\n       <use xlink:href=\"#DejaVuSans-48\"/>\n       <use x=\"63.623047\" xlink:href=\"#DejaVuSans-46\"/>\n       <use x=\"95.410156\" xlink:href=\"#DejaVuSans-51\"/>\n       <use x=\"159.033203\" xlink:href=\"#DejaVuSans-48\"/>\n      </g>\n     </g>\n    </g>\n    <g id=\"ytick_4\">\n     <g id=\"line2d_12\">\n      <g>\n       <use style=\"stroke:#000000;stroke-width:0.8;\" x=\"62.779687\" xlink:href=\"#md74fdc241f\" y=\"112.777364\"/>\n      </g>\n     </g>\n     <g id=\"text_12\">\n      <!-- 0.35 -->\n      <g transform=\"translate(33.514062 116.576583)scale(0.1 -0.1)\">\n       <use xlink:href=\"#DejaVuSans-48\"/>\n       <use x=\"63.623047\" xlink:href=\"#DejaVuSans-46\"/>\n       <use x=\"95.410156\" xlink:href=\"#DejaVuSans-51\"/>\n       <use x=\"159.033203\" xlink:href=\"#DejaVuSans-53\"/>\n      </g>\n     </g>\n    </g>\n    <g id=\"ytick_5\">\n     <g id=\"line2d_13\">\n      <g>\n       <use style=\"stroke:#000000;stroke-width:0.8;\" x=\"62.779687\" xlink:href=\"#md74fdc241f\" y=\"74.525588\"/>\n      </g>\n     </g>\n     <g id=\"text_13\">\n      <!-- 0.40 -->\n      <g transform=\"translate(33.514062 78.324807)scale(0.1 -0.1)\">\n       <use xlink:href=\"#DejaVuSans-48\"/>\n       <use x=\"63.623047\" xlink:href=\"#DejaVuSans-46\"/>\n       <use x=\"95.410156\" xlink:href=\"#DejaVuSans-52\"/>\n       <use x=\"159.033203\" xlink:href=\"#DejaVuSans-48\"/>\n      </g>\n     </g>\n    </g>\n    <g id=\"ytick_6\">\n     <g id=\"line2d_14\">\n      <g>\n       <use style=\"stroke:#000000;stroke-width:0.8;\" x=\"62.779687\" xlink:href=\"#md74fdc241f\" y=\"36.273812\"/>\n      </g>\n     </g>\n     <g id=\"text_14\">\n      <!-- 0.45 -->\n      <g transform=\"translate(33.514062 40.073031)scale(0.1 -0.1)\">\n       <use xlink:href=\"#DejaVuSans-48\"/>\n       <use x=\"63.623047\" xlink:href=\"#DejaVuSans-46\"/>\n       <use x=\"95.410156\" xlink:href=\"#DejaVuSans-52\"/>\n       <use x=\"159.033203\" xlink:href=\"#DejaVuSans-53\"/>\n      </g>\n     </g>\n    </g>\n   </g>\n   <g id=\"patch_3\">\n    <path d=\"M 62.779687 239.758125 \nL 62.779687 22.318125 \n\" style=\"fill:none;stroke:#000000;stroke-linecap:square;stroke-linejoin:miter;stroke-width:0.8;\"/>\n   </g>\n   <g id=\"patch_4\">\n    <path d=\"M 397.579687 239.758125 \nL 397.579687 22.318125 \n\" style=\"fill:none;stroke:#000000;stroke-linecap:square;stroke-linejoin:miter;stroke-width:0.8;\"/>\n   </g>\n   <g id=\"patch_5\">\n    <path d=\"M 62.779687 239.758125 \nL 397.579687 239.758125 \n\" style=\"fill:none;stroke:#000000;stroke-linecap:square;stroke-linejoin:miter;stroke-width:0.8;\"/>\n   </g>\n   <g id=\"patch_6\">\n    <path d=\"M 62.779687 22.318125 \nL 397.579687 22.318125 \n\" style=\"fill:none;stroke:#000000;stroke-linecap:square;stroke-linejoin:miter;stroke-width:0.8;\"/>\n   </g>\n   <g id=\"text_15\">\n    <!-- Plot show the correlation between TeiQueSF_emotionality and Band Power -->\n    <g transform=\"translate(7.2 16.318125)scale(0.12 -0.12)\">\n     <defs>\n      <path d=\"M 19.671875 64.796875 \nL 19.671875 37.40625 \nL 32.078125 37.40625 \nQ 38.96875 37.40625 42.71875 40.96875 \nQ 46.484375 44.53125 46.484375 51.125 \nQ 46.484375 57.671875 42.71875 61.234375 \nQ 38.96875 64.796875 32.078125 64.796875 \nz\nM 9.8125 72.90625 \nL 32.078125 72.90625 \nQ 44.34375 72.90625 50.609375 67.359375 \nQ 56.890625 61.8125 56.890625 51.125 \nQ 56.890625 40.328125 50.609375 34.8125 \nQ 44.34375 29.296875 32.078125 29.296875 \nL 19.671875 29.296875 \nL 19.671875 0 \nL 9.8125 0 \nz\n\" id=\"DejaVuSans-80\"/>\n      <path d=\"M 9.421875 75.984375 \nL 18.40625 75.984375 \nL 18.40625 0 \nL 9.421875 0 \nz\n\" id=\"DejaVuSans-108\"/>\n      <path d=\"M 30.609375 48.390625 \nQ 23.390625 48.390625 19.1875 42.75 \nQ 14.984375 37.109375 14.984375 27.296875 \nQ 14.984375 17.484375 19.15625 11.84375 \nQ 23.34375 6.203125 30.609375 6.203125 \nQ 37.796875 6.203125 41.984375 11.859375 \nQ 46.1875 17.53125 46.1875 27.296875 \nQ 46.1875 37.015625 41.984375 42.703125 \nQ 37.796875 48.390625 30.609375 48.390625 \nz\nM 30.609375 56 \nQ 42.328125 56 49.015625 48.375 \nQ 55.71875 40.765625 55.71875 27.296875 \nQ 55.71875 13.875 49.015625 6.21875 \nQ 42.328125 -1.421875 30.609375 -1.421875 \nQ 18.84375 -1.421875 12.171875 6.21875 \nQ 5.515625 13.875 5.515625 27.296875 \nQ 5.515625 40.765625 12.171875 48.375 \nQ 18.84375 56 30.609375 56 \nz\n\" id=\"DejaVuSans-111\"/>\n      <path d=\"M 18.3125 70.21875 \nL 18.3125 54.6875 \nL 36.8125 54.6875 \nL 36.8125 47.703125 \nL 18.3125 47.703125 \nL 18.3125 18.015625 \nQ 18.3125 11.328125 20.140625 9.421875 \nQ 21.96875 7.515625 27.59375 7.515625 \nL 36.8125 7.515625 \nL 36.8125 0 \nL 27.59375 0 \nQ 17.1875 0 13.234375 3.875 \nQ 9.28125 7.765625 9.28125 18.015625 \nL 9.28125 47.703125 \nL 2.6875 47.703125 \nL 2.6875 54.6875 \nL 9.28125 54.6875 \nL 9.28125 70.21875 \nz\n\" id=\"DejaVuSans-116\"/>\n      <path id=\"DejaVuSans-32\"/>\n      <path d=\"M 44.28125 53.078125 \nL 44.28125 44.578125 \nQ 40.484375 46.53125 36.375 47.5 \nQ 32.28125 48.484375 27.875 48.484375 \nQ 21.1875 48.484375 17.84375 46.4375 \nQ 14.5 44.390625 14.5 40.28125 \nQ 14.5 37.15625 16.890625 35.375 \nQ 19.28125 33.59375 26.515625 31.984375 \nL 29.59375 31.296875 \nQ 39.15625 29.25 43.1875 25.515625 \nQ 47.21875 21.78125 47.21875 15.09375 \nQ 47.21875 7.46875 41.1875 3.015625 \nQ 35.15625 -1.421875 24.609375 -1.421875 \nQ 20.21875 -1.421875 15.453125 -0.5625 \nQ 10.6875 0.296875 5.421875 2 \nL 5.421875 11.28125 \nQ 10.40625 8.6875 15.234375 7.390625 \nQ 20.0625 6.109375 24.8125 6.109375 \nQ 31.15625 6.109375 34.5625 8.28125 \nQ 37.984375 10.453125 37.984375 14.40625 \nQ 37.984375 18.0625 35.515625 20.015625 \nQ 33.0625 21.96875 24.703125 23.78125 \nL 21.578125 24.515625 \nQ 13.234375 26.265625 9.515625 29.90625 \nQ 5.8125 33.546875 5.8125 39.890625 \nQ 5.8125 47.609375 11.28125 51.796875 \nQ 16.75 56 26.8125 56 \nQ 31.78125 56 36.171875 55.265625 \nQ 40.578125 54.546875 44.28125 53.078125 \nz\n\" id=\"DejaVuSans-115\"/>\n      <path d=\"M 54.890625 33.015625 \nL 54.890625 0 \nL 45.90625 0 \nL 45.90625 32.71875 \nQ 45.90625 40.484375 42.875 44.328125 \nQ 39.84375 48.1875 33.796875 48.1875 \nQ 26.515625 48.1875 22.3125 43.546875 \nQ 18.109375 38.921875 18.109375 30.90625 \nL 18.109375 0 \nL 9.078125 0 \nL 9.078125 75.984375 \nL 18.109375 75.984375 \nL 18.109375 46.1875 \nQ 21.34375 51.125 25.703125 53.5625 \nQ 30.078125 56 35.796875 56 \nQ 45.21875 56 50.046875 50.171875 \nQ 54.890625 44.34375 54.890625 33.015625 \nz\n\" id=\"DejaVuSans-104\"/>\n      <path d=\"M 4.203125 54.6875 \nL 13.1875 54.6875 \nL 24.421875 12.015625 \nL 35.59375 54.6875 \nL 46.1875 54.6875 \nL 57.421875 12.015625 \nL 68.609375 54.6875 \nL 77.59375 54.6875 \nL 63.28125 0 \nL 52.6875 0 \nL 40.921875 44.828125 \nL 29.109375 0 \nL 18.5 0 \nz\n\" id=\"DejaVuSans-119\"/>\n      <path d=\"M 56.203125 29.59375 \nL 56.203125 25.203125 \nL 14.890625 25.203125 \nQ 15.484375 15.921875 20.484375 11.0625 \nQ 25.484375 6.203125 34.421875 6.203125 \nQ 39.59375 6.203125 44.453125 7.46875 \nQ 49.3125 8.734375 54.109375 11.28125 \nL 54.109375 2.78125 \nQ 49.265625 0.734375 44.1875 -0.34375 \nQ 39.109375 -1.421875 33.890625 -1.421875 \nQ 20.796875 -1.421875 13.15625 6.1875 \nQ 5.515625 13.8125 5.515625 26.8125 \nQ 5.515625 40.234375 12.765625 48.109375 \nQ 20.015625 56 32.328125 56 \nQ 43.359375 56 49.78125 48.890625 \nQ 56.203125 41.796875 56.203125 29.59375 \nz\nM 47.21875 32.234375 \nQ 47.125 39.59375 43.09375 43.984375 \nQ 39.0625 48.390625 32.421875 48.390625 \nQ 24.90625 48.390625 20.390625 44.140625 \nQ 15.875 39.890625 15.1875 32.171875 \nz\n\" id=\"DejaVuSans-101\"/>\n      <path d=\"M 48.78125 52.59375 \nL 48.78125 44.1875 \nQ 44.96875 46.296875 41.140625 47.34375 \nQ 37.3125 48.390625 33.40625 48.390625 \nQ 24.65625 48.390625 19.8125 42.84375 \nQ 14.984375 37.3125 14.984375 27.296875 \nQ 14.984375 17.28125 19.8125 11.734375 \nQ 24.65625 6.203125 33.40625 6.203125 \nQ 37.3125 6.203125 41.140625 7.25 \nQ 44.96875 8.296875 48.78125 10.40625 \nL 48.78125 2.09375 \nQ 45.015625 0.34375 40.984375 -0.53125 \nQ 36.96875 -1.421875 32.421875 -1.421875 \nQ 20.0625 -1.421875 12.78125 6.34375 \nQ 5.515625 14.109375 5.515625 27.296875 \nQ 5.515625 40.671875 12.859375 48.328125 \nQ 20.21875 56 33.015625 56 \nQ 37.15625 56 41.109375 55.140625 \nQ 45.0625 54.296875 48.78125 52.59375 \nz\n\" id=\"DejaVuSans-99\"/>\n      <path d=\"M 41.109375 46.296875 \nQ 39.59375 47.171875 37.8125 47.578125 \nQ 36.03125 48 33.890625 48 \nQ 26.265625 48 22.1875 43.046875 \nQ 18.109375 38.09375 18.109375 28.8125 \nL 18.109375 0 \nL 9.078125 0 \nL 9.078125 54.6875 \nL 18.109375 54.6875 \nL 18.109375 46.1875 \nQ 20.953125 51.171875 25.484375 53.578125 \nQ 30.03125 56 36.53125 56 \nQ 37.453125 56 38.578125 55.875 \nQ 39.703125 55.765625 41.0625 55.515625 \nz\n\" id=\"DejaVuSans-114\"/>\n      <path d=\"M 34.28125 27.484375 \nQ 23.390625 27.484375 19.1875 25 \nQ 14.984375 22.515625 14.984375 16.5 \nQ 14.984375 11.71875 18.140625 8.90625 \nQ 21.296875 6.109375 26.703125 6.109375 \nQ 34.1875 6.109375 38.703125 11.40625 \nQ 43.21875 16.703125 43.21875 25.484375 \nL 43.21875 27.484375 \nz\nM 52.203125 31.203125 \nL 52.203125 0 \nL 43.21875 0 \nL 43.21875 8.296875 \nQ 40.140625 3.328125 35.546875 0.953125 \nQ 30.953125 -1.421875 24.3125 -1.421875 \nQ 15.921875 -1.421875 10.953125 3.296875 \nQ 6 8.015625 6 15.921875 \nQ 6 25.140625 12.171875 29.828125 \nQ 18.359375 34.515625 30.609375 34.515625 \nL 43.21875 34.515625 \nL 43.21875 35.40625 \nQ 43.21875 41.609375 39.140625 45 \nQ 35.0625 48.390625 27.6875 48.390625 \nQ 23 48.390625 18.546875 47.265625 \nQ 14.109375 46.140625 10.015625 43.890625 \nL 10.015625 52.203125 \nQ 14.9375 54.109375 19.578125 55.046875 \nQ 24.21875 56 28.609375 56 \nQ 40.484375 56 46.34375 49.84375 \nQ 52.203125 43.703125 52.203125 31.203125 \nz\n\" id=\"DejaVuSans-97\"/>\n      <path d=\"M 9.421875 54.6875 \nL 18.40625 54.6875 \nL 18.40625 0 \nL 9.421875 0 \nz\nM 9.421875 75.984375 \nL 18.40625 75.984375 \nL 18.40625 64.59375 \nL 9.421875 64.59375 \nz\n\" id=\"DejaVuSans-105\"/>\n      <path d=\"M 54.890625 33.015625 \nL 54.890625 0 \nL 45.90625 0 \nL 45.90625 32.71875 \nQ 45.90625 40.484375 42.875 44.328125 \nQ 39.84375 48.1875 33.796875 48.1875 \nQ 26.515625 48.1875 22.3125 43.546875 \nQ 18.109375 38.921875 18.109375 30.90625 \nL 18.109375 0 \nL 9.078125 0 \nL 9.078125 54.6875 \nL 18.109375 54.6875 \nL 18.109375 46.1875 \nQ 21.34375 51.125 25.703125 53.5625 \nQ 30.078125 56 35.796875 56 \nQ 45.21875 56 50.046875 50.171875 \nQ 54.890625 44.34375 54.890625 33.015625 \nz\n\" id=\"DejaVuSans-110\"/>\n      <path d=\"M 48.6875 27.296875 \nQ 48.6875 37.203125 44.609375 42.84375 \nQ 40.53125 48.484375 33.40625 48.484375 \nQ 26.265625 48.484375 22.1875 42.84375 \nQ 18.109375 37.203125 18.109375 27.296875 \nQ 18.109375 17.390625 22.1875 11.75 \nQ 26.265625 6.109375 33.40625 6.109375 \nQ 40.53125 6.109375 44.609375 11.75 \nQ 48.6875 17.390625 48.6875 27.296875 \nz\nM 18.109375 46.390625 \nQ 20.953125 51.265625 25.265625 53.625 \nQ 29.59375 56 35.59375 56 \nQ 45.5625 56 51.78125 48.09375 \nQ 58.015625 40.1875 58.015625 27.296875 \nQ 58.015625 14.40625 51.78125 6.484375 \nQ 45.5625 -1.421875 35.59375 -1.421875 \nQ 29.59375 -1.421875 25.265625 0.953125 \nQ 20.953125 3.328125 18.109375 8.203125 \nL 18.109375 0 \nL 9.078125 0 \nL 9.078125 75.984375 \nL 18.109375 75.984375 \nz\n\" id=\"DejaVuSans-98\"/>\n      <path d=\"M -0.296875 72.90625 \nL 61.375 72.90625 \nL 61.375 64.59375 \nL 35.5 64.59375 \nL 35.5 0 \nL 25.59375 0 \nL 25.59375 64.59375 \nL -0.296875 64.59375 \nz\n\" id=\"DejaVuSans-84\"/>\n      <path d=\"M 39.40625 66.21875 \nQ 28.65625 66.21875 22.328125 58.203125 \nQ 16.015625 50.203125 16.015625 36.375 \nQ 16.015625 22.609375 22.328125 14.59375 \nQ 28.65625 6.59375 39.40625 6.59375 \nQ 50.140625 6.59375 56.421875 14.59375 \nQ 62.703125 22.609375 62.703125 36.375 \nQ 62.703125 50.203125 56.421875 58.203125 \nQ 50.140625 66.21875 39.40625 66.21875 \nz\nM 53.21875 1.3125 \nL 66.21875 -12.890625 \nL 54.296875 -12.890625 \nL 43.5 -1.21875 \nQ 41.890625 -1.3125 41.03125 -1.359375 \nQ 40.1875 -1.421875 39.40625 -1.421875 \nQ 24.03125 -1.421875 14.8125 8.859375 \nQ 5.609375 19.140625 5.609375 36.375 \nQ 5.609375 53.65625 14.8125 63.9375 \nQ 24.03125 74.21875 39.40625 74.21875 \nQ 54.734375 74.21875 63.90625 63.9375 \nQ 73.09375 53.65625 73.09375 36.375 \nQ 73.09375 23.6875 67.984375 14.640625 \nQ 62.890625 5.609375 53.21875 1.3125 \nz\n\" id=\"DejaVuSans-81\"/>\n      <path d=\"M 8.5 21.578125 \nL 8.5 54.6875 \nL 17.484375 54.6875 \nL 17.484375 21.921875 \nQ 17.484375 14.15625 20.5 10.265625 \nQ 23.53125 6.390625 29.59375 6.390625 \nQ 36.859375 6.390625 41.078125 11.03125 \nQ 45.3125 15.671875 45.3125 23.6875 \nL 45.3125 54.6875 \nL 54.296875 54.6875 \nL 54.296875 0 \nL 45.3125 0 \nL 45.3125 8.40625 \nQ 42.046875 3.421875 37.71875 1 \nQ 33.40625 -1.421875 27.6875 -1.421875 \nQ 18.265625 -1.421875 13.375 4.4375 \nQ 8.5 10.296875 8.5 21.578125 \nz\nM 31.109375 56 \nz\n\" id=\"DejaVuSans-117\"/>\n      <path d=\"M 53.515625 70.515625 \nL 53.515625 60.890625 \nQ 47.90625 63.578125 42.921875 64.890625 \nQ 37.9375 66.21875 33.296875 66.21875 \nQ 25.25 66.21875 20.875 63.09375 \nQ 16.5 59.96875 16.5 54.203125 \nQ 16.5 49.359375 19.40625 46.890625 \nQ 22.3125 44.4375 30.421875 42.921875 \nL 36.375 41.703125 \nQ 47.40625 39.59375 52.65625 34.296875 \nQ 57.90625 29 57.90625 20.125 \nQ 57.90625 9.515625 50.796875 4.046875 \nQ 43.703125 -1.421875 29.984375 -1.421875 \nQ 24.8125 -1.421875 18.96875 -0.25 \nQ 13.140625 0.921875 6.890625 3.21875 \nL 6.890625 13.375 \nQ 12.890625 10.015625 18.65625 8.296875 \nQ 24.421875 6.59375 29.984375 6.59375 \nQ 38.421875 6.59375 43.015625 9.90625 \nQ 47.609375 13.234375 47.609375 19.390625 \nQ 47.609375 24.75 44.3125 27.78125 \nQ 41.015625 30.8125 33.5 32.328125 \nL 27.484375 33.5 \nQ 16.453125 35.6875 11.515625 40.375 \nQ 6.59375 45.0625 6.59375 53.421875 \nQ 6.59375 63.09375 13.40625 68.65625 \nQ 20.21875 74.21875 32.171875 74.21875 \nQ 37.3125 74.21875 42.625 73.28125 \nQ 47.953125 72.359375 53.515625 70.515625 \nz\n\" id=\"DejaVuSans-83\"/>\n      <path d=\"M 9.8125 72.90625 \nL 51.703125 72.90625 \nL 51.703125 64.59375 \nL 19.671875 64.59375 \nL 19.671875 43.109375 \nL 48.578125 43.109375 \nL 48.578125 34.8125 \nL 19.671875 34.8125 \nL 19.671875 0 \nL 9.8125 0 \nz\n\" id=\"DejaVuSans-70\"/>\n      <path d=\"M 50.984375 -16.609375 \nL 50.984375 -23.578125 \nL -0.984375 -23.578125 \nL -0.984375 -16.609375 \nz\n\" id=\"DejaVuSans-95\"/>\n      <path d=\"M 52 44.1875 \nQ 55.375 50.25 60.0625 53.125 \nQ 64.75 56 71.09375 56 \nQ 79.640625 56 84.28125 50.015625 \nQ 88.921875 44.046875 88.921875 33.015625 \nL 88.921875 0 \nL 79.890625 0 \nL 79.890625 32.71875 \nQ 79.890625 40.578125 77.09375 44.375 \nQ 74.3125 48.1875 68.609375 48.1875 \nQ 61.625 48.1875 57.5625 43.546875 \nQ 53.515625 38.921875 53.515625 30.90625 \nL 53.515625 0 \nL 44.484375 0 \nL 44.484375 32.71875 \nQ 44.484375 40.625 41.703125 44.40625 \nQ 38.921875 48.1875 33.109375 48.1875 \nQ 26.21875 48.1875 22.15625 43.53125 \nQ 18.109375 38.875 18.109375 30.90625 \nL 18.109375 0 \nL 9.078125 0 \nL 9.078125 54.6875 \nL 18.109375 54.6875 \nL 18.109375 46.1875 \nQ 21.1875 51.21875 25.484375 53.609375 \nQ 29.78125 56 35.6875 56 \nQ 41.65625 56 45.828125 52.96875 \nQ 50 49.953125 52 44.1875 \nz\n\" id=\"DejaVuSans-109\"/>\n      <path d=\"M 32.171875 -5.078125 \nQ 28.375 -14.84375 24.75 -17.8125 \nQ 21.140625 -20.796875 15.09375 -20.796875 \nL 7.90625 -20.796875 \nL 7.90625 -13.28125 \nL 13.1875 -13.28125 \nQ 16.890625 -13.28125 18.9375 -11.515625 \nQ 21 -9.765625 23.484375 -3.21875 \nL 25.09375 0.875 \nL 2.984375 54.6875 \nL 12.5 54.6875 \nL 29.59375 11.921875 \nL 46.6875 54.6875 \nL 56.203125 54.6875 \nz\n\" id=\"DejaVuSans-121\"/>\n      <path d=\"M 45.40625 46.390625 \nL 45.40625 75.984375 \nL 54.390625 75.984375 \nL 54.390625 0 \nL 45.40625 0 \nL 45.40625 8.203125 \nQ 42.578125 3.328125 38.25 0.953125 \nQ 33.9375 -1.421875 27.875 -1.421875 \nQ 17.96875 -1.421875 11.734375 6.484375 \nQ 5.515625 14.40625 5.515625 27.296875 \nQ 5.515625 40.1875 11.734375 48.09375 \nQ 17.96875 56 27.875 56 \nQ 33.9375 56 38.25 53.625 \nQ 42.578125 51.265625 45.40625 46.390625 \nz\nM 14.796875 27.296875 \nQ 14.796875 17.390625 18.875 11.75 \nQ 22.953125 6.109375 30.078125 6.109375 \nQ 37.203125 6.109375 41.296875 11.75 \nQ 45.40625 17.390625 45.40625 27.296875 \nQ 45.40625 37.203125 41.296875 42.84375 \nQ 37.203125 48.484375 30.078125 48.484375 \nQ 22.953125 48.484375 18.875 42.84375 \nQ 14.796875 37.203125 14.796875 27.296875 \nz\n\" id=\"DejaVuSans-100\"/>\n      <path d=\"M 19.671875 34.8125 \nL 19.671875 8.109375 \nL 35.5 8.109375 \nQ 43.453125 8.109375 47.28125 11.40625 \nQ 51.125 14.703125 51.125 21.484375 \nQ 51.125 28.328125 47.28125 31.5625 \nQ 43.453125 34.8125 35.5 34.8125 \nz\nM 19.671875 64.796875 \nL 19.671875 42.828125 \nL 34.28125 42.828125 \nQ 41.5 42.828125 45.03125 45.53125 \nQ 48.578125 48.25 48.578125 53.8125 \nQ 48.578125 59.328125 45.03125 62.0625 \nQ 41.5 64.796875 34.28125 64.796875 \nz\nM 9.8125 72.90625 \nL 35.015625 72.90625 \nQ 46.296875 72.90625 52.390625 68.21875 \nQ 58.5 63.53125 58.5 54.890625 \nQ 58.5 48.1875 55.375 44.234375 \nQ 52.25 40.28125 46.1875 39.3125 \nQ 53.46875 37.75 57.5 32.78125 \nQ 61.53125 27.828125 61.53125 20.40625 \nQ 61.53125 10.640625 54.890625 5.3125 \nQ 48.25 0 35.984375 0 \nL 9.8125 0 \nz\n\" id=\"DejaVuSans-66\"/>\n     </defs>\n     <use xlink:href=\"#DejaVuSans-80\"/>\n     <use x=\"60.302734\" xlink:href=\"#DejaVuSans-108\"/>\n     <use x=\"88.085938\" xlink:href=\"#DejaVuSans-111\"/>\n     <use x=\"149.267578\" xlink:href=\"#DejaVuSans-116\"/>\n     <use x=\"188.476562\" xlink:href=\"#DejaVuSans-32\"/>\n     <use x=\"220.263672\" xlink:href=\"#DejaVuSans-115\"/>\n     <use x=\"272.363281\" xlink:href=\"#DejaVuSans-104\"/>\n     <use x=\"335.742188\" xlink:href=\"#DejaVuSans-111\"/>\n     <use x=\"396.923828\" xlink:href=\"#DejaVuSans-119\"/>\n     <use x=\"478.710938\" xlink:href=\"#DejaVuSans-32\"/>\n     <use x=\"510.498047\" xlink:href=\"#DejaVuSans-116\"/>\n     <use x=\"549.707031\" xlink:href=\"#DejaVuSans-104\"/>\n     <use x=\"613.085938\" xlink:href=\"#DejaVuSans-101\"/>\n     <use x=\"674.609375\" xlink:href=\"#DejaVuSans-32\"/>\n     <use x=\"706.396484\" xlink:href=\"#DejaVuSans-99\"/>\n     <use x=\"761.376953\" xlink:href=\"#DejaVuSans-111\"/>\n     <use x=\"822.558594\" xlink:href=\"#DejaVuSans-114\"/>\n     <use x=\"861.921875\" xlink:href=\"#DejaVuSans-114\"/>\n     <use x=\"900.785156\" xlink:href=\"#DejaVuSans-101\"/>\n     <use x=\"962.308594\" xlink:href=\"#DejaVuSans-108\"/>\n     <use x=\"990.091797\" xlink:href=\"#DejaVuSans-97\"/>\n     <use x=\"1051.371094\" xlink:href=\"#DejaVuSans-116\"/>\n     <use x=\"1090.580078\" xlink:href=\"#DejaVuSans-105\"/>\n     <use x=\"1118.363281\" xlink:href=\"#DejaVuSans-111\"/>\n     <use x=\"1179.544922\" xlink:href=\"#DejaVuSans-110\"/>\n     <use x=\"1242.923828\" xlink:href=\"#DejaVuSans-32\"/>\n     <use x=\"1274.710938\" xlink:href=\"#DejaVuSans-98\"/>\n     <use x=\"1338.1875\" xlink:href=\"#DejaVuSans-101\"/>\n     <use x=\"1399.710938\" xlink:href=\"#DejaVuSans-116\"/>\n     <use x=\"1438.919922\" xlink:href=\"#DejaVuSans-119\"/>\n     <use x=\"1520.707031\" xlink:href=\"#DejaVuSans-101\"/>\n     <use x=\"1582.230469\" xlink:href=\"#DejaVuSans-101\"/>\n     <use x=\"1643.753906\" xlink:href=\"#DejaVuSans-110\"/>\n     <use x=\"1707.132812\" xlink:href=\"#DejaVuSans-32\"/>\n     <use x=\"1738.919922\" xlink:href=\"#DejaVuSans-84\"/>\n     <use x=\"1783.003906\" xlink:href=\"#DejaVuSans-101\"/>\n     <use x=\"1844.527344\" xlink:href=\"#DejaVuSans-105\"/>\n     <use x=\"1872.310547\" xlink:href=\"#DejaVuSans-81\"/>\n     <use x=\"1951.021484\" xlink:href=\"#DejaVuSans-117\"/>\n     <use x=\"2014.400391\" xlink:href=\"#DejaVuSans-101\"/>\n     <use x=\"2075.923828\" xlink:href=\"#DejaVuSans-83\"/>\n     <use x=\"2139.400391\" xlink:href=\"#DejaVuSans-70\"/>\n     <use x=\"2196.919922\" xlink:href=\"#DejaVuSans-95\"/>\n     <use x=\"2246.919922\" xlink:href=\"#DejaVuSans-101\"/>\n     <use x=\"2308.443359\" xlink:href=\"#DejaVuSans-109\"/>\n     <use x=\"2405.855469\" xlink:href=\"#DejaVuSans-111\"/>\n     <use x=\"2467.037109\" xlink:href=\"#DejaVuSans-116\"/>\n     <use x=\"2506.246094\" xlink:href=\"#DejaVuSans-105\"/>\n     <use x=\"2534.029297\" xlink:href=\"#DejaVuSans-111\"/>\n     <use x=\"2595.210938\" xlink:href=\"#DejaVuSans-110\"/>\n     <use x=\"2658.589844\" xlink:href=\"#DejaVuSans-97\"/>\n     <use x=\"2719.869141\" xlink:href=\"#DejaVuSans-108\"/>\n     <use x=\"2747.652344\" xlink:href=\"#DejaVuSans-105\"/>\n     <use x=\"2775.435547\" xlink:href=\"#DejaVuSans-116\"/>\n     <use x=\"2814.644531\" xlink:href=\"#DejaVuSans-121\"/>\n     <use x=\"2873.824219\" xlink:href=\"#DejaVuSans-32\"/>\n     <use x=\"2905.611328\" xlink:href=\"#DejaVuSans-97\"/>\n     <use x=\"2966.890625\" xlink:href=\"#DejaVuSans-110\"/>\n     <use x=\"3030.269531\" xlink:href=\"#DejaVuSans-100\"/>\n     <use x=\"3093.746094\" xlink:href=\"#DejaVuSans-32\"/>\n     <use x=\"3125.533203\" xlink:href=\"#DejaVuSans-66\"/>\n     <use x=\"3194.136719\" xlink:href=\"#DejaVuSans-97\"/>\n     <use x=\"3255.416016\" xlink:href=\"#DejaVuSans-110\"/>\n     <use x=\"3318.794922\" xlink:href=\"#DejaVuSans-100\"/>\n     <use x=\"3382.271484\" xlink:href=\"#DejaVuSans-32\"/>\n     <use x=\"3414.058594\" xlink:href=\"#DejaVuSans-80\"/>\n     <use x=\"3470.736328\" xlink:href=\"#DejaVuSans-111\"/>\n     <use x=\"3531.917969\" xlink:href=\"#DejaVuSans-119\"/>\n     <use x=\"3613.705078\" xlink:href=\"#DejaVuSans-101\"/>\n     <use x=\"3675.228516\" xlink:href=\"#DejaVuSans-114\"/>\n    </g>\n   </g>\n  </g>\n </g>\n <defs>\n  <clipPath id=\"pdbc0fe01a8\">\n   <rect height=\"217.44\" width=\"334.8\" x=\"62.779687\" y=\"22.318125\"/>\n  </clipPath>\n </defs>\n</svg>\n",
      "image/png": "[encoded data removed]"
     },
     "metadata": {
      "needs_background": "light"
     }
    },
    {
     "output_type": "stream",
     "name": "stdout",
     "text": [
      "(0.1943686814980198, 0.48759149009752645)\n"
     ]
    }
   ],
   "source": [
    "from operator import itemgetter\n",
    "all_info = []\n",
    "x_corr = []\n",
    "y_corr = []\n",
    "for i in range(0, len(sorted_list_EO)):\n",
    "    hename = sorted_list_EO[i]\n",
    "    hename = str(hename[:-7])\n",
    "    if hename in names:\n",
    "        indices = [i for i, s in enumerate(names) if hename in s]\n",
    "        x = (float(TeiQueSF_emotionality[int(indices[0])]))\n",
    "        x_corr.append(x)\n",
    "        y = (float(pacient_beta[i]))\n",
    "        y_corr.append(y)\n",
    "        plt.scatter(x,y)\n",
    "plt.title('Plot show the correlation between TeiQueSF_emotionality and Band Power')\n",
    "plt.show()\n",
    "print(stats.pearsonr(x_corr, y_corr))"
   ]
  },
  {
   "cell_type": "code",
   "execution_count": 71,
   "metadata": {},
   "outputs": [
    {
     "output_type": "display_data",
     "data": {
      "text/plain": "<Figure size 432x288 with 1 Axes>",
      "image/svg+xml": "<?xml version=\"1.0\" encoding=\"utf-8\" standalone=\"no\"?>\n<!DOCTYPE svg PUBLIC \"-//W3C//DTD SVG 1.1//EN\"\n  \"http://www.w3.org/Graphics/SVG/1.1/DTD/svg11.dtd\">\n<!-- Created with matplotlib (https://matplotlib.org/) -->\n<svg height=\"263.63625pt\" version=\"1.1\" viewBox=\"0 0 460.359375 263.63625\" width=\"460.359375pt\" xmlns=\"http://www.w3.org/2000/svg\" xmlns:xlink=\"http://www.w3.org/1999/xlink\">\n <metadata>\n  <rdf:RDF xmlns:cc=\"http://creativecommons.org/ns#\" xmlns:dc=\"http://purl.org/dc/elements/1.1/\" xmlns:rdf=\"http://www.w3.org/1999/02/22-rdf-syntax-ns#\">\n   <cc:Work>\n    <dc:type rdf:resource=\"http://purl.org/dc/dcmitype/StillImage\"/>\n    <dc:date>2020-12-03T16:53:11.209743</dc:date>\n    <dc:format>image/svg+xml</dc:format>\n    <dc:creator>\n     <cc:Agent>\n      <dc:title>Matplotlib v3.3.1, https://matplotlib.org/</dc:title>\n     </cc:Agent>\n    </dc:creator>\n   </cc:Work>\n  </rdf:RDF>\n </metadata>\n <defs>\n  <style type=\"text/css\">*{stroke-linecap:butt;stroke-linejoin:round;}</style>\n </defs>\n <g id=\"figure_1\">\n  <g id=\"patch_1\">\n   <path d=\"M 0 263.63625 \nL 460.359375 263.63625 \nL 460.359375 0 \nL 0 0 \nz\n\" style=\"fill:none;\"/>\n  </g>\n  <g id=\"axes_1\">\n   <g id=\"patch_2\">\n    <path d=\"M 62.779687 239.758125 \nL 397.579687 239.758125 \nL 397.579687 22.318125 \nL 62.779687 22.318125 \nz\n\" style=\"fill:#ffffff;\"/>\n   </g>\n   <g id=\"PathCollection_1\">\n    <defs>\n     <path d=\"M 0 3 \nC 0.795609 3 1.55874 2.683901 2.12132 2.12132 \nC 2.683901 1.55874 3 0.795609 3 0 \nC 3 -0.795609 2.683901 -1.55874 2.12132 -2.12132 \nC 1.55874 -2.683901 0.795609 -3 0 -3 \nC -0.795609 -3 -1.55874 -2.683901 -2.12132 -2.12132 \nC -2.683901 -1.55874 -3 -0.795609 -3 0 \nC -3 0.795609 -2.683901 1.55874 -2.12132 2.12132 \nC -1.55874 2.683901 -0.795609 3 0 3 \nz\n\" id=\"mc978ed867a\" style=\"stroke:#1f77b4;\"/>\n    </defs>\n    <g clip-path=\"url(#p8e3edbd9eb)\">\n     <use style=\"fill:#1f77b4;stroke:#1f77b4;\" x=\"323.452415\" xlink:href=\"#mc978ed867a\" y=\"32.201761\"/>\n    </g>\n   </g>\n   <g id=\"PathCollection_2\">\n    <defs>\n     <path d=\"M 0 3 \nC 0.795609 3 1.55874 2.683901 2.12132 2.12132 \nC 2.683901 1.55874 3 0.795609 3 0 \nC 3 -0.795609 2.683901 -1.55874 2.12132 -2.12132 \nC 1.55874 -2.683901 0.795609 -3 0 -3 \nC -0.795609 -3 -1.55874 -2.683901 -2.12132 -2.12132 \nC -2.683901 -1.55874 -3 -0.795609 -3 0 \nC -3 0.795609 -2.683901 1.55874 -2.12132 2.12132 \nC -1.55874 2.683901 -0.795609 3 0 3 \nz\n\" id=\"m9694fa69ea\" style=\"stroke:#ff7f0e;\"/>\n    </defs>\n    <g clip-path=\"url(#p8e3edbd9eb)\">\n     <use style=\"fill:#ff7f0e;stroke:#ff7f0e;\" x=\"254.725142\" xlink:href=\"#m9694fa69ea\" y=\"229.874489\"/>\n    </g>\n   </g>\n   <g id=\"PathCollection_3\">\n    <defs>\n     <path d=\"M 0 3 \nC 0.795609 3 1.55874 2.683901 2.12132 2.12132 \nC 2.683901 1.55874 3 0.795609 3 0 \nC 3 -0.795609 2.683901 -1.55874 2.12132 -2.12132 \nC 1.55874 -2.683901 0.795609 -3 0 -3 \nC -0.795609 -3 -1.55874 -2.683901 -2.12132 -2.12132 \nC -2.683901 -1.55874 -3 -0.795609 -3 0 \nC -3 0.795609 -2.683901 1.55874 -2.12132 2.12132 \nC -1.55874 2.683901 -0.795609 3 0 3 \nz\n\" id=\"m7866926e65\" style=\"stroke:#2ca02c;\"/>\n    </defs>\n    <g clip-path=\"url(#p8e3edbd9eb)\">\n     <use style=\"fill:#2ca02c;stroke:#2ca02c;\" x=\"303.816051\" xlink:href=\"#m7866926e65\" y=\"176.228265\"/>\n    </g>\n   </g>\n   <g id=\"PathCollection_4\">\n    <defs>\n     <path d=\"M 0 3 \nC 0.795609 3 1.55874 2.683901 2.12132 2.12132 \nC 2.683901 1.55874 3 0.795609 3 0 \nC 3 -0.795609 2.683901 -1.55874 2.12132 -2.12132 \nC 1.55874 -2.683901 0.795609 -3 0 -3 \nC -0.795609 -3 -1.55874 -2.683901 -2.12132 -2.12132 \nC -2.683901 -1.55874 -3 -0.795609 -3 0 \nC -3 0.795609 -2.683901 1.55874 -2.12132 2.12132 \nC -1.55874 2.683901 -0.795609 3 0 3 \nz\n\" id=\"m025adb2b2e\" style=\"stroke:#d62728;\"/>\n    </defs>\n    <g clip-path=\"url(#p8e3edbd9eb)\">\n     <use style=\"fill:#d62728;stroke:#d62728;\" x=\"382.361506\" xlink:href=\"#m025adb2b2e\" y=\"198.301667\"/>\n    </g>\n   </g>\n   <g id=\"PathCollection_5\">\n    <defs>\n     <path d=\"M 0 3 \nC 0.795609 3 1.55874 2.683901 2.12132 2.12132 \nC 2.683901 1.55874 3 0.795609 3 0 \nC 3 -0.795609 2.683901 -1.55874 2.12132 -2.12132 \nC 1.55874 -2.683901 0.795609 -3 0 -3 \nC -0.795609 -3 -1.55874 -2.683901 -2.12132 -2.12132 \nC -2.683901 -1.55874 -3 -0.795609 -3 0 \nC -3 0.795609 -2.683901 1.55874 -2.12132 2.12132 \nC -1.55874 2.683901 -0.795609 3 0 3 \nz\n\" id=\"me621f8ac0b\" style=\"stroke:#9467bd;\"/>\n    </defs>\n    <g clip-path=\"url(#p8e3edbd9eb)\">\n     <use style=\"fill:#9467bd;stroke:#9467bd;\" x=\"274.361506\" xlink:href=\"#me621f8ac0b\" y=\"161.10712\"/>\n    </g>\n   </g>\n   <g id=\"PathCollection_6\">\n    <defs>\n     <path d=\"M 0 3 \nC 0.795609 3 1.55874 2.683901 2.12132 2.12132 \nC 2.683901 1.55874 3 0.795609 3 0 \nC 3 -0.795609 2.683901 -1.55874 2.12132 -2.12132 \nC 1.55874 -2.683901 0.795609 -3 0 -3 \nC -0.795609 -3 -1.55874 -2.683901 -2.12132 -2.12132 \nC -2.683901 -1.55874 -3 -0.795609 -3 0 \nC -3 0.795609 -2.683901 1.55874 -2.12132 2.12132 \nC -1.55874 2.683901 -0.795609 3 0 3 \nz\n\" id=\"ma54953a731\" style=\"stroke:#8c564b;\"/>\n    </defs>\n    <g clip-path=\"url(#p8e3edbd9eb)\">\n     <use style=\"fill:#8c564b;stroke:#8c564b;\" x=\"176.179688\" xlink:href=\"#ma54953a731\" y=\"148.080562\"/>\n    </g>\n   </g>\n   <g id=\"PathCollection_7\">\n    <defs>\n     <path d=\"M 0 3 \nC 0.795609 3 1.55874 2.683901 2.12132 2.12132 \nC 2.683901 1.55874 3 0.795609 3 0 \nC 3 -0.795609 2.683901 -1.55874 2.12132 -2.12132 \nC 1.55874 -2.683901 0.795609 -3 0 -3 \nC -0.795609 -3 -1.55874 -2.683901 -2.12132 -2.12132 \nC -2.683901 -1.55874 -3 -0.795609 -3 0 \nC -3 0.795609 -2.683901 1.55874 -2.12132 2.12132 \nC -1.55874 2.683901 -0.795609 3 0 3 \nz\n\" id=\"m0b68ef07d4\" style=\"stroke:#e377c2;\"/>\n    </defs>\n    <g clip-path=\"url(#p8e3edbd9eb)\">\n     <use style=\"fill:#e377c2;stroke:#e377c2;\" x=\"127.088778\" xlink:href=\"#m0b68ef07d4\" y=\"145.606604\"/>\n    </g>\n   </g>\n   <g id=\"PathCollection_8\">\n    <defs>\n     <path d=\"M 0 3 \nC 0.795609 3 1.55874 2.683901 2.12132 2.12132 \nC 2.683901 1.55874 3 0.795609 3 0 \nC 3 -0.795609 2.683901 -1.55874 2.12132 -2.12132 \nC 1.55874 -2.683901 0.795609 -3 0 -3 \nC -0.795609 -3 -1.55874 -2.683901 -2.12132 -2.12132 \nC -2.683901 -1.55874 -3 -0.795609 -3 0 \nC -3 0.795609 -2.683901 1.55874 -2.12132 2.12132 \nC -1.55874 2.683901 -0.795609 3 0 3 \nz\n\" id=\"m53ab6a1007\" style=\"stroke:#7f7f7f;\"/>\n    </defs>\n    <g clip-path=\"url(#p8e3edbd9eb)\">\n     <use style=\"fill:#7f7f7f;stroke:#7f7f7f;\" x=\"244.90696\" xlink:href=\"#m53ab6a1007\" y=\"84.703332\"/>\n    </g>\n   </g>\n   <g id=\"PathCollection_9\">\n    <defs>\n     <path d=\"M 0 3 \nC 0.795609 3 1.55874 2.683901 2.12132 2.12132 \nC 2.683901 1.55874 3 0.795609 3 0 \nC 3 -0.795609 2.683901 -1.55874 2.12132 -2.12132 \nC 1.55874 -2.683901 0.795609 -3 0 -3 \nC -0.795609 -3 -1.55874 -2.683901 -2.12132 -2.12132 \nC -2.683901 -1.55874 -3 -0.795609 -3 0 \nC -3 0.795609 -2.683901 1.55874 -2.12132 2.12132 \nC -1.55874 2.683901 -0.795609 3 0 3 \nz\n\" id=\"m20f426a723\" style=\"stroke:#bcbd22;\"/>\n    </defs>\n    <g clip-path=\"url(#p8e3edbd9eb)\">\n     <use style=\"fill:#bcbd22;stroke:#bcbd22;\" x=\"343.088778\" xlink:href=\"#m20f426a723\" y=\"96.325729\"/>\n    </g>\n   </g>\n   <g id=\"PathCollection_10\">\n    <defs>\n     <path d=\"M 0 3 \nC 0.795609 3 1.55874 2.683901 2.12132 2.12132 \nC 2.683901 1.55874 3 0.795609 3 0 \nC 3 -0.795609 2.683901 -1.55874 2.12132 -2.12132 \nC 1.55874 -2.683901 0.795609 -3 0 -3 \nC -0.795609 -3 -1.55874 -2.683901 -2.12132 -2.12132 \nC -2.683901 -1.55874 -3 -0.795609 -3 0 \nC -3 0.795609 -2.683901 1.55874 -2.12132 2.12132 \nC -1.55874 2.683901 -0.795609 3 0 3 \nz\n\" id=\"mf920540da1\" style=\"stroke:#17becf;\"/>\n    </defs>\n    <g clip-path=\"url(#p8e3edbd9eb)\">\n     <use style=\"fill:#17becf;stroke:#17becf;\" x=\"244.90696\" xlink:href=\"#mf920540da1\" y=\"144.063152\"/>\n    </g>\n   </g>\n   <g id=\"PathCollection_11\">\n    <g clip-path=\"url(#p8e3edbd9eb)\">\n     <use style=\"fill:#1f77b4;stroke:#1f77b4;\" x=\"323.452415\" xlink:href=\"#mc978ed867a\" y=\"150.381859\"/>\n    </g>\n   </g>\n   <g id=\"PathCollection_12\">\n    <g clip-path=\"url(#p8e3edbd9eb)\">\n     <use style=\"fill:#ff7f0e;stroke:#ff7f0e;\" x=\"244.90696\" xlink:href=\"#m9694fa69ea\" y=\"220.601641\"/>\n    </g>\n   </g>\n   <g id=\"PathCollection_13\">\n    <g clip-path=\"url(#p8e3edbd9eb)\">\n     <use style=\"fill:#2ca02c;stroke:#2ca02c;\" x=\"254.725142\" xlink:href=\"#m7866926e65\" y=\"138.448168\"/>\n    </g>\n   </g>\n   <g id=\"PathCollection_14\">\n    <g clip-path=\"url(#p8e3edbd9eb)\">\n     <use style=\"fill:#d62728;stroke:#d62728;\" x=\"77.997869\" xlink:href=\"#m025adb2b2e\" y=\"180.803722\"/>\n    </g>\n   </g>\n   <g id=\"PathCollection_15\">\n    <g clip-path=\"url(#p8e3edbd9eb)\">\n     <use style=\"fill:#9467bd;stroke:#9467bd;\" x=\"195.816051\" xlink:href=\"#me621f8ac0b\" y=\"156.720387\"/>\n    </g>\n   </g>\n   <g id=\"matplotlib.axis_1\">\n    <g id=\"xtick_1\">\n     <g id=\"line2d_1\">\n      <defs>\n       <path d=\"M 0 0 \nL 0 3.5 \n\" id=\"m4cdb9189d8\" style=\"stroke:#000000;stroke-width:0.8;\"/>\n      </defs>\n      <g>\n       <use style=\"stroke:#000000;stroke-width:0.8;\" x=\"97.634233\" xlink:href=\"#m4cdb9189d8\" y=\"239.758125\"/>\n      </g>\n     </g>\n     <g id=\"text_1\">\n      <!-- 3.0 -->\n      <g transform=\"translate(89.68267 254.356563)scale(0.1 -0.1)\">\n       <defs>\n        <path d=\"M 40.578125 39.3125 \nQ 47.65625 37.796875 51.625 33 \nQ 55.609375 28.21875 55.609375 21.1875 \nQ 55.609375 10.40625 48.1875 4.484375 \nQ 40.765625 -1.421875 27.09375 -1.421875 \nQ 22.515625 -1.421875 17.65625 -0.515625 \nQ 12.796875 0.390625 7.625 2.203125 \nL 7.625 11.71875 \nQ 11.71875 9.328125 16.59375 8.109375 \nQ 21.484375 6.890625 26.8125 6.890625 \nQ 36.078125 6.890625 40.9375 10.546875 \nQ 45.796875 14.203125 45.796875 21.1875 \nQ 45.796875 27.640625 41.28125 31.265625 \nQ 36.765625 34.90625 28.71875 34.90625 \nL 20.21875 34.90625 \nL 20.21875 43.015625 \nL 29.109375 43.015625 \nQ 36.375 43.015625 40.234375 45.921875 \nQ 44.09375 48.828125 44.09375 54.296875 \nQ 44.09375 59.90625 40.109375 62.90625 \nQ 36.140625 65.921875 28.71875 65.921875 \nQ 24.65625 65.921875 20.015625 65.03125 \nQ 15.375 64.15625 9.8125 62.3125 \nL 9.8125 71.09375 \nQ 15.4375 72.65625 20.34375 73.4375 \nQ 25.25 74.21875 29.59375 74.21875 \nQ 40.828125 74.21875 47.359375 69.109375 \nQ 53.90625 64.015625 53.90625 55.328125 \nQ 53.90625 49.265625 50.4375 45.09375 \nQ 46.96875 40.921875 40.578125 39.3125 \nz\n\" id=\"DejaVuSans-51\"/>\n        <path d=\"M 10.6875 12.40625 \nL 21 12.40625 \nL 21 0 \nL 10.6875 0 \nz\n\" id=\"DejaVuSans-46\"/>\n        <path d=\"M 31.78125 66.40625 \nQ 24.171875 66.40625 20.328125 58.90625 \nQ 16.5 51.421875 16.5 36.375 \nQ 16.5 21.390625 20.328125 13.890625 \nQ 24.171875 6.390625 31.78125 6.390625 \nQ 39.453125 6.390625 43.28125 13.890625 \nQ 47.125 21.390625 47.125 36.375 \nQ 47.125 51.421875 43.28125 58.90625 \nQ 39.453125 66.40625 31.78125 66.40625 \nz\nM 31.78125 74.21875 \nQ 44.046875 74.21875 50.515625 64.515625 \nQ 56.984375 54.828125 56.984375 36.375 \nQ 56.984375 17.96875 50.515625 8.265625 \nQ 44.046875 -1.421875 31.78125 -1.421875 \nQ 19.53125 -1.421875 13.0625 8.265625 \nQ 6.59375 17.96875 6.59375 36.375 \nQ 6.59375 54.828125 13.0625 64.515625 \nQ 19.53125 74.21875 31.78125 74.21875 \nz\n\" id=\"DejaVuSans-48\"/>\n       </defs>\n       <use xlink:href=\"#DejaVuSans-51\"/>\n       <use x=\"63.623047\" xlink:href=\"#DejaVuSans-46\"/>\n       <use x=\"95.410156\" xlink:href=\"#DejaVuSans-48\"/>\n      </g>\n     </g>\n    </g>\n    <g id=\"xtick_2\">\n     <g id=\"line2d_2\">\n      <g>\n       <use style=\"stroke:#000000;stroke-width:0.8;\" x=\"136.90696\" xlink:href=\"#m4cdb9189d8\" y=\"239.758125\"/>\n      </g>\n     </g>\n     <g id=\"text_2\">\n      <!-- 3.5 -->\n      <g transform=\"translate(128.955398 254.356563)scale(0.1 -0.1)\">\n       <defs>\n        <path d=\"M 10.796875 72.90625 \nL 49.515625 72.90625 \nL 49.515625 64.59375 \nL 19.828125 64.59375 \nL 19.828125 46.734375 \nQ 21.96875 47.46875 24.109375 47.828125 \nQ 26.265625 48.1875 28.421875 48.1875 \nQ 40.625 48.1875 47.75 41.5 \nQ 54.890625 34.8125 54.890625 23.390625 \nQ 54.890625 11.625 47.5625 5.09375 \nQ 40.234375 -1.421875 26.90625 -1.421875 \nQ 22.3125 -1.421875 17.546875 -0.640625 \nQ 12.796875 0.140625 7.71875 1.703125 \nL 7.71875 11.625 \nQ 12.109375 9.234375 16.796875 8.0625 \nQ 21.484375 6.890625 26.703125 6.890625 \nQ 35.15625 6.890625 40.078125 11.328125 \nQ 45.015625 15.765625 45.015625 23.390625 \nQ 45.015625 31 40.078125 35.4375 \nQ 35.15625 39.890625 26.703125 39.890625 \nQ 22.75 39.890625 18.8125 39.015625 \nQ 14.890625 38.140625 10.796875 36.28125 \nz\n\" id=\"DejaVuSans-53\"/>\n       </defs>\n       <use xlink:href=\"#DejaVuSans-51\"/>\n       <use x=\"63.623047\" xlink:href=\"#DejaVuSans-46\"/>\n       <use x=\"95.410156\" xlink:href=\"#DejaVuSans-53\"/>\n      </g>\n     </g>\n    </g>\n    <g id=\"xtick_3\">\n     <g id=\"line2d_3\">\n      <g>\n       <use style=\"stroke:#000000;stroke-width:0.8;\" x=\"176.179688\" xlink:href=\"#m4cdb9189d8\" y=\"239.758125\"/>\n      </g>\n     </g>\n     <g id=\"text_3\">\n      <!-- 4.0 -->\n      <g transform=\"translate(168.228125 254.356563)scale(0.1 -0.1)\">\n       <defs>\n        <path d=\"M 37.796875 64.3125 \nL 12.890625 25.390625 \nL 37.796875 25.390625 \nz\nM 35.203125 72.90625 \nL 47.609375 72.90625 \nL 47.609375 25.390625 \nL 58.015625 25.390625 \nL 58.015625 17.1875 \nL 47.609375 17.1875 \nL 47.609375 0 \nL 37.796875 0 \nL 37.796875 17.1875 \nL 4.890625 17.1875 \nL 4.890625 26.703125 \nz\n\" id=\"DejaVuSans-52\"/>\n       </defs>\n       <use xlink:href=\"#DejaVuSans-52\"/>\n       <use x=\"63.623047\" xlink:href=\"#DejaVuSans-46\"/>\n       <use x=\"95.410156\" xlink:href=\"#DejaVuSans-48\"/>\n      </g>\n     </g>\n    </g>\n    <g id=\"xtick_4\">\n     <g id=\"line2d_4\">\n      <g>\n       <use style=\"stroke:#000000;stroke-width:0.8;\" x=\"215.452415\" xlink:href=\"#m4cdb9189d8\" y=\"239.758125\"/>\n      </g>\n     </g>\n     <g id=\"text_4\">\n      <!-- 4.5 -->\n      <g transform=\"translate(207.500852 254.356563)scale(0.1 -0.1)\">\n       <use xlink:href=\"#DejaVuSans-52\"/>\n       <use x=\"63.623047\" xlink:href=\"#DejaVuSans-46\"/>\n       <use x=\"95.410156\" xlink:href=\"#DejaVuSans-53\"/>\n      </g>\n     </g>\n    </g>\n    <g id=\"xtick_5\">\n     <g id=\"line2d_5\">\n      <g>\n       <use style=\"stroke:#000000;stroke-width:0.8;\" x=\"254.725142\" xlink:href=\"#m4cdb9189d8\" y=\"239.758125\"/>\n      </g>\n     </g>\n     <g id=\"text_5\">\n      <!-- 5.0 -->\n      <g transform=\"translate(246.77358 254.356563)scale(0.1 -0.1)\">\n       <use xlink:href=\"#DejaVuSans-53\"/>\n       <use x=\"63.623047\" xlink:href=\"#DejaVuSans-46\"/>\n       <use x=\"95.410156\" xlink:href=\"#DejaVuSans-48\"/>\n      </g>\n     </g>\n    </g>\n    <g id=\"xtick_6\">\n     <g id=\"line2d_6\">\n      <g>\n       <use style=\"stroke:#000000;stroke-width:0.8;\" x=\"293.997869\" xlink:href=\"#m4cdb9189d8\" y=\"239.758125\"/>\n      </g>\n     </g>\n     <g id=\"text_6\">\n      <!-- 5.5 -->\n      <g transform=\"translate(286.046307 254.356563)scale(0.1 -0.1)\">\n       <use xlink:href=\"#DejaVuSans-53\"/>\n       <use x=\"63.623047\" xlink:href=\"#DejaVuSans-46\"/>\n       <use x=\"95.410156\" xlink:href=\"#DejaVuSans-53\"/>\n      </g>\n     </g>\n    </g>\n    <g id=\"xtick_7\">\n     <g id=\"line2d_7\">\n      <g>\n       <use style=\"stroke:#000000;stroke-width:0.8;\" x=\"333.270597\" xlink:href=\"#m4cdb9189d8\" y=\"239.758125\"/>\n      </g>\n     </g>\n     <g id=\"text_7\">\n      <!-- 6.0 -->\n      <g transform=\"translate(325.319034 254.356563)scale(0.1 -0.1)\">\n       <defs>\n        <path d=\"M 33.015625 40.375 \nQ 26.375 40.375 22.484375 35.828125 \nQ 18.609375 31.296875 18.609375 23.390625 \nQ 18.609375 15.53125 22.484375 10.953125 \nQ 26.375 6.390625 33.015625 6.390625 \nQ 39.65625 6.390625 43.53125 10.953125 \nQ 47.40625 15.53125 47.40625 23.390625 \nQ 47.40625 31.296875 43.53125 35.828125 \nQ 39.65625 40.375 33.015625 40.375 \nz\nM 52.59375 71.296875 \nL 52.59375 62.3125 \nQ 48.875 64.0625 45.09375 64.984375 \nQ 41.3125 65.921875 37.59375 65.921875 \nQ 27.828125 65.921875 22.671875 59.328125 \nQ 17.53125 52.734375 16.796875 39.40625 \nQ 19.671875 43.65625 24.015625 45.921875 \nQ 28.375 48.1875 33.59375 48.1875 \nQ 44.578125 48.1875 50.953125 41.515625 \nQ 57.328125 34.859375 57.328125 23.390625 \nQ 57.328125 12.15625 50.6875 5.359375 \nQ 44.046875 -1.421875 33.015625 -1.421875 \nQ 20.359375 -1.421875 13.671875 8.265625 \nQ 6.984375 17.96875 6.984375 36.375 \nQ 6.984375 53.65625 15.1875 63.9375 \nQ 23.390625 74.21875 37.203125 74.21875 \nQ 40.921875 74.21875 44.703125 73.484375 \nQ 48.484375 72.75 52.59375 71.296875 \nz\n\" id=\"DejaVuSans-54\"/>\n       </defs>\n       <use xlink:href=\"#DejaVuSans-54\"/>\n       <use x=\"63.623047\" xlink:href=\"#DejaVuSans-46\"/>\n       <use x=\"95.410156\" xlink:href=\"#DejaVuSans-48\"/>\n      </g>\n     </g>\n    </g>\n    <g id=\"xtick_8\">\n     <g id=\"line2d_8\">\n      <g>\n       <use style=\"stroke:#000000;stroke-width:0.8;\" x=\"372.543324\" xlink:href=\"#m4cdb9189d8\" y=\"239.758125\"/>\n      </g>\n     </g>\n     <g id=\"text_8\">\n      <!-- 6.5 -->\n      <g transform=\"translate(364.591761 254.356563)scale(0.1 -0.1)\">\n       <use xlink:href=\"#DejaVuSans-54\"/>\n       <use x=\"63.623047\" xlink:href=\"#DejaVuSans-46\"/>\n       <use x=\"95.410156\" xlink:href=\"#DejaVuSans-53\"/>\n      </g>\n     </g>\n    </g>\n   </g>\n   <g id=\"matplotlib.axis_2\">\n    <g id=\"ytick_1\">\n     <g id=\"line2d_9\">\n      <defs>\n       <path d=\"M 0 0 \nL -3.5 0 \n\" id=\"m15fce4f0ff\" style=\"stroke:#000000;stroke-width:0.8;\"/>\n      </defs>\n      <g>\n       <use style=\"stroke:#000000;stroke-width:0.8;\" x=\"62.779687\" xlink:href=\"#m15fce4f0ff\" y=\"212.418495\"/>\n      </g>\n     </g>\n     <g id=\"text_9\">\n      <!-- 0.20 -->\n      <g transform=\"translate(33.514062 216.217714)scale(0.1 -0.1)\">\n       <defs>\n        <path d=\"M 19.1875 8.296875 \nL 53.609375 8.296875 \nL 53.609375 0 \nL 7.328125 0 \nL 7.328125 8.296875 \nQ 12.9375 14.109375 22.625 23.890625 \nQ 32.328125 33.6875 34.8125 36.53125 \nQ 39.546875 41.84375 41.421875 45.53125 \nQ 43.3125 49.21875 43.3125 52.78125 \nQ 43.3125 58.59375 39.234375 62.25 \nQ 35.15625 65.921875 28.609375 65.921875 \nQ 23.96875 65.921875 18.8125 64.3125 \nQ 13.671875 62.703125 7.8125 59.421875 \nL 7.8125 69.390625 \nQ 13.765625 71.78125 18.9375 73 \nQ 24.125 74.21875 28.421875 74.21875 \nQ 39.75 74.21875 46.484375 68.546875 \nQ 53.21875 62.890625 53.21875 53.421875 \nQ 53.21875 48.921875 51.53125 44.890625 \nQ 49.859375 40.875 45.40625 35.40625 \nQ 44.1875 33.984375 37.640625 27.21875 \nQ 31.109375 20.453125 19.1875 8.296875 \nz\n\" id=\"DejaVuSans-50\"/>\n       </defs>\n       <use xlink:href=\"#DejaVuSans-48\"/>\n       <use x=\"63.623047\" xlink:href=\"#DejaVuSans-46\"/>\n       <use x=\"95.410156\" xlink:href=\"#DejaVuSans-50\"/>\n       <use x=\"159.033203\" xlink:href=\"#DejaVuSans-48\"/>\n      </g>\n     </g>\n    </g>\n    <g id=\"ytick_2\">\n     <g id=\"line2d_10\">\n      <g>\n       <use style=\"stroke:#000000;stroke-width:0.8;\" x=\"62.779687\" xlink:href=\"#m15fce4f0ff\" y=\"172.479241\"/>\n      </g>\n     </g>\n     <g id=\"text_10\">\n      <!-- 0.25 -->\n      <g transform=\"translate(33.514062 176.27846)scale(0.1 -0.1)\">\n       <use xlink:href=\"#DejaVuSans-48\"/>\n       <use x=\"63.623047\" xlink:href=\"#DejaVuSans-46\"/>\n       <use x=\"95.410156\" xlink:href=\"#DejaVuSans-50\"/>\n       <use x=\"159.033203\" xlink:href=\"#DejaVuSans-53\"/>\n      </g>\n     </g>\n    </g>\n    <g id=\"ytick_3\">\n     <g id=\"line2d_11\">\n      <g>\n       <use style=\"stroke:#000000;stroke-width:0.8;\" x=\"62.779687\" xlink:href=\"#m15fce4f0ff\" y=\"132.539988\"/>\n      </g>\n     </g>\n     <g id=\"text_11\">\n      <!-- 0.30 -->\n      <g transform=\"translate(33.514062 136.339206)scale(0.1 -0.1)\">\n       <use xlink:href=\"#DejaVuSans-48\"/>\n       <use x=\"63.623047\" xlink:href=\"#DejaVuSans-46\"/>\n       <use x=\"95.410156\" xlink:href=\"#DejaVuSans-51\"/>\n       <use x=\"159.033203\" xlink:href=\"#DejaVuSans-48\"/>\n      </g>\n     </g>\n    </g>\n    <g id=\"ytick_4\">\n     <g id=\"line2d_12\">\n      <g>\n       <use style=\"stroke:#000000;stroke-width:0.8;\" x=\"62.779687\" xlink:href=\"#m15fce4f0ff\" y=\"92.600734\"/>\n      </g>\n     </g>\n     <g id=\"text_12\">\n      <!-- 0.35 -->\n      <g transform=\"translate(33.514062 96.399953)scale(0.1 -0.1)\">\n       <use xlink:href=\"#DejaVuSans-48\"/>\n       <use x=\"63.623047\" xlink:href=\"#DejaVuSans-46\"/>\n       <use x=\"95.410156\" xlink:href=\"#DejaVuSans-51\"/>\n       <use x=\"159.033203\" xlink:href=\"#DejaVuSans-53\"/>\n      </g>\n     </g>\n    </g>\n    <g id=\"ytick_5\">\n     <g id=\"line2d_13\">\n      <g>\n       <use style=\"stroke:#000000;stroke-width:0.8;\" x=\"62.779687\" xlink:href=\"#m15fce4f0ff\" y=\"52.66148\"/>\n      </g>\n     </g>\n     <g id=\"text_13\">\n      <!-- 0.40 -->\n      <g transform=\"translate(33.514062 56.460699)scale(0.1 -0.1)\">\n       <use xlink:href=\"#DejaVuSans-48\"/>\n       <use x=\"63.623047\" xlink:href=\"#DejaVuSans-46\"/>\n       <use x=\"95.410156\" xlink:href=\"#DejaVuSans-52\"/>\n       <use x=\"159.033203\" xlink:href=\"#DejaVuSans-48\"/>\n      </g>\n     </g>\n    </g>\n   </g>\n   <g id=\"patch_3\">\n    <path d=\"M 62.779687 239.758125 \nL 62.779687 22.318125 \n\" style=\"fill:none;stroke:#000000;stroke-linecap:square;stroke-linejoin:miter;stroke-width:0.8;\"/>\n   </g>\n   <g id=\"patch_4\">\n    <path d=\"M 397.579687 239.758125 \nL 397.579687 22.318125 \n\" style=\"fill:none;stroke:#000000;stroke-linecap:square;stroke-linejoin:miter;stroke-width:0.8;\"/>\n   </g>\n   <g id=\"patch_5\">\n    <path d=\"M 62.779687 239.758125 \nL 397.579687 239.758125 \n\" style=\"fill:none;stroke:#000000;stroke-linecap:square;stroke-linejoin:miter;stroke-width:0.8;\"/>\n   </g>\n   <g id=\"patch_6\">\n    <path d=\"M 62.779687 22.318125 \nL 397.579687 22.318125 \n\" style=\"fill:none;stroke:#000000;stroke-linecap:square;stroke-linejoin:miter;stroke-width:0.8;\"/>\n   </g>\n   <g id=\"text_14\">\n    <!-- Plot show the correlation between TeiQueSF_emotionality and Band Power -->\n    <g transform=\"translate(7.2 16.318125)scale(0.12 -0.12)\">\n     <defs>\n      <path d=\"M 19.671875 64.796875 \nL 19.671875 37.40625 \nL 32.078125 37.40625 \nQ 38.96875 37.40625 42.71875 40.96875 \nQ 46.484375 44.53125 46.484375 51.125 \nQ 46.484375 57.671875 42.71875 61.234375 \nQ 38.96875 64.796875 32.078125 64.796875 \nz\nM 9.8125 72.90625 \nL 32.078125 72.90625 \nQ 44.34375 72.90625 50.609375 67.359375 \nQ 56.890625 61.8125 56.890625 51.125 \nQ 56.890625 40.328125 50.609375 34.8125 \nQ 44.34375 29.296875 32.078125 29.296875 \nL 19.671875 29.296875 \nL 19.671875 0 \nL 9.8125 0 \nz\n\" id=\"DejaVuSans-80\"/>\n      <path d=\"M 9.421875 75.984375 \nL 18.40625 75.984375 \nL 18.40625 0 \nL 9.421875 0 \nz\n\" id=\"DejaVuSans-108\"/>\n      <path d=\"M 30.609375 48.390625 \nQ 23.390625 48.390625 19.1875 42.75 \nQ 14.984375 37.109375 14.984375 27.296875 \nQ 14.984375 17.484375 19.15625 11.84375 \nQ 23.34375 6.203125 30.609375 6.203125 \nQ 37.796875 6.203125 41.984375 11.859375 \nQ 46.1875 17.53125 46.1875 27.296875 \nQ 46.1875 37.015625 41.984375 42.703125 \nQ 37.796875 48.390625 30.609375 48.390625 \nz\nM 30.609375 56 \nQ 42.328125 56 49.015625 48.375 \nQ 55.71875 40.765625 55.71875 27.296875 \nQ 55.71875 13.875 49.015625 6.21875 \nQ 42.328125 -1.421875 30.609375 -1.421875 \nQ 18.84375 -1.421875 12.171875 6.21875 \nQ 5.515625 13.875 5.515625 27.296875 \nQ 5.515625 40.765625 12.171875 48.375 \nQ 18.84375 56 30.609375 56 \nz\n\" id=\"DejaVuSans-111\"/>\n      <path d=\"M 18.3125 70.21875 \nL 18.3125 54.6875 \nL 36.8125 54.6875 \nL 36.8125 47.703125 \nL 18.3125 47.703125 \nL 18.3125 18.015625 \nQ 18.3125 11.328125 20.140625 9.421875 \nQ 21.96875 7.515625 27.59375 7.515625 \nL 36.8125 7.515625 \nL 36.8125 0 \nL 27.59375 0 \nQ 17.1875 0 13.234375 3.875 \nQ 9.28125 7.765625 9.28125 18.015625 \nL 9.28125 47.703125 \nL 2.6875 47.703125 \nL 2.6875 54.6875 \nL 9.28125 54.6875 \nL 9.28125 70.21875 \nz\n\" id=\"DejaVuSans-116\"/>\n      <path id=\"DejaVuSans-32\"/>\n      <path d=\"M 44.28125 53.078125 \nL 44.28125 44.578125 \nQ 40.484375 46.53125 36.375 47.5 \nQ 32.28125 48.484375 27.875 48.484375 \nQ 21.1875 48.484375 17.84375 46.4375 \nQ 14.5 44.390625 14.5 40.28125 \nQ 14.5 37.15625 16.890625 35.375 \nQ 19.28125 33.59375 26.515625 31.984375 \nL 29.59375 31.296875 \nQ 39.15625 29.25 43.1875 25.515625 \nQ 47.21875 21.78125 47.21875 15.09375 \nQ 47.21875 7.46875 41.1875 3.015625 \nQ 35.15625 -1.421875 24.609375 -1.421875 \nQ 20.21875 -1.421875 15.453125 -0.5625 \nQ 10.6875 0.296875 5.421875 2 \nL 5.421875 11.28125 \nQ 10.40625 8.6875 15.234375 7.390625 \nQ 20.0625 6.109375 24.8125 6.109375 \nQ 31.15625 6.109375 34.5625 8.28125 \nQ 37.984375 10.453125 37.984375 14.40625 \nQ 37.984375 18.0625 35.515625 20.015625 \nQ 33.0625 21.96875 24.703125 23.78125 \nL 21.578125 24.515625 \nQ 13.234375 26.265625 9.515625 29.90625 \nQ 5.8125 33.546875 5.8125 39.890625 \nQ 5.8125 47.609375 11.28125 51.796875 \nQ 16.75 56 26.8125 56 \nQ 31.78125 56 36.171875 55.265625 \nQ 40.578125 54.546875 44.28125 53.078125 \nz\n\" id=\"DejaVuSans-115\"/>\n      <path d=\"M 54.890625 33.015625 \nL 54.890625 0 \nL 45.90625 0 \nL 45.90625 32.71875 \nQ 45.90625 40.484375 42.875 44.328125 \nQ 39.84375 48.1875 33.796875 48.1875 \nQ 26.515625 48.1875 22.3125 43.546875 \nQ 18.109375 38.921875 18.109375 30.90625 \nL 18.109375 0 \nL 9.078125 0 \nL 9.078125 75.984375 \nL 18.109375 75.984375 \nL 18.109375 46.1875 \nQ 21.34375 51.125 25.703125 53.5625 \nQ 30.078125 56 35.796875 56 \nQ 45.21875 56 50.046875 50.171875 \nQ 54.890625 44.34375 54.890625 33.015625 \nz\n\" id=\"DejaVuSans-104\"/>\n      <path d=\"M 4.203125 54.6875 \nL 13.1875 54.6875 \nL 24.421875 12.015625 \nL 35.59375 54.6875 \nL 46.1875 54.6875 \nL 57.421875 12.015625 \nL 68.609375 54.6875 \nL 77.59375 54.6875 \nL 63.28125 0 \nL 52.6875 0 \nL 40.921875 44.828125 \nL 29.109375 0 \nL 18.5 0 \nz\n\" id=\"DejaVuSans-119\"/>\n      <path d=\"M 56.203125 29.59375 \nL 56.203125 25.203125 \nL 14.890625 25.203125 \nQ 15.484375 15.921875 20.484375 11.0625 \nQ 25.484375 6.203125 34.421875 6.203125 \nQ 39.59375 6.203125 44.453125 7.46875 \nQ 49.3125 8.734375 54.109375 11.28125 \nL 54.109375 2.78125 \nQ 49.265625 0.734375 44.1875 -0.34375 \nQ 39.109375 -1.421875 33.890625 -1.421875 \nQ 20.796875 -1.421875 13.15625 6.1875 \nQ 5.515625 13.8125 5.515625 26.8125 \nQ 5.515625 40.234375 12.765625 48.109375 \nQ 20.015625 56 32.328125 56 \nQ 43.359375 56 49.78125 48.890625 \nQ 56.203125 41.796875 56.203125 29.59375 \nz\nM 47.21875 32.234375 \nQ 47.125 39.59375 43.09375 43.984375 \nQ 39.0625 48.390625 32.421875 48.390625 \nQ 24.90625 48.390625 20.390625 44.140625 \nQ 15.875 39.890625 15.1875 32.171875 \nz\n\" id=\"DejaVuSans-101\"/>\n      <path d=\"M 48.78125 52.59375 \nL 48.78125 44.1875 \nQ 44.96875 46.296875 41.140625 47.34375 \nQ 37.3125 48.390625 33.40625 48.390625 \nQ 24.65625 48.390625 19.8125 42.84375 \nQ 14.984375 37.3125 14.984375 27.296875 \nQ 14.984375 17.28125 19.8125 11.734375 \nQ 24.65625 6.203125 33.40625 6.203125 \nQ 37.3125 6.203125 41.140625 7.25 \nQ 44.96875 8.296875 48.78125 10.40625 \nL 48.78125 2.09375 \nQ 45.015625 0.34375 40.984375 -0.53125 \nQ 36.96875 -1.421875 32.421875 -1.421875 \nQ 20.0625 -1.421875 12.78125 6.34375 \nQ 5.515625 14.109375 5.515625 27.296875 \nQ 5.515625 40.671875 12.859375 48.328125 \nQ 20.21875 56 33.015625 56 \nQ 37.15625 56 41.109375 55.140625 \nQ 45.0625 54.296875 48.78125 52.59375 \nz\n\" id=\"DejaVuSans-99\"/>\n      <path d=\"M 41.109375 46.296875 \nQ 39.59375 47.171875 37.8125 47.578125 \nQ 36.03125 48 33.890625 48 \nQ 26.265625 48 22.1875 43.046875 \nQ 18.109375 38.09375 18.109375 28.8125 \nL 18.109375 0 \nL 9.078125 0 \nL 9.078125 54.6875 \nL 18.109375 54.6875 \nL 18.109375 46.1875 \nQ 20.953125 51.171875 25.484375 53.578125 \nQ 30.03125 56 36.53125 56 \nQ 37.453125 56 38.578125 55.875 \nQ 39.703125 55.765625 41.0625 55.515625 \nz\n\" id=\"DejaVuSans-114\"/>\n      <path d=\"M 34.28125 27.484375 \nQ 23.390625 27.484375 19.1875 25 \nQ 14.984375 22.515625 14.984375 16.5 \nQ 14.984375 11.71875 18.140625 8.90625 \nQ 21.296875 6.109375 26.703125 6.109375 \nQ 34.1875 6.109375 38.703125 11.40625 \nQ 43.21875 16.703125 43.21875 25.484375 \nL 43.21875 27.484375 \nz\nM 52.203125 31.203125 \nL 52.203125 0 \nL 43.21875 0 \nL 43.21875 8.296875 \nQ 40.140625 3.328125 35.546875 0.953125 \nQ 30.953125 -1.421875 24.3125 -1.421875 \nQ 15.921875 -1.421875 10.953125 3.296875 \nQ 6 8.015625 6 15.921875 \nQ 6 25.140625 12.171875 29.828125 \nQ 18.359375 34.515625 30.609375 34.515625 \nL 43.21875 34.515625 \nL 43.21875 35.40625 \nQ 43.21875 41.609375 39.140625 45 \nQ 35.0625 48.390625 27.6875 48.390625 \nQ 23 48.390625 18.546875 47.265625 \nQ 14.109375 46.140625 10.015625 43.890625 \nL 10.015625 52.203125 \nQ 14.9375 54.109375 19.578125 55.046875 \nQ 24.21875 56 28.609375 56 \nQ 40.484375 56 46.34375 49.84375 \nQ 52.203125 43.703125 52.203125 31.203125 \nz\n\" id=\"DejaVuSans-97\"/>\n      <path d=\"M 9.421875 54.6875 \nL 18.40625 54.6875 \nL 18.40625 0 \nL 9.421875 0 \nz\nM 9.421875 75.984375 \nL 18.40625 75.984375 \nL 18.40625 64.59375 \nL 9.421875 64.59375 \nz\n\" id=\"DejaVuSans-105\"/>\n      <path d=\"M 54.890625 33.015625 \nL 54.890625 0 \nL 45.90625 0 \nL 45.90625 32.71875 \nQ 45.90625 40.484375 42.875 44.328125 \nQ 39.84375 48.1875 33.796875 48.1875 \nQ 26.515625 48.1875 22.3125 43.546875 \nQ 18.109375 38.921875 18.109375 30.90625 \nL 18.109375 0 \nL 9.078125 0 \nL 9.078125 54.6875 \nL 18.109375 54.6875 \nL 18.109375 46.1875 \nQ 21.34375 51.125 25.703125 53.5625 \nQ 30.078125 56 35.796875 56 \nQ 45.21875 56 50.046875 50.171875 \nQ 54.890625 44.34375 54.890625 33.015625 \nz\n\" id=\"DejaVuSans-110\"/>\n      <path d=\"M 48.6875 27.296875 \nQ 48.6875 37.203125 44.609375 42.84375 \nQ 40.53125 48.484375 33.40625 48.484375 \nQ 26.265625 48.484375 22.1875 42.84375 \nQ 18.109375 37.203125 18.109375 27.296875 \nQ 18.109375 17.390625 22.1875 11.75 \nQ 26.265625 6.109375 33.40625 6.109375 \nQ 40.53125 6.109375 44.609375 11.75 \nQ 48.6875 17.390625 48.6875 27.296875 \nz\nM 18.109375 46.390625 \nQ 20.953125 51.265625 25.265625 53.625 \nQ 29.59375 56 35.59375 56 \nQ 45.5625 56 51.78125 48.09375 \nQ 58.015625 40.1875 58.015625 27.296875 \nQ 58.015625 14.40625 51.78125 6.484375 \nQ 45.5625 -1.421875 35.59375 -1.421875 \nQ 29.59375 -1.421875 25.265625 0.953125 \nQ 20.953125 3.328125 18.109375 8.203125 \nL 18.109375 0 \nL 9.078125 0 \nL 9.078125 75.984375 \nL 18.109375 75.984375 \nz\n\" id=\"DejaVuSans-98\"/>\n      <path d=\"M -0.296875 72.90625 \nL 61.375 72.90625 \nL 61.375 64.59375 \nL 35.5 64.59375 \nL 35.5 0 \nL 25.59375 0 \nL 25.59375 64.59375 \nL -0.296875 64.59375 \nz\n\" id=\"DejaVuSans-84\"/>\n      <path d=\"M 39.40625 66.21875 \nQ 28.65625 66.21875 22.328125 58.203125 \nQ 16.015625 50.203125 16.015625 36.375 \nQ 16.015625 22.609375 22.328125 14.59375 \nQ 28.65625 6.59375 39.40625 6.59375 \nQ 50.140625 6.59375 56.421875 14.59375 \nQ 62.703125 22.609375 62.703125 36.375 \nQ 62.703125 50.203125 56.421875 58.203125 \nQ 50.140625 66.21875 39.40625 66.21875 \nz\nM 53.21875 1.3125 \nL 66.21875 -12.890625 \nL 54.296875 -12.890625 \nL 43.5 -1.21875 \nQ 41.890625 -1.3125 41.03125 -1.359375 \nQ 40.1875 -1.421875 39.40625 -1.421875 \nQ 24.03125 -1.421875 14.8125 8.859375 \nQ 5.609375 19.140625 5.609375 36.375 \nQ 5.609375 53.65625 14.8125 63.9375 \nQ 24.03125 74.21875 39.40625 74.21875 \nQ 54.734375 74.21875 63.90625 63.9375 \nQ 73.09375 53.65625 73.09375 36.375 \nQ 73.09375 23.6875 67.984375 14.640625 \nQ 62.890625 5.609375 53.21875 1.3125 \nz\n\" id=\"DejaVuSans-81\"/>\n      <path d=\"M 8.5 21.578125 \nL 8.5 54.6875 \nL 17.484375 54.6875 \nL 17.484375 21.921875 \nQ 17.484375 14.15625 20.5 10.265625 \nQ 23.53125 6.390625 29.59375 6.390625 \nQ 36.859375 6.390625 41.078125 11.03125 \nQ 45.3125 15.671875 45.3125 23.6875 \nL 45.3125 54.6875 \nL 54.296875 54.6875 \nL 54.296875 0 \nL 45.3125 0 \nL 45.3125 8.40625 \nQ 42.046875 3.421875 37.71875 1 \nQ 33.40625 -1.421875 27.6875 -1.421875 \nQ 18.265625 -1.421875 13.375 4.4375 \nQ 8.5 10.296875 8.5 21.578125 \nz\nM 31.109375 56 \nz\n\" id=\"DejaVuSans-117\"/>\n      <path d=\"M 53.515625 70.515625 \nL 53.515625 60.890625 \nQ 47.90625 63.578125 42.921875 64.890625 \nQ 37.9375 66.21875 33.296875 66.21875 \nQ 25.25 66.21875 20.875 63.09375 \nQ 16.5 59.96875 16.5 54.203125 \nQ 16.5 49.359375 19.40625 46.890625 \nQ 22.3125 44.4375 30.421875 42.921875 \nL 36.375 41.703125 \nQ 47.40625 39.59375 52.65625 34.296875 \nQ 57.90625 29 57.90625 20.125 \nQ 57.90625 9.515625 50.796875 4.046875 \nQ 43.703125 -1.421875 29.984375 -1.421875 \nQ 24.8125 -1.421875 18.96875 -0.25 \nQ 13.140625 0.921875 6.890625 3.21875 \nL 6.890625 13.375 \nQ 12.890625 10.015625 18.65625 8.296875 \nQ 24.421875 6.59375 29.984375 6.59375 \nQ 38.421875 6.59375 43.015625 9.90625 \nQ 47.609375 13.234375 47.609375 19.390625 \nQ 47.609375 24.75 44.3125 27.78125 \nQ 41.015625 30.8125 33.5 32.328125 \nL 27.484375 33.5 \nQ 16.453125 35.6875 11.515625 40.375 \nQ 6.59375 45.0625 6.59375 53.421875 \nQ 6.59375 63.09375 13.40625 68.65625 \nQ 20.21875 74.21875 32.171875 74.21875 \nQ 37.3125 74.21875 42.625 73.28125 \nQ 47.953125 72.359375 53.515625 70.515625 \nz\n\" id=\"DejaVuSans-83\"/>\n      <path d=\"M 9.8125 72.90625 \nL 51.703125 72.90625 \nL 51.703125 64.59375 \nL 19.671875 64.59375 \nL 19.671875 43.109375 \nL 48.578125 43.109375 \nL 48.578125 34.8125 \nL 19.671875 34.8125 \nL 19.671875 0 \nL 9.8125 0 \nz\n\" id=\"DejaVuSans-70\"/>\n      <path d=\"M 50.984375 -16.609375 \nL 50.984375 -23.578125 \nL -0.984375 -23.578125 \nL -0.984375 -16.609375 \nz\n\" id=\"DejaVuSans-95\"/>\n      <path d=\"M 52 44.1875 \nQ 55.375 50.25 60.0625 53.125 \nQ 64.75 56 71.09375 56 \nQ 79.640625 56 84.28125 50.015625 \nQ 88.921875 44.046875 88.921875 33.015625 \nL 88.921875 0 \nL 79.890625 0 \nL 79.890625 32.71875 \nQ 79.890625 40.578125 77.09375 44.375 \nQ 74.3125 48.1875 68.609375 48.1875 \nQ 61.625 48.1875 57.5625 43.546875 \nQ 53.515625 38.921875 53.515625 30.90625 \nL 53.515625 0 \nL 44.484375 0 \nL 44.484375 32.71875 \nQ 44.484375 40.625 41.703125 44.40625 \nQ 38.921875 48.1875 33.109375 48.1875 \nQ 26.21875 48.1875 22.15625 43.53125 \nQ 18.109375 38.875 18.109375 30.90625 \nL 18.109375 0 \nL 9.078125 0 \nL 9.078125 54.6875 \nL 18.109375 54.6875 \nL 18.109375 46.1875 \nQ 21.1875 51.21875 25.484375 53.609375 \nQ 29.78125 56 35.6875 56 \nQ 41.65625 56 45.828125 52.96875 \nQ 50 49.953125 52 44.1875 \nz\n\" id=\"DejaVuSans-109\"/>\n      <path d=\"M 32.171875 -5.078125 \nQ 28.375 -14.84375 24.75 -17.8125 \nQ 21.140625 -20.796875 15.09375 -20.796875 \nL 7.90625 -20.796875 \nL 7.90625 -13.28125 \nL 13.1875 -13.28125 \nQ 16.890625 -13.28125 18.9375 -11.515625 \nQ 21 -9.765625 23.484375 -3.21875 \nL 25.09375 0.875 \nL 2.984375 54.6875 \nL 12.5 54.6875 \nL 29.59375 11.921875 \nL 46.6875 54.6875 \nL 56.203125 54.6875 \nz\n\" id=\"DejaVuSans-121\"/>\n      <path d=\"M 45.40625 46.390625 \nL 45.40625 75.984375 \nL 54.390625 75.984375 \nL 54.390625 0 \nL 45.40625 0 \nL 45.40625 8.203125 \nQ 42.578125 3.328125 38.25 0.953125 \nQ 33.9375 -1.421875 27.875 -1.421875 \nQ 17.96875 -1.421875 11.734375 6.484375 \nQ 5.515625 14.40625 5.515625 27.296875 \nQ 5.515625 40.1875 11.734375 48.09375 \nQ 17.96875 56 27.875 56 \nQ 33.9375 56 38.25 53.625 \nQ 42.578125 51.265625 45.40625 46.390625 \nz\nM 14.796875 27.296875 \nQ 14.796875 17.390625 18.875 11.75 \nQ 22.953125 6.109375 30.078125 6.109375 \nQ 37.203125 6.109375 41.296875 11.75 \nQ 45.40625 17.390625 45.40625 27.296875 \nQ 45.40625 37.203125 41.296875 42.84375 \nQ 37.203125 48.484375 30.078125 48.484375 \nQ 22.953125 48.484375 18.875 42.84375 \nQ 14.796875 37.203125 14.796875 27.296875 \nz\n\" id=\"DejaVuSans-100\"/>\n      <path d=\"M 19.671875 34.8125 \nL 19.671875 8.109375 \nL 35.5 8.109375 \nQ 43.453125 8.109375 47.28125 11.40625 \nQ 51.125 14.703125 51.125 21.484375 \nQ 51.125 28.328125 47.28125 31.5625 \nQ 43.453125 34.8125 35.5 34.8125 \nz\nM 19.671875 64.796875 \nL 19.671875 42.828125 \nL 34.28125 42.828125 \nQ 41.5 42.828125 45.03125 45.53125 \nQ 48.578125 48.25 48.578125 53.8125 \nQ 48.578125 59.328125 45.03125 62.0625 \nQ 41.5 64.796875 34.28125 64.796875 \nz\nM 9.8125 72.90625 \nL 35.015625 72.90625 \nQ 46.296875 72.90625 52.390625 68.21875 \nQ 58.5 63.53125 58.5 54.890625 \nQ 58.5 48.1875 55.375 44.234375 \nQ 52.25 40.28125 46.1875 39.3125 \nQ 53.46875 37.75 57.5 32.78125 \nQ 61.53125 27.828125 61.53125 20.40625 \nQ 61.53125 10.640625 54.890625 5.3125 \nQ 48.25 0 35.984375 0 \nL 9.8125 0 \nz\n\" id=\"DejaVuSans-66\"/>\n     </defs>\n     <use xlink:href=\"#DejaVuSans-80\"/>\n     <use x=\"60.302734\" xlink:href=\"#DejaVuSans-108\"/>\n     <use x=\"88.085938\" xlink:href=\"#DejaVuSans-111\"/>\n     <use x=\"149.267578\" xlink:href=\"#DejaVuSans-116\"/>\n     <use x=\"188.476562\" xlink:href=\"#DejaVuSans-32\"/>\n     <use x=\"220.263672\" xlink:href=\"#DejaVuSans-115\"/>\n     <use x=\"272.363281\" xlink:href=\"#DejaVuSans-104\"/>\n     <use x=\"335.742188\" xlink:href=\"#DejaVuSans-111\"/>\n     <use x=\"396.923828\" xlink:href=\"#DejaVuSans-119\"/>\n     <use x=\"478.710938\" xlink:href=\"#DejaVuSans-32\"/>\n     <use x=\"510.498047\" xlink:href=\"#DejaVuSans-116\"/>\n     <use x=\"549.707031\" xlink:href=\"#DejaVuSans-104\"/>\n     <use x=\"613.085938\" xlink:href=\"#DejaVuSans-101\"/>\n     <use x=\"674.609375\" xlink:href=\"#DejaVuSans-32\"/>\n     <use x=\"706.396484\" xlink:href=\"#DejaVuSans-99\"/>\n     <use x=\"761.376953\" xlink:href=\"#DejaVuSans-111\"/>\n     <use x=\"822.558594\" xlink:href=\"#DejaVuSans-114\"/>\n     <use x=\"861.921875\" xlink:href=\"#DejaVuSans-114\"/>\n     <use x=\"900.785156\" xlink:href=\"#DejaVuSans-101\"/>\n     <use x=\"962.308594\" xlink:href=\"#DejaVuSans-108\"/>\n     <use x=\"990.091797\" xlink:href=\"#DejaVuSans-97\"/>\n     <use x=\"1051.371094\" xlink:href=\"#DejaVuSans-116\"/>\n     <use x=\"1090.580078\" xlink:href=\"#DejaVuSans-105\"/>\n     <use x=\"1118.363281\" xlink:href=\"#DejaVuSans-111\"/>\n     <use x=\"1179.544922\" xlink:href=\"#DejaVuSans-110\"/>\n     <use x=\"1242.923828\" xlink:href=\"#DejaVuSans-32\"/>\n     <use x=\"1274.710938\" xlink:href=\"#DejaVuSans-98\"/>\n     <use x=\"1338.1875\" xlink:href=\"#DejaVuSans-101\"/>\n     <use x=\"1399.710938\" xlink:href=\"#DejaVuSans-116\"/>\n     <use x=\"1438.919922\" xlink:href=\"#DejaVuSans-119\"/>\n     <use x=\"1520.707031\" xlink:href=\"#DejaVuSans-101\"/>\n     <use x=\"1582.230469\" xlink:href=\"#DejaVuSans-101\"/>\n     <use x=\"1643.753906\" xlink:href=\"#DejaVuSans-110\"/>\n     <use x=\"1707.132812\" xlink:href=\"#DejaVuSans-32\"/>\n     <use x=\"1738.919922\" xlink:href=\"#DejaVuSans-84\"/>\n     <use x=\"1783.003906\" xlink:href=\"#DejaVuSans-101\"/>\n     <use x=\"1844.527344\" xlink:href=\"#DejaVuSans-105\"/>\n     <use x=\"1872.310547\" xlink:href=\"#DejaVuSans-81\"/>\n     <use x=\"1951.021484\" xlink:href=\"#DejaVuSans-117\"/>\n     <use x=\"2014.400391\" xlink:href=\"#DejaVuSans-101\"/>\n     <use x=\"2075.923828\" xlink:href=\"#DejaVuSans-83\"/>\n     <use x=\"2139.400391\" xlink:href=\"#DejaVuSans-70\"/>\n     <use x=\"2196.919922\" xlink:href=\"#DejaVuSans-95\"/>\n     <use x=\"2246.919922\" xlink:href=\"#DejaVuSans-101\"/>\n     <use x=\"2308.443359\" xlink:href=\"#DejaVuSans-109\"/>\n     <use x=\"2405.855469\" xlink:href=\"#DejaVuSans-111\"/>\n     <use x=\"2467.037109\" xlink:href=\"#DejaVuSans-116\"/>\n     <use x=\"2506.246094\" xlink:href=\"#DejaVuSans-105\"/>\n     <use x=\"2534.029297\" xlink:href=\"#DejaVuSans-111\"/>\n     <use x=\"2595.210938\" xlink:href=\"#DejaVuSans-110\"/>\n     <use x=\"2658.589844\" xlink:href=\"#DejaVuSans-97\"/>\n     <use x=\"2719.869141\" xlink:href=\"#DejaVuSans-108\"/>\n     <use x=\"2747.652344\" xlink:href=\"#DejaVuSans-105\"/>\n     <use x=\"2775.435547\" xlink:href=\"#DejaVuSans-116\"/>\n     <use x=\"2814.644531\" xlink:href=\"#DejaVuSans-121\"/>\n     <use x=\"2873.824219\" xlink:href=\"#DejaVuSans-32\"/>\n     <use x=\"2905.611328\" xlink:href=\"#DejaVuSans-97\"/>\n     <use x=\"2966.890625\" xlink:href=\"#DejaVuSans-110\"/>\n     <use x=\"3030.269531\" xlink:href=\"#DejaVuSans-100\"/>\n     <use x=\"3093.746094\" xlink:href=\"#DejaVuSans-32\"/>\n     <use x=\"3125.533203\" xlink:href=\"#DejaVuSans-66\"/>\n     <use x=\"3194.136719\" xlink:href=\"#DejaVuSans-97\"/>\n     <use x=\"3255.416016\" xlink:href=\"#DejaVuSans-110\"/>\n     <use x=\"3318.794922\" xlink:href=\"#DejaVuSans-100\"/>\n     <use x=\"3382.271484\" xlink:href=\"#DejaVuSans-32\"/>\n     <use x=\"3414.058594\" xlink:href=\"#DejaVuSans-80\"/>\n     <use x=\"3470.736328\" xlink:href=\"#DejaVuSans-111\"/>\n     <use x=\"3531.917969\" xlink:href=\"#DejaVuSans-119\"/>\n     <use x=\"3613.705078\" xlink:href=\"#DejaVuSans-101\"/>\n     <use x=\"3675.228516\" xlink:href=\"#DejaVuSans-114\"/>\n    </g>\n   </g>\n  </g>\n </g>\n <defs>\n  <clipPath id=\"p8e3edbd9eb\">\n   <rect height=\"217.44\" width=\"334.8\" x=\"62.779687\" y=\"22.318125\"/>\n  </clipPath>\n </defs>\n</svg>\n",
      "image/png": "[encoded data removed]"
     },
     "metadata": {
      "needs_background": "light"
     }
    },
    {
     "output_type": "stream",
     "name": "stdout",
     "text": [
      "(0.17433100042864755, 0.5343403093732154)\n"
     ]
    }
   ],
   "source": [
    "from operator import itemgetter\n",
    "all_info = []\n",
    "x_corr_EC = []\n",
    "y_corr_EC = []\n",
    "for i in range(0, len(sorted_list_EC)):\n",
    "    hename = sorted_list_EC[i]\n",
    "    hename = str(hename[:-7])\n",
    "    if hename in names:\n",
    "        indices = [i for i, s in enumerate(names) if hename in s]\n",
    "        x = (float(TeiQueSF_emotionality[int(indices[0])]))\n",
    "        x_corr_EC.append(x)\n",
    "        y = (float(pacient_beta_EC[i]))\n",
    "        y_corr_EC.append(y)\n",
    "        plt.scatter(x,y)\n",
    "plt.title('Plot show the correlation between TeiQueSF_emotionality and Band Power')\n",
    "plt.show()\n",
    "print(stats.pearsonr(x_corr_EC, y_corr_EC))"
   ]
  },
  {
   "cell_type": "code",
   "execution_count": 67,
   "metadata": {},
   "outputs": [
    {
     "output_type": "stream",
     "name": "stdout",
     "text": [
      "                                 OLS Regression Results                                \n=======================================================================================\nDep. Variable:                      y   R-squared (uncentered):                   0.927\nModel:                            OLS   Adj. R-squared (uncentered):              0.924\nMethod:                 Least Squares   F-statistic:                              366.5\nDate:                Thu, 03 Dec 2020   Prob (F-statistic):                    5.36e-18\nTime:                        16:49:25   Log-Likelihood:                         -52.013\nNo. Observations:                  30   AIC:                                      106.0\nDf Residuals:                      29   BIC:                                      107.4\nDf Model:                           1                                                  \nCovariance Type:            nonrobust                                                  \n==============================================================================\n                 coef    std err          t      P>|t|      [0.025      0.975]\n------------------------------------------------------------------------------\nx1            16.1214      0.842     19.144      0.000      14.399      17.844\n==============================================================================\nOmnibus:                        0.331   Durbin-Watson:                   1.064\nProb(Omnibus):                  0.848   Jarque-Bera (JB):                0.500\nSkew:                           0.066   Prob(JB):                        0.779\nKurtosis:                       2.381   Cond. No.                         1.00\n==============================================================================\n\nWarnings:\n[1] Standard Errors assume that the covariance matrix of the errors is correctly specified.\n"
     ]
    },
    {
     "output_type": "error",
     "ename": "IndexError",
     "evalue": "index 1 is out of bounds for axis 0 with size 1",
     "traceback": [
      "\u001b[0;31m---------------------------------------------------------------------------\u001b[0m",
      "\u001b[0;31mIndexError\u001b[0m                                Traceback (most recent call last)",
      "\u001b[0;32m<ipython-input-67-84e14e893d25>\u001b[0m in \u001b[0;36m<module>\u001b[0;34m\u001b[0m\n\u001b[1;32m      6\u001b[0m \u001b[0;34m\u001b[0m\u001b[0m\n\u001b[1;32m      7\u001b[0m \u001b[0mX_plot\u001b[0m \u001b[0;34m=\u001b[0m \u001b[0mnp\u001b[0m\u001b[0;34m.\u001b[0m\u001b[0mlinspace\u001b[0m\u001b[0;34m(\u001b[0m\u001b[0;34m-\u001b[0m\u001b[0;36m10\u001b[0m\u001b[0;34m,\u001b[0m\u001b[0;36m1\u001b[0m\u001b[0;34m,\u001b[0m\u001b[0;36m100\u001b[0m\u001b[0;34m)\u001b[0m\u001b[0;34m\u001b[0m\u001b[0;34m\u001b[0m\u001b[0m\n\u001b[0;32m----> 8\u001b[0;31m \u001b[0mplt\u001b[0m\u001b[0;34m.\u001b[0m\u001b[0mplot\u001b[0m\u001b[0;34m(\u001b[0m\u001b[0mX_plot\u001b[0m\u001b[0;34m,\u001b[0m \u001b[0mX_plot\u001b[0m\u001b[0;34m*\u001b[0m\u001b[0mresults\u001b[0m\u001b[0;34m.\u001b[0m\u001b[0mparams\u001b[0m\u001b[0;34m[\u001b[0m\u001b[0;36m0\u001b[0m\u001b[0;34m]\u001b[0m \u001b[0;34m+\u001b[0m \u001b[0mresults\u001b[0m\u001b[0;34m.\u001b[0m\u001b[0mparams\u001b[0m\u001b[0;34m[\u001b[0m\u001b[0;36m1\u001b[0m\u001b[0;34m]\u001b[0m\u001b[0;34m)\u001b[0m\u001b[0;34m\u001b[0m\u001b[0;34m\u001b[0m\u001b[0m\n\u001b[0m\u001b[1;32m      9\u001b[0m \u001b[0;34m\u001b[0m\u001b[0m\n\u001b[1;32m     10\u001b[0m \u001b[0mplt\u001b[0m\u001b[0;34m.\u001b[0m\u001b[0mshow\u001b[0m\u001b[0;34m(\u001b[0m\u001b[0;34m)\u001b[0m\u001b[0;34m\u001b[0m\u001b[0;34m\u001b[0m\u001b[0m\n",
      "\u001b[0;31mIndexError\u001b[0m: index 1 is out of bounds for axis 0 with size 1"
     ]
    }
   ],
   "source": [
    "\n",
    "results = sm.OLS(x_corr,y_corr).fit()\n",
    "\n",
    "print (results.summary())\n",
    "\n",
    "plt.scatter(x_corr,y_corr)\n",
    "\n",
    "X_plot = np.linspace(-10,1,100)\n",
    "plt.plot(X_plot, X_plot*results.params[0] + results.params[1])\n",
    "\n",
    "plt.show()"
   ]
  },
  {
   "cell_type": "code",
   "execution_count": null,
   "metadata": {},
   "outputs": [],
   "source": []
  }
 ]
}