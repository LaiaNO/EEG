{
 "metadata": {
  "language_info": {
   "codemirror_mode": {
    "name": "ipython",
    "version": 3
   },
   "file_extension": ".py",
   "mimetype": "text/x-python",
   "name": "python",
   "nbconvert_exporter": "python",
   "pygments_lexer": "ipython3",
   "version": "3.8.5-final"
  },
  "orig_nbformat": 2,
  "kernelspec": {
   "name": "python3",
   "display_name": "Python 3"
  }
 },
 "nbformat": 4,
 "nbformat_minor": 2,
 "cells": [
  {
   "cell_type": "code",
   "execution_count": 1,
   "metadata": {},
   "outputs": [],
   "source": [
    "#IMPORTS\n",
    "\n",
    "import matplotlib\n",
    "import matplotlib.pyplot as plt # plotting\n",
    "import numpy as np # linear algebra\n",
    "import pandas as pd # data processing, CSV file I/O (e.g. pd.read_csv)\n",
    "import scipy\n",
    "import scipy.interpolate\n",
    "import mne\n",
    "import scipy\n",
    "import statistics\n",
    "from pywt import wavedec\n",
    "from scipy import signal\n",
    "import matplotlib.colors as mcolors\n",
    "import random\n",
    "import seaborn as sns\n",
    "import os"
   ]
  },
  {
   "cell_type": "code",
   "execution_count": 2,
   "metadata": {},
   "outputs": [],
   "source": [
    "from Definicions import upperchanel\n",
    "from Definicions import group_inf\n",
    "from Definicions import mediumchanels\n",
    "from Definicions import opteciogrups\n",
    "from Definicions import find_nearest\n",
    "from Definicions import grabt\n",
    "from Definicions import bandpower\n",
    "from Definicions import epoch_return"
   ]
  },
  {
   "cell_type": "code",
   "execution_count": 3,
   "metadata": {},
   "outputs": [],
   "source": [
    "#Init. info.\n",
    "#GROUPS\n",
    "group1= [\"FP2\", \"AFZ\", \"FZ\", \"FCZ\", \"CZ\"]\n",
    "group2= [\"F7\", \"F5\", \"F3\", \"F1\", \"AF7\", \"AF3\", \"FP1\"]\n",
    "group3= [\"FP2\", \"AF4\", \"AF8\", \"F2\", \"F4\", \"F6\", \"F8\"]\n",
    "group4= [\"FT7\", \"T7\", \"TP7\"]\n",
    "group5= [\"FC5\", \"FC3\", \"FC1\", \"C5\", \"C3\", \"C1\"]\n",
    "group6= [\"CP5\", \"CP3\", \"CP1\", \"P7\", \"P5\", \"P3\", \"P1\"]\n",
    "group7= [\"PO7\", \"PO3\", \"O1\", \"PO9\"]\n",
    "group8= [\"PO4\", \"PO8\", \"O2\", \"PO10\"]\n",
    "group9= [\"P2\", \"P4\", \"P6\", \"P8\", \"CP2\", \"CP4\", \"CP6\"]\n",
    "group10= [\"FT8\", \"T8\", \"TP8\"]\n",
    "group11= [\"CPZ\", \"PZ\", \"POZ\", \"OZ\", \"IZ\"]\n",
    "group12= [\"FC2\", \"FC4\", \"FC6\", \"C2\", \"C4\", \"C6\"]\n",
    "\n",
    "#X\n",
    "groups = [group1, group2, group3, group4, group5, group6, group7, group8, group9, group10, group11, group12]\n",
    "\n",
    "#General aspects\n",
    "titlegrup = [\"ch1\",\"ch2\",\"ch3\",\"ch4\",\"ch5\",\"ch6\",\"ch7\",\"ch8\",\"ch9\",\"ch10\",\"ch11\",\"ch12\"]\n",
    "ct_ty = [\"eeg\", \"eeg\", \"eeg\", \"eeg\", \"eeg\", \"eeg\", \"eeg\", \"eeg\", \"eeg\", \"eeg\", \"eeg\", \"eeg\"]\n",
    "sfreq = 250\n",
    "info = mne.create_info(ch_names=titlegrup, sfreq=sfreq, ch_types=ct_ty)"
   ]
  },
  {
   "cell_type": "code",
   "execution_count": 4,
   "metadata": {},
   "outputs": [],
   "source": [
    "#Load\n",
    "basePATH = 'Files/Preprocessed/'\n",
    "listPATHEC = []\n",
    "listPATHEO = []\n",
    "\n",
    "for root, dirs, files in os.walk(\"Files/Preprocessed/\"):\n",
    "    for filename in files:\n",
    "        if '.set' in filename:\n",
    "            if 'EC' in filename:\n",
    "                listPATHEC.append(filename)\n",
    "            if 'EO' in filename:\n",
    "                listPATHEO.append(filename)\n",
    "\n",
    "sorted_list_EO = sorted(listPATHEO)\n",
    "sorted_list_EC = sorted(listPATHEC)\n"
   ]
  },
  {
   "cell_type": "code",
   "execution_count": 5,
   "metadata": {},
   "outputs": [
    {
     "output_type": "stream",
     "name": "stdout",
     "text": [
      "Reading Files/Preprocessed/sub-010002_EO.fdt\n",
      "Reading 0 ... 117860  =      0.000 ...   471.440 secs...\n",
      "Reading Files/Preprocessed/sub-010002_EC.fdt\n",
      "Reading 0 ... 119344  =      0.000 ...   477.376 secs...\n",
      "Reading Files/Preprocessed/sub-010003_EO.fdt\n",
      "Reading 0 ... 119999  =      0.000 ...   479.996 secs...\n",
      "Reading Files/Preprocessed/sub-010003_EC.fdt\n",
      "Reading 0 ... 119515  =      0.000 ...   478.060 secs...\n",
      "Reading Files/Preprocessed/sub-010004_EO.fdt\n",
      "Reading 0 ... 119748  =      0.000 ...   478.992 secs...\n",
      "Reading Files/Preprocessed/sub-010004_EC.fdt\n",
      "Reading 0 ... 119277  =      0.000 ...   477.108 secs...\n",
      "Reading Files/Preprocessed/sub-010005_EO.fdt\n",
      "Reading 0 ... 119821  =      0.000 ...   479.284 secs...\n",
      "Reading Files/Preprocessed/sub-010005_EC.fdt\n",
      "Reading 0 ... 119999  =      0.000 ...   479.996 secs...\n",
      "Reading Files/Preprocessed/sub-010006_EO.fdt\n",
      "Reading 0 ... 110270  =      0.000 ...   441.080 secs...\n",
      "Reading Files/Preprocessed/sub-010006_EC.fdt\n",
      "Reading 0 ... 116011  =      0.000 ...   464.044 secs...\n",
      "Reading Files/Preprocessed/sub-010007_EO.fdt\n",
      "Reading 0 ... 119035  =      0.000 ...   476.140 secs...\n",
      "Reading Files/Preprocessed/sub-010007_EC.fdt\n",
      "Reading 0 ... 119979  =      0.000 ...   479.916 secs...\n",
      "Reading Files/Preprocessed/sub-010010_EO.fdt\n",
      "Reading 0 ... 114916  =      0.000 ...   459.664 secs...\n",
      "Reading Files/Preprocessed/sub-010010_EC.fdt\n",
      "Reading 0 ... 119042  =      0.000 ...   476.168 secs...\n",
      "Reading Files/Preprocessed/sub-010012_EO.fdt\n",
      "Reading 0 ... 118402  =      0.000 ...   473.608 secs...\n",
      "Reading Files/Preprocessed/sub-010012_EC.fdt\n",
      "Reading 0 ... 119999  =      0.000 ...   479.996 secs...\n",
      "Reading Files/Preprocessed/sub-010016_EO.fdt\n",
      "Reading 0 ... 119478  =      0.000 ...   477.912 secs...\n",
      "Reading Files/Preprocessed/sub-010016_EC.fdt\n",
      "Reading 0 ... 119042  =      0.000 ...   476.168 secs...\n",
      "Reading Files/Preprocessed/sub-010017_EO.fdt\n",
      "Reading 0 ... 118769  =      0.000 ...   475.076 secs...\n",
      "Reading Files/Preprocessed/sub-010017_EC.fdt\n",
      "Reading 0 ... 119451  =      0.000 ...   477.804 secs...\n",
      "Reading Files/Preprocessed/sub-010019_EO.fdt\n",
      "Reading 0 ... 119511  =      0.000 ...   478.044 secs...\n",
      "Reading Files/Preprocessed/sub-010019_EC.fdt\n",
      "Reading 0 ... 119999  =      0.000 ...   479.996 secs...\n",
      "Reading Files/Preprocessed/sub-010020_EO.fdt\n",
      "Reading 0 ... 104402  =      0.000 ...   417.608 secs...\n",
      "Reading Files/Preprocessed/sub-010020_EC.fdt\n",
      "Reading 0 ... 107237  =      0.000 ...   428.948 secs...\n",
      "Reading Files/Preprocessed/sub-010021_EO.fdt\n",
      "Reading 0 ... 114834  =      0.000 ...   459.336 secs...\n",
      "Reading Files/Preprocessed/sub-010021_EC.fdt\n",
      "Reading 0 ... 114594  =      0.000 ...   458.376 secs...\n",
      "Reading Files/Preprocessed/sub-010022_EO.fdt\n",
      "Reading 0 ... 118241  =      0.000 ...   472.964 secs...\n",
      "Reading Files/Preprocessed/sub-010022_EC.fdt\n",
      "Reading 0 ... 119418  =      0.000 ...   477.672 secs...\n",
      "Reading Files/Preprocessed/sub-010023_EO.fdt\n",
      "Reading 0 ... 105067  =      0.000 ...   420.268 secs...\n",
      "Reading Files/Preprocessed/sub-010023_EC.fdt\n",
      "Reading 0 ... 119999  =      0.000 ...   479.996 secs...\n"
     ]
    }
   ],
   "source": [
    "EO_EC_Pacients = []\n",
    "\n",
    "for i in sorted_list_EO:\n",
    "    #LOAD\n",
    "    x=mne.io.read_raw_eeglab(basePATH+i, preload=True, verbose=True)\n",
    "    #GET DATA\n",
    "    data = x._data\n",
    "    #GET CHANELS\n",
    "    chanles_names = x.ch_names\n",
    "    #REDUCE CHANELS TO 12\n",
    "    EO = opteciogrups(chanles_names, groups, data)\n",
    "\n",
    "    #Select the same but with EC\n",
    "    EC_name = [sorted_list_EC.index(e) for e in sorted_list_EC if i[:-6] in e]\n",
    "    EC_name_PATH = sorted_list_EC[EC_name[0]]\n",
    "    #LOAD\n",
    "    x2=mne.io.read_raw_eeglab(basePATH+EC_name_PATH, preload=True, verbose=True)\n",
    "    #GET DATA\n",
    "    data2 = x2._data\n",
    "    #GET CHANELS\n",
    "    chanles_names2 = x2.ch_names\n",
    "    #REDUCE CHANELS TO 12\n",
    "    EC = opteciogrups(chanles_names2, groups, data2)\n",
    "\n",
    "    #save\n",
    "    EO_EC_P = []\n",
    "    EO_EC_P.append(EO)\n",
    "    EO_EC_P.append(EC)\n",
    "    EO_EC_Pacients.append(EO_EC_P)"
   ]
  },
  {
   "cell_type": "code",
   "execution_count": 54,
   "metadata": {},
   "outputs": [
    {
     "output_type": "execute_result",
     "data": {
      "text/plain": [
       "'for pacient in EO_EC_Pacients:\\n    for data in pacient:\\n        matplotlib.pyplot.psd(data[1])\\n        plt.show()'"
      ]
     },
     "metadata": {},
     "execution_count": 54
    }
   ],
   "source": [
    "'''for pacient in EO_EC_Pacients:\n",
    "    for data in pacient:\n",
    "        matplotlib.pyplot.psd(data[1])\n",
    "        plt.show()'''"
   ]
  },
  {
   "cell_type": "code",
   "execution_count": 10,
   "metadata": {},
   "outputs": [],
   "source": [
    "#Subject = EO_EC_Pacients[S] max=15\n",
    "#EO = EO_EC_Pacients[S][0]\n",
    "#EC = EO_EC_Pacients[S][1]\n",
    "#Channel = EO_EC_Pacients[0][1][Num] max=12\n",
    "pacient_beta = []\n",
    "\n",
    "for pacient in EO_EC_Pacients:\n",
    "    EO_Epochs = epoch_return(pacient[0])\n",
    "    chanels_betta = []\n",
    "    for chane in EO_Epochs:\n",
    "        for epoch in chane:\n",
    "            f_beta = bandpower(epoch, 250, [13, 32],relative=True)\n",
    "            chanels_betta.append(f_beta)\n",
    "            #gamma\n",
    "            f_gama = bandpower(epoch, 250, [32, 100],relative=True)\n",
    "            #alpha\n",
    "            f_alpha = bandpower(epoch, 250, [9, 13],relative=True)\n",
    "            #theta\n",
    "            f_theta = bandpower(epoch, 250, [4, 8],relative=True)\n",
    "            #delta\n",
    "            f_delta = bandpower(epoch, 250, [0.1, 4],relative=True)\n",
    "\n",
    "    pacient_beta.append(chanels_betta)\n",
    "    EC_Epochs = epoch_return(pacient[1])\n",
    "    for chane in EC_Epochs:\n",
    "        for epoch in chane:\n",
    "            f_beta = bandpower(epoch, 250, [13, 32],relative=True)\n",
    "            #gamma\n",
    "            f_gama = bandpower(epoch, 250, [32, 100],relative=True)\n",
    "            #alpha\n",
    "            f_alpha = bandpower(epoch, 250, [9, 13],relative=True)\n",
    "            #theta\n",
    "            f_theta = bandpower(epoch, 250, [4, 8],relative=True)\n",
    "            #delta\n",
    "            f_delta = bandpower(epoch, 250, [0.1, 4],relative=True)\n"
   ]
  },
  {
   "cell_type": "code",
   "execution_count": 19,
   "metadata": {},
   "outputs": [],
   "source": [
    "# compare beg. scale.\n",
    "file_name =  'Files/TEIQue-SF.xlsx'\n",
    "\n",
    "import pandas as pd\n",
    "df_emotionality = pd.read_excel(io=file_name, usecols=\"A,D\")\n",
    "df_welbeing = pd.read_excel(io=file_name, usecols=\"A,F\")"
   ]
  },
  {
   "cell_type": "code",
   "execution_count": 53,
   "metadata": {},
   "outputs": [
    {
     "output_type": "stream",
     "name": "stdout",
     "text": [
      "            ID  TeiQueSF_emotionality\n38  sub-010002                 5875.0\n           ID  TeiQueSF_emotionality\n3  sub-010003                    5.0\n            ID  TeiQueSF_emotionality\n39  sub-010004                 5625.0\n             ID  TeiQueSF_emotionality\n215  sub-010005                 6625.0\n            ID  TeiQueSF_emotionality\n33  sub-010006                   5.25\n            ID  TeiQueSF_emotionality\n46  sub-010007                    4.0\n           ID  TeiQueSF_emotionality\n8  sub-010010                 3375.0\n            ID  TeiQueSF_emotionality\n34  sub-010012                 4875.0\n           ID  TeiQueSF_emotionality\n9  sub-010016                 6125.0\n           ID  TeiQueSF_emotionality\n0  sub-010017                 4875.0\n            ID  TeiQueSF_emotionality\n10  sub-010019                 5875.0\n            ID  TeiQueSF_emotionality\n23  sub-010020                 4875.0\n           ID  TeiQueSF_emotionality\n5  sub-010021                    5.0\n           ID  TeiQueSF_emotionality\n4  sub-010022                   2.75\n           ID  TeiQueSF_emotionality\n6  sub-010023                   4.25\n"
     ]
    }
   ],
   "source": [
    "for i in range (0,len(sorted_list_EO)):\n",
    "    nom = sorted_list_EO[i]\n",
    "    rname = nom[:-7]\n",
    "    class_23 = df_emotionality[df_emotionality[\"ID\"].isin([str(rname)])]\n",
    "    print(class_23)\n"
   ]
  },
  {
   "cell_type": "code",
   "execution_count": 40,
   "metadata": {},
   "outputs": [
    {
     "output_type": "execute_result",
     "data": {
      "text/plain": [
       "46    4.0\n",
       "Name: TeiQueSF_emotionality, dtype: float64"
      ]
     },
     "metadata": {},
     "execution_count": 40
    }
   ],
   "source": [
    "class_23 = df_emotionality[df_emotionality[\"ID\"].isin(['sub-010007'])]\n",
    "class_23\n",
    "s = class_23['TeiQueSF_emotionality']\n",
    "s"
   ]
  }
 ]
}