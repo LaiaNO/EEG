{
 "metadata": {
  "language_info": {
   "codemirror_mode": {
    "name": "ipython",
    "version": 3
   },
   "file_extension": ".py",
   "mimetype": "text/x-python",
   "name": "python",
   "nbconvert_exporter": "python",
   "pygments_lexer": "ipython3",
   "version": "3.8.5-final"
  },
  "orig_nbformat": 2,
  "kernelspec": {
   "name": "python3",
   "display_name": "Python 3.8.5 64-bit ('base': conda)",
   "metadata": {
    "interpreter": {
     "hash": "47118186456967e3c1047db8e7e8640be95e41027d91cfa2ea66d2138c8f2405"
    }
   }
  }
 },
 "nbformat": 4,
 "nbformat_minor": 2,
 "cells": [
  {
   "cell_type": "code",
   "execution_count": 1,
   "metadata": {},
   "outputs": [],
   "source": [
    "import matplotlib\n",
    "import matplotlib.pyplot as plt # plotting\n",
    "import numpy as np # linear algebra\n",
    "import pandas as pd # data processing, CSV file I/O (e.g. pd.read_csv)\n",
    "import scipy\n",
    "import scipy.interpolate\n",
    "import scipy\n",
    "import statistics\n",
    "from pywt import wavedec\n",
    "from scipy import signal\n",
    "import matplotlib.colors as mcolors\n",
    "import random\n",
    "import seaborn as sns\n",
    "import os\n",
    "from scipy import stats\n",
    "import statsmodels.api as sm\n",
    "from numpy import asarray\n",
    "from numpy import savetxt\n",
    "import pickle\n",
    "import csv"
   ]
  },
  {
   "cell_type": "code",
   "execution_count": 2,
   "metadata": {},
   "outputs": [],
   "source": [
    "#from Extract_info import calcul\n",
    "from BandPower_Calcul_EPoch import BanPoer_Epoch\n",
    "from BandPower_Calcul_EPoch import BanPoer_Epoch2\n",
    "from BandPower_Calcul_EPoch import bandpower"
   ]
  },
  {
   "cell_type": "code",
   "execution_count": 3,
   "metadata": {},
   "outputs": [],
   "source": [
    "with open(\"/Users/laianavarroolivella/Project_G/EEG_G2/12_Chanels/EO_EC_Pacients_save.txt\", \"rb\") as fp:   # Unpickling\n",
    "    EO_EC_Pacients_up = pickle.load(fp)\n",
    "\n",
    "\n",
    "with open(\"/Users/laianavarroolivella/Project_G/EEG_G2/12_Chanels/sorted_list_ECsave.txt\", \"rb\") as fp:   # Unpickling\n",
    "    sorted_list_EC_up = pickle.load(fp)\n",
    "\n",
    "\n",
    "with open(\"/Users/laianavarroolivella/Project_G/EEG_G2/12_Chanels/sorted_list_EO_save.txt\", \"rb\") as fp:   # Unpickling\n",
    "    sorted_list_EO_up = pickle.load(fp)"
   ]
  },
  {
   "cell_type": "code",
   "execution_count": 4,
   "metadata": {},
   "outputs": [
    {
     "output_type": "stream",
     "name": "stdout",
     "text": [
      "0\n",
      "1\n",
      "2\n",
      "3\n",
      "4\n",
      "5\n",
      "6\n",
      "7\n",
      "8\n",
      "9\n",
      "10\n",
      "11\n"
     ]
    }
   ],
   "source": [
    "list_final = []\n",
    "\n",
    "for i in range(0,12):\n",
    "    listageneral = []\n",
    "    print(i)\n",
    "\n",
    "    p1, p2, p3, p4, p5, p6 = BanPoer_Epoch(EO_EC_Pacients_up, i,0)\n",
    "\n",
    "    listageneral.append(p2)\n",
    "    listageneral.append(p3)\n",
    "    listageneral.append(p4)\n",
    "    listageneral.append(p5)\n",
    "    listageneral.append(p6)\n",
    "\n",
    "    list_final.append(listageneral)"
   ]
  },
  {
   "cell_type": "code",
   "execution_count": 5,
   "metadata": {},
   "outputs": [
    {
     "output_type": "stream",
     "name": "stdout",
     "text": [
      "0\n",
      "1\n",
      "2\n",
      "3\n",
      "4\n",
      "5\n",
      "6\n",
      "7\n",
      "8\n",
      "9\n",
      "10\n",
      "11\n"
     ]
    }
   ],
   "source": [
    "list_final_EC = []\n",
    "\n",
    "for i in range(0,12):\n",
    "    listageneral = []\n",
    "    print(i)\n",
    "\n",
    "    p1, p2, p3, p4, p5, p6 = BanPoer_Epoch(EO_EC_Pacients_up, i,1)\n",
    "\n",
    "    listageneral.append(p2)\n",
    "    listageneral.append(p3)\n",
    "    listageneral.append(p4)\n",
    "    listageneral.append(p5)\n",
    "    listageneral.append(p6)\n",
    "\n",
    "    list_final_EC.append(listageneral)"
   ]
  },
  {
   "cell_type": "code",
   "execution_count": 6,
   "metadata": {},
   "outputs": [],
   "source": [
    "with open(\"/Users/laianavarroolivella/Project_G/EEG_G2/12_Chanels_Banpower/list_final_save.txt\", \"wb\") as fp:   #Pickling\n",
    "    pickle.dump(list_final, fp)\n",
    "\n",
    "with open(\"/Users/laianavarroolivella/Project_G/EEG_G2/12_Chanels_Banpower/list_finalEC_save.txt\", \"wb\") as fp:   #Pickling\n",
    "    pickle.dump(list_final_EC, fp)\n"
   ]
  },
  {
   "cell_type": "code",
   "execution_count": null,
   "metadata": {},
   "outputs": [],
   "source": []
  }
 ]
}