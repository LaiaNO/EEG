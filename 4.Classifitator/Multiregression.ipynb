{
 "metadata": {
  "language_info": {
   "codemirror_mode": {
    "name": "ipython",
    "version": 3
   },
   "file_extension": ".py",
   "mimetype": "text/x-python",
   "name": "python",
   "nbconvert_exporter": "python",
   "pygments_lexer": "ipython3",
   "version": "3.8.5-final"
  },
  "orig_nbformat": 2,
  "kernelspec": {
   "name": "python3",
   "display_name": "Python 3",
   "language": "python"
  }
 },
 "nbformat": 4,
 "nbformat_minor": 2,
 "cells": [
  {
   "cell_type": "code",
   "execution_count": 1,
   "metadata": {},
   "outputs": [
    {
     "output_type": "execute_result",
     "data": {
      "text/plain": [
       "'Analisis:\\n- All the data (list = patient with all values)\\n- BandPower = patient = 12 brain reagions = 5 bands = 1 value\\n\\n\\n- Lavels structure all patiens with one value = list (no shape)'"
      ]
     },
     "metadata": {},
     "execution_count": 1
    }
   ],
   "source": [
    "'''Analisis:\n",
    "- All the data (list = patient with all values)\n",
    "- BandPower = patient = 12 brain reagions = 5 bands = 1 value\n",
    "\n",
    "\n",
    "- Lavels structure all patiens with one value = list (no shape)'''"
   ]
  },
  {
   "cell_type": "code",
   "execution_count": 2,
   "metadata": {},
   "outputs": [],
   "source": [
    "#Multiple regression is like linear regression, but with more than one independent value, meaning that we try to predict a value based on two or more variables.\n",
    "import numpy as np\n",
    "import matplotlib.pyplot as plt\n",
    "from numpy import savetxt\n",
    "import pickle\n",
    "import csv\n",
    "from sklearn import linear_model\n",
    "from sklearn.svm import SVC\n",
    "from sklearn.model_selection import train_test_split\n",
    "from sklearn.metrics import confusion_matrix\n",
    "from sklearn.metrics import accuracy_score"
   ]
  },
  {
   "cell_type": "code",
   "execution_count": 3,
   "metadata": {},
   "outputs": [],
   "source": [
    "with open(\"/Users/laianavarroolivella/Proyectos/EEG/2.BanPOwerEpoch12Chanels/list_final_EO.txt\", \"rb\") as fp:   # Unpickling\n",
    "    withEpoch = pickle.load(fp)\n",
    "\n",
    "#Too many\n",
    "'''with open(\"/Users/laianavarroolivella/Proyectos/EEG/1.create12ChanelsXPatient/EO_EC_Pacients_save.txt\", \"rb\") as fp:   # Unpickling\n",
    "    withRaw = pickle.load(fp)'''\n",
    "\n",
    "with open(\"/Users/laianavarroolivella/Proyectos/EEG/1.create12ChanelsXPatient/sorted_list_ECsave.txt\", \"rb\") as fp:   # Unpickling\n",
    "    sorted_list_EC_up = pickle.load(fp)\n",
    "\n",
    "\n",
    "with open(\"/Users/laianavarroolivella/Proyectos/EEG/1.create12ChanelsXPatient/sorted_list_EO_save.txt\", \"rb\") as fp:   # Unpickling\n",
    "    sorted_list_EO_up = pickle.load(fp)"
   ]
  },
  {
   "cell_type": "code",
   "execution_count": 4,
   "metadata": {},
   "outputs": [],
   "source": [
    "listEO =[]\n",
    "listEC =[]\n",
    "for e in range(0,len(sorted_list_EO_up)):       #For each frequency band:\n",
    "    hename = sorted_list_EO_up[e]   #Select the name of the patient\n",
    "    hename = str(hename[:-7])  #Select only the number witout the extension \n",
    "    listEO.append(hename)\n",
    "\n",
    "for e in range(0,len(sorted_list_EC_up)):       #For each frequency band:\n",
    "    hename = sorted_list_EC_up[e]   #Select the name of the patient\n",
    "    hename = str(hename[:-7])  #Select only the number witout the extension \n",
    "    listEC.append(hename)"
   ]
  },
  {
   "cell_type": "code",
   "execution_count": 5,
   "metadata": {},
   "outputs": [],
   "source": [
    "#Import the data to analise\n",
    "#Open the file in universal line ending mode \n",
    "with open('/Users/laianavarroolivella/Proyectos/EEG/Files_EEG/TEIQue-SF.csv', 'rU') as infile:\n",
    "  # read the file as a dictionary for each row ({header : value})\n",
    "  data = {}\n",
    "  reader = csv.DictReader(infile)\n",
    "  for row in reader:\n",
    "    for header, value in row.items():\n",
    "      try:\n",
    "        data[header].append(value)\n",
    "      except KeyError:\n",
    "        data[header] = [value]\n",
    "\n",
    "# extract the variables you want\n",
    "names = data['ID']\n",
    "TeiQueSF_emotionality = data['TeiQueSF_emotionality']\n",
    "TeiQueSF_wellBeing = data['TeiQueSF_well_being']"
   ]
  },
  {
   "cell_type": "code",
   "execution_count": 6,
   "metadata": {},
   "outputs": [],
   "source": [
    "xCorr = []\n",
    "for e in range(0,len(sorted_list_EO_up)):       #For each frequency band:\n",
    "    hename = sorted_list_EO_up[e]   #Select the name of the patient\n",
    "    hename = str(hename[:-7])  #Select only the number witout the extension \n",
    "    if hename in names:    #If this is in the testNames:\n",
    "        indices = [i for i, s in enumerate(names) if hename in s] #Get the position of the testNames\n",
    "        x = (float(TeiQueSF_wellBeing[int(indices[0])])) #Get the value of the patient in the test selected\n",
    "        xCorr.append(x) #Add it in to the xCorr\n",
    "    else:\n",
    "        print(\"No esta\"+hename)"
   ]
  },
  {
   "cell_type": "code",
   "execution_count": 7,
   "metadata": {},
   "outputs": [],
   "source": [
    "All_EC = []\n",
    "for e in withRaw:\n",
    "    All_EC.append(e[0])\n"
   ]
  },
  {
   "cell_type": "code",
   "execution_count": 8,
   "metadata": {},
   "outputs": [],
   "source": [
    "All_EC_Only1branr = []\n",
    "for i in All_EC:\n",
    "    All_EC_Only1branr.append(i[3])"
   ]
  },
  {
   "cell_type": "code",
   "execution_count": 9,
   "metadata": {},
   "outputs": [
    {
     "output_type": "stream",
     "name": "stdout",
     "text": [
      "<class 'numpy.ndarray'>\n<class 'numpy.ndarray'>\n"
     ]
    }
   ],
   "source": [
    "#Data\n",
    "X=np.array([np.array(xi) for xi in All_EC_Only1branr])\n",
    "print(type(X))\n",
    "print(type(X[0]))"
   ]
  },
  {
   "cell_type": "code",
   "execution_count": 10,
   "metadata": {},
   "outputs": [
    {
     "output_type": "stream",
     "name": "stdout",
     "text": [
      "<class 'numpy.ndarray'>\n<class 'numpy.float64'>\n"
     ]
    }
   ],
   "source": [
    "#Lavels\n",
    "Y = np.array(xCorr)\n",
    "print(type(Y))\n",
    "print(type(Y[0]))"
   ]
  },
  {
   "cell_type": "code",
   "execution_count": 11,
   "metadata": {},
   "outputs": [],
   "source": [
    "X_train, X_test, y_train, y_test = train_test_split(X, Y, test_size=0.2, random_state=None)"
   ]
  },
  {
   "cell_type": "code",
   "execution_count": null,
   "metadata": {},
   "outputs": [],
   "source": []
  }
 ]
}