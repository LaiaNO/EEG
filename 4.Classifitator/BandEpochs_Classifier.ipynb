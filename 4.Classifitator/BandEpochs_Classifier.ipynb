{
 "metadata": {
  "language_info": {
   "codemirror_mode": {
    "name": "ipython",
    "version": 3
   },
   "file_extension": ".py",
   "mimetype": "text/x-python",
   "name": "python",
   "nbconvert_exporter": "python",
   "pygments_lexer": "ipython3",
   "version": "3.8.5-final"
  },
  "orig_nbformat": 2,
  "kernelspec": {
   "name": "python3",
   "display_name": "Python 3",
   "language": "python"
  }
 },
 "nbformat": 4,
 "nbformat_minor": 2,
 "cells": [
  {
   "cell_type": "code",
   "execution_count": 10,
   "metadata": {},
   "outputs": [
    {
     "output_type": "execute_result",
     "data": {
      "text/plain": [
       "'Analisis:\\n- All the data (list = patient with all values)\\n- BandPower = patient = 12 brain reagions = 5 bands = 1 value\\n\\n\\n- Lavels structure all patiens with one value = list (no shape)'"
      ]
     },
     "metadata": {},
     "execution_count": 10
    }
   ],
   "source": [
    "'''Analisis:\n",
    "- All the data (list = patient with all values)\n",
    "- BandPower = patient = 12 brain reagions = 5 bands = 1 value\n",
    "\n",
    "\n",
    "- Lavels structure all patiens with one value = list (no shape)'''"
   ]
  },
  {
   "cell_type": "code",
   "execution_count": 11,
   "metadata": {},
   "outputs": [],
   "source": [
    "#Multiple regression is like linear regression, but with more than one independent value, meaning that we try to predict a value based on two or more variables.\n",
    "import numpy as np\n",
    "import matplotlib.pyplot as plt\n",
    "from numpy import savetxt\n",
    "import pickle\n",
    "import csv\n",
    "from sklearn import linear_model\n",
    "from sklearn.svm import SVC\n",
    "from sklearn import svm\n",
    "from sklearn.model_selection import train_test_split\n",
    "from sklearn.metrics import confusion_matrix\n",
    "from sklearn.metrics import accuracy_score\n",
    "import pandas as pd\n",
    "import seaborn as sns\n",
    "import statsmodels.formula.api as smf\n",
    "from sklearn.linear_model import LinearRegression\n",
    "from sklearn import metrics\n",
    "from sklearn import preprocessing\n",
    "import random\n",
    "import sklearn.metrics as sm\n",
    "import statistics\n",
    "from sklearn.linear_model import LinearRegression\n",
    "from sklearn import metrics\n",
    "from sklearn import preprocessing\n",
    "from sklearn.svm import LinearSVC\n",
    "from sklearn.metrics import roc_auc_score\n",
    "from sklearn.metrics import recall_score\n",
    "from sklearn.metrics import accuracy_score\n",
    "\n",
    "\n",
    "import multiprocessing\n",
    "from xgboost import plot_tree\n",
    "import xgboost as xgb\n",
    "import pandas as pd\n",
    "import numpy as np\n",
    "import pickle \n",
    "import matplotlib.pyplot as plt\n",
    "from sklearn.model_selection import train_test_split\n",
    "from sklearn.model_selection import StratifiedKFold\n",
    "from sklearn.preprocessing import MinMaxScaler\n",
    "from sklearn.metrics import accuracy_score\n",
    "from sklearn.metrics import f1_score\n",
    "from sklearn.metrics import precision_score\n",
    "from sklearn.metrics import recall_score\n",
    "from sklearn.impute import SimpleImputer\n",
    "imputer = SimpleImputer(missing_values=np.nan, strategy='mean')\n",
    "import warnings\n",
    "warnings.filterwarnings(\"ignore\")\n",
    "#用来计算程序运行时间\n",
    "import datetime\n",
    "starttime = datetime.datetime.now()"
   ]
  },
  {
   "cell_type": "code",
   "execution_count": 12,
   "metadata": {},
   "outputs": [],
   "source": [
    "with open(\"/Users/laianavarroolivella/Proyectos/EEG/2.banpowerEpoch12BR/list_finalEC.txt\", \"rb\") as fp:   # Unpickling\n",
    "    withEpoch = pickle.load(fp)\n",
    "\n",
    "with open(\"/Users/laianavarroolivella/Proyectos/EEG/1.dataToBrainReagions/sorted_list_EC.txt\", \"rb\") as fp:   # Unpickling\n",
    "    sorted_list_EC_up = pickle.load(fp)"
   ]
  },
  {
   "cell_type": "code",
   "execution_count": 13,
   "metadata": {},
   "outputs": [],
   "source": [
    "#Import the data to analise\n",
    "#Open the file in universal line ending mode \n",
    "with open('/Users/laianavarroolivella/Proyectos/EEG/Files_EEG/TEIQue-SF.csv', 'rU') as infile:\n",
    "  # read the file as a dictionary for each row ({header : value})\n",
    "  data = {}\n",
    "  reader = csv.DictReader(infile)\n",
    "  for row in reader:\n",
    "    for header, value in row.items():\n",
    "      try:\n",
    "        data[header].append(value)\n",
    "      except KeyError:\n",
    "        data[header] = [value]\n",
    "\n",
    "# extract the variables you want\n",
    "names = data['ID']\n",
    "TeiQueSF_emotionality = data['TeiQueSF_emotionality']\n",
    "TeiQueSF_wellBeing = data['TeiQueSF_well_being']\n",
    "TeiQueSF_total = data['TeiQueSF_total']"
   ]
  },
  {
   "cell_type": "code",
   "execution_count": 14,
   "metadata": {},
   "outputs": [],
   "source": [
    "xCorr = []\n",
    "for e in range(0,len(sorted_list_EC_up)):       #For each frequency band:\n",
    "    hename = sorted_list_EC_up[e]   #Select the name of the patient\n",
    "    hename = str(hename[:-7])  #Select only the number witout the extension \n",
    "    if hename in names:    #If this is in the testNames:\n",
    "        indices = [i for i, s in enumerate(names) if hename in s] #Get the position of the testNames\n",
    "        x = (float(TeiQueSF_wellBeing[int(indices[0])])) #Get the value of the patient in the test selected\n",
    "        xCorr.append(x) #Add it in to the xCorr\n",
    "    else:\n",
    "        print(\"No esta\"+hename)"
   ]
  },
  {
   "cell_type": "code",
   "execution_count": 15,
   "metadata": {},
   "outputs": [
    {
     "output_type": "stream",
     "name": "stdout",
     "text": [
      "(12, 5, 187)\n(187, 5, 12)\n(187, 60)\n"
     ]
    }
   ],
   "source": [
    "#Epoch (samples data point) all incluede for each subject <- + band + brain region (concatenated)\n",
    "\n",
    "#All Epochs ! Majoriti points <- find a ave\n",
    "a = np.array(withEpoch)\n",
    "print(a.shape)\n",
    "b = a.T\n",
    "print(b.shape)\n",
    "c2 = b.reshape(187,60)\n",
    "print(c2.shape)"
   ]
  },
  {
   "cell_type": "code",
   "execution_count": 16,
   "metadata": {},
   "outputs": [
    {
     "output_type": "stream",
     "name": "stdout",
     "text": [
      "<class 'numpy.ndarray'>\n<class 'numpy.float64'>\n"
     ]
    }
   ],
   "source": [
    "#Lavels\n",
    "Y = np.array(xCorr)\n",
    "print(type(Y))\n",
    "print(type(Y[0]))"
   ]
  },
  {
   "cell_type": "code",
   "execution_count": 17,
   "metadata": {},
   "outputs": [],
   "source": [
    "# Training = normalise! - mean and standar desv.\n",
    "# Test should be the same\n",
    "New_Normalized = []\n",
    "normalizedXtrain = preprocessing.normalize(c2)\n",
    "#normalizedXtest = preprocessing.normalize(X_test)"
   ]
  },
  {
   "cell_type": "code",
   "execution_count": 18,
   "metadata": {},
   "outputs": [],
   "source": [
    "Lavels3 =[]\n",
    "X3 = []\n",
    "r=0\n",
    "for i  in range(0,len(xCorr)):\n",
    "    if xCorr[i]>4.5 and r<35:\n",
    "        Lavels3.append(int(0))\n",
    "        X3.append(normalizedXtrain[i])\n",
    "        r=r+1\n",
    "    if xCorr[i]<=4.5:\n",
    "        Lavels3.append(int(1))\n",
    "        X3.append(normalizedXtrain[i])"
   ]
  },
  {
   "cell_type": "code",
   "execution_count": 21,
   "metadata": {},
   "outputs": [
    {
     "output_type": "stream",
     "name": "stdout",
     "text": [
      "****************************************************\n",
      "0.1\n",
      "     ****************************************************\n",
      "     Bad accu\n",
      "     ****************************************************\n",
      "     Bad accu\n",
      "     ****************************************************\n",
      "     Pred:  [0 0 0 0 0 1]\n",
      "     Data:  [0 0 0 1 0 0]\n",
      "     ACC 0.6666666666666666\n",
      "     F1 0.0\n",
      "     Recal 0.0\n",
      "     Precision 0.0\n",
      "     ****************************************************\n",
      "     Bad accu\n",
      "     ****************************************************\n",
      "     Bad accu\n",
      "     ****************************************************\n",
      "     Bad accu\n",
      "     ****************************************************\n",
      "     Bad accu\n",
      "     ****************************************************\n",
      "     Bad accu\n",
      "     ****************************************************\n",
      "     Bad accu\n",
      "     ****************************************************\n",
      "     Bad accu\n",
      "     ****************************************************\n",
      "     Bad accu\n",
      "     ****************************************************\n",
      "     Bad accu\n",
      "     ****************************************************\n",
      "     Bad accu\n",
      "     ****************************************************\n",
      "     Pred:  [0 0 0 0 0 0]\n",
      "     Data:  [0 1 0 0 1 0]\n",
      "     ACC 0.6666666666666666\n",
      "     F1 0.0\n",
      "     Recal 0.0\n",
      "     Precision 0.0\n",
      "     ****************************************************\n",
      "     Pred:  [1 0 0 0 1 1]\n",
      "     Data:  [0 0 0 1 1 1]\n",
      "     ACC 0.6666666666666666\n",
      "     F1 0.6666666666666666\n",
      "     Recal 0.6666666666666666\n",
      "     Precision 0.6666666666666666\n",
      "     ****************************************************\n",
      "     Pred:  [0 0 0 1 1 0]\n",
      "     Data:  [0 0 0 0 1 1]\n",
      "     ACC 0.6666666666666666\n",
      "     F1 0.5\n",
      "     Recal 0.5\n",
      "     Precision 0.5\n",
      "     ****************************************************\n",
      "     Bad accu\n",
      "     ****************************************************\n",
      "     Pred:  [1 1 1 1 0 0]\n",
      "     Data:  [1 1 0 0 0 0]\n",
      "     ACC 0.6666666666666666\n",
      "     F1 0.6666666666666666\n",
      "     Recal 1.0\n",
      "     Precision 0.5\n",
      "     ****************************************************\n",
      "     Pred:  [0 1 0 0 1 1]\n",
      "     Data:  [1 0 0 0 1 1]\n",
      "     ACC 0.6666666666666666\n",
      "     F1 0.6666666666666666\n",
      "     Recal 0.6666666666666666\n",
      "     Precision 0.6666666666666666\n",
      "     ****************************************************\n",
      "     Bad accu\n",
      "     ****************************************************\n",
      "     Bad accu\n",
      "     ****************************************************\n",
      "     Bad accu\n",
      "     ****************************************************\n",
      "     Bad accu\n",
      "     ****************************************************\n",
      "     Pred:  [0 0 0 0 1 0]\n",
      "     Data:  [0 0 0 0 0 1]\n",
      "     ACC 0.6666666666666666\n",
      "     F1 0.0\n",
      "     Recal 0.0\n",
      "     Precision 0.0\n",
      "     ****************************************************\n",
      "     Pred:  [0 0 1 0 0 0]\n",
      "     Data:  [1 1 1 0 0 0]\n",
      "     ACC 0.6666666666666666\n",
      "     F1 0.5\n",
      "     Recal 0.3333333333333333\n",
      "     Precision 1.0\n",
      "     ****************************************************\n",
      "     Pred:  [0 0 1 1 0 0]\n",
      "     Data:  [0 1 0 1 0 0]\n",
      "     ACC 0.6666666666666666\n",
      "     F1 0.5\n",
      "     Recal 0.5\n",
      "     Precision 0.5\n",
      "     ****************************************************\n",
      "     Bad accu\n",
      "     ****************************************************\n",
      "     Pred:  [1 1 0 0 1 0]\n",
      "     Data:  [1 0 0 1 1 0]\n",
      "     ACC 0.6666666666666666\n",
      "     F1 0.6666666666666666\n",
      "     Recal 0.6666666666666666\n",
      "     Precision 0.6666666666666666\n",
      "     ****************************************************\n",
      "     Pred:  [0 0 1 0 1 1]\n",
      "     Data:  [0 0 1 0 0 0]\n",
      "     ACC 0.6666666666666666\n",
      "     F1 0.5\n",
      "     Recal 1.0\n",
      "     Precision 0.3333333333333333\n",
      "     ****************************************************\n",
      "     Bad accu\n",
      "     ****************************************************\n",
      "     Pred:  [0 0 1 1 0 0]\n",
      "     Data:  [0 0 0 0 0 0]\n",
      "     ACC 0.6666666666666666\n",
      "     F1 0.0\n",
      "     Recal 0.0\n",
      "     Precision 0.0\n",
      "     ****************************************************\n",
      "     Bad accu\n",
      "     ****************************************************\n",
      "     Bad accu\n",
      "     ****************************************************\n",
      "     Bad accu\n",
      "     ****************************************************\n",
      "     Bad accu\n",
      "     ****************************************************\n",
      "     Pred:  [0 0 0 1 1 0]\n",
      "     Data:  [0 0 0 0 0 0]\n",
      "     ACC 0.6666666666666666\n",
      "     F1 0.0\n",
      "     Recal 0.0\n",
      "     Precision 0.0\n",
      "     ****************************************************\n",
      "     Bad accu\n",
      "     ****************************************************\n",
      "     Pred:  [1 1 0 1 1 0]\n",
      "     Data:  [0 0 0 1 1 0]\n",
      "     ACC 0.6666666666666666\n",
      "     F1 0.6666666666666666\n",
      "     Recal 1.0\n",
      "     Precision 0.5\n",
      "     ****************************************************\n",
      "     Bad accu\n",
      "     ****************************************************\n",
      "     Bad accu\n",
      "     ****************************************************\n",
      "     Bad accu\n",
      "     ****************************************************\n",
      "     Bad accu\n",
      "     ****************************************************\n",
      "     Bad accu\n",
      "     ****************************************************\n",
      "     Bad accu\n",
      "     ****************************************************\n",
      "     Pred:  [0 1 0 0 0 0]\n",
      "     Data:  [0 0 0 0 0 1]\n",
      "     ACC 0.6666666666666666\n",
      "     F1 0.0\n",
      "     Recal 0.0\n",
      "     Precision 0.0\n",
      "     ****************************************************\n",
      "     Bad accu\n",
      "     ****************************************************\n",
      "     Pred:  [0 0 1 1 0 0]\n",
      "     Data:  [0 0 0 0 0 0]\n",
      "     ACC 0.6666666666666666\n",
      "     F1 0.0\n",
      "     Recal 0.0\n",
      "     Precision 0.0\n",
      "     ****************************************************\n",
      "     Bad accu\n",
      "     ****************************************************\n",
      "     Bad accu\n",
      "     ****************************************************\n",
      "     Bad accu\n"
     ]
    },
    {
     "output_type": "display_data",
     "data": {
      "text/plain": "<Figure size 432x288 with 1 Axes>",
      "image/svg+xml": "<?xml version=\"1.0\" encoding=\"utf-8\" standalone=\"no\"?>\n<!DOCTYPE svg PUBLIC \"-//W3C//DTD SVG 1.1//EN\"\n  \"http://www.w3.org/Graphics/SVG/1.1/DTD/svg11.dtd\">\n<!-- Created with matplotlib (https://matplotlib.org/) -->\n<svg height=\"322.877344pt\" version=\"1.1\" viewBox=\"0 0 469.303125 322.877344\" width=\"469.303125pt\" xmlns=\"http://www.w3.org/2000/svg\" xmlns:xlink=\"http://www.w3.org/1999/xlink\">\n <metadata>\n  <rdf:RDF xmlns:cc=\"http://creativecommons.org/ns#\" xmlns:dc=\"http://purl.org/dc/elements/1.1/\" xmlns:rdf=\"http://www.w3.org/1999/02/22-rdf-syntax-ns#\">\n   <cc:Work>\n    <dc:type rdf:resource=\"http://purl.org/dc/dcmitype/StillImage\"/>\n    <dc:date>2021-02-24T12:48:16.803647</dc:date>\n    <dc:format>image/svg+xml</dc:format>\n    <dc:creator>\n     <cc:Agent>\n      <dc:title>Matplotlib v3.3.2, https://matplotlib.org/</dc:title>\n     </cc:Agent>\n    </dc:creator>\n   </cc:Work>\n  </rdf:RDF>\n </metadata>\n <defs>\n  <style type=\"text/css\">*{stroke-linecap:butt;stroke-linejoin:round;}</style>\n </defs>\n <g id=\"figure_1\">\n  <g id=\"patch_1\">\n   <path d=\"M 0 322.877344 \nL 469.303125 322.877344 \nL 469.303125 0 \nL 0 0 \nz\n\" style=\"fill:none;\"/>\n  </g>\n  <g id=\"axes_1\">\n   <g id=\"patch_2\">\n    <path d=\"M 30.103125 298.999219 \nL 462.103125 298.999219 \nL 462.103125 10.999219 \nL 30.103125 10.999219 \nz\n\" style=\"fill:#ffffff;\"/>\n   </g>\n   <g id=\"patch_3\">\n    <path clip-path=\"url(#p0d702de6e2)\" d=\"M 49.739489 298.999219 \nL 69.624414 298.999219 \nL 69.624414 24.713504 \nL 49.739489 24.713504 \nz\n\" style=\"fill:#1f77b4;\"/>\n   </g>\n   <g id=\"patch_4\">\n    <path clip-path=\"url(#p0d702de6e2)\" d=\"M 74.595645 298.999219 \nL 94.48057 298.999219 \nL 94.48057 24.713504 \nL 74.595645 24.713504 \nz\n\" style=\"fill:#1f77b4;\"/>\n   </g>\n   <g id=\"patch_5\">\n    <path clip-path=\"url(#p0d702de6e2)\" d=\"M 99.451802 298.999219 \nL 119.336727 298.999219 \nL 119.336727 24.713504 \nL 99.451802 24.713504 \nz\n\" style=\"fill:#1f77b4;\"/>\n   </g>\n   <g id=\"patch_6\">\n    <path clip-path=\"url(#p0d702de6e2)\" d=\"M 124.307958 298.999219 \nL 144.192883 298.999219 \nL 144.192883 24.713504 \nL 124.307958 24.713504 \nz\n\" style=\"fill:#1f77b4;\"/>\n   </g>\n   <g id=\"patch_7\">\n    <path clip-path=\"url(#p0d702de6e2)\" d=\"M 149.164115 298.999219 \nL 169.04904 298.999219 \nL 169.04904 24.713504 \nL 149.164115 24.713504 \nz\n\" style=\"fill:#1f77b4;\"/>\n   </g>\n   <g id=\"patch_8\">\n    <path clip-path=\"url(#p0d702de6e2)\" d=\"M 174.020271 298.999219 \nL 193.905196 298.999219 \nL 193.905196 24.713504 \nL 174.020271 24.713504 \nz\n\" style=\"fill:#1f77b4;\"/>\n   </g>\n   <g id=\"patch_9\">\n    <path clip-path=\"url(#p0d702de6e2)\" d=\"M 198.876428 298.999219 \nL 218.761353 298.999219 \nL 218.761353 24.713504 \nL 198.876428 24.713504 \nz\n\" style=\"fill:#1f77b4;\"/>\n   </g>\n   <g id=\"patch_10\">\n    <path clip-path=\"url(#p0d702de6e2)\" d=\"M 223.732584 298.999219 \nL 243.617509 298.999219 \nL 243.617509 24.713504 \nL 223.732584 24.713504 \nz\n\" style=\"fill:#1f77b4;\"/>\n   </g>\n   <g id=\"patch_11\">\n    <path clip-path=\"url(#p0d702de6e2)\" d=\"M 248.588741 298.999219 \nL 268.473666 298.999219 \nL 268.473666 24.713504 \nL 248.588741 24.713504 \nz\n\" style=\"fill:#1f77b4;\"/>\n   </g>\n   <g id=\"patch_12\">\n    <path clip-path=\"url(#p0d702de6e2)\" d=\"M 273.444897 298.999219 \nL 293.329822 298.999219 \nL 293.329822 24.713504 \nL 273.444897 24.713504 \nz\n\" style=\"fill:#1f77b4;\"/>\n   </g>\n   <g id=\"patch_13\">\n    <path clip-path=\"url(#p0d702de6e2)\" d=\"M 298.301054 298.999219 \nL 318.185979 298.999219 \nL 318.185979 24.713504 \nL 298.301054 24.713504 \nz\n\" style=\"fill:#1f77b4;\"/>\n   </g>\n   <g id=\"patch_14\">\n    <path clip-path=\"url(#p0d702de6e2)\" d=\"M 323.15721 298.999219 \nL 343.042135 298.999219 \nL 343.042135 24.713504 \nL 323.15721 24.713504 \nz\n\" style=\"fill:#1f77b4;\"/>\n   </g>\n   <g id=\"patch_15\">\n    <path clip-path=\"url(#p0d702de6e2)\" d=\"M 348.013367 298.999219 \nL 367.898292 298.999219 \nL 367.898292 24.713504 \nL 348.013367 24.713504 \nz\n\" style=\"fill:#1f77b4;\"/>\n   </g>\n   <g id=\"patch_16\">\n    <path clip-path=\"url(#p0d702de6e2)\" d=\"M 372.869523 298.999219 \nL 392.754448 298.999219 \nL 392.754448 24.713504 \nL 372.869523 24.713504 \nz\n\" style=\"fill:#1f77b4;\"/>\n   </g>\n   <g id=\"patch_17\">\n    <path clip-path=\"url(#p0d702de6e2)\" d=\"M 397.72568 298.999219 \nL 417.610605 298.999219 \nL 417.610605 24.713504 \nL 397.72568 24.713504 \nz\n\" style=\"fill:#1f77b4;\"/>\n   </g>\n   <g id=\"patch_18\">\n    <path clip-path=\"url(#p0d702de6e2)\" d=\"M 422.581836 298.999219 \nL 442.466761 298.999219 \nL 442.466761 24.713504 \nL 422.581836 24.713504 \nz\n\" style=\"fill:#1f77b4;\"/>\n   </g>\n   <g id=\"matplotlib.axis_1\">\n    <g id=\"xtick_1\">\n     <g id=\"line2d_1\">\n      <defs>\n       <path d=\"M 0 0 \nL 0 3.5 \n\" id=\"m8aa78be434\" style=\"stroke:#000000;stroke-width:0.8;\"/>\n      </defs>\n      <g>\n       <use style=\"stroke:#000000;stroke-width:0.8;\" x=\"59.681951\" xlink:href=\"#m8aa78be434\" y=\"298.999219\"/>\n      </g>\n     </g>\n     <g id=\"text_1\">\n      <!-- 2 -->\n      <g transform=\"translate(56.500701 313.597656)scale(0.1 -0.1)\">\n       <defs>\n        <path d=\"M 19.1875 8.296875 \nL 53.609375 8.296875 \nL 53.609375 0 \nL 7.328125 0 \nL 7.328125 8.296875 \nQ 12.9375 14.109375 22.625 23.890625 \nQ 32.328125 33.6875 34.8125 36.53125 \nQ 39.546875 41.84375 41.421875 45.53125 \nQ 43.3125 49.21875 43.3125 52.78125 \nQ 43.3125 58.59375 39.234375 62.25 \nQ 35.15625 65.921875 28.609375 65.921875 \nQ 23.96875 65.921875 18.8125 64.3125 \nQ 13.671875 62.703125 7.8125 59.421875 \nL 7.8125 69.390625 \nQ 13.765625 71.78125 18.9375 73 \nQ 24.125 74.21875 28.421875 74.21875 \nQ 39.75 74.21875 46.484375 68.546875 \nQ 53.21875 62.890625 53.21875 53.421875 \nQ 53.21875 48.921875 51.53125 44.890625 \nQ 49.859375 40.875 45.40625 35.40625 \nQ 44.1875 33.984375 37.640625 27.21875 \nQ 31.109375 20.453125 19.1875 8.296875 \nz\n\" id=\"DejaVuSans-50\"/>\n       </defs>\n       <use xlink:href=\"#DejaVuSans-50\"/>\n      </g>\n     </g>\n    </g>\n    <g id=\"xtick_2\">\n     <g id=\"line2d_2\">\n      <g>\n       <use style=\"stroke:#000000;stroke-width:0.8;\" x=\"84.538108\" xlink:href=\"#m8aa78be434\" y=\"298.999219\"/>\n      </g>\n     </g>\n     <g id=\"text_2\">\n      <!-- 13 -->\n      <g transform=\"translate(78.175608 313.597656)scale(0.1 -0.1)\">\n       <defs>\n        <path d=\"M 12.40625 8.296875 \nL 28.515625 8.296875 \nL 28.515625 63.921875 \nL 10.984375 60.40625 \nL 10.984375 69.390625 \nL 28.421875 72.90625 \nL 38.28125 72.90625 \nL 38.28125 8.296875 \nL 54.390625 8.296875 \nL 54.390625 0 \nL 12.40625 0 \nz\n\" id=\"DejaVuSans-49\"/>\n        <path d=\"M 40.578125 39.3125 \nQ 47.65625 37.796875 51.625 33 \nQ 55.609375 28.21875 55.609375 21.1875 \nQ 55.609375 10.40625 48.1875 4.484375 \nQ 40.765625 -1.421875 27.09375 -1.421875 \nQ 22.515625 -1.421875 17.65625 -0.515625 \nQ 12.796875 0.390625 7.625 2.203125 \nL 7.625 11.71875 \nQ 11.71875 9.328125 16.59375 8.109375 \nQ 21.484375 6.890625 26.8125 6.890625 \nQ 36.078125 6.890625 40.9375 10.546875 \nQ 45.796875 14.203125 45.796875 21.1875 \nQ 45.796875 27.640625 41.28125 31.265625 \nQ 36.765625 34.90625 28.71875 34.90625 \nL 20.21875 34.90625 \nL 20.21875 43.015625 \nL 29.109375 43.015625 \nQ 36.375 43.015625 40.234375 45.921875 \nQ 44.09375 48.828125 44.09375 54.296875 \nQ 44.09375 59.90625 40.109375 62.90625 \nQ 36.140625 65.921875 28.71875 65.921875 \nQ 24.65625 65.921875 20.015625 65.03125 \nQ 15.375 64.15625 9.8125 62.3125 \nL 9.8125 71.09375 \nQ 15.4375 72.65625 20.34375 73.4375 \nQ 25.25 74.21875 29.59375 74.21875 \nQ 40.828125 74.21875 47.359375 69.109375 \nQ 53.90625 64.015625 53.90625 55.328125 \nQ 53.90625 49.265625 50.4375 45.09375 \nQ 46.96875 40.921875 40.578125 39.3125 \nz\n\" id=\"DejaVuSans-51\"/>\n       </defs>\n       <use xlink:href=\"#DejaVuSans-49\"/>\n       <use x=\"63.623047\" xlink:href=\"#DejaVuSans-51\"/>\n      </g>\n     </g>\n    </g>\n    <g id=\"xtick_3\">\n     <g id=\"line2d_3\">\n      <g>\n       <use style=\"stroke:#000000;stroke-width:0.8;\" x=\"109.394264\" xlink:href=\"#m8aa78be434\" y=\"298.999219\"/>\n      </g>\n     </g>\n     <g id=\"text_3\">\n      <!-- 14 -->\n      <g transform=\"translate(103.031764 313.597656)scale(0.1 -0.1)\">\n       <defs>\n        <path d=\"M 37.796875 64.3125 \nL 12.890625 25.390625 \nL 37.796875 25.390625 \nz\nM 35.203125 72.90625 \nL 47.609375 72.90625 \nL 47.609375 25.390625 \nL 58.015625 25.390625 \nL 58.015625 17.1875 \nL 47.609375 17.1875 \nL 47.609375 0 \nL 37.796875 0 \nL 37.796875 17.1875 \nL 4.890625 17.1875 \nL 4.890625 26.703125 \nz\n\" id=\"DejaVuSans-52\"/>\n       </defs>\n       <use xlink:href=\"#DejaVuSans-49\"/>\n       <use x=\"63.623047\" xlink:href=\"#DejaVuSans-52\"/>\n      </g>\n     </g>\n    </g>\n    <g id=\"xtick_4\">\n     <g id=\"line2d_4\">\n      <g>\n       <use style=\"stroke:#000000;stroke-width:0.8;\" x=\"134.250421\" xlink:href=\"#m8aa78be434\" y=\"298.999219\"/>\n      </g>\n     </g>\n     <g id=\"text_4\">\n      <!-- 15 -->\n      <g transform=\"translate(127.887921 313.597656)scale(0.1 -0.1)\">\n       <defs>\n        <path d=\"M 10.796875 72.90625 \nL 49.515625 72.90625 \nL 49.515625 64.59375 \nL 19.828125 64.59375 \nL 19.828125 46.734375 \nQ 21.96875 47.46875 24.109375 47.828125 \nQ 26.265625 48.1875 28.421875 48.1875 \nQ 40.625 48.1875 47.75 41.5 \nQ 54.890625 34.8125 54.890625 23.390625 \nQ 54.890625 11.625 47.5625 5.09375 \nQ 40.234375 -1.421875 26.90625 -1.421875 \nQ 22.3125 -1.421875 17.546875 -0.640625 \nQ 12.796875 0.140625 7.71875 1.703125 \nL 7.71875 11.625 \nQ 12.109375 9.234375 16.796875 8.0625 \nQ 21.484375 6.890625 26.703125 6.890625 \nQ 35.15625 6.890625 40.078125 11.328125 \nQ 45.015625 15.765625 45.015625 23.390625 \nQ 45.015625 31 40.078125 35.4375 \nQ 35.15625 39.890625 26.703125 39.890625 \nQ 22.75 39.890625 18.8125 39.015625 \nQ 14.890625 38.140625 10.796875 36.28125 \nz\n\" id=\"DejaVuSans-53\"/>\n       </defs>\n       <use xlink:href=\"#DejaVuSans-49\"/>\n       <use x=\"63.623047\" xlink:href=\"#DejaVuSans-53\"/>\n      </g>\n     </g>\n    </g>\n    <g id=\"xtick_5\">\n     <g id=\"line2d_5\">\n      <g>\n       <use style=\"stroke:#000000;stroke-width:0.8;\" x=\"159.106577\" xlink:href=\"#m8aa78be434\" y=\"298.999219\"/>\n      </g>\n     </g>\n     <g id=\"text_5\">\n      <!-- 17 -->\n      <g transform=\"translate(152.744077 313.597656)scale(0.1 -0.1)\">\n       <defs>\n        <path d=\"M 8.203125 72.90625 \nL 55.078125 72.90625 \nL 55.078125 68.703125 \nL 28.609375 0 \nL 18.3125 0 \nL 43.21875 64.59375 \nL 8.203125 64.59375 \nz\n\" id=\"DejaVuSans-55\"/>\n       </defs>\n       <use xlink:href=\"#DejaVuSans-49\"/>\n       <use x=\"63.623047\" xlink:href=\"#DejaVuSans-55\"/>\n      </g>\n     </g>\n    </g>\n    <g id=\"xtick_6\">\n     <g id=\"line2d_6\">\n      <g>\n       <use style=\"stroke:#000000;stroke-width:0.8;\" x=\"183.962734\" xlink:href=\"#m8aa78be434\" y=\"298.999219\"/>\n      </g>\n     </g>\n     <g id=\"text_6\">\n      <!-- 18 -->\n      <g transform=\"translate(177.600234 313.597656)scale(0.1 -0.1)\">\n       <defs>\n        <path d=\"M 31.78125 34.625 \nQ 24.75 34.625 20.71875 30.859375 \nQ 16.703125 27.09375 16.703125 20.515625 \nQ 16.703125 13.921875 20.71875 10.15625 \nQ 24.75 6.390625 31.78125 6.390625 \nQ 38.8125 6.390625 42.859375 10.171875 \nQ 46.921875 13.96875 46.921875 20.515625 \nQ 46.921875 27.09375 42.890625 30.859375 \nQ 38.875 34.625 31.78125 34.625 \nz\nM 21.921875 38.8125 \nQ 15.578125 40.375 12.03125 44.71875 \nQ 8.5 49.078125 8.5 55.328125 \nQ 8.5 64.0625 14.71875 69.140625 \nQ 20.953125 74.21875 31.78125 74.21875 \nQ 42.671875 74.21875 48.875 69.140625 \nQ 55.078125 64.0625 55.078125 55.328125 \nQ 55.078125 49.078125 51.53125 44.71875 \nQ 48 40.375 41.703125 38.8125 \nQ 48.828125 37.15625 52.796875 32.3125 \nQ 56.78125 27.484375 56.78125 20.515625 \nQ 56.78125 9.90625 50.3125 4.234375 \nQ 43.84375 -1.421875 31.78125 -1.421875 \nQ 19.734375 -1.421875 13.25 4.234375 \nQ 6.78125 9.90625 6.78125 20.515625 \nQ 6.78125 27.484375 10.78125 32.3125 \nQ 14.796875 37.15625 21.921875 38.8125 \nz\nM 18.3125 54.390625 \nQ 18.3125 48.734375 21.84375 45.5625 \nQ 25.390625 42.390625 31.78125 42.390625 \nQ 38.140625 42.390625 41.71875 45.5625 \nQ 45.3125 48.734375 45.3125 54.390625 \nQ 45.3125 60.0625 41.71875 63.234375 \nQ 38.140625 66.40625 31.78125 66.40625 \nQ 25.390625 66.40625 21.84375 63.234375 \nQ 18.3125 60.0625 18.3125 54.390625 \nz\n\" id=\"DejaVuSans-56\"/>\n       </defs>\n       <use xlink:href=\"#DejaVuSans-49\"/>\n       <use x=\"63.623047\" xlink:href=\"#DejaVuSans-56\"/>\n      </g>\n     </g>\n    </g>\n    <g id=\"xtick_7\">\n     <g id=\"line2d_7\">\n      <g>\n       <use style=\"stroke:#000000;stroke-width:0.8;\" x=\"208.81889\" xlink:href=\"#m8aa78be434\" y=\"298.999219\"/>\n      </g>\n     </g>\n     <g id=\"text_7\">\n      <!-- 23 -->\n      <g transform=\"translate(202.45639 313.597656)scale(0.1 -0.1)\">\n       <use xlink:href=\"#DejaVuSans-50\"/>\n       <use x=\"63.623047\" xlink:href=\"#DejaVuSans-51\"/>\n      </g>\n     </g>\n    </g>\n    <g id=\"xtick_8\">\n     <g id=\"line2d_8\">\n      <g>\n       <use style=\"stroke:#000000;stroke-width:0.8;\" x=\"233.675047\" xlink:href=\"#m8aa78be434\" y=\"298.999219\"/>\n      </g>\n     </g>\n     <g id=\"text_8\">\n      <!-- 24 -->\n      <g transform=\"translate(227.312547 313.597656)scale(0.1 -0.1)\">\n       <use xlink:href=\"#DejaVuSans-50\"/>\n       <use x=\"63.623047\" xlink:href=\"#DejaVuSans-52\"/>\n      </g>\n     </g>\n    </g>\n    <g id=\"xtick_9\">\n     <g id=\"line2d_9\">\n      <g>\n       <use style=\"stroke:#000000;stroke-width:0.8;\" x=\"258.531203\" xlink:href=\"#m8aa78be434\" y=\"298.999219\"/>\n      </g>\n     </g>\n     <g id=\"text_9\">\n      <!-- 25 -->\n      <g transform=\"translate(252.168703 313.597656)scale(0.1 -0.1)\">\n       <use xlink:href=\"#DejaVuSans-50\"/>\n       <use x=\"63.623047\" xlink:href=\"#DejaVuSans-53\"/>\n      </g>\n     </g>\n    </g>\n    <g id=\"xtick_10\">\n     <g id=\"line2d_10\">\n      <g>\n       <use style=\"stroke:#000000;stroke-width:0.8;\" x=\"283.38736\" xlink:href=\"#m8aa78be434\" y=\"298.999219\"/>\n      </g>\n     </g>\n     <g id=\"text_10\">\n      <!-- 27 -->\n      <g transform=\"translate(277.02486 313.597656)scale(0.1 -0.1)\">\n       <use xlink:href=\"#DejaVuSans-50\"/>\n       <use x=\"63.623047\" xlink:href=\"#DejaVuSans-55\"/>\n      </g>\n     </g>\n    </g>\n    <g id=\"xtick_11\">\n     <g id=\"line2d_11\">\n      <g>\n       <use style=\"stroke:#000000;stroke-width:0.8;\" x=\"308.243516\" xlink:href=\"#m8aa78be434\" y=\"298.999219\"/>\n      </g>\n     </g>\n     <g id=\"text_11\">\n      <!-- 28 -->\n      <g transform=\"translate(301.881016 313.597656)scale(0.1 -0.1)\">\n       <use xlink:href=\"#DejaVuSans-50\"/>\n       <use x=\"63.623047\" xlink:href=\"#DejaVuSans-56\"/>\n      </g>\n     </g>\n    </g>\n    <g id=\"xtick_12\">\n     <g id=\"line2d_12\">\n      <g>\n       <use style=\"stroke:#000000;stroke-width:0.8;\" x=\"333.099673\" xlink:href=\"#m8aa78be434\" y=\"298.999219\"/>\n      </g>\n     </g>\n     <g id=\"text_12\">\n      <!-- 30 -->\n      <g transform=\"translate(326.737173 313.597656)scale(0.1 -0.1)\">\n       <defs>\n        <path d=\"M 31.78125 66.40625 \nQ 24.171875 66.40625 20.328125 58.90625 \nQ 16.5 51.421875 16.5 36.375 \nQ 16.5 21.390625 20.328125 13.890625 \nQ 24.171875 6.390625 31.78125 6.390625 \nQ 39.453125 6.390625 43.28125 13.890625 \nQ 47.125 21.390625 47.125 36.375 \nQ 47.125 51.421875 43.28125 58.90625 \nQ 39.453125 66.40625 31.78125 66.40625 \nz\nM 31.78125 74.21875 \nQ 44.046875 74.21875 50.515625 64.515625 \nQ 56.984375 54.828125 56.984375 36.375 \nQ 56.984375 17.96875 50.515625 8.265625 \nQ 44.046875 -1.421875 31.78125 -1.421875 \nQ 19.53125 -1.421875 13.0625 8.265625 \nQ 6.59375 17.96875 6.59375 36.375 \nQ 6.59375 54.828125 13.0625 64.515625 \nQ 19.53125 74.21875 31.78125 74.21875 \nz\n\" id=\"DejaVuSans-48\"/>\n       </defs>\n       <use xlink:href=\"#DejaVuSans-51\"/>\n       <use x=\"63.623047\" xlink:href=\"#DejaVuSans-48\"/>\n      </g>\n     </g>\n    </g>\n    <g id=\"xtick_13\">\n     <g id=\"line2d_13\">\n      <g>\n       <use style=\"stroke:#000000;stroke-width:0.8;\" x=\"357.955829\" xlink:href=\"#m8aa78be434\" y=\"298.999219\"/>\n      </g>\n     </g>\n     <g id=\"text_13\">\n      <!-- 35 -->\n      <g transform=\"translate(351.593329 313.597656)scale(0.1 -0.1)\">\n       <use xlink:href=\"#DejaVuSans-51\"/>\n       <use x=\"63.623047\" xlink:href=\"#DejaVuSans-53\"/>\n      </g>\n     </g>\n    </g>\n    <g id=\"xtick_14\">\n     <g id=\"line2d_14\">\n      <g>\n       <use style=\"stroke:#000000;stroke-width:0.8;\" x=\"382.811986\" xlink:href=\"#m8aa78be434\" y=\"298.999219\"/>\n      </g>\n     </g>\n     <g id=\"text_14\">\n      <!-- 37 -->\n      <g transform=\"translate(376.449486 313.597656)scale(0.1 -0.1)\">\n       <use xlink:href=\"#DejaVuSans-51\"/>\n       <use x=\"63.623047\" xlink:href=\"#DejaVuSans-55\"/>\n      </g>\n     </g>\n    </g>\n    <g id=\"xtick_15\">\n     <g id=\"line2d_15\">\n      <g>\n       <use style=\"stroke:#000000;stroke-width:0.8;\" x=\"407.668142\" xlink:href=\"#m8aa78be434\" y=\"298.999219\"/>\n      </g>\n     </g>\n     <g id=\"text_15\">\n      <!-- 44 -->\n      <g transform=\"translate(401.305642 313.597656)scale(0.1 -0.1)\">\n       <use xlink:href=\"#DejaVuSans-52\"/>\n       <use x=\"63.623047\" xlink:href=\"#DejaVuSans-52\"/>\n      </g>\n     </g>\n    </g>\n    <g id=\"xtick_16\">\n     <g id=\"line2d_16\">\n      <g>\n       <use style=\"stroke:#000000;stroke-width:0.8;\" x=\"432.524299\" xlink:href=\"#m8aa78be434\" y=\"298.999219\"/>\n      </g>\n     </g>\n     <g id=\"text_16\">\n      <!-- 46 -->\n      <g transform=\"translate(426.161799 313.597656)scale(0.1 -0.1)\">\n       <defs>\n        <path d=\"M 33.015625 40.375 \nQ 26.375 40.375 22.484375 35.828125 \nQ 18.609375 31.296875 18.609375 23.390625 \nQ 18.609375 15.53125 22.484375 10.953125 \nQ 26.375 6.390625 33.015625 6.390625 \nQ 39.65625 6.390625 43.53125 10.953125 \nQ 47.40625 15.53125 47.40625 23.390625 \nQ 47.40625 31.296875 43.53125 35.828125 \nQ 39.65625 40.375 33.015625 40.375 \nz\nM 52.59375 71.296875 \nL 52.59375 62.3125 \nQ 48.875 64.0625 45.09375 64.984375 \nQ 41.3125 65.921875 37.59375 65.921875 \nQ 27.828125 65.921875 22.671875 59.328125 \nQ 17.53125 52.734375 16.796875 39.40625 \nQ 19.671875 43.65625 24.015625 45.921875 \nQ 28.375 48.1875 33.59375 48.1875 \nQ 44.578125 48.1875 50.953125 41.515625 \nQ 57.328125 34.859375 57.328125 23.390625 \nQ 57.328125 12.15625 50.6875 5.359375 \nQ 44.046875 -1.421875 33.015625 -1.421875 \nQ 20.359375 -1.421875 13.671875 8.265625 \nQ 6.984375 17.96875 6.984375 36.375 \nQ 6.984375 53.65625 15.1875 63.9375 \nQ 23.390625 74.21875 37.203125 74.21875 \nQ 40.921875 74.21875 44.703125 73.484375 \nQ 48.484375 72.75 52.59375 71.296875 \nz\n\" id=\"DejaVuSans-54\"/>\n       </defs>\n       <use xlink:href=\"#DejaVuSans-52\"/>\n       <use x=\"63.623047\" xlink:href=\"#DejaVuSans-54\"/>\n      </g>\n     </g>\n    </g>\n   </g>\n   <g id=\"matplotlib.axis_2\">\n    <g id=\"ytick_1\">\n     <g id=\"line2d_17\">\n      <defs>\n       <path d=\"M 0 0 \nL -3.5 0 \n\" id=\"m3c63a95037\" style=\"stroke:#000000;stroke-width:0.8;\"/>\n      </defs>\n      <g>\n       <use style=\"stroke:#000000;stroke-width:0.8;\" x=\"30.103125\" xlink:href=\"#m3c63a95037\" y=\"298.999219\"/>\n      </g>\n     </g>\n     <g id=\"text_17\">\n      <!-- 0.0 -->\n      <g transform=\"translate(7.2 302.798438)scale(0.1 -0.1)\">\n       <defs>\n        <path d=\"M 10.6875 12.40625 \nL 21 12.40625 \nL 21 0 \nL 10.6875 0 \nz\n\" id=\"DejaVuSans-46\"/>\n       </defs>\n       <use xlink:href=\"#DejaVuSans-48\"/>\n       <use x=\"63.623047\" xlink:href=\"#DejaVuSans-46\"/>\n       <use x=\"95.410156\" xlink:href=\"#DejaVuSans-48\"/>\n      </g>\n     </g>\n    </g>\n    <g id=\"ytick_2\">\n     <g id=\"line2d_18\">\n      <g>\n       <use style=\"stroke:#000000;stroke-width:0.8;\" x=\"30.103125\" xlink:href=\"#m3c63a95037\" y=\"257.856362\"/>\n      </g>\n     </g>\n     <g id=\"text_18\">\n      <!-- 0.1 -->\n      <g transform=\"translate(7.2 261.65558)scale(0.1 -0.1)\">\n       <use xlink:href=\"#DejaVuSans-48\"/>\n       <use x=\"63.623047\" xlink:href=\"#DejaVuSans-46\"/>\n       <use x=\"95.410156\" xlink:href=\"#DejaVuSans-49\"/>\n      </g>\n     </g>\n    </g>\n    <g id=\"ytick_3\">\n     <g id=\"line2d_19\">\n      <g>\n       <use style=\"stroke:#000000;stroke-width:0.8;\" x=\"30.103125\" xlink:href=\"#m3c63a95037\" y=\"216.713504\"/>\n      </g>\n     </g>\n     <g id=\"text_19\">\n      <!-- 0.2 -->\n      <g transform=\"translate(7.2 220.512723)scale(0.1 -0.1)\">\n       <use xlink:href=\"#DejaVuSans-48\"/>\n       <use x=\"63.623047\" xlink:href=\"#DejaVuSans-46\"/>\n       <use x=\"95.410156\" xlink:href=\"#DejaVuSans-50\"/>\n      </g>\n     </g>\n    </g>\n    <g id=\"ytick_4\">\n     <g id=\"line2d_20\">\n      <g>\n       <use style=\"stroke:#000000;stroke-width:0.8;\" x=\"30.103125\" xlink:href=\"#m3c63a95037\" y=\"175.570647\"/>\n      </g>\n     </g>\n     <g id=\"text_20\">\n      <!-- 0.3 -->\n      <g transform=\"translate(7.2 179.369866)scale(0.1 -0.1)\">\n       <use xlink:href=\"#DejaVuSans-48\"/>\n       <use x=\"63.623047\" xlink:href=\"#DejaVuSans-46\"/>\n       <use x=\"95.410156\" xlink:href=\"#DejaVuSans-51\"/>\n      </g>\n     </g>\n    </g>\n    <g id=\"ytick_5\">\n     <g id=\"line2d_21\">\n      <g>\n       <use style=\"stroke:#000000;stroke-width:0.8;\" x=\"30.103125\" xlink:href=\"#m3c63a95037\" y=\"134.42779\"/>\n      </g>\n     </g>\n     <g id=\"text_21\">\n      <!-- 0.4 -->\n      <g transform=\"translate(7.2 138.227009)scale(0.1 -0.1)\">\n       <use xlink:href=\"#DejaVuSans-48\"/>\n       <use x=\"63.623047\" xlink:href=\"#DejaVuSans-46\"/>\n       <use x=\"95.410156\" xlink:href=\"#DejaVuSans-52\"/>\n      </g>\n     </g>\n    </g>\n    <g id=\"ytick_6\">\n     <g id=\"line2d_22\">\n      <g>\n       <use style=\"stroke:#000000;stroke-width:0.8;\" x=\"30.103125\" xlink:href=\"#m3c63a95037\" y=\"93.284933\"/>\n      </g>\n     </g>\n     <g id=\"text_22\">\n      <!-- 0.5 -->\n      <g transform=\"translate(7.2 97.084152)scale(0.1 -0.1)\">\n       <use xlink:href=\"#DejaVuSans-48\"/>\n       <use x=\"63.623047\" xlink:href=\"#DejaVuSans-46\"/>\n       <use x=\"95.410156\" xlink:href=\"#DejaVuSans-53\"/>\n      </g>\n     </g>\n    </g>\n    <g id=\"ytick_7\">\n     <g id=\"line2d_23\">\n      <g>\n       <use style=\"stroke:#000000;stroke-width:0.8;\" x=\"30.103125\" xlink:href=\"#m3c63a95037\" y=\"52.142076\"/>\n      </g>\n     </g>\n     <g id=\"text_23\">\n      <!-- 0.6 -->\n      <g transform=\"translate(7.2 55.941295)scale(0.1 -0.1)\">\n       <use xlink:href=\"#DejaVuSans-48\"/>\n       <use x=\"63.623047\" xlink:href=\"#DejaVuSans-46\"/>\n       <use x=\"95.410156\" xlink:href=\"#DejaVuSans-54\"/>\n      </g>\n     </g>\n    </g>\n    <g id=\"ytick_8\">\n     <g id=\"line2d_24\">\n      <g>\n       <use style=\"stroke:#000000;stroke-width:0.8;\" x=\"30.103125\" xlink:href=\"#m3c63a95037\" y=\"10.999219\"/>\n      </g>\n     </g>\n     <g id=\"text_24\">\n      <!-- 0.7 -->\n      <g transform=\"translate(7.2 14.798438)scale(0.1 -0.1)\">\n       <use xlink:href=\"#DejaVuSans-48\"/>\n       <use x=\"63.623047\" xlink:href=\"#DejaVuSans-46\"/>\n       <use x=\"95.410156\" xlink:href=\"#DejaVuSans-55\"/>\n      </g>\n     </g>\n    </g>\n   </g>\n   <g id=\"patch_19\">\n    <path d=\"M 30.103125 298.999219 \nL 30.103125 10.999219 \n\" style=\"fill:none;stroke:#000000;stroke-linecap:square;stroke-linejoin:miter;stroke-width:0.8;\"/>\n   </g>\n   <g id=\"patch_20\">\n    <path d=\"M 462.103125 298.999219 \nL 462.103125 10.999219 \n\" style=\"fill:none;stroke:#000000;stroke-linecap:square;stroke-linejoin:miter;stroke-width:0.8;\"/>\n   </g>\n   <g id=\"patch_21\">\n    <path d=\"M 30.103125 298.999219 \nL 462.103125 298.999219 \n\" style=\"fill:none;stroke:#000000;stroke-linecap:square;stroke-linejoin:miter;stroke-width:0.8;\"/>\n   </g>\n   <g id=\"patch_22\">\n    <path d=\"M 30.103125 10.999219 \nL 462.103125 10.999219 \n\" style=\"fill:none;stroke:#000000;stroke-linecap:square;stroke-linejoin:miter;stroke-width:0.8;\"/>\n   </g>\n  </g>\n </g>\n <defs>\n  <clipPath id=\"p0d702de6e2\">\n   <rect height=\"288\" width=\"432\" x=\"30.103125\" y=\"10.999219\"/>\n  </clipPath>\n </defs>\n</svg>\n",
      "image/png": "[encoded data removed]"
     },
     "metadata": {
      "needs_background": "light"
     }
    },
    {
     "output_type": "stream",
     "name": "stdout",
     "text": [
      "Num de acc que pasa de 0.5:  16\n",
      "****************************************************\n",
      "0.2\n",
      "     ****************************************************\n",
      "     Pred:  [0 1 0 0 0 0 0 0 1 0 0 1]\n",
      "     Data:  [0 0 1 0 1 0 0 0 0 1 0 1]\n",
      "     ACC 0.5833333333333334\n",
      "     F1 0.28571428571428575\n",
      "     Recal 0.25\n",
      "     Precision 0.3333333333333333\n",
      "     ****************************************************\n",
      "     Bad accu\n",
      "     ****************************************************\n",
      "     Bad accu\n",
      "     ****************************************************\n",
      "     Pred:  [1 1 1 1 0 1 0 0 0 0 0 0]\n",
      "     Data:  [0 1 0 1 0 1 0 1 1 0 0 1]\n",
      "     ACC 0.5833333333333334\n",
      "     F1 0.5454545454545454\n",
      "     Recal 0.5\n",
      "     Precision 0.6\n",
      "     ****************************************************\n",
      "     Bad accu\n",
      "     ****************************************************\n",
      "     Pred:  [0 0 1 0 0 0 0 1 0 0 0 1]\n",
      "     Data:  [1 0 1 0 1 0 1 0 0 0 0 1]\n",
      "     ACC 0.6666666666666666\n",
      "     F1 0.5\n",
      "     Recal 0.4\n",
      "     Precision 0.6666666666666666\n",
      "     ****************************************************\n",
      "     Pred:  [0 0 0 0 1 1 1 1 0 1 0 1]\n",
      "     Data:  [0 0 1 0 1 0 0 1 0 0 0 0]\n",
      "     ACC 0.5833333333333334\n",
      "     F1 0.4444444444444444\n",
      "     Recal 0.6666666666666666\n",
      "     Precision 0.3333333333333333\n",
      "     ****************************************************\n",
      "     Bad accu\n",
      "     ****************************************************\n",
      "     Bad accu\n",
      "     ****************************************************\n",
      "     Pred:  [1 0 0 0 0 0 0 1 0 1 0 0]\n",
      "     Data:  [1 0 1 0 0 1 0 0 1 1 1 0]\n",
      "     ACC 0.5833333333333334\n",
      "     F1 0.4444444444444444\n",
      "     Recal 0.3333333333333333\n",
      "     Precision 0.6666666666666666\n",
      "     ****************************************************\n",
      "     Bad accu\n",
      "     ****************************************************\n",
      "     Bad accu\n",
      "     ****************************************************\n",
      "     Bad accu\n",
      "     ****************************************************\n",
      "     Bad accu\n",
      "     ****************************************************\n",
      "     Bad accu\n",
      "     ****************************************************\n",
      "     Bad accu\n",
      "     ****************************************************\n",
      "     Bad accu\n",
      "     ****************************************************\n",
      "     Bad accu\n",
      "     ****************************************************\n",
      "     Bad accu\n",
      "     ****************************************************\n",
      "     Bad accu\n",
      "     ****************************************************\n",
      "     Bad accu\n",
      "     ****************************************************\n",
      "     Bad accu\n",
      "     ****************************************************\n",
      "     Bad accu\n",
      "     ****************************************************\n",
      "     Pred:  [1 1 0 0 0 0 0 0 1 1 0 0]\n",
      "     Data:  [1 0 0 0 0 1 0 1 0 0 0 0]\n",
      "     ACC 0.5833333333333334\n",
      "     F1 0.28571428571428575\n",
      "     Recal 0.3333333333333333\n",
      "     Precision 0.25\n",
      "     ****************************************************\n",
      "     Pred:  [0 0 0 0 0 0 0 0 0 1 0 0]\n",
      "     Data:  [1 0 0 1 1 0 1 0 0 0 0 0]\n",
      "     ACC 0.5833333333333334\n",
      "     F1 0.0\n",
      "     Recal 0.0\n",
      "     Precision 0.0\n",
      "     ****************************************************\n",
      "     Bad accu\n",
      "     ****************************************************\n",
      "     Pred:  [0 0 0 1 1 0 0 0 0 0 0 0]\n",
      "     Data:  [0 1 1 1 1 0 1 1 0 0 1 0]\n",
      "     ACC 0.5833333333333334\n",
      "     F1 0.4444444444444445\n",
      "     Recal 0.2857142857142857\n",
      "     Precision 1.0\n",
      "     ****************************************************\n",
      "     Bad accu\n",
      "     ****************************************************\n",
      "     Pred:  [0 0 0 0 0 0 0 0 0 0 1 0]\n",
      "     Data:  [1 1 1 0 0 0 1 1 0 0 1 0]\n",
      "     ACC 0.5833333333333334\n",
      "     F1 0.2857142857142857\n",
      "     Recal 0.16666666666666666\n",
      "     Precision 1.0\n",
      "     ****************************************************\n",
      "     Bad accu\n",
      "     ****************************************************\n",
      "     Bad accu\n",
      "     ****************************************************\n",
      "     Pred:  [0 0 0 0 0 1 0 0 0 0 1 1]\n",
      "     Data:  [1 1 1 0 0 1 0 0 1 0 1 0]\n",
      "     ACC 0.5833333333333334\n",
      "     F1 0.4444444444444444\n",
      "     Recal 0.3333333333333333\n",
      "     Precision 0.6666666666666666\n",
      "     ****************************************************\n",
      "     Bad accu\n",
      "     ****************************************************\n",
      "     Bad accu\n",
      "     ****************************************************\n",
      "     Pred:  [1 1 0 0 0 0 1 0 0 0 1 0]\n",
      "     Data:  [1 0 0 0 0 0 0 1 0 1 0 0]\n",
      "     ACC 0.5833333333333334\n",
      "     F1 0.28571428571428575\n",
      "     Recal 0.3333333333333333\n",
      "     Precision 0.25\n",
      "     ****************************************************\n",
      "     Bad accu\n",
      "     ****************************************************\n",
      "     Pred:  [1 0 1 1 1 1 1 0 0 0 0 0]\n",
      "     Data:  [0 0 1 1 1 0 0 0 0 0 1 0]\n",
      "     ACC 0.6666666666666666\n",
      "     F1 0.6\n",
      "     Recal 0.75\n",
      "     Precision 0.5\n",
      "     ****************************************************\n",
      "     Bad accu\n",
      "     ****************************************************\n",
      "     Bad accu\n",
      "     ****************************************************\n",
      "     Bad accu\n",
      "     ****************************************************\n",
      "     Bad accu\n",
      "     ****************************************************\n",
      "     Bad accu\n",
      "     ****************************************************\n",
      "     Bad accu\n",
      "     ****************************************************\n",
      "     Pred:  [0 1 1 1 1 1 1 1 1 0 0 0]\n",
      "     Data:  [0 0 0 1 1 1 1 1 0 1 0 0]\n",
      "     ACC 0.6666666666666666\n",
      "     F1 0.7142857142857143\n",
      "     Recal 0.8333333333333334\n",
      "     Precision 0.625\n",
      "     ****************************************************\n",
      "     Pred:  [0 0 1 0 0 0 0 0 0 0 0 1]\n",
      "     Data:  [0 0 0 0 0 1 0 0 0 0 1 1]\n",
      "     ACC 0.75\n",
      "     F1 0.4\n",
      "     Recal 0.3333333333333333\n",
      "     Precision 0.5\n",
      "     ****************************************************\n",
      "     Bad accu\n",
      "     ****************************************************\n",
      "     Bad accu\n",
      "     ****************************************************\n",
      "     Bad accu\n",
      "     ****************************************************\n",
      "     Pred:  [0 0 0 0 0 0 0 1 0 1 0 0]\n",
      "     Data:  [0 0 0 1 1 1 0 1 0 0 1 0]\n",
      "     ACC 0.5833333333333334\n",
      "     F1 0.28571428571428575\n",
      "     Recal 0.2\n",
      "     Precision 0.5\n",
      "     ****************************************************\n",
      "     Bad accu\n"
     ]
    },
    {
     "output_type": "display_data",
     "data": {
      "text/plain": "<Figure size 432x288 with 1 Axes>",
      "image/svg+xml": "<?xml version=\"1.0\" encoding=\"utf-8\" standalone=\"no\"?>\n<!DOCTYPE svg PUBLIC \"-//W3C//DTD SVG 1.1//EN\"\n  \"http://www.w3.org/Graphics/SVG/1.1/DTD/svg11.dtd\">\n<!-- Created with matplotlib (https://matplotlib.org/) -->\n<svg height=\"319.078125pt\" version=\"1.1\" viewBox=\"0 0 469.303125 319.078125\" width=\"469.303125pt\" xmlns=\"http://www.w3.org/2000/svg\" xmlns:xlink=\"http://www.w3.org/1999/xlink\">\n <metadata>\n  <rdf:RDF xmlns:cc=\"http://creativecommons.org/ns#\" xmlns:dc=\"http://purl.org/dc/elements/1.1/\" xmlns:rdf=\"http://www.w3.org/1999/02/22-rdf-syntax-ns#\">\n   <cc:Work>\n    <dc:type rdf:resource=\"http://purl.org/dc/dcmitype/StillImage\"/>\n    <dc:date>2021-02-24T12:48:18.854446</dc:date>\n    <dc:format>image/svg+xml</dc:format>\n    <dc:creator>\n     <cc:Agent>\n      <dc:title>Matplotlib v3.3.2, https://matplotlib.org/</dc:title>\n     </cc:Agent>\n    </dc:creator>\n   </cc:Work>\n  </rdf:RDF>\n </metadata>\n <defs>\n  <style type=\"text/css\">*{stroke-linecap:butt;stroke-linejoin:round;}</style>\n </defs>\n <g id=\"figure_1\">\n  <g id=\"patch_1\">\n   <path d=\"M 0 319.078125 \nL 469.303125 319.078125 \nL 469.303125 0 \nL 0 0 \nz\n\" style=\"fill:none;\"/>\n  </g>\n  <g id=\"axes_1\">\n   <g id=\"patch_2\">\n    <path d=\"M 30.103125 295.2 \nL 462.103125 295.2 \nL 462.103125 7.2 \nL 30.103125 7.2 \nz\n\" style=\"fill:#ffffff;\"/>\n   </g>\n   <g id=\"patch_3\">\n    <path clip-path=\"url(#pb0138d02eb)\" d=\"M 49.739489 295.2 \nL 70.96799 295.2 \nL 70.96799 81.866667 \nL 49.739489 81.866667 \nz\n\" style=\"fill:#1f77b4;\"/>\n   </g>\n   <g id=\"patch_4\">\n    <path clip-path=\"url(#pb0138d02eb)\" d=\"M 76.275115 295.2 \nL 97.503616 295.2 \nL 97.503616 81.866667 \nL 76.275115 81.866667 \nz\n\" style=\"fill:#1f77b4;\"/>\n   </g>\n   <g id=\"patch_5\">\n    <path clip-path=\"url(#pb0138d02eb)\" d=\"M 102.810742 295.2 \nL 124.039243 295.2 \nL 124.039243 51.390476 \nL 102.810742 51.390476 \nz\n\" style=\"fill:#1f77b4;\"/>\n   </g>\n   <g id=\"patch_6\">\n    <path clip-path=\"url(#pb0138d02eb)\" d=\"M 129.346368 295.2 \nL 150.574869 295.2 \nL 150.574869 81.866667 \nL 129.346368 81.866667 \nz\n\" style=\"fill:#1f77b4;\"/>\n   </g>\n   <g id=\"patch_7\">\n    <path clip-path=\"url(#pb0138d02eb)\" d=\"M 155.881995 295.2 \nL 177.110496 295.2 \nL 177.110496 81.866667 \nL 155.881995 81.866667 \nz\n\" style=\"fill:#1f77b4;\"/>\n   </g>\n   <g id=\"patch_8\">\n    <path clip-path=\"url(#pb0138d02eb)\" d=\"M 182.417621 295.2 \nL 203.646123 295.2 \nL 203.646123 81.866667 \nL 182.417621 81.866667 \nz\n\" style=\"fill:#1f77b4;\"/>\n   </g>\n   <g id=\"patch_9\">\n    <path clip-path=\"url(#pb0138d02eb)\" d=\"M 208.953248 295.2 \nL 230.181749 295.2 \nL 230.181749 81.866667 \nL 208.953248 81.866667 \nz\n\" style=\"fill:#1f77b4;\"/>\n   </g>\n   <g id=\"patch_10\">\n    <path clip-path=\"url(#pb0138d02eb)\" d=\"M 235.488874 295.2 \nL 256.717376 295.2 \nL 256.717376 81.866667 \nL 235.488874 81.866667 \nz\n\" style=\"fill:#1f77b4;\"/>\n   </g>\n   <g id=\"patch_11\">\n    <path clip-path=\"url(#pb0138d02eb)\" d=\"M 262.024501 295.2 \nL 283.253002 295.2 \nL 283.253002 81.866667 \nL 262.024501 81.866667 \nz\n\" style=\"fill:#1f77b4;\"/>\n   </g>\n   <g id=\"patch_12\">\n    <path clip-path=\"url(#pb0138d02eb)\" d=\"M 288.560127 295.2 \nL 309.788629 295.2 \nL 309.788629 81.866667 \nL 288.560127 81.866667 \nz\n\" style=\"fill:#1f77b4;\"/>\n   </g>\n   <g id=\"patch_13\">\n    <path clip-path=\"url(#pb0138d02eb)\" d=\"M 315.095754 295.2 \nL 336.324255 295.2 \nL 336.324255 81.866667 \nL 315.095754 81.866667 \nz\n\" style=\"fill:#1f77b4;\"/>\n   </g>\n   <g id=\"patch_14\">\n    <path clip-path=\"url(#pb0138d02eb)\" d=\"M 341.631381 295.2 \nL 362.859882 295.2 \nL 362.859882 51.390476 \nL 341.631381 51.390476 \nz\n\" style=\"fill:#1f77b4;\"/>\n   </g>\n   <g id=\"patch_15\">\n    <path clip-path=\"url(#pb0138d02eb)\" d=\"M 368.167007 295.2 \nL 389.395508 295.2 \nL 389.395508 51.390476 \nL 368.167007 51.390476 \nz\n\" style=\"fill:#1f77b4;\"/>\n   </g>\n   <g id=\"patch_16\">\n    <path clip-path=\"url(#pb0138d02eb)\" d=\"M 394.702634 295.2 \nL 415.931135 295.2 \nL 415.931135 20.914286 \nL 394.702634 20.914286 \nz\n\" style=\"fill:#1f77b4;\"/>\n   </g>\n   <g id=\"patch_17\">\n    <path clip-path=\"url(#pb0138d02eb)\" d=\"M 421.23826 295.2 \nL 442.466761 295.2 \nL 442.466761 81.866667 \nL 421.23826 81.866667 \nz\n\" style=\"fill:#1f77b4;\"/>\n   </g>\n   <g id=\"matplotlib.axis_1\">\n    <g id=\"xtick_1\">\n     <g id=\"line2d_1\">\n      <defs>\n       <path d=\"M 0 0 \nL 0 3.5 \n\" id=\"mc487aa32b3\" style=\"stroke:#000000;stroke-width:0.8;\"/>\n      </defs>\n      <g>\n       <use style=\"stroke:#000000;stroke-width:0.8;\" x=\"60.353739\" xlink:href=\"#mc487aa32b3\" y=\"295.2\"/>\n      </g>\n     </g>\n     <g id=\"text_1\">\n      <!-- 0 -->\n      <g transform=\"translate(57.172489 309.798437)scale(0.1 -0.1)\">\n       <defs>\n        <path d=\"M 31.78125 66.40625 \nQ 24.171875 66.40625 20.328125 58.90625 \nQ 16.5 51.421875 16.5 36.375 \nQ 16.5 21.390625 20.328125 13.890625 \nQ 24.171875 6.390625 31.78125 6.390625 \nQ 39.453125 6.390625 43.28125 13.890625 \nQ 47.125 21.390625 47.125 36.375 \nQ 47.125 51.421875 43.28125 58.90625 \nQ 39.453125 66.40625 31.78125 66.40625 \nz\nM 31.78125 74.21875 \nQ 44.046875 74.21875 50.515625 64.515625 \nQ 56.984375 54.828125 56.984375 36.375 \nQ 56.984375 17.96875 50.515625 8.265625 \nQ 44.046875 -1.421875 31.78125 -1.421875 \nQ 19.53125 -1.421875 13.0625 8.265625 \nQ 6.59375 17.96875 6.59375 36.375 \nQ 6.59375 54.828125 13.0625 64.515625 \nQ 19.53125 74.21875 31.78125 74.21875 \nz\n\" id=\"DejaVuSans-48\"/>\n       </defs>\n       <use xlink:href=\"#DejaVuSans-48\"/>\n      </g>\n     </g>\n    </g>\n    <g id=\"xtick_2\">\n     <g id=\"line2d_2\">\n      <g>\n       <use style=\"stroke:#000000;stroke-width:0.8;\" x=\"86.889366\" xlink:href=\"#mc487aa32b3\" y=\"295.2\"/>\n      </g>\n     </g>\n     <g id=\"text_2\">\n      <!-- 3 -->\n      <g transform=\"translate(83.708116 309.798437)scale(0.1 -0.1)\">\n       <defs>\n        <path d=\"M 40.578125 39.3125 \nQ 47.65625 37.796875 51.625 33 \nQ 55.609375 28.21875 55.609375 21.1875 \nQ 55.609375 10.40625 48.1875 4.484375 \nQ 40.765625 -1.421875 27.09375 -1.421875 \nQ 22.515625 -1.421875 17.65625 -0.515625 \nQ 12.796875 0.390625 7.625 2.203125 \nL 7.625 11.71875 \nQ 11.71875 9.328125 16.59375 8.109375 \nQ 21.484375 6.890625 26.8125 6.890625 \nQ 36.078125 6.890625 40.9375 10.546875 \nQ 45.796875 14.203125 45.796875 21.1875 \nQ 45.796875 27.640625 41.28125 31.265625 \nQ 36.765625 34.90625 28.71875 34.90625 \nL 20.21875 34.90625 \nL 20.21875 43.015625 \nL 29.109375 43.015625 \nQ 36.375 43.015625 40.234375 45.921875 \nQ 44.09375 48.828125 44.09375 54.296875 \nQ 44.09375 59.90625 40.109375 62.90625 \nQ 36.140625 65.921875 28.71875 65.921875 \nQ 24.65625 65.921875 20.015625 65.03125 \nQ 15.375 64.15625 9.8125 62.3125 \nL 9.8125 71.09375 \nQ 15.4375 72.65625 20.34375 73.4375 \nQ 25.25 74.21875 29.59375 74.21875 \nQ 40.828125 74.21875 47.359375 69.109375 \nQ 53.90625 64.015625 53.90625 55.328125 \nQ 53.90625 49.265625 50.4375 45.09375 \nQ 46.96875 40.921875 40.578125 39.3125 \nz\n\" id=\"DejaVuSans-51\"/>\n       </defs>\n       <use xlink:href=\"#DejaVuSans-51\"/>\n      </g>\n     </g>\n    </g>\n    <g id=\"xtick_3\">\n     <g id=\"line2d_3\">\n      <g>\n       <use style=\"stroke:#000000;stroke-width:0.8;\" x=\"113.424992\" xlink:href=\"#mc487aa32b3\" y=\"295.2\"/>\n      </g>\n     </g>\n     <g id=\"text_3\">\n      <!-- 5 -->\n      <g transform=\"translate(110.243742 309.798437)scale(0.1 -0.1)\">\n       <defs>\n        <path d=\"M 10.796875 72.90625 \nL 49.515625 72.90625 \nL 49.515625 64.59375 \nL 19.828125 64.59375 \nL 19.828125 46.734375 \nQ 21.96875 47.46875 24.109375 47.828125 \nQ 26.265625 48.1875 28.421875 48.1875 \nQ 40.625 48.1875 47.75 41.5 \nQ 54.890625 34.8125 54.890625 23.390625 \nQ 54.890625 11.625 47.5625 5.09375 \nQ 40.234375 -1.421875 26.90625 -1.421875 \nQ 22.3125 -1.421875 17.546875 -0.640625 \nQ 12.796875 0.140625 7.71875 1.703125 \nL 7.71875 11.625 \nQ 12.109375 9.234375 16.796875 8.0625 \nQ 21.484375 6.890625 26.703125 6.890625 \nQ 35.15625 6.890625 40.078125 11.328125 \nQ 45.015625 15.765625 45.015625 23.390625 \nQ 45.015625 31 40.078125 35.4375 \nQ 35.15625 39.890625 26.703125 39.890625 \nQ 22.75 39.890625 18.8125 39.015625 \nQ 14.890625 38.140625 10.796875 36.28125 \nz\n\" id=\"DejaVuSans-53\"/>\n       </defs>\n       <use xlink:href=\"#DejaVuSans-53\"/>\n      </g>\n     </g>\n    </g>\n    <g id=\"xtick_4\">\n     <g id=\"line2d_4\">\n      <g>\n       <use style=\"stroke:#000000;stroke-width:0.8;\" x=\"139.960619\" xlink:href=\"#mc487aa32b3\" y=\"295.2\"/>\n      </g>\n     </g>\n     <g id=\"text_4\">\n      <!-- 6 -->\n      <g transform=\"translate(136.779369 309.798437)scale(0.1 -0.1)\">\n       <defs>\n        <path d=\"M 33.015625 40.375 \nQ 26.375 40.375 22.484375 35.828125 \nQ 18.609375 31.296875 18.609375 23.390625 \nQ 18.609375 15.53125 22.484375 10.953125 \nQ 26.375 6.390625 33.015625 6.390625 \nQ 39.65625 6.390625 43.53125 10.953125 \nQ 47.40625 15.53125 47.40625 23.390625 \nQ 47.40625 31.296875 43.53125 35.828125 \nQ 39.65625 40.375 33.015625 40.375 \nz\nM 52.59375 71.296875 \nL 52.59375 62.3125 \nQ 48.875 64.0625 45.09375 64.984375 \nQ 41.3125 65.921875 37.59375 65.921875 \nQ 27.828125 65.921875 22.671875 59.328125 \nQ 17.53125 52.734375 16.796875 39.40625 \nQ 19.671875 43.65625 24.015625 45.921875 \nQ 28.375 48.1875 33.59375 48.1875 \nQ 44.578125 48.1875 50.953125 41.515625 \nQ 57.328125 34.859375 57.328125 23.390625 \nQ 57.328125 12.15625 50.6875 5.359375 \nQ 44.046875 -1.421875 33.015625 -1.421875 \nQ 20.359375 -1.421875 13.671875 8.265625 \nQ 6.984375 17.96875 6.984375 36.375 \nQ 6.984375 53.65625 15.1875 63.9375 \nQ 23.390625 74.21875 37.203125 74.21875 \nQ 40.921875 74.21875 44.703125 73.484375 \nQ 48.484375 72.75 52.59375 71.296875 \nz\n\" id=\"DejaVuSans-54\"/>\n       </defs>\n       <use xlink:href=\"#DejaVuSans-54\"/>\n      </g>\n     </g>\n    </g>\n    <g id=\"xtick_5\">\n     <g id=\"line2d_5\">\n      <g>\n       <use style=\"stroke:#000000;stroke-width:0.8;\" x=\"166.496245\" xlink:href=\"#mc487aa32b3\" y=\"295.2\"/>\n      </g>\n     </g>\n     <g id=\"text_5\">\n      <!-- 9 -->\n      <g transform=\"translate(163.314995 309.798437)scale(0.1 -0.1)\">\n       <defs>\n        <path d=\"M 10.984375 1.515625 \nL 10.984375 10.5 \nQ 14.703125 8.734375 18.5 7.8125 \nQ 22.3125 6.890625 25.984375 6.890625 \nQ 35.75 6.890625 40.890625 13.453125 \nQ 46.046875 20.015625 46.78125 33.40625 \nQ 43.953125 29.203125 39.59375 26.953125 \nQ 35.25 24.703125 29.984375 24.703125 \nQ 19.046875 24.703125 12.671875 31.3125 \nQ 6.296875 37.9375 6.296875 49.421875 \nQ 6.296875 60.640625 12.9375 67.421875 \nQ 19.578125 74.21875 30.609375 74.21875 \nQ 43.265625 74.21875 49.921875 64.515625 \nQ 56.59375 54.828125 56.59375 36.375 \nQ 56.59375 19.140625 48.40625 8.859375 \nQ 40.234375 -1.421875 26.421875 -1.421875 \nQ 22.703125 -1.421875 18.890625 -0.6875 \nQ 15.09375 0.046875 10.984375 1.515625 \nz\nM 30.609375 32.421875 \nQ 37.25 32.421875 41.125 36.953125 \nQ 45.015625 41.5 45.015625 49.421875 \nQ 45.015625 57.28125 41.125 61.84375 \nQ 37.25 66.40625 30.609375 66.40625 \nQ 23.96875 66.40625 20.09375 61.84375 \nQ 16.21875 57.28125 16.21875 49.421875 \nQ 16.21875 41.5 20.09375 36.953125 \nQ 23.96875 32.421875 30.609375 32.421875 \nz\n\" id=\"DejaVuSans-57\"/>\n       </defs>\n       <use xlink:href=\"#DejaVuSans-57\"/>\n      </g>\n     </g>\n    </g>\n    <g id=\"xtick_6\">\n     <g id=\"line2d_6\">\n      <g>\n       <use style=\"stroke:#000000;stroke-width:0.8;\" x=\"193.031872\" xlink:href=\"#mc487aa32b3\" y=\"295.2\"/>\n      </g>\n     </g>\n     <g id=\"text_6\">\n      <!-- 23 -->\n      <g transform=\"translate(186.669372 309.798437)scale(0.1 -0.1)\">\n       <defs>\n        <path d=\"M 19.1875 8.296875 \nL 53.609375 8.296875 \nL 53.609375 0 \nL 7.328125 0 \nL 7.328125 8.296875 \nQ 12.9375 14.109375 22.625 23.890625 \nQ 32.328125 33.6875 34.8125 36.53125 \nQ 39.546875 41.84375 41.421875 45.53125 \nQ 43.3125 49.21875 43.3125 52.78125 \nQ 43.3125 58.59375 39.234375 62.25 \nQ 35.15625 65.921875 28.609375 65.921875 \nQ 23.96875 65.921875 18.8125 64.3125 \nQ 13.671875 62.703125 7.8125 59.421875 \nL 7.8125 69.390625 \nQ 13.765625 71.78125 18.9375 73 \nQ 24.125 74.21875 28.421875 74.21875 \nQ 39.75 74.21875 46.484375 68.546875 \nQ 53.21875 62.890625 53.21875 53.421875 \nQ 53.21875 48.921875 51.53125 44.890625 \nQ 49.859375 40.875 45.40625 35.40625 \nQ 44.1875 33.984375 37.640625 27.21875 \nQ 31.109375 20.453125 19.1875 8.296875 \nz\n\" id=\"DejaVuSans-50\"/>\n       </defs>\n       <use xlink:href=\"#DejaVuSans-50\"/>\n       <use x=\"63.623047\" xlink:href=\"#DejaVuSans-51\"/>\n      </g>\n     </g>\n    </g>\n    <g id=\"xtick_7\">\n     <g id=\"line2d_7\">\n      <g>\n       <use style=\"stroke:#000000;stroke-width:0.8;\" x=\"219.567498\" xlink:href=\"#mc487aa32b3\" y=\"295.2\"/>\n      </g>\n     </g>\n     <g id=\"text_7\">\n      <!-- 24 -->\n      <g transform=\"translate(213.204998 309.798437)scale(0.1 -0.1)\">\n       <defs>\n        <path d=\"M 37.796875 64.3125 \nL 12.890625 25.390625 \nL 37.796875 25.390625 \nz\nM 35.203125 72.90625 \nL 47.609375 72.90625 \nL 47.609375 25.390625 \nL 58.015625 25.390625 \nL 58.015625 17.1875 \nL 47.609375 17.1875 \nL 47.609375 0 \nL 37.796875 0 \nL 37.796875 17.1875 \nL 4.890625 17.1875 \nL 4.890625 26.703125 \nz\n\" id=\"DejaVuSans-52\"/>\n       </defs>\n       <use xlink:href=\"#DejaVuSans-50\"/>\n       <use x=\"63.623047\" xlink:href=\"#DejaVuSans-52\"/>\n      </g>\n     </g>\n    </g>\n    <g id=\"xtick_8\">\n     <g id=\"line2d_8\">\n      <g>\n       <use style=\"stroke:#000000;stroke-width:0.8;\" x=\"246.103125\" xlink:href=\"#mc487aa32b3\" y=\"295.2\"/>\n      </g>\n     </g>\n     <g id=\"text_8\">\n      <!-- 26 -->\n      <g transform=\"translate(239.740625 309.798437)scale(0.1 -0.1)\">\n       <use xlink:href=\"#DejaVuSans-50\"/>\n       <use x=\"63.623047\" xlink:href=\"#DejaVuSans-54\"/>\n      </g>\n     </g>\n    </g>\n    <g id=\"xtick_9\">\n     <g id=\"line2d_9\">\n      <g>\n       <use style=\"stroke:#000000;stroke-width:0.8;\" x=\"272.638752\" xlink:href=\"#mc487aa32b3\" y=\"295.2\"/>\n      </g>\n     </g>\n     <g id=\"text_9\">\n      <!-- 28 -->\n      <g transform=\"translate(266.276252 309.798437)scale(0.1 -0.1)\">\n       <defs>\n        <path d=\"M 31.78125 34.625 \nQ 24.75 34.625 20.71875 30.859375 \nQ 16.703125 27.09375 16.703125 20.515625 \nQ 16.703125 13.921875 20.71875 10.15625 \nQ 24.75 6.390625 31.78125 6.390625 \nQ 38.8125 6.390625 42.859375 10.171875 \nQ 46.921875 13.96875 46.921875 20.515625 \nQ 46.921875 27.09375 42.890625 30.859375 \nQ 38.875 34.625 31.78125 34.625 \nz\nM 21.921875 38.8125 \nQ 15.578125 40.375 12.03125 44.71875 \nQ 8.5 49.078125 8.5 55.328125 \nQ 8.5 64.0625 14.71875 69.140625 \nQ 20.953125 74.21875 31.78125 74.21875 \nQ 42.671875 74.21875 48.875 69.140625 \nQ 55.078125 64.0625 55.078125 55.328125 \nQ 55.078125 49.078125 51.53125 44.71875 \nQ 48 40.375 41.703125 38.8125 \nQ 48.828125 37.15625 52.796875 32.3125 \nQ 56.78125 27.484375 56.78125 20.515625 \nQ 56.78125 9.90625 50.3125 4.234375 \nQ 43.84375 -1.421875 31.78125 -1.421875 \nQ 19.734375 -1.421875 13.25 4.234375 \nQ 6.78125 9.90625 6.78125 20.515625 \nQ 6.78125 27.484375 10.78125 32.3125 \nQ 14.796875 37.15625 21.921875 38.8125 \nz\nM 18.3125 54.390625 \nQ 18.3125 48.734375 21.84375 45.5625 \nQ 25.390625 42.390625 31.78125 42.390625 \nQ 38.140625 42.390625 41.71875 45.5625 \nQ 45.3125 48.734375 45.3125 54.390625 \nQ 45.3125 60.0625 41.71875 63.234375 \nQ 38.140625 66.40625 31.78125 66.40625 \nQ 25.390625 66.40625 21.84375 63.234375 \nQ 18.3125 60.0625 18.3125 54.390625 \nz\n\" id=\"DejaVuSans-56\"/>\n       </defs>\n       <use xlink:href=\"#DejaVuSans-50\"/>\n       <use x=\"63.623047\" xlink:href=\"#DejaVuSans-56\"/>\n      </g>\n     </g>\n    </g>\n    <g id=\"xtick_10\">\n     <g id=\"line2d_10\">\n      <g>\n       <use style=\"stroke:#000000;stroke-width:0.8;\" x=\"299.174378\" xlink:href=\"#mc487aa32b3\" y=\"295.2\"/>\n      </g>\n     </g>\n     <g id=\"text_10\">\n      <!-- 31 -->\n      <g transform=\"translate(292.811878 309.798437)scale(0.1 -0.1)\">\n       <defs>\n        <path d=\"M 12.40625 8.296875 \nL 28.515625 8.296875 \nL 28.515625 63.921875 \nL 10.984375 60.40625 \nL 10.984375 69.390625 \nL 28.421875 72.90625 \nL 38.28125 72.90625 \nL 38.28125 8.296875 \nL 54.390625 8.296875 \nL 54.390625 0 \nL 12.40625 0 \nz\n\" id=\"DejaVuSans-49\"/>\n       </defs>\n       <use xlink:href=\"#DejaVuSans-51\"/>\n       <use x=\"63.623047\" xlink:href=\"#DejaVuSans-49\"/>\n      </g>\n     </g>\n    </g>\n    <g id=\"xtick_11\">\n     <g id=\"line2d_11\">\n      <g>\n       <use style=\"stroke:#000000;stroke-width:0.8;\" x=\"325.710005\" xlink:href=\"#mc487aa32b3\" y=\"295.2\"/>\n      </g>\n     </g>\n     <g id=\"text_11\">\n      <!-- 34 -->\n      <g transform=\"translate(319.347505 309.798437)scale(0.1 -0.1)\">\n       <use xlink:href=\"#DejaVuSans-51\"/>\n       <use x=\"63.623047\" xlink:href=\"#DejaVuSans-52\"/>\n      </g>\n     </g>\n    </g>\n    <g id=\"xtick_12\">\n     <g id=\"line2d_12\">\n      <g>\n       <use style=\"stroke:#000000;stroke-width:0.8;\" x=\"352.245631\" xlink:href=\"#mc487aa32b3\" y=\"295.2\"/>\n      </g>\n     </g>\n     <g id=\"text_12\">\n      <!-- 36 -->\n      <g transform=\"translate(345.883131 309.798437)scale(0.1 -0.1)\">\n       <use xlink:href=\"#DejaVuSans-51\"/>\n       <use x=\"63.623047\" xlink:href=\"#DejaVuSans-54\"/>\n      </g>\n     </g>\n    </g>\n    <g id=\"xtick_13\">\n     <g id=\"line2d_13\">\n      <g>\n       <use style=\"stroke:#000000;stroke-width:0.8;\" x=\"378.781258\" xlink:href=\"#mc487aa32b3\" y=\"295.2\"/>\n      </g>\n     </g>\n     <g id=\"text_13\">\n      <!-- 43 -->\n      <g transform=\"translate(372.418758 309.798437)scale(0.1 -0.1)\">\n       <use xlink:href=\"#DejaVuSans-52\"/>\n       <use x=\"63.623047\" xlink:href=\"#DejaVuSans-51\"/>\n      </g>\n     </g>\n    </g>\n    <g id=\"xtick_14\">\n     <g id=\"line2d_14\">\n      <g>\n       <use style=\"stroke:#000000;stroke-width:0.8;\" x=\"405.316884\" xlink:href=\"#mc487aa32b3\" y=\"295.2\"/>\n      </g>\n     </g>\n     <g id=\"text_14\">\n      <!-- 44 -->\n      <g transform=\"translate(398.954384 309.798437)scale(0.1 -0.1)\">\n       <use xlink:href=\"#DejaVuSans-52\"/>\n       <use x=\"63.623047\" xlink:href=\"#DejaVuSans-52\"/>\n      </g>\n     </g>\n    </g>\n    <g id=\"xtick_15\">\n     <g id=\"line2d_15\">\n      <g>\n       <use style=\"stroke:#000000;stroke-width:0.8;\" x=\"431.852511\" xlink:href=\"#mc487aa32b3\" y=\"295.2\"/>\n      </g>\n     </g>\n     <g id=\"text_15\">\n      <!-- 48 -->\n      <g transform=\"translate(425.490011 309.798437)scale(0.1 -0.1)\">\n       <use xlink:href=\"#DejaVuSans-52\"/>\n       <use x=\"63.623047\" xlink:href=\"#DejaVuSans-56\"/>\n      </g>\n     </g>\n    </g>\n   </g>\n   <g id=\"matplotlib.axis_2\">\n    <g id=\"ytick_1\">\n     <g id=\"line2d_16\">\n      <defs>\n       <path d=\"M 0 0 \nL -3.5 0 \n\" id=\"m58a2a28477\" style=\"stroke:#000000;stroke-width:0.8;\"/>\n      </defs>\n      <g>\n       <use style=\"stroke:#000000;stroke-width:0.8;\" x=\"30.103125\" xlink:href=\"#m58a2a28477\" y=\"295.2\"/>\n      </g>\n     </g>\n     <g id=\"text_16\">\n      <!-- 0.0 -->\n      <g transform=\"translate(7.2 298.999219)scale(0.1 -0.1)\">\n       <defs>\n        <path d=\"M 10.6875 12.40625 \nL 21 12.40625 \nL 21 0 \nL 10.6875 0 \nz\n\" id=\"DejaVuSans-46\"/>\n       </defs>\n       <use xlink:href=\"#DejaVuSans-48\"/>\n       <use x=\"63.623047\" xlink:href=\"#DejaVuSans-46\"/>\n       <use x=\"95.410156\" xlink:href=\"#DejaVuSans-48\"/>\n      </g>\n     </g>\n    </g>\n    <g id=\"ytick_2\">\n     <g id=\"line2d_17\">\n      <g>\n       <use style=\"stroke:#000000;stroke-width:0.8;\" x=\"30.103125\" xlink:href=\"#m58a2a28477\" y=\"258.628571\"/>\n      </g>\n     </g>\n     <g id=\"text_17\">\n      <!-- 0.1 -->\n      <g transform=\"translate(7.2 262.42779)scale(0.1 -0.1)\">\n       <use xlink:href=\"#DejaVuSans-48\"/>\n       <use x=\"63.623047\" xlink:href=\"#DejaVuSans-46\"/>\n       <use x=\"95.410156\" xlink:href=\"#DejaVuSans-49\"/>\n      </g>\n     </g>\n    </g>\n    <g id=\"ytick_3\">\n     <g id=\"line2d_18\">\n      <g>\n       <use style=\"stroke:#000000;stroke-width:0.8;\" x=\"30.103125\" xlink:href=\"#m58a2a28477\" y=\"222.057143\"/>\n      </g>\n     </g>\n     <g id=\"text_18\">\n      <!-- 0.2 -->\n      <g transform=\"translate(7.2 225.856362)scale(0.1 -0.1)\">\n       <use xlink:href=\"#DejaVuSans-48\"/>\n       <use x=\"63.623047\" xlink:href=\"#DejaVuSans-46\"/>\n       <use x=\"95.410156\" xlink:href=\"#DejaVuSans-50\"/>\n      </g>\n     </g>\n    </g>\n    <g id=\"ytick_4\">\n     <g id=\"line2d_19\">\n      <g>\n       <use style=\"stroke:#000000;stroke-width:0.8;\" x=\"30.103125\" xlink:href=\"#m58a2a28477\" y=\"185.485714\"/>\n      </g>\n     </g>\n     <g id=\"text_19\">\n      <!-- 0.3 -->\n      <g transform=\"translate(7.2 189.284933)scale(0.1 -0.1)\">\n       <use xlink:href=\"#DejaVuSans-48\"/>\n       <use x=\"63.623047\" xlink:href=\"#DejaVuSans-46\"/>\n       <use x=\"95.410156\" xlink:href=\"#DejaVuSans-51\"/>\n      </g>\n     </g>\n    </g>\n    <g id=\"ytick_5\">\n     <g id=\"line2d_20\">\n      <g>\n       <use style=\"stroke:#000000;stroke-width:0.8;\" x=\"30.103125\" xlink:href=\"#m58a2a28477\" y=\"148.914286\"/>\n      </g>\n     </g>\n     <g id=\"text_20\">\n      <!-- 0.4 -->\n      <g transform=\"translate(7.2 152.713504)scale(0.1 -0.1)\">\n       <use xlink:href=\"#DejaVuSans-48\"/>\n       <use x=\"63.623047\" xlink:href=\"#DejaVuSans-46\"/>\n       <use x=\"95.410156\" xlink:href=\"#DejaVuSans-52\"/>\n      </g>\n     </g>\n    </g>\n    <g id=\"ytick_6\">\n     <g id=\"line2d_21\">\n      <g>\n       <use style=\"stroke:#000000;stroke-width:0.8;\" x=\"30.103125\" xlink:href=\"#m58a2a28477\" y=\"112.342857\"/>\n      </g>\n     </g>\n     <g id=\"text_21\">\n      <!-- 0.5 -->\n      <g transform=\"translate(7.2 116.142076)scale(0.1 -0.1)\">\n       <use xlink:href=\"#DejaVuSans-48\"/>\n       <use x=\"63.623047\" xlink:href=\"#DejaVuSans-46\"/>\n       <use x=\"95.410156\" xlink:href=\"#DejaVuSans-53\"/>\n      </g>\n     </g>\n    </g>\n    <g id=\"ytick_7\">\n     <g id=\"line2d_22\">\n      <g>\n       <use style=\"stroke:#000000;stroke-width:0.8;\" x=\"30.103125\" xlink:href=\"#m58a2a28477\" y=\"75.771429\"/>\n      </g>\n     </g>\n     <g id=\"text_22\">\n      <!-- 0.6 -->\n      <g transform=\"translate(7.2 79.570647)scale(0.1 -0.1)\">\n       <use xlink:href=\"#DejaVuSans-48\"/>\n       <use x=\"63.623047\" xlink:href=\"#DejaVuSans-46\"/>\n       <use x=\"95.410156\" xlink:href=\"#DejaVuSans-54\"/>\n      </g>\n     </g>\n    </g>\n    <g id=\"ytick_8\">\n     <g id=\"line2d_23\">\n      <g>\n       <use style=\"stroke:#000000;stroke-width:0.8;\" x=\"30.103125\" xlink:href=\"#m58a2a28477\" y=\"39.2\"/>\n      </g>\n     </g>\n     <g id=\"text_23\">\n      <!-- 0.7 -->\n      <g transform=\"translate(7.2 42.999219)scale(0.1 -0.1)\">\n       <defs>\n        <path d=\"M 8.203125 72.90625 \nL 55.078125 72.90625 \nL 55.078125 68.703125 \nL 28.609375 0 \nL 18.3125 0 \nL 43.21875 64.59375 \nL 8.203125 64.59375 \nz\n\" id=\"DejaVuSans-55\"/>\n       </defs>\n       <use xlink:href=\"#DejaVuSans-48\"/>\n       <use x=\"63.623047\" xlink:href=\"#DejaVuSans-46\"/>\n       <use x=\"95.410156\" xlink:href=\"#DejaVuSans-55\"/>\n      </g>\n     </g>\n    </g>\n   </g>\n   <g id=\"patch_18\">\n    <path d=\"M 30.103125 295.2 \nL 30.103125 7.2 \n\" style=\"fill:none;stroke:#000000;stroke-linecap:square;stroke-linejoin:miter;stroke-width:0.8;\"/>\n   </g>\n   <g id=\"patch_19\">\n    <path d=\"M 462.103125 295.2 \nL 462.103125 7.2 \n\" style=\"fill:none;stroke:#000000;stroke-linecap:square;stroke-linejoin:miter;stroke-width:0.8;\"/>\n   </g>\n   <g id=\"patch_20\">\n    <path d=\"M 30.103125 295.2 \nL 462.103125 295.2 \n\" style=\"fill:none;stroke:#000000;stroke-linecap:square;stroke-linejoin:miter;stroke-width:0.8;\"/>\n   </g>\n   <g id=\"patch_21\">\n    <path d=\"M 30.103125 7.2 \nL 462.103125 7.2 \n\" style=\"fill:none;stroke:#000000;stroke-linecap:square;stroke-linejoin:miter;stroke-width:0.8;\"/>\n   </g>\n  </g>\n </g>\n <defs>\n  <clipPath id=\"pb0138d02eb\">\n   <rect height=\"288\" width=\"432\" x=\"30.103125\" y=\"7.2\"/>\n  </clipPath>\n </defs>\n</svg>\n",
      "image/png": "[encoded data removed]"
     },
     "metadata": {
      "needs_background": "light"
     }
    },
    {
     "output_type": "stream",
     "name": "stdout",
     "text": [
      "Num de acc que pasa de 0.5:  15\n",
      "****************************************************\n",
      "0.3\n",
      "     ****************************************************\n",
      "     Bad accu\n",
      "     ****************************************************\n",
      "     Pred:  [0 1 1 0 0 0 1 1 0 0 0 0 0 1 1 1 0 0]\n",
      "     Data:  [0 1 0 0 1 0 1 1 0 1 0 1 0 1 0 0 0 0]\n",
      "     ACC 0.6666666666666666\n",
      "     F1 0.5714285714285714\n",
      "     Recal 0.5714285714285714\n",
      "     Precision 0.5714285714285714\n",
      "     ****************************************************\n",
      "     Bad accu\n",
      "     ****************************************************\n",
      "     Pred:  [0 0 0 0 0 1 1 1 0 0 1 0 0 0 1 1 0 1]\n",
      "     Data:  [0 0 0 0 0 0 0 1 1 0 0 0 1 0 0 0 0 0]\n",
      "     ACC 0.5555555555555556\n",
      "     F1 0.2\n",
      "     Recal 0.3333333333333333\n",
      "     Precision 0.14285714285714285\n",
      "     ****************************************************\n",
      "     Bad accu\n",
      "     ****************************************************\n",
      "     Pred:  [1 0 0 0 1 0 1 0 1 1 0 1 0 0 1 0 1 0]\n",
      "     Data:  [0 0 1 0 0 0 1 0 0 1 1 1 0 0 0 0 1 0]\n",
      "     ACC 0.6666666666666666\n",
      "     F1 0.5714285714285715\n",
      "     Recal 0.6666666666666666\n",
      "     Precision 0.5\n",
      "     ****************************************************\n",
      "     Pred:  [0 0 0 0 0 0 0 1 0 1 1 1 1 0 1 0 1 0]\n",
      "     Data:  [0 0 0 0 0 1 0 0 0 0 1 0 1 0 0 1 0 0]\n",
      "     ACC 0.6111111111111112\n",
      "     F1 0.36363636363636365\n",
      "     Recal 0.5\n",
      "     Precision 0.2857142857142857\n",
      "     ****************************************************\n",
      "     Pred:  [0 0 0 1 0 0 0 0 1 1 0 0 0 0 0 0 1 0]\n",
      "     Data:  [0 1 1 0 1 0 1 0 1 0 1 0 0 0 1 0 1 0]\n",
      "     ACC 0.5555555555555556\n",
      "     F1 0.3333333333333333\n",
      "     Recal 0.25\n",
      "     Precision 0.5\n",
      "     ****************************************************\n",
      "     Pred:  [1 0 1 0 0 0 0 0 1 0 0 0 0 0 1 0 1 0]\n",
      "     Data:  [1 1 1 0 0 0 1 1 0 1 0 1 0 0 0 1 1 0]\n",
      "     ACC 0.5555555555555556\n",
      "     F1 0.42857142857142855\n",
      "     Recal 0.3333333333333333\n",
      "     Precision 0.6\n",
      "     ****************************************************\n",
      "     Bad accu\n",
      "     ****************************************************\n",
      "     Bad accu\n",
      "     ****************************************************\n",
      "     Pred:  [0 0 0 0 1 0 0 0 1 0 0 0 0 0 0 0 0 1]\n",
      "     Data:  [1 0 0 0 1 0 0 0 0 1 0 1 0 0 1 1 1 1]\n",
      "     ACC 0.6111111111111112\n",
      "     F1 0.36363636363636365\n",
      "     Recal 0.25\n",
      "     Precision 0.6666666666666666\n",
      "     ****************************************************\n",
      "     Bad accu\n",
      "     ****************************************************\n",
      "     Bad accu\n",
      "     ****************************************************\n",
      "     Bad accu\n",
      "     ****************************************************\n",
      "     Pred:  [0 0 0 1 0 0 0 0 0 0 0 0 0 1 0 0 0 0]\n",
      "     Data:  [0 1 0 0 0 1 1 0 0 1 1 0 0 0 0 0 0 0]\n",
      "     ACC 0.6111111111111112\n",
      "     F1 0.0\n",
      "     Recal 0.0\n",
      "     Precision 0.0\n",
      "     ****************************************************\n",
      "     Bad accu\n",
      "     ****************************************************\n",
      "     Bad accu\n",
      "     ****************************************************\n",
      "     Pred:  [1 1 1 1 0 0 1 0 0 1 1 1 0 0 0 0 0 0]\n",
      "     Data:  [1 1 0 0 0 0 0 0 0 1 0 0 0 1 1 0 1 0]\n",
      "     ACC 0.5555555555555556\n",
      "     F1 0.42857142857142855\n",
      "     Recal 0.5\n",
      "     Precision 0.375\n",
      "     ****************************************************\n",
      "     Bad accu\n",
      "     ****************************************************\n",
      "     Bad accu\n",
      "     ****************************************************\n",
      "     Pred:  [0 0 0 0 1 0 0 0 0 0 0 1 1 0 1 0 1 0]\n",
      "     Data:  [0 0 1 0 0 1 0 0 1 1 0 1 0 0 1 0 1 0]\n",
      "     ACC 0.6666666666666666\n",
      "     F1 0.5\n",
      "     Recal 0.42857142857142855\n",
      "     Precision 0.6\n",
      "     ****************************************************\n",
      "     Bad accu\n",
      "     ****************************************************\n",
      "     Bad accu\n",
      "     ****************************************************\n",
      "     Pred:  [0 0 0 0 0 0 0 0 1 1 0 0 0 1 0 0 0 0]\n",
      "     Data:  [0 1 1 0 1 0 1 1 0 1 1 0 0 1 0 1 0 0]\n",
      "     ACC 0.5555555555555556\n",
      "     F1 0.3333333333333333\n",
      "     Recal 0.2222222222222222\n",
      "     Precision 0.6666666666666666\n",
      "     ****************************************************\n",
      "     Pred:  [0 0 1 0 0 1 0 0 0 0 0 0 1 1 0 0 0 0]\n",
      "     Data:  [0 0 0 0 1 1 1 1 1 0 0 0 1 0 0 0 0 1]\n",
      "     ACC 0.6111111111111112\n",
      "     F1 0.36363636363636365\n",
      "     Recal 0.2857142857142857\n",
      "     Precision 0.5\n",
      "     ****************************************************\n",
      "     Pred:  [0 0 1 0 0 0 0 0 0 0 0 0 0 1 0 0 0 1]\n",
      "     Data:  [1 1 1 1 0 0 1 1 0 0 0 1 0 1 1 0 1 1]\n",
      "     ACC 0.5555555555555556\n",
      "     F1 0.42857142857142855\n",
      "     Recal 0.2727272727272727\n",
      "     Precision 1.0\n",
      "     ****************************************************\n",
      "     Bad accu\n",
      "     ****************************************************\n",
      "     Bad accu\n",
      "     ****************************************************\n",
      "     Pred:  [1 1 0 1 0 0 0 1 0 0 1 0 0 1 0 1 1 0]\n",
      "     Data:  [0 0 1 0 0 0 0 0 0 0 0 1 0 1 0 1 0 0]\n",
      "     ACC 0.5555555555555556\n",
      "     F1 0.3333333333333333\n",
      "     Recal 0.5\n",
      "     Precision 0.25\n",
      "     ****************************************************\n",
      "     Bad accu\n",
      "     ****************************************************\n",
      "     Bad accu\n",
      "     ****************************************************\n",
      "     Pred:  [0 0 1 0 1 0 0 0 0 1 1 0 0 0 0 1 1 0]\n",
      "     Data:  [0 0 0 1 1 1 0 0 0 0 1 0 1 0 0 0 1 0]\n",
      "     ACC 0.6666666666666666\n",
      "     F1 0.5\n",
      "     Recal 0.5\n",
      "     Precision 0.5\n",
      "     ****************************************************\n",
      "     Bad accu\n",
      "     ****************************************************\n",
      "     Bad accu\n",
      "     ****************************************************\n",
      "     Bad accu\n",
      "     ****************************************************\n",
      "     Pred:  [0 0 0 0 1 0 1 1 0 0 1 0 1 1 0 0 0 0]\n",
      "     Data:  [0 0 0 1 0 0 1 1 0 0 0 0 0 0 1 0 0 1]\n",
      "     ACC 0.6111111111111112\n",
      "     F1 0.3636363636363636\n",
      "     Recal 0.4\n",
      "     Precision 0.3333333333333333\n",
      "     ****************************************************\n",
      "     Pred:  [0 1 0 0 0 0 0 1 0 0 0 0 0 1 0 0 1 0]\n",
      "     Data:  [0 0 0 1 1 0 0 1 0 0 1 0 0 0 1 1 0 0]\n",
      "     ACC 0.5555555555555556\n",
      "     F1 0.2\n",
      "     Recal 0.16666666666666666\n",
      "     Precision 0.25\n",
      "     ****************************************************\n",
      "     Bad accu\n",
      "     ****************************************************\n",
      "     Pred:  [0 0 1 0 1 1 0 1 0 0 0 1 1 1 0 0 0 0]\n",
      "     Data:  [1 0 0 0 0 0 0 1 1 0 1 0 1 1 0 0 0 1]\n",
      "     ACC 0.5555555555555556\n",
      "     F1 0.42857142857142855\n",
      "     Recal 0.42857142857142855\n",
      "     Precision 0.42857142857142855\n",
      "     ****************************************************\n",
      "     Bad accu\n",
      "     ****************************************************\n",
      "     Bad accu\n",
      "     ****************************************************\n",
      "     Bad accu\n",
      "     ****************************************************\n",
      "     Pred:  [0 1 0 0 0 0 0 1 0 0 0 1 1 1 0 1 0 1]\n",
      "     Data:  [0 0 1 0 0 1 0 0 0 0 0 1 1 1 1 1 0 1]\n",
      "     ACC 0.7222222222222222\n",
      "     F1 0.6666666666666666\n",
      "     Recal 0.625\n",
      "     Precision 0.7142857142857143\n",
      "     ****************************************************\n",
      "     Bad accu\n",
      "     ****************************************************\n",
      "     Pred:  [0 1 1 0 0 0 0 1 0 1 1 1 1 0 0 0 1 1]\n",
      "     Data:  [0 0 1 1 0 0 0 0 0 0 1 0 1 1 0 0 1 0]\n",
      "     ACC 0.6111111111111112\n",
      "     F1 0.5333333333333333\n",
      "     Recal 0.6666666666666666\n",
      "     Precision 0.4444444444444444\n",
      "     ****************************************************\n",
      "     Bad accu\n",
      "     ****************************************************\n",
      "     Bad accu\n",
      "     ****************************************************\n",
      "     Pred:  [0 1 0 0 0 0 0 0 1 1 0 0 1 0 0 0 0 1]\n",
      "     Data:  [1 1 0 1 0 0 1 0 1 0 0 1 0 0 0 0 0 1]\n",
      "     ACC 0.6666666666666666\n",
      "     F1 0.5\n",
      "     Recal 0.42857142857142855\n",
      "     Precision 0.6\n",
      "     ****************************************************\n",
      "     Bad accu\n"
     ]
    },
    {
     "output_type": "display_data",
     "data": {
      "text/plain": "<Figure size 432x288 with 1 Axes>",
      "image/svg+xml": "<?xml version=\"1.0\" encoding=\"utf-8\" standalone=\"no\"?>\n<!DOCTYPE svg PUBLIC \"-//W3C//DTD SVG 1.1//EN\"\n  \"http://www.w3.org/Graphics/SVG/1.1/DTD/svg11.dtd\">\n<!-- Created with matplotlib (https://matplotlib.org/) -->\n<svg height=\"319.078125pt\" version=\"1.1\" viewBox=\"0 0 469.303125 319.078125\" width=\"469.303125pt\" xmlns=\"http://www.w3.org/2000/svg\" xmlns:xlink=\"http://www.w3.org/1999/xlink\">\n <metadata>\n  <rdf:RDF xmlns:cc=\"http://creativecommons.org/ns#\" xmlns:dc=\"http://purl.org/dc/elements/1.1/\" xmlns:rdf=\"http://www.w3.org/1999/02/22-rdf-syntax-ns#\">\n   <cc:Work>\n    <dc:type rdf:resource=\"http://purl.org/dc/dcmitype/StillImage\"/>\n    <dc:date>2021-02-24T12:48:20.684824</dc:date>\n    <dc:format>image/svg+xml</dc:format>\n    <dc:creator>\n     <cc:Agent>\n      <dc:title>Matplotlib v3.3.2, https://matplotlib.org/</dc:title>\n     </cc:Agent>\n    </dc:creator>\n   </cc:Work>\n  </rdf:RDF>\n </metadata>\n <defs>\n  <style type=\"text/css\">*{stroke-linecap:butt;stroke-linejoin:round;}</style>\n </defs>\n <g id=\"figure_1\">\n  <g id=\"patch_1\">\n   <path d=\"M 0 319.078125 \nL 469.303125 319.078125 \nL 469.303125 0 \nL 0 0 \nz\n\" style=\"fill:none;\"/>\n  </g>\n  <g id=\"axes_1\">\n   <g id=\"patch_2\">\n    <path d=\"M 30.103125 295.2 \nL 462.103125 295.2 \nL 462.103125 7.2 \nL 30.103125 7.2 \nz\n\" style=\"fill:#ffffff;\"/>\n   </g>\n   <g id=\"patch_3\">\n    <path clip-path=\"url(#p6d5cb87708)\" d=\"M 49.739489 295.2 \nL 64.844384 295.2 \nL 64.844384 42.013187 \nL 49.739489 42.013187 \nz\n\" style=\"fill:#1f77b4;\"/>\n   </g>\n   <g id=\"patch_4\">\n    <path clip-path=\"url(#p6d5cb87708)\" d=\"M 68.620608 295.2 \nL 83.725503 295.2 \nL 83.725503 84.210989 \nL 68.620608 84.210989 \nz\n\" style=\"fill:#1f77b4;\"/>\n   </g>\n   <g id=\"patch_5\">\n    <path clip-path=\"url(#p6d5cb87708)\" d=\"M 87.501726 295.2 \nL 102.606622 295.2 \nL 102.606622 42.013187 \nL 87.501726 42.013187 \nz\n\" style=\"fill:#1f77b4;\"/>\n   </g>\n   <g id=\"patch_6\">\n    <path clip-path=\"url(#p6d5cb87708)\" d=\"M 106.382845 295.2 \nL 121.48774 295.2 \nL 121.48774 63.112088 \nL 106.382845 63.112088 \nz\n\" style=\"fill:#1f77b4;\"/>\n   </g>\n   <g id=\"patch_7\">\n    <path clip-path=\"url(#p6d5cb87708)\" d=\"M 125.263964 295.2 \nL 140.368859 295.2 \nL 140.368859 84.210989 \nL 125.263964 84.210989 \nz\n\" style=\"fill:#1f77b4;\"/>\n   </g>\n   <g id=\"patch_8\">\n    <path clip-path=\"url(#p6d5cb87708)\" d=\"M 144.145083 295.2 \nL 159.249978 295.2 \nL 159.249978 84.210989 \nL 144.145083 84.210989 \nz\n\" style=\"fill:#1f77b4;\"/>\n   </g>\n   <g id=\"patch_9\">\n    <path clip-path=\"url(#p6d5cb87708)\" d=\"M 163.026202 295.2 \nL 178.131097 295.2 \nL 178.131097 63.112088 \nL 163.026202 63.112088 \nz\n\" style=\"fill:#1f77b4;\"/>\n   </g>\n   <g id=\"patch_10\">\n    <path clip-path=\"url(#p6d5cb87708)\" d=\"M 181.907321 295.2 \nL 197.012216 295.2 \nL 197.012216 63.112088 \nL 181.907321 63.112088 \nz\n\" style=\"fill:#1f77b4;\"/>\n   </g>\n   <g id=\"patch_11\">\n    <path clip-path=\"url(#p6d5cb87708)\" d=\"M 200.78844 295.2 \nL 215.893335 295.2 \nL 215.893335 84.210989 \nL 200.78844 84.210989 \nz\n\" style=\"fill:#1f77b4;\"/>\n   </g>\n   <g id=\"patch_12\">\n    <path clip-path=\"url(#p6d5cb87708)\" d=\"M 219.669559 295.2 \nL 234.774454 295.2 \nL 234.774454 42.013187 \nL 219.669559 42.013187 \nz\n\" style=\"fill:#1f77b4;\"/>\n   </g>\n   <g id=\"patch_13\">\n    <path clip-path=\"url(#p6d5cb87708)\" d=\"M 238.550677 295.2 \nL 253.655573 295.2 \nL 253.655573 84.210989 \nL 238.550677 84.210989 \nz\n\" style=\"fill:#1f77b4;\"/>\n   </g>\n   <g id=\"patch_14\">\n    <path clip-path=\"url(#p6d5cb87708)\" d=\"M 257.431796 295.2 \nL 272.536691 295.2 \nL 272.536691 63.112088 \nL 257.431796 63.112088 \nz\n\" style=\"fill:#1f77b4;\"/>\n   </g>\n   <g id=\"patch_15\">\n    <path clip-path=\"url(#p6d5cb87708)\" d=\"M 276.312915 295.2 \nL 291.41781 295.2 \nL 291.41781 84.210989 \nL 276.312915 84.210989 \nz\n\" style=\"fill:#1f77b4;\"/>\n   </g>\n   <g id=\"patch_16\">\n    <path clip-path=\"url(#p6d5cb87708)\" d=\"M 295.194034 295.2 \nL 310.298929 295.2 \nL 310.298929 84.210989 \nL 295.194034 84.210989 \nz\n\" style=\"fill:#1f77b4;\"/>\n   </g>\n   <g id=\"patch_17\">\n    <path clip-path=\"url(#p6d5cb87708)\" d=\"M 314.075153 295.2 \nL 329.180048 295.2 \nL 329.180048 42.013187 \nL 314.075153 42.013187 \nz\n\" style=\"fill:#1f77b4;\"/>\n   </g>\n   <g id=\"patch_18\">\n    <path clip-path=\"url(#p6d5cb87708)\" d=\"M 332.956272 295.2 \nL 348.061167 295.2 \nL 348.061167 63.112088 \nL 332.956272 63.112088 \nz\n\" style=\"fill:#1f77b4;\"/>\n   </g>\n   <g id=\"patch_19\">\n    <path clip-path=\"url(#p6d5cb87708)\" d=\"M 351.837391 295.2 \nL 366.942286 295.2 \nL 366.942286 84.210989 \nL 351.837391 84.210989 \nz\n\" style=\"fill:#1f77b4;\"/>\n   </g>\n   <g id=\"patch_20\">\n    <path clip-path=\"url(#p6d5cb87708)\" d=\"M 370.71851 295.2 \nL 385.823405 295.2 \nL 385.823405 84.210989 \nL 370.71851 84.210989 \nz\n\" style=\"fill:#1f77b4;\"/>\n   </g>\n   <g id=\"patch_21\">\n    <path clip-path=\"url(#p6d5cb87708)\" d=\"M 389.599628 295.2 \nL 404.704524 295.2 \nL 404.704524 20.914286 \nL 389.599628 20.914286 \nz\n\" style=\"fill:#1f77b4;\"/>\n   </g>\n   <g id=\"patch_22\">\n    <path clip-path=\"url(#p6d5cb87708)\" d=\"M 408.480747 295.2 \nL 423.585642 295.2 \nL 423.585642 63.112088 \nL 408.480747 63.112088 \nz\n\" style=\"fill:#1f77b4;\"/>\n   </g>\n   <g id=\"patch_23\">\n    <path clip-path=\"url(#p6d5cb87708)\" d=\"M 427.361866 295.2 \nL 442.466761 295.2 \nL 442.466761 42.013187 \nL 427.361866 42.013187 \nz\n\" style=\"fill:#1f77b4;\"/>\n   </g>\n   <g id=\"matplotlib.axis_1\">\n    <g id=\"xtick_1\">\n     <g id=\"line2d_1\">\n      <defs>\n       <path d=\"M 0 0 \nL 0 3.5 \n\" id=\"m8f0ceac7c1\" style=\"stroke:#000000;stroke-width:0.8;\"/>\n      </defs>\n      <g>\n       <use style=\"stroke:#000000;stroke-width:0.8;\" x=\"57.291936\" xlink:href=\"#m8f0ceac7c1\" y=\"295.2\"/>\n      </g>\n     </g>\n     <g id=\"text_1\">\n      <!-- 1 -->\n      <g transform=\"translate(54.110686 309.798437)scale(0.1 -0.1)\">\n       <defs>\n        <path d=\"M 12.40625 8.296875 \nL 28.515625 8.296875 \nL 28.515625 63.921875 \nL 10.984375 60.40625 \nL 10.984375 69.390625 \nL 28.421875 72.90625 \nL 38.28125 72.90625 \nL 38.28125 8.296875 \nL 54.390625 8.296875 \nL 54.390625 0 \nL 12.40625 0 \nz\n\" id=\"DejaVuSans-49\"/>\n       </defs>\n       <use xlink:href=\"#DejaVuSans-49\"/>\n      </g>\n     </g>\n    </g>\n    <g id=\"xtick_2\">\n     <g id=\"line2d_2\">\n      <g>\n       <use style=\"stroke:#000000;stroke-width:0.8;\" x=\"76.173055\" xlink:href=\"#m8f0ceac7c1\" y=\"295.2\"/>\n      </g>\n     </g>\n     <g id=\"text_2\">\n      <!-- 3 -->\n      <g transform=\"translate(72.991805 309.798437)scale(0.1 -0.1)\">\n       <defs>\n        <path d=\"M 40.578125 39.3125 \nQ 47.65625 37.796875 51.625 33 \nQ 55.609375 28.21875 55.609375 21.1875 \nQ 55.609375 10.40625 48.1875 4.484375 \nQ 40.765625 -1.421875 27.09375 -1.421875 \nQ 22.515625 -1.421875 17.65625 -0.515625 \nQ 12.796875 0.390625 7.625 2.203125 \nL 7.625 11.71875 \nQ 11.71875 9.328125 16.59375 8.109375 \nQ 21.484375 6.890625 26.8125 6.890625 \nQ 36.078125 6.890625 40.9375 10.546875 \nQ 45.796875 14.203125 45.796875 21.1875 \nQ 45.796875 27.640625 41.28125 31.265625 \nQ 36.765625 34.90625 28.71875 34.90625 \nL 20.21875 34.90625 \nL 20.21875 43.015625 \nL 29.109375 43.015625 \nQ 36.375 43.015625 40.234375 45.921875 \nQ 44.09375 48.828125 44.09375 54.296875 \nQ 44.09375 59.90625 40.109375 62.90625 \nQ 36.140625 65.921875 28.71875 65.921875 \nQ 24.65625 65.921875 20.015625 65.03125 \nQ 15.375 64.15625 9.8125 62.3125 \nL 9.8125 71.09375 \nQ 15.4375 72.65625 20.34375 73.4375 \nQ 25.25 74.21875 29.59375 74.21875 \nQ 40.828125 74.21875 47.359375 69.109375 \nQ 53.90625 64.015625 53.90625 55.328125 \nQ 53.90625 49.265625 50.4375 45.09375 \nQ 46.96875 40.921875 40.578125 39.3125 \nz\n\" id=\"DejaVuSans-51\"/>\n       </defs>\n       <use xlink:href=\"#DejaVuSans-51\"/>\n      </g>\n     </g>\n    </g>\n    <g id=\"xtick_3\">\n     <g id=\"line2d_3\">\n      <g>\n       <use style=\"stroke:#000000;stroke-width:0.8;\" x=\"95.054174\" xlink:href=\"#m8f0ceac7c1\" y=\"295.2\"/>\n      </g>\n     </g>\n     <g id=\"text_3\">\n      <!-- 5 -->\n      <g transform=\"translate(91.872924 309.798437)scale(0.1 -0.1)\">\n       <defs>\n        <path d=\"M 10.796875 72.90625 \nL 49.515625 72.90625 \nL 49.515625 64.59375 \nL 19.828125 64.59375 \nL 19.828125 46.734375 \nQ 21.96875 47.46875 24.109375 47.828125 \nQ 26.265625 48.1875 28.421875 48.1875 \nQ 40.625 48.1875 47.75 41.5 \nQ 54.890625 34.8125 54.890625 23.390625 \nQ 54.890625 11.625 47.5625 5.09375 \nQ 40.234375 -1.421875 26.90625 -1.421875 \nQ 22.3125 -1.421875 17.546875 -0.640625 \nQ 12.796875 0.140625 7.71875 1.703125 \nL 7.71875 11.625 \nQ 12.109375 9.234375 16.796875 8.0625 \nQ 21.484375 6.890625 26.703125 6.890625 \nQ 35.15625 6.890625 40.078125 11.328125 \nQ 45.015625 15.765625 45.015625 23.390625 \nQ 45.015625 31 40.078125 35.4375 \nQ 35.15625 39.890625 26.703125 39.890625 \nQ 22.75 39.890625 18.8125 39.015625 \nQ 14.890625 38.140625 10.796875 36.28125 \nz\n\" id=\"DejaVuSans-53\"/>\n       </defs>\n       <use xlink:href=\"#DejaVuSans-53\"/>\n      </g>\n     </g>\n    </g>\n    <g id=\"xtick_4\">\n     <g id=\"line2d_4\">\n      <g>\n       <use style=\"stroke:#000000;stroke-width:0.8;\" x=\"113.935293\" xlink:href=\"#m8f0ceac7c1\" y=\"295.2\"/>\n      </g>\n     </g>\n     <g id=\"text_4\">\n      <!-- 6 -->\n      <g transform=\"translate(110.754043 309.798437)scale(0.1 -0.1)\">\n       <defs>\n        <path d=\"M 33.015625 40.375 \nQ 26.375 40.375 22.484375 35.828125 \nQ 18.609375 31.296875 18.609375 23.390625 \nQ 18.609375 15.53125 22.484375 10.953125 \nQ 26.375 6.390625 33.015625 6.390625 \nQ 39.65625 6.390625 43.53125 10.953125 \nQ 47.40625 15.53125 47.40625 23.390625 \nQ 47.40625 31.296875 43.53125 35.828125 \nQ 39.65625 40.375 33.015625 40.375 \nz\nM 52.59375 71.296875 \nL 52.59375 62.3125 \nQ 48.875 64.0625 45.09375 64.984375 \nQ 41.3125 65.921875 37.59375 65.921875 \nQ 27.828125 65.921875 22.671875 59.328125 \nQ 17.53125 52.734375 16.796875 39.40625 \nQ 19.671875 43.65625 24.015625 45.921875 \nQ 28.375 48.1875 33.59375 48.1875 \nQ 44.578125 48.1875 50.953125 41.515625 \nQ 57.328125 34.859375 57.328125 23.390625 \nQ 57.328125 12.15625 50.6875 5.359375 \nQ 44.046875 -1.421875 33.015625 -1.421875 \nQ 20.359375 -1.421875 13.671875 8.265625 \nQ 6.984375 17.96875 6.984375 36.375 \nQ 6.984375 53.65625 15.1875 63.9375 \nQ 23.390625 74.21875 37.203125 74.21875 \nQ 40.921875 74.21875 44.703125 73.484375 \nQ 48.484375 72.75 52.59375 71.296875 \nz\n\" id=\"DejaVuSans-54\"/>\n       </defs>\n       <use xlink:href=\"#DejaVuSans-54\"/>\n      </g>\n     </g>\n    </g>\n    <g id=\"xtick_5\">\n     <g id=\"line2d_5\">\n      <g>\n       <use style=\"stroke:#000000;stroke-width:0.8;\" x=\"132.816412\" xlink:href=\"#m8f0ceac7c1\" y=\"295.2\"/>\n      </g>\n     </g>\n     <g id=\"text_5\">\n      <!-- 7 -->\n      <g transform=\"translate(129.635162 309.798437)scale(0.1 -0.1)\">\n       <defs>\n        <path d=\"M 8.203125 72.90625 \nL 55.078125 72.90625 \nL 55.078125 68.703125 \nL 28.609375 0 \nL 18.3125 0 \nL 43.21875 64.59375 \nL 8.203125 64.59375 \nz\n\" id=\"DejaVuSans-55\"/>\n       </defs>\n       <use xlink:href=\"#DejaVuSans-55\"/>\n      </g>\n     </g>\n    </g>\n    <g id=\"xtick_6\">\n     <g id=\"line2d_6\">\n      <g>\n       <use style=\"stroke:#000000;stroke-width:0.8;\" x=\"151.697531\" xlink:href=\"#m8f0ceac7c1\" y=\"295.2\"/>\n      </g>\n     </g>\n     <g id=\"text_6\">\n      <!-- 8 -->\n      <g transform=\"translate(148.516281 309.798437)scale(0.1 -0.1)\">\n       <defs>\n        <path d=\"M 31.78125 34.625 \nQ 24.75 34.625 20.71875 30.859375 \nQ 16.703125 27.09375 16.703125 20.515625 \nQ 16.703125 13.921875 20.71875 10.15625 \nQ 24.75 6.390625 31.78125 6.390625 \nQ 38.8125 6.390625 42.859375 10.171875 \nQ 46.921875 13.96875 46.921875 20.515625 \nQ 46.921875 27.09375 42.890625 30.859375 \nQ 38.875 34.625 31.78125 34.625 \nz\nM 21.921875 38.8125 \nQ 15.578125 40.375 12.03125 44.71875 \nQ 8.5 49.078125 8.5 55.328125 \nQ 8.5 64.0625 14.71875 69.140625 \nQ 20.953125 74.21875 31.78125 74.21875 \nQ 42.671875 74.21875 48.875 69.140625 \nQ 55.078125 64.0625 55.078125 55.328125 \nQ 55.078125 49.078125 51.53125 44.71875 \nQ 48 40.375 41.703125 38.8125 \nQ 48.828125 37.15625 52.796875 32.3125 \nQ 56.78125 27.484375 56.78125 20.515625 \nQ 56.78125 9.90625 50.3125 4.234375 \nQ 43.84375 -1.421875 31.78125 -1.421875 \nQ 19.734375 -1.421875 13.25 4.234375 \nQ 6.78125 9.90625 6.78125 20.515625 \nQ 6.78125 27.484375 10.78125 32.3125 \nQ 14.796875 37.15625 21.921875 38.8125 \nz\nM 18.3125 54.390625 \nQ 18.3125 48.734375 21.84375 45.5625 \nQ 25.390625 42.390625 31.78125 42.390625 \nQ 38.140625 42.390625 41.71875 45.5625 \nQ 45.3125 48.734375 45.3125 54.390625 \nQ 45.3125 60.0625 41.71875 63.234375 \nQ 38.140625 66.40625 31.78125 66.40625 \nQ 25.390625 66.40625 21.84375 63.234375 \nQ 18.3125 60.0625 18.3125 54.390625 \nz\n\" id=\"DejaVuSans-56\"/>\n       </defs>\n       <use xlink:href=\"#DejaVuSans-56\"/>\n      </g>\n     </g>\n    </g>\n    <g id=\"xtick_7\">\n     <g id=\"line2d_7\">\n      <g>\n       <use style=\"stroke:#000000;stroke-width:0.8;\" x=\"170.578649\" xlink:href=\"#m8f0ceac7c1\" y=\"295.2\"/>\n      </g>\n     </g>\n     <g id=\"text_7\">\n      <!-- 11 -->\n      <g transform=\"translate(164.216149 309.798437)scale(0.1 -0.1)\">\n       <use xlink:href=\"#DejaVuSans-49\"/>\n       <use x=\"63.623047\" xlink:href=\"#DejaVuSans-49\"/>\n      </g>\n     </g>\n    </g>\n    <g id=\"xtick_8\">\n     <g id=\"line2d_8\">\n      <g>\n       <use style=\"stroke:#000000;stroke-width:0.8;\" x=\"189.459768\" xlink:href=\"#m8f0ceac7c1\" y=\"295.2\"/>\n      </g>\n     </g>\n     <g id=\"text_8\">\n      <!-- 15 -->\n      <g transform=\"translate(183.097268 309.798437)scale(0.1 -0.1)\">\n       <use xlink:href=\"#DejaVuSans-49\"/>\n       <use x=\"63.623047\" xlink:href=\"#DejaVuSans-53\"/>\n      </g>\n     </g>\n    </g>\n    <g id=\"xtick_9\">\n     <g id=\"line2d_9\">\n      <g>\n       <use style=\"stroke:#000000;stroke-width:0.8;\" x=\"208.340887\" xlink:href=\"#m8f0ceac7c1\" y=\"295.2\"/>\n      </g>\n     </g>\n     <g id=\"text_9\">\n      <!-- 18 -->\n      <g transform=\"translate(201.978387 309.798437)scale(0.1 -0.1)\">\n       <use xlink:href=\"#DejaVuSans-49\"/>\n       <use x=\"63.623047\" xlink:href=\"#DejaVuSans-56\"/>\n      </g>\n     </g>\n    </g>\n    <g id=\"xtick_10\">\n     <g id=\"line2d_10\">\n      <g>\n       <use style=\"stroke:#000000;stroke-width:0.8;\" x=\"227.222006\" xlink:href=\"#m8f0ceac7c1\" y=\"295.2\"/>\n      </g>\n     </g>\n     <g id=\"text_10\">\n      <!-- 21 -->\n      <g transform=\"translate(220.859506 309.798437)scale(0.1 -0.1)\">\n       <defs>\n        <path d=\"M 19.1875 8.296875 \nL 53.609375 8.296875 \nL 53.609375 0 \nL 7.328125 0 \nL 7.328125 8.296875 \nQ 12.9375 14.109375 22.625 23.890625 \nQ 32.328125 33.6875 34.8125 36.53125 \nQ 39.546875 41.84375 41.421875 45.53125 \nQ 43.3125 49.21875 43.3125 52.78125 \nQ 43.3125 58.59375 39.234375 62.25 \nQ 35.15625 65.921875 28.609375 65.921875 \nQ 23.96875 65.921875 18.8125 64.3125 \nQ 13.671875 62.703125 7.8125 59.421875 \nL 7.8125 69.390625 \nQ 13.765625 71.78125 18.9375 73 \nQ 24.125 74.21875 28.421875 74.21875 \nQ 39.75 74.21875 46.484375 68.546875 \nQ 53.21875 62.890625 53.21875 53.421875 \nQ 53.21875 48.921875 51.53125 44.890625 \nQ 49.859375 40.875 45.40625 35.40625 \nQ 44.1875 33.984375 37.640625 27.21875 \nQ 31.109375 20.453125 19.1875 8.296875 \nz\n\" id=\"DejaVuSans-50\"/>\n       </defs>\n       <use xlink:href=\"#DejaVuSans-50\"/>\n       <use x=\"63.623047\" xlink:href=\"#DejaVuSans-49\"/>\n      </g>\n     </g>\n    </g>\n    <g id=\"xtick_11\">\n     <g id=\"line2d_11\">\n      <g>\n       <use style=\"stroke:#000000;stroke-width:0.8;\" x=\"246.103125\" xlink:href=\"#m8f0ceac7c1\" y=\"295.2\"/>\n      </g>\n     </g>\n     <g id=\"text_11\">\n      <!-- 24 -->\n      <g transform=\"translate(239.740625 309.798437)scale(0.1 -0.1)\">\n       <defs>\n        <path d=\"M 37.796875 64.3125 \nL 12.890625 25.390625 \nL 37.796875 25.390625 \nz\nM 35.203125 72.90625 \nL 47.609375 72.90625 \nL 47.609375 25.390625 \nL 58.015625 25.390625 \nL 58.015625 17.1875 \nL 47.609375 17.1875 \nL 47.609375 0 \nL 37.796875 0 \nL 37.796875 17.1875 \nL 4.890625 17.1875 \nL 4.890625 26.703125 \nz\n\" id=\"DejaVuSans-52\"/>\n       </defs>\n       <use xlink:href=\"#DejaVuSans-50\"/>\n       <use x=\"63.623047\" xlink:href=\"#DejaVuSans-52\"/>\n      </g>\n     </g>\n    </g>\n    <g id=\"xtick_12\">\n     <g id=\"line2d_12\">\n      <g>\n       <use style=\"stroke:#000000;stroke-width:0.8;\" x=\"264.984244\" xlink:href=\"#m8f0ceac7c1\" y=\"295.2\"/>\n      </g>\n     </g>\n     <g id=\"text_12\">\n      <!-- 25 -->\n      <g transform=\"translate(258.621744 309.798437)scale(0.1 -0.1)\">\n       <use xlink:href=\"#DejaVuSans-50\"/>\n       <use x=\"63.623047\" xlink:href=\"#DejaVuSans-53\"/>\n      </g>\n     </g>\n    </g>\n    <g id=\"xtick_13\">\n     <g id=\"line2d_13\">\n      <g>\n       <use style=\"stroke:#000000;stroke-width:0.8;\" x=\"283.865363\" xlink:href=\"#m8f0ceac7c1\" y=\"295.2\"/>\n      </g>\n     </g>\n     <g id=\"text_13\">\n      <!-- 26 -->\n      <g transform=\"translate(277.502863 309.798437)scale(0.1 -0.1)\">\n       <use xlink:href=\"#DejaVuSans-50\"/>\n       <use x=\"63.623047\" xlink:href=\"#DejaVuSans-54\"/>\n      </g>\n     </g>\n    </g>\n    <g id=\"xtick_14\">\n     <g id=\"line2d_14\">\n      <g>\n       <use style=\"stroke:#000000;stroke-width:0.8;\" x=\"302.746482\" xlink:href=\"#m8f0ceac7c1\" y=\"295.2\"/>\n      </g>\n     </g>\n     <g id=\"text_14\">\n      <!-- 29 -->\n      <g transform=\"translate(296.383982 309.798437)scale(0.1 -0.1)\">\n       <defs>\n        <path d=\"M 10.984375 1.515625 \nL 10.984375 10.5 \nQ 14.703125 8.734375 18.5 7.8125 \nQ 22.3125 6.890625 25.984375 6.890625 \nQ 35.75 6.890625 40.890625 13.453125 \nQ 46.046875 20.015625 46.78125 33.40625 \nQ 43.953125 29.203125 39.59375 26.953125 \nQ 35.25 24.703125 29.984375 24.703125 \nQ 19.046875 24.703125 12.671875 31.3125 \nQ 6.296875 37.9375 6.296875 49.421875 \nQ 6.296875 60.640625 12.9375 67.421875 \nQ 19.578125 74.21875 30.609375 74.21875 \nQ 43.265625 74.21875 49.921875 64.515625 \nQ 56.59375 54.828125 56.59375 36.375 \nQ 56.59375 19.140625 48.40625 8.859375 \nQ 40.234375 -1.421875 26.421875 -1.421875 \nQ 22.703125 -1.421875 18.890625 -0.6875 \nQ 15.09375 0.046875 10.984375 1.515625 \nz\nM 30.609375 32.421875 \nQ 37.25 32.421875 41.125 36.953125 \nQ 45.015625 41.5 45.015625 49.421875 \nQ 45.015625 57.28125 41.125 61.84375 \nQ 37.25 66.40625 30.609375 66.40625 \nQ 23.96875 66.40625 20.09375 61.84375 \nQ 16.21875 57.28125 16.21875 49.421875 \nQ 16.21875 41.5 20.09375 36.953125 \nQ 23.96875 32.421875 30.609375 32.421875 \nz\n\" id=\"DejaVuSans-57\"/>\n       </defs>\n       <use xlink:href=\"#DejaVuSans-50\"/>\n       <use x=\"63.623047\" xlink:href=\"#DejaVuSans-57\"/>\n      </g>\n     </g>\n    </g>\n    <g id=\"xtick_15\">\n     <g id=\"line2d_15\">\n      <g>\n       <use style=\"stroke:#000000;stroke-width:0.8;\" x=\"321.627601\" xlink:href=\"#m8f0ceac7c1\" y=\"295.2\"/>\n      </g>\n     </g>\n     <g id=\"text_15\">\n      <!-- 32 -->\n      <g transform=\"translate(315.265101 309.798437)scale(0.1 -0.1)\">\n       <use xlink:href=\"#DejaVuSans-51\"/>\n       <use x=\"63.623047\" xlink:href=\"#DejaVuSans-50\"/>\n      </g>\n     </g>\n    </g>\n    <g id=\"xtick_16\">\n     <g id=\"line2d_16\">\n      <g>\n       <use style=\"stroke:#000000;stroke-width:0.8;\" x=\"340.508719\" xlink:href=\"#m8f0ceac7c1\" y=\"295.2\"/>\n      </g>\n     </g>\n     <g id=\"text_16\">\n      <!-- 36 -->\n      <g transform=\"translate(334.146219 309.798437)scale(0.1 -0.1)\">\n       <use xlink:href=\"#DejaVuSans-51\"/>\n       <use x=\"63.623047\" xlink:href=\"#DejaVuSans-54\"/>\n      </g>\n     </g>\n    </g>\n    <g id=\"xtick_17\">\n     <g id=\"line2d_17\">\n      <g>\n       <use style=\"stroke:#000000;stroke-width:0.8;\" x=\"359.389838\" xlink:href=\"#m8f0ceac7c1\" y=\"295.2\"/>\n      </g>\n     </g>\n     <g id=\"text_17\">\n      <!-- 37 -->\n      <g transform=\"translate(353.027338 309.798437)scale(0.1 -0.1)\">\n       <use xlink:href=\"#DejaVuSans-51\"/>\n       <use x=\"63.623047\" xlink:href=\"#DejaVuSans-55\"/>\n      </g>\n     </g>\n    </g>\n    <g id=\"xtick_18\">\n     <g id=\"line2d_18\">\n      <g>\n       <use style=\"stroke:#000000;stroke-width:0.8;\" x=\"378.270957\" xlink:href=\"#m8f0ceac7c1\" y=\"295.2\"/>\n      </g>\n     </g>\n     <g id=\"text_18\">\n      <!-- 39 -->\n      <g transform=\"translate(371.908457 309.798437)scale(0.1 -0.1)\">\n       <use xlink:href=\"#DejaVuSans-51\"/>\n       <use x=\"63.623047\" xlink:href=\"#DejaVuSans-57\"/>\n      </g>\n     </g>\n    </g>\n    <g id=\"xtick_19\">\n     <g id=\"line2d_19\">\n      <g>\n       <use style=\"stroke:#000000;stroke-width:0.8;\" x=\"397.152076\" xlink:href=\"#m8f0ceac7c1\" y=\"295.2\"/>\n      </g>\n     </g>\n     <g id=\"text_19\">\n      <!-- 43 -->\n      <g transform=\"translate(390.789576 309.798437)scale(0.1 -0.1)\">\n       <use xlink:href=\"#DejaVuSans-52\"/>\n       <use x=\"63.623047\" xlink:href=\"#DejaVuSans-51\"/>\n      </g>\n     </g>\n    </g>\n    <g id=\"xtick_20\">\n     <g id=\"line2d_20\">\n      <g>\n       <use style=\"stroke:#000000;stroke-width:0.8;\" x=\"416.033195\" xlink:href=\"#m8f0ceac7c1\" y=\"295.2\"/>\n      </g>\n     </g>\n     <g id=\"text_20\">\n      <!-- 45 -->\n      <g transform=\"translate(409.670695 309.798437)scale(0.1 -0.1)\">\n       <use xlink:href=\"#DejaVuSans-52\"/>\n       <use x=\"63.623047\" xlink:href=\"#DejaVuSans-53\"/>\n      </g>\n     </g>\n    </g>\n    <g id=\"xtick_21\">\n     <g id=\"line2d_21\">\n      <g>\n       <use style=\"stroke:#000000;stroke-width:0.8;\" x=\"434.914314\" xlink:href=\"#m8f0ceac7c1\" y=\"295.2\"/>\n      </g>\n     </g>\n     <g id=\"text_21\">\n      <!-- 48 -->\n      <g transform=\"translate(428.551814 309.798437)scale(0.1 -0.1)\">\n       <use xlink:href=\"#DejaVuSans-52\"/>\n       <use x=\"63.623047\" xlink:href=\"#DejaVuSans-56\"/>\n      </g>\n     </g>\n    </g>\n   </g>\n   <g id=\"matplotlib.axis_2\">\n    <g id=\"ytick_1\">\n     <g id=\"line2d_22\">\n      <defs>\n       <path d=\"M 0 0 \nL -3.5 0 \n\" id=\"md8d78b07d9\" style=\"stroke:#000000;stroke-width:0.8;\"/>\n      </defs>\n      <g>\n       <use style=\"stroke:#000000;stroke-width:0.8;\" x=\"30.103125\" xlink:href=\"#md8d78b07d9\" y=\"295.2\"/>\n      </g>\n     </g>\n     <g id=\"text_22\">\n      <!-- 0.0 -->\n      <g transform=\"translate(7.2 298.999219)scale(0.1 -0.1)\">\n       <defs>\n        <path d=\"M 31.78125 66.40625 \nQ 24.171875 66.40625 20.328125 58.90625 \nQ 16.5 51.421875 16.5 36.375 \nQ 16.5 21.390625 20.328125 13.890625 \nQ 24.171875 6.390625 31.78125 6.390625 \nQ 39.453125 6.390625 43.28125 13.890625 \nQ 47.125 21.390625 47.125 36.375 \nQ 47.125 51.421875 43.28125 58.90625 \nQ 39.453125 66.40625 31.78125 66.40625 \nz\nM 31.78125 74.21875 \nQ 44.046875 74.21875 50.515625 64.515625 \nQ 56.984375 54.828125 56.984375 36.375 \nQ 56.984375 17.96875 50.515625 8.265625 \nQ 44.046875 -1.421875 31.78125 -1.421875 \nQ 19.53125 -1.421875 13.0625 8.265625 \nQ 6.59375 17.96875 6.59375 36.375 \nQ 6.59375 54.828125 13.0625 64.515625 \nQ 19.53125 74.21875 31.78125 74.21875 \nz\n\" id=\"DejaVuSans-48\"/>\n        <path d=\"M 10.6875 12.40625 \nL 21 12.40625 \nL 21 0 \nL 10.6875 0 \nz\n\" id=\"DejaVuSans-46\"/>\n       </defs>\n       <use xlink:href=\"#DejaVuSans-48\"/>\n       <use x=\"63.623047\" xlink:href=\"#DejaVuSans-46\"/>\n       <use x=\"95.410156\" xlink:href=\"#DejaVuSans-48\"/>\n      </g>\n     </g>\n    </g>\n    <g id=\"ytick_2\">\n     <g id=\"line2d_23\">\n      <g>\n       <use style=\"stroke:#000000;stroke-width:0.8;\" x=\"30.103125\" xlink:href=\"#md8d78b07d9\" y=\"257.221978\"/>\n      </g>\n     </g>\n     <g id=\"text_23\">\n      <!-- 0.1 -->\n      <g transform=\"translate(7.2 261.021197)scale(0.1 -0.1)\">\n       <use xlink:href=\"#DejaVuSans-48\"/>\n       <use x=\"63.623047\" xlink:href=\"#DejaVuSans-46\"/>\n       <use x=\"95.410156\" xlink:href=\"#DejaVuSans-49\"/>\n      </g>\n     </g>\n    </g>\n    <g id=\"ytick_3\">\n     <g id=\"line2d_24\">\n      <g>\n       <use style=\"stroke:#000000;stroke-width:0.8;\" x=\"30.103125\" xlink:href=\"#md8d78b07d9\" y=\"219.243956\"/>\n      </g>\n     </g>\n     <g id=\"text_24\">\n      <!-- 0.2 -->\n      <g transform=\"translate(7.2 223.043175)scale(0.1 -0.1)\">\n       <use xlink:href=\"#DejaVuSans-48\"/>\n       <use x=\"63.623047\" xlink:href=\"#DejaVuSans-46\"/>\n       <use x=\"95.410156\" xlink:href=\"#DejaVuSans-50\"/>\n      </g>\n     </g>\n    </g>\n    <g id=\"ytick_4\">\n     <g id=\"line2d_25\">\n      <g>\n       <use style=\"stroke:#000000;stroke-width:0.8;\" x=\"30.103125\" xlink:href=\"#md8d78b07d9\" y=\"181.265934\"/>\n      </g>\n     </g>\n     <g id=\"text_25\">\n      <!-- 0.3 -->\n      <g transform=\"translate(7.2 185.065153)scale(0.1 -0.1)\">\n       <use xlink:href=\"#DejaVuSans-48\"/>\n       <use x=\"63.623047\" xlink:href=\"#DejaVuSans-46\"/>\n       <use x=\"95.410156\" xlink:href=\"#DejaVuSans-51\"/>\n      </g>\n     </g>\n    </g>\n    <g id=\"ytick_5\">\n     <g id=\"line2d_26\">\n      <g>\n       <use style=\"stroke:#000000;stroke-width:0.8;\" x=\"30.103125\" xlink:href=\"#md8d78b07d9\" y=\"143.287912\"/>\n      </g>\n     </g>\n     <g id=\"text_26\">\n      <!-- 0.4 -->\n      <g transform=\"translate(7.2 147.087131)scale(0.1 -0.1)\">\n       <use xlink:href=\"#DejaVuSans-48\"/>\n       <use x=\"63.623047\" xlink:href=\"#DejaVuSans-46\"/>\n       <use x=\"95.410156\" xlink:href=\"#DejaVuSans-52\"/>\n      </g>\n     </g>\n    </g>\n    <g id=\"ytick_6\">\n     <g id=\"line2d_27\">\n      <g>\n       <use style=\"stroke:#000000;stroke-width:0.8;\" x=\"30.103125\" xlink:href=\"#md8d78b07d9\" y=\"105.30989\"/>\n      </g>\n     </g>\n     <g id=\"text_27\">\n      <!-- 0.5 -->\n      <g transform=\"translate(7.2 109.109109)scale(0.1 -0.1)\">\n       <use xlink:href=\"#DejaVuSans-48\"/>\n       <use x=\"63.623047\" xlink:href=\"#DejaVuSans-46\"/>\n       <use x=\"95.410156\" xlink:href=\"#DejaVuSans-53\"/>\n      </g>\n     </g>\n    </g>\n    <g id=\"ytick_7\">\n     <g id=\"line2d_28\">\n      <g>\n       <use style=\"stroke:#000000;stroke-width:0.8;\" x=\"30.103125\" xlink:href=\"#md8d78b07d9\" y=\"67.331868\"/>\n      </g>\n     </g>\n     <g id=\"text_28\">\n      <!-- 0.6 -->\n      <g transform=\"translate(7.2 71.131087)scale(0.1 -0.1)\">\n       <use xlink:href=\"#DejaVuSans-48\"/>\n       <use x=\"63.623047\" xlink:href=\"#DejaVuSans-46\"/>\n       <use x=\"95.410156\" xlink:href=\"#DejaVuSans-54\"/>\n      </g>\n     </g>\n    </g>\n    <g id=\"ytick_8\">\n     <g id=\"line2d_29\">\n      <g>\n       <use style=\"stroke:#000000;stroke-width:0.8;\" x=\"30.103125\" xlink:href=\"#md8d78b07d9\" y=\"29.353846\"/>\n      </g>\n     </g>\n     <g id=\"text_29\">\n      <!-- 0.7 -->\n      <g transform=\"translate(7.2 33.153065)scale(0.1 -0.1)\">\n       <use xlink:href=\"#DejaVuSans-48\"/>\n       <use x=\"63.623047\" xlink:href=\"#DejaVuSans-46\"/>\n       <use x=\"95.410156\" xlink:href=\"#DejaVuSans-55\"/>\n      </g>\n     </g>\n    </g>\n   </g>\n   <g id=\"patch_24\">\n    <path d=\"M 30.103125 295.2 \nL 30.103125 7.2 \n\" style=\"fill:none;stroke:#000000;stroke-linecap:square;stroke-linejoin:miter;stroke-width:0.8;\"/>\n   </g>\n   <g id=\"patch_25\">\n    <path d=\"M 462.103125 295.2 \nL 462.103125 7.2 \n\" style=\"fill:none;stroke:#000000;stroke-linecap:square;stroke-linejoin:miter;stroke-width:0.8;\"/>\n   </g>\n   <g id=\"patch_26\">\n    <path d=\"M 30.103125 295.2 \nL 462.103125 295.2 \n\" style=\"fill:none;stroke:#000000;stroke-linecap:square;stroke-linejoin:miter;stroke-width:0.8;\"/>\n   </g>\n   <g id=\"patch_27\">\n    <path d=\"M 30.103125 7.2 \nL 462.103125 7.2 \n\" style=\"fill:none;stroke:#000000;stroke-linecap:square;stroke-linejoin:miter;stroke-width:0.8;\"/>\n   </g>\n  </g>\n </g>\n <defs>\n  <clipPath id=\"p6d5cb87708\">\n   <rect height=\"288\" width=\"432\" x=\"30.103125\" y=\"7.2\"/>\n  </clipPath>\n </defs>\n</svg>\n",
      "image/png": "[encoded data removed]"
     },
     "metadata": {
      "needs_background": "light"
     }
    },
    {
     "output_type": "stream",
     "name": "stdout",
     "text": [
      "Num de acc que pasa de 0.5:  21\n",
      "****************************************************\n",
      "0.4\n",
      "     ****************************************************\n",
      "     Pred:  [0 1 0 0 1 1 0 0 0 0 0 0 0 0 1 0 0 0 0 1 0 0 0 0]\n",
      "     Data:  [1 0 1 0 1 1 0 0 1 1 1 0 0 0 1 0 0 0 1 0 1 0 0 1]\n",
      "     ACC 0.5833333333333334\n",
      "     F1 0.37499999999999994\n",
      "     Recal 0.2727272727272727\n",
      "     Precision 0.6\n",
      "     ****************************************************\n",
      "     Bad accu\n",
      "     ****************************************************\n",
      "     Bad accu\n",
      "     ****************************************************\n",
      "     Bad accu\n",
      "     ****************************************************\n",
      "     Bad accu\n",
      "     ****************************************************\n",
      "     Bad accu\n",
      "     ****************************************************\n",
      "     Pred:  [0 0 0 0 1 0 1 0 0 0 0 0 1 0 0 1 0 0 1 1 0 0 0 0]\n",
      "     Data:  [1 0 0 1 1 0 1 0 0 0 1 0 1 0 1 0 0 0 1 0 0 1 0 0]\n",
      "     ACC 0.7083333333333334\n",
      "     F1 0.5333333333333333\n",
      "     Recal 0.4444444444444444\n",
      "     Precision 0.6666666666666666\n",
      "     ****************************************************\n",
      "     Bad accu\n",
      "     ****************************************************\n",
      "     Pred:  [0 1 0 0 0 0 0 0 0 0 0 0 0 0 0 0 0 0 0 0 0 0 0 0]\n",
      "     Data:  [0 1 1 0 0 0 1 1 0 1 0 0 1 1 0 0 0 1 1 1 0 0 1 0]\n",
      "     ACC 0.5833333333333334\n",
      "     F1 0.16666666666666669\n",
      "     Recal 0.09090909090909091\n",
      "     Precision 1.0\n",
      "     ****************************************************\n",
      "     Bad accu\n",
      "     ****************************************************\n",
      "     Bad accu\n",
      "     ****************************************************\n",
      "     Pred:  [1 0 0 0 1 0 0 1 1 0 1 0 1 0 0 1 0 0 0 0 0 1 0 0]\n",
      "     Data:  [0 0 0 0 0 1 0 1 0 0 0 0 1 0 0 0 1 1 1 0 1 1 0 0]\n",
      "     ACC 0.5833333333333334\n",
      "     F1 0.375\n",
      "     Recal 0.375\n",
      "     Precision 0.375\n",
      "     ****************************************************\n",
      "     Bad accu\n",
      "     ****************************************************\n",
      "     Pred:  [1 0 1 1 0 0 0 0 1 1 1 1 1 1 1 1 0 0 1 1 1 1 0 1]\n",
      "     Data:  [0 0 0 0 1 0 0 0 0 0 1 1 1 1 0 0 0 1 1 1 1 0 0 1]\n",
      "     ACC 0.5833333333333334\n",
      "     F1 0.6153846153846154\n",
      "     Recal 0.8\n",
      "     Precision 0.5\n",
      "     ****************************************************\n",
      "     Bad accu\n",
      "     ****************************************************\n",
      "     Bad accu\n",
      "     ****************************************************\n",
      "     Pred:  [0 0 1 0 1 0 1 0 0 0 0 0 0 0 0 0 0 0 0 0 1 0 0 0]\n",
      "     Data:  [1 1 0 1 1 1 1 0 0 0 0 0 0 0 1 0 1 0 1 0 0 0 0 0]\n",
      "     ACC 0.625\n",
      "     F1 0.30769230769230765\n",
      "     Recal 0.2222222222222222\n",
      "     Precision 0.5\n",
      "     ****************************************************\n",
      "     Bad accu\n",
      "     ****************************************************\n",
      "     Pred:  [0 1 0 1 1 0 1 1 1 1 0 0 0 1 0 0 0 1 1 0 1 1 0 0]\n",
      "     Data:  [0 0 0 1 1 1 1 0 0 1 0 0 1 0 1 0 1 1 1 0 1 0 0 0]\n",
      "     ACC 0.625\n",
      "     F1 0.6086956521739131\n",
      "     Recal 0.6363636363636364\n",
      "     Precision 0.5833333333333334\n",
      "     ****************************************************\n",
      "     Bad accu\n",
      "     ****************************************************\n",
      "     Pred:  [0 1 0 0 0 1 0 0 0 0 1 0 0 1 0 0 0 0 0 0 0 0 1 0]\n",
      "     Data:  [1 1 0 0 0 1 1 0 0 0 0 1 1 0 1 1 0 0 0 0 1 0 0 0]\n",
      "     ACC 0.5833333333333334\n",
      "     F1 0.2857142857142857\n",
      "     Recal 0.2222222222222222\n",
      "     Precision 0.4\n",
      "     ****************************************************\n",
      "     Bad accu\n",
      "     ****************************************************\n",
      "     Bad accu\n",
      "     ****************************************************\n",
      "     Bad accu\n",
      "     ****************************************************\n",
      "     Pred:  [0 0 1 0 0 0 0 0 1 1 1 0 1 1 0 0 1 1 0 0 0 0 1 0]\n",
      "     Data:  [0 0 0 0 0 0 0 1 0 1 1 0 0 0 0 0 1 1 1 0 0 0 1 1]\n",
      "     ACC 0.7083333333333334\n",
      "     F1 0.5882352941176471\n",
      "     Recal 0.625\n",
      "     Precision 0.5555555555555556\n",
      "     ****************************************************\n",
      "     Bad accu\n",
      "     ****************************************************\n",
      "     Pred:  [0 0 1 0 0 1 0 1 1 0 0 1 0 1 0 0 1 0 0 0 1 1 0 0]\n",
      "     Data:  [1 0 0 0 0 0 0 0 1 0 0 1 0 0 1 0 1 0 0 0 1 0 0 0]\n",
      "     ACC 0.7083333333333334\n",
      "     F1 0.5333333333333333\n",
      "     Recal 0.6666666666666666\n",
      "     Precision 0.4444444444444444\n",
      "     ****************************************************\n",
      "     Bad accu\n",
      "     ****************************************************\n",
      "     Pred:  [1 0 0 1 0 1 0 0 0 1 0 0 0 0 0 0 0 0 0 0 0 1 0 0]\n",
      "     Data:  [1 1 0 1 0 0 0 0 1 1 0 0 1 0 1 1 0 1 1 0 0 0 0 1]\n",
      "     ACC 0.5833333333333334\n",
      "     F1 0.37499999999999994\n",
      "     Recal 0.2727272727272727\n",
      "     Precision 0.6\n",
      "     ****************************************************\n",
      "     Bad accu\n",
      "     ****************************************************\n",
      "     Bad accu\n",
      "     ****************************************************\n",
      "     Pred:  [1 0 1 1 1 0 1 0 0 0 0 1 0 0 0 0 0 0 1 0 0 0 1 0]\n",
      "     Data:  [0 0 1 0 1 0 0 1 1 0 1 1 1 0 0 0 1 0 1 0 0 1 1 1]\n",
      "     ACC 0.5833333333333334\n",
      "     F1 0.5\n",
      "     Recal 0.4166666666666667\n",
      "     Precision 0.625\n",
      "     ****************************************************\n",
      "     Bad accu\n",
      "     ****************************************************\n",
      "     Bad accu\n",
      "     ****************************************************\n",
      "     Bad accu\n",
      "     ****************************************************\n",
      "     Pred:  [1 0 1 0 1 1 0 0 0 0 0 0 0 1 1 0 0 1 0 1 0 0 0 1]\n",
      "     Data:  [1 0 0 1 0 1 0 0 1 1 0 0 0 1 1 0 0 1 0 0 0 1 0 0]\n",
      "     ACC 0.6666666666666666\n",
      "     F1 0.5555555555555556\n",
      "     Recal 0.5555555555555556\n",
      "     Precision 0.5555555555555556\n",
      "     ****************************************************\n",
      "     Bad accu\n",
      "     ****************************************************\n",
      "     Pred:  [1 0 0 0 0 0 0 0 1 1 0 1 1 1 0 0 0 0 0 1 1 0 0 0]\n",
      "     Data:  [0 1 0 0 0 1 1 0 0 1 0 1 0 0 0 0 1 1 0 1 1 1 0 0]\n",
      "     ACC 0.5833333333333334\n",
      "     F1 0.4444444444444445\n",
      "     Recal 0.4\n",
      "     Precision 0.5\n",
      "     ****************************************************\n",
      "     Bad accu\n",
      "     ****************************************************\n",
      "     Bad accu\n",
      "     ****************************************************\n",
      "     Pred:  [0 0 0 0 0 0 0 0 0 0 0 0 0 0 0 1 0 1 1 0 0 0 0 0]\n",
      "     Data:  [0 0 0 0 1 0 0 1 0 0 0 0 0 0 0 1 0 1 1 1 1 0 1 1]\n",
      "     ACC 0.75\n",
      "     F1 0.5\n",
      "     Recal 0.3333333333333333\n",
      "     Precision 1.0\n",
      "     ****************************************************\n",
      "     Bad accu\n",
      "     ****************************************************\n",
      "     Bad accu\n",
      "     ****************************************************\n",
      "     Bad accu\n",
      "     ****************************************************\n",
      "     Bad accu\n",
      "     ****************************************************\n",
      "     Bad accu\n",
      "     ****************************************************\n",
      "     Bad accu\n",
      "     ****************************************************\n",
      "     Pred:  [0 0 0 0 1 0 0 0 0 0 1 1 1 1 0 1 0 0 1 0 1 0 1 1]\n",
      "     Data:  [0 0 1 1 0 0 0 0 0 0 0 0 1 0 0 1 0 0 1 1 0 0 1 0]\n",
      "     ACC 0.625\n",
      "     F1 0.47058823529411764\n",
      "     Recal 0.5714285714285714\n",
      "     Precision 0.4\n",
      "     ****************************************************\n",
      "     Pred:  [1 1 0 0 0 1 0 1 1 0 1 0 1 0 1 0 0 0 0 1 0 0 0 0]\n",
      "     Data:  [1 0 0 0 0 1 0 0 1 0 0 1 0 1 1 0 0 1 0 0 1 0 0 1]\n",
      "     ACC 0.5833333333333334\n",
      "     F1 0.4444444444444444\n",
      "     Recal 0.4444444444444444\n",
      "     Precision 0.4444444444444444\n",
      "     ****************************************************\n",
      "     Bad accu\n"
     ]
    },
    {
     "output_type": "display_data",
     "data": {
      "text/plain": "<Figure size 432x288 with 1 Axes>",
      "image/svg+xml": "<?xml version=\"1.0\" encoding=\"utf-8\" standalone=\"no\"?>\n<!DOCTYPE svg PUBLIC \"-//W3C//DTD SVG 1.1//EN\"\n  \"http://www.w3.org/Graphics/SVG/1.1/DTD/svg11.dtd\">\n<!-- Created with matplotlib (https://matplotlib.org/) -->\n<svg height=\"319.078125pt\" version=\"1.1\" viewBox=\"0 0 469.303125 319.078125\" width=\"469.303125pt\" xmlns=\"http://www.w3.org/2000/svg\" xmlns:xlink=\"http://www.w3.org/1999/xlink\">\n <metadata>\n  <rdf:RDF xmlns:cc=\"http://creativecommons.org/ns#\" xmlns:dc=\"http://purl.org/dc/elements/1.1/\" xmlns:rdf=\"http://www.w3.org/1999/02/22-rdf-syntax-ns#\">\n   <cc:Work>\n    <dc:type rdf:resource=\"http://purl.org/dc/dcmitype/StillImage\"/>\n    <dc:date>2021-02-24T12:48:22.440058</dc:date>\n    <dc:format>image/svg+xml</dc:format>\n    <dc:creator>\n     <cc:Agent>\n      <dc:title>Matplotlib v3.3.2, https://matplotlib.org/</dc:title>\n     </cc:Agent>\n    </dc:creator>\n   </cc:Work>\n  </rdf:RDF>\n </metadata>\n <defs>\n  <style type=\"text/css\">*{stroke-linecap:butt;stroke-linejoin:round;}</style>\n </defs>\n <g id=\"figure_1\">\n  <g id=\"patch_1\">\n   <path d=\"M 0 319.078125 \nL 469.303125 319.078125 \nL 469.303125 0 \nL 0 0 \nz\n\" style=\"fill:none;\"/>\n  </g>\n  <g id=\"axes_1\">\n   <g id=\"patch_2\">\n    <path d=\"M 30.103125 295.2 \nL 462.103125 295.2 \nL 462.103125 7.2 \nL 30.103125 7.2 \nz\n\" style=\"fill:#ffffff;\"/>\n   </g>\n   <g id=\"patch_3\">\n    <path clip-path=\"url(#paede73ee98)\" d=\"M 49.739489 295.2 \nL 68.440787 295.2 \nL 68.440787 81.866667 \nL 49.739489 81.866667 \nz\n\" style=\"fill:#1f77b4;\"/>\n   </g>\n   <g id=\"patch_4\">\n    <path clip-path=\"url(#paede73ee98)\" d=\"M 73.116112 295.2 \nL 91.817411 295.2 \nL 91.817411 36.152381 \nL 73.116112 36.152381 \nz\n\" style=\"fill:#1f77b4;\"/>\n   </g>\n   <g id=\"patch_5\">\n    <path clip-path=\"url(#paede73ee98)\" d=\"M 96.492735 295.2 \nL 115.194034 295.2 \nL 115.194034 81.866667 \nL 96.492735 81.866667 \nz\n\" style=\"fill:#1f77b4;\"/>\n   </g>\n   <g id=\"patch_6\">\n    <path clip-path=\"url(#paede73ee98)\" d=\"M 119.869359 295.2 \nL 138.570657 295.2 \nL 138.570657 81.866667 \nL 119.869359 81.866667 \nz\n\" style=\"fill:#1f77b4;\"/>\n   </g>\n   <g id=\"patch_7\">\n    <path clip-path=\"url(#paede73ee98)\" d=\"M 143.245982 295.2 \nL 161.947281 295.2 \nL 161.947281 81.866667 \nL 143.245982 81.866667 \nz\n\" style=\"fill:#1f77b4;\"/>\n   </g>\n   <g id=\"patch_8\">\n    <path clip-path=\"url(#paede73ee98)\" d=\"M 166.622606 295.2 \nL 185.323904 295.2 \nL 185.323904 66.628571 \nL 166.622606 66.628571 \nz\n\" style=\"fill:#1f77b4;\"/>\n   </g>\n   <g id=\"patch_9\">\n    <path clip-path=\"url(#paede73ee98)\" d=\"M 189.999229 295.2 \nL 208.700528 295.2 \nL 208.700528 66.628571 \nL 189.999229 66.628571 \nz\n\" style=\"fill:#1f77b4;\"/>\n   </g>\n   <g id=\"patch_10\">\n    <path clip-path=\"url(#paede73ee98)\" d=\"M 213.375852 295.2 \nL 232.077151 295.2 \nL 232.077151 81.866667 \nL 213.375852 81.866667 \nz\n\" style=\"fill:#1f77b4;\"/>\n   </g>\n   <g id=\"patch_11\">\n    <path clip-path=\"url(#paede73ee98)\" d=\"M 236.752476 295.2 \nL 255.453774 295.2 \nL 255.453774 36.152381 \nL 236.752476 36.152381 \nz\n\" style=\"fill:#1f77b4;\"/>\n   </g>\n   <g id=\"patch_12\">\n    <path clip-path=\"url(#paede73ee98)\" d=\"M 260.129099 295.2 \nL 278.830398 295.2 \nL 278.830398 36.152381 \nL 260.129099 36.152381 \nz\n\" style=\"fill:#1f77b4;\"/>\n   </g>\n   <g id=\"patch_13\">\n    <path clip-path=\"url(#paede73ee98)\" d=\"M 283.505722 295.2 \nL 302.207021 295.2 \nL 302.207021 81.866667 \nL 283.505722 81.866667 \nz\n\" style=\"fill:#1f77b4;\"/>\n   </g>\n   <g id=\"patch_14\">\n    <path clip-path=\"url(#paede73ee98)\" d=\"M 306.882346 295.2 \nL 325.583644 295.2 \nL 325.583644 81.866667 \nL 306.882346 81.866667 \nz\n\" style=\"fill:#1f77b4;\"/>\n   </g>\n   <g id=\"patch_15\">\n    <path clip-path=\"url(#paede73ee98)\" d=\"M 330.258969 295.2 \nL 348.960268 295.2 \nL 348.960268 51.390476 \nL 330.258969 51.390476 \nz\n\" style=\"fill:#1f77b4;\"/>\n   </g>\n   <g id=\"patch_16\">\n    <path clip-path=\"url(#paede73ee98)\" d=\"M 353.635593 295.2 \nL 372.336891 295.2 \nL 372.336891 81.866667 \nL 353.635593 81.866667 \nz\n\" style=\"fill:#1f77b4;\"/>\n   </g>\n   <g id=\"patch_17\">\n    <path clip-path=\"url(#paede73ee98)\" d=\"M 377.012216 295.2 \nL 395.713515 295.2 \nL 395.713515 20.914286 \nL 377.012216 20.914286 \nz\n\" style=\"fill:#1f77b4;\"/>\n   </g>\n   <g id=\"patch_18\">\n    <path clip-path=\"url(#paede73ee98)\" d=\"M 400.388839 295.2 \nL 419.090138 295.2 \nL 419.090138 66.628571 \nL 400.388839 66.628571 \nz\n\" style=\"fill:#1f77b4;\"/>\n   </g>\n   <g id=\"patch_19\">\n    <path clip-path=\"url(#paede73ee98)\" d=\"M 423.765463 295.2 \nL 442.466761 295.2 \nL 442.466761 81.866667 \nL 423.765463 81.866667 \nz\n\" style=\"fill:#1f77b4;\"/>\n   </g>\n   <g id=\"matplotlib.axis_1\">\n    <g id=\"xtick_1\">\n     <g id=\"line2d_1\">\n      <defs>\n       <path d=\"M 0 0 \nL 0 3.5 \n\" id=\"md02a95e2aa\" style=\"stroke:#000000;stroke-width:0.8;\"/>\n      </defs>\n      <g>\n       <use style=\"stroke:#000000;stroke-width:0.8;\" x=\"59.090138\" xlink:href=\"#md02a95e2aa\" y=\"295.2\"/>\n      </g>\n     </g>\n     <g id=\"text_1\">\n      <!-- 0 -->\n      <g transform=\"translate(55.908888 309.798437)scale(0.1 -0.1)\">\n       <defs>\n        <path d=\"M 31.78125 66.40625 \nQ 24.171875 66.40625 20.328125 58.90625 \nQ 16.5 51.421875 16.5 36.375 \nQ 16.5 21.390625 20.328125 13.890625 \nQ 24.171875 6.390625 31.78125 6.390625 \nQ 39.453125 6.390625 43.28125 13.890625 \nQ 47.125 21.390625 47.125 36.375 \nQ 47.125 51.421875 43.28125 58.90625 \nQ 39.453125 66.40625 31.78125 66.40625 \nz\nM 31.78125 74.21875 \nQ 44.046875 74.21875 50.515625 64.515625 \nQ 56.984375 54.828125 56.984375 36.375 \nQ 56.984375 17.96875 50.515625 8.265625 \nQ 44.046875 -1.421875 31.78125 -1.421875 \nQ 19.53125 -1.421875 13.0625 8.265625 \nQ 6.59375 17.96875 6.59375 36.375 \nQ 6.59375 54.828125 13.0625 64.515625 \nQ 19.53125 74.21875 31.78125 74.21875 \nz\n\" id=\"DejaVuSans-48\"/>\n       </defs>\n       <use xlink:href=\"#DejaVuSans-48\"/>\n      </g>\n     </g>\n    </g>\n    <g id=\"xtick_2\">\n     <g id=\"line2d_2\">\n      <g>\n       <use style=\"stroke:#000000;stroke-width:0.8;\" x=\"82.466761\" xlink:href=\"#md02a95e2aa\" y=\"295.2\"/>\n      </g>\n     </g>\n     <g id=\"text_2\">\n      <!-- 6 -->\n      <g transform=\"translate(79.285511 309.798437)scale(0.1 -0.1)\">\n       <defs>\n        <path d=\"M 33.015625 40.375 \nQ 26.375 40.375 22.484375 35.828125 \nQ 18.609375 31.296875 18.609375 23.390625 \nQ 18.609375 15.53125 22.484375 10.953125 \nQ 26.375 6.390625 33.015625 6.390625 \nQ 39.65625 6.390625 43.53125 10.953125 \nQ 47.40625 15.53125 47.40625 23.390625 \nQ 47.40625 31.296875 43.53125 35.828125 \nQ 39.65625 40.375 33.015625 40.375 \nz\nM 52.59375 71.296875 \nL 52.59375 62.3125 \nQ 48.875 64.0625 45.09375 64.984375 \nQ 41.3125 65.921875 37.59375 65.921875 \nQ 27.828125 65.921875 22.671875 59.328125 \nQ 17.53125 52.734375 16.796875 39.40625 \nQ 19.671875 43.65625 24.015625 45.921875 \nQ 28.375 48.1875 33.59375 48.1875 \nQ 44.578125 48.1875 50.953125 41.515625 \nQ 57.328125 34.859375 57.328125 23.390625 \nQ 57.328125 12.15625 50.6875 5.359375 \nQ 44.046875 -1.421875 33.015625 -1.421875 \nQ 20.359375 -1.421875 13.671875 8.265625 \nQ 6.984375 17.96875 6.984375 36.375 \nQ 6.984375 53.65625 15.1875 63.9375 \nQ 23.390625 74.21875 37.203125 74.21875 \nQ 40.921875 74.21875 44.703125 73.484375 \nQ 48.484375 72.75 52.59375 71.296875 \nz\n\" id=\"DejaVuSans-54\"/>\n       </defs>\n       <use xlink:href=\"#DejaVuSans-54\"/>\n      </g>\n     </g>\n    </g>\n    <g id=\"xtick_3\">\n     <g id=\"line2d_3\">\n      <g>\n       <use style=\"stroke:#000000;stroke-width:0.8;\" x=\"105.843385\" xlink:href=\"#md02a95e2aa\" y=\"295.2\"/>\n      </g>\n     </g>\n     <g id=\"text_3\">\n      <!-- 8 -->\n      <g transform=\"translate(102.662135 309.798437)scale(0.1 -0.1)\">\n       <defs>\n        <path d=\"M 31.78125 34.625 \nQ 24.75 34.625 20.71875 30.859375 \nQ 16.703125 27.09375 16.703125 20.515625 \nQ 16.703125 13.921875 20.71875 10.15625 \nQ 24.75 6.390625 31.78125 6.390625 \nQ 38.8125 6.390625 42.859375 10.171875 \nQ 46.921875 13.96875 46.921875 20.515625 \nQ 46.921875 27.09375 42.890625 30.859375 \nQ 38.875 34.625 31.78125 34.625 \nz\nM 21.921875 38.8125 \nQ 15.578125 40.375 12.03125 44.71875 \nQ 8.5 49.078125 8.5 55.328125 \nQ 8.5 64.0625 14.71875 69.140625 \nQ 20.953125 74.21875 31.78125 74.21875 \nQ 42.671875 74.21875 48.875 69.140625 \nQ 55.078125 64.0625 55.078125 55.328125 \nQ 55.078125 49.078125 51.53125 44.71875 \nQ 48 40.375 41.703125 38.8125 \nQ 48.828125 37.15625 52.796875 32.3125 \nQ 56.78125 27.484375 56.78125 20.515625 \nQ 56.78125 9.90625 50.3125 4.234375 \nQ 43.84375 -1.421875 31.78125 -1.421875 \nQ 19.734375 -1.421875 13.25 4.234375 \nQ 6.78125 9.90625 6.78125 20.515625 \nQ 6.78125 27.484375 10.78125 32.3125 \nQ 14.796875 37.15625 21.921875 38.8125 \nz\nM 18.3125 54.390625 \nQ 18.3125 48.734375 21.84375 45.5625 \nQ 25.390625 42.390625 31.78125 42.390625 \nQ 38.140625 42.390625 41.71875 45.5625 \nQ 45.3125 48.734375 45.3125 54.390625 \nQ 45.3125 60.0625 41.71875 63.234375 \nQ 38.140625 66.40625 31.78125 66.40625 \nQ 25.390625 66.40625 21.84375 63.234375 \nQ 18.3125 60.0625 18.3125 54.390625 \nz\n\" id=\"DejaVuSans-56\"/>\n       </defs>\n       <use xlink:href=\"#DejaVuSans-56\"/>\n      </g>\n     </g>\n    </g>\n    <g id=\"xtick_4\">\n     <g id=\"line2d_4\">\n      <g>\n       <use style=\"stroke:#000000;stroke-width:0.8;\" x=\"129.220008\" xlink:href=\"#md02a95e2aa\" y=\"295.2\"/>\n      </g>\n     </g>\n     <g id=\"text_4\">\n      <!-- 11 -->\n      <g transform=\"translate(122.857508 309.798437)scale(0.1 -0.1)\">\n       <defs>\n        <path d=\"M 12.40625 8.296875 \nL 28.515625 8.296875 \nL 28.515625 63.921875 \nL 10.984375 60.40625 \nL 10.984375 69.390625 \nL 28.421875 72.90625 \nL 38.28125 72.90625 \nL 38.28125 8.296875 \nL 54.390625 8.296875 \nL 54.390625 0 \nL 12.40625 0 \nz\n\" id=\"DejaVuSans-49\"/>\n       </defs>\n       <use xlink:href=\"#DejaVuSans-49\"/>\n       <use x=\"63.623047\" xlink:href=\"#DejaVuSans-49\"/>\n      </g>\n     </g>\n    </g>\n    <g id=\"xtick_5\">\n     <g id=\"line2d_5\">\n      <g>\n       <use style=\"stroke:#000000;stroke-width:0.8;\" x=\"152.596631\" xlink:href=\"#md02a95e2aa\" y=\"295.2\"/>\n      </g>\n     </g>\n     <g id=\"text_5\">\n      <!-- 13 -->\n      <g transform=\"translate(146.234131 309.798437)scale(0.1 -0.1)\">\n       <defs>\n        <path d=\"M 40.578125 39.3125 \nQ 47.65625 37.796875 51.625 33 \nQ 55.609375 28.21875 55.609375 21.1875 \nQ 55.609375 10.40625 48.1875 4.484375 \nQ 40.765625 -1.421875 27.09375 -1.421875 \nQ 22.515625 -1.421875 17.65625 -0.515625 \nQ 12.796875 0.390625 7.625 2.203125 \nL 7.625 11.71875 \nQ 11.71875 9.328125 16.59375 8.109375 \nQ 21.484375 6.890625 26.8125 6.890625 \nQ 36.078125 6.890625 40.9375 10.546875 \nQ 45.796875 14.203125 45.796875 21.1875 \nQ 45.796875 27.640625 41.28125 31.265625 \nQ 36.765625 34.90625 28.71875 34.90625 \nL 20.21875 34.90625 \nL 20.21875 43.015625 \nL 29.109375 43.015625 \nQ 36.375 43.015625 40.234375 45.921875 \nQ 44.09375 48.828125 44.09375 54.296875 \nQ 44.09375 59.90625 40.109375 62.90625 \nQ 36.140625 65.921875 28.71875 65.921875 \nQ 24.65625 65.921875 20.015625 65.03125 \nQ 15.375 64.15625 9.8125 62.3125 \nL 9.8125 71.09375 \nQ 15.4375 72.65625 20.34375 73.4375 \nQ 25.25 74.21875 29.59375 74.21875 \nQ 40.828125 74.21875 47.359375 69.109375 \nQ 53.90625 64.015625 53.90625 55.328125 \nQ 53.90625 49.265625 50.4375 45.09375 \nQ 46.96875 40.921875 40.578125 39.3125 \nz\n\" id=\"DejaVuSans-51\"/>\n       </defs>\n       <use xlink:href=\"#DejaVuSans-49\"/>\n       <use x=\"63.623047\" xlink:href=\"#DejaVuSans-51\"/>\n      </g>\n     </g>\n    </g>\n    <g id=\"xtick_6\">\n     <g id=\"line2d_6\">\n      <g>\n       <use style=\"stroke:#000000;stroke-width:0.8;\" x=\"175.973255\" xlink:href=\"#md02a95e2aa\" y=\"295.2\"/>\n      </g>\n     </g>\n     <g id=\"text_6\">\n      <!-- 16 -->\n      <g transform=\"translate(169.610755 309.798437)scale(0.1 -0.1)\">\n       <use xlink:href=\"#DejaVuSans-49\"/>\n       <use x=\"63.623047\" xlink:href=\"#DejaVuSans-54\"/>\n      </g>\n     </g>\n    </g>\n    <g id=\"xtick_7\">\n     <g id=\"line2d_7\">\n      <g>\n       <use style=\"stroke:#000000;stroke-width:0.8;\" x=\"199.349878\" xlink:href=\"#md02a95e2aa\" y=\"295.2\"/>\n      </g>\n     </g>\n     <g id=\"text_7\">\n      <!-- 18 -->\n      <g transform=\"translate(192.987378 309.798437)scale(0.1 -0.1)\">\n       <use xlink:href=\"#DejaVuSans-49\"/>\n       <use x=\"63.623047\" xlink:href=\"#DejaVuSans-56\"/>\n      </g>\n     </g>\n    </g>\n    <g id=\"xtick_8\">\n     <g id=\"line2d_8\">\n      <g>\n       <use style=\"stroke:#000000;stroke-width:0.8;\" x=\"222.726502\" xlink:href=\"#md02a95e2aa\" y=\"295.2\"/>\n      </g>\n     </g>\n     <g id=\"text_8\">\n      <!-- 20 -->\n      <g transform=\"translate(216.364002 309.798437)scale(0.1 -0.1)\">\n       <defs>\n        <path d=\"M 19.1875 8.296875 \nL 53.609375 8.296875 \nL 53.609375 0 \nL 7.328125 0 \nL 7.328125 8.296875 \nQ 12.9375 14.109375 22.625 23.890625 \nQ 32.328125 33.6875 34.8125 36.53125 \nQ 39.546875 41.84375 41.421875 45.53125 \nQ 43.3125 49.21875 43.3125 52.78125 \nQ 43.3125 58.59375 39.234375 62.25 \nQ 35.15625 65.921875 28.609375 65.921875 \nQ 23.96875 65.921875 18.8125 64.3125 \nQ 13.671875 62.703125 7.8125 59.421875 \nL 7.8125 69.390625 \nQ 13.765625 71.78125 18.9375 73 \nQ 24.125 74.21875 28.421875 74.21875 \nQ 39.75 74.21875 46.484375 68.546875 \nQ 53.21875 62.890625 53.21875 53.421875 \nQ 53.21875 48.921875 51.53125 44.890625 \nQ 49.859375 40.875 45.40625 35.40625 \nQ 44.1875 33.984375 37.640625 27.21875 \nQ 31.109375 20.453125 19.1875 8.296875 \nz\n\" id=\"DejaVuSans-50\"/>\n       </defs>\n       <use xlink:href=\"#DejaVuSans-50\"/>\n       <use x=\"63.623047\" xlink:href=\"#DejaVuSans-48\"/>\n      </g>\n     </g>\n    </g>\n    <g id=\"xtick_9\">\n     <g id=\"line2d_9\">\n      <g>\n       <use style=\"stroke:#000000;stroke-width:0.8;\" x=\"246.103125\" xlink:href=\"#md02a95e2aa\" y=\"295.2\"/>\n      </g>\n     </g>\n     <g id=\"text_9\">\n      <!-- 24 -->\n      <g transform=\"translate(239.740625 309.798437)scale(0.1 -0.1)\">\n       <defs>\n        <path d=\"M 37.796875 64.3125 \nL 12.890625 25.390625 \nL 37.796875 25.390625 \nz\nM 35.203125 72.90625 \nL 47.609375 72.90625 \nL 47.609375 25.390625 \nL 58.015625 25.390625 \nL 58.015625 17.1875 \nL 47.609375 17.1875 \nL 47.609375 0 \nL 37.796875 0 \nL 37.796875 17.1875 \nL 4.890625 17.1875 \nL 4.890625 26.703125 \nz\n\" id=\"DejaVuSans-52\"/>\n       </defs>\n       <use xlink:href=\"#DejaVuSans-50\"/>\n       <use x=\"63.623047\" xlink:href=\"#DejaVuSans-52\"/>\n      </g>\n     </g>\n    </g>\n    <g id=\"xtick_10\">\n     <g id=\"line2d_10\">\n      <g>\n       <use style=\"stroke:#000000;stroke-width:0.8;\" x=\"269.479748\" xlink:href=\"#md02a95e2aa\" y=\"295.2\"/>\n      </g>\n     </g>\n     <g id=\"text_10\">\n      <!-- 26 -->\n      <g transform=\"translate(263.117248 309.798437)scale(0.1 -0.1)\">\n       <use xlink:href=\"#DejaVuSans-50\"/>\n       <use x=\"63.623047\" xlink:href=\"#DejaVuSans-54\"/>\n      </g>\n     </g>\n    </g>\n    <g id=\"xtick_11\">\n     <g id=\"line2d_11\">\n      <g>\n       <use style=\"stroke:#000000;stroke-width:0.8;\" x=\"292.856372\" xlink:href=\"#md02a95e2aa\" y=\"295.2\"/>\n      </g>\n     </g>\n     <g id=\"text_11\">\n      <!-- 28 -->\n      <g transform=\"translate(286.493872 309.798437)scale(0.1 -0.1)\">\n       <use xlink:href=\"#DejaVuSans-50\"/>\n       <use x=\"63.623047\" xlink:href=\"#DejaVuSans-56\"/>\n      </g>\n     </g>\n    </g>\n    <g id=\"xtick_12\">\n     <g id=\"line2d_12\">\n      <g>\n       <use style=\"stroke:#000000;stroke-width:0.8;\" x=\"316.232995\" xlink:href=\"#md02a95e2aa\" y=\"295.2\"/>\n      </g>\n     </g>\n     <g id=\"text_12\">\n      <!-- 31 -->\n      <g transform=\"translate(309.870495 309.798437)scale(0.1 -0.1)\">\n       <use xlink:href=\"#DejaVuSans-51\"/>\n       <use x=\"63.623047\" xlink:href=\"#DejaVuSans-49\"/>\n      </g>\n     </g>\n    </g>\n    <g id=\"xtick_13\">\n     <g id=\"line2d_13\">\n      <g>\n       <use style=\"stroke:#000000;stroke-width:0.8;\" x=\"339.609619\" xlink:href=\"#md02a95e2aa\" y=\"295.2\"/>\n      </g>\n     </g>\n     <g id=\"text_13\">\n      <!-- 35 -->\n      <g transform=\"translate(333.247119 309.798437)scale(0.1 -0.1)\">\n       <defs>\n        <path d=\"M 10.796875 72.90625 \nL 49.515625 72.90625 \nL 49.515625 64.59375 \nL 19.828125 64.59375 \nL 19.828125 46.734375 \nQ 21.96875 47.46875 24.109375 47.828125 \nQ 26.265625 48.1875 28.421875 48.1875 \nQ 40.625 48.1875 47.75 41.5 \nQ 54.890625 34.8125 54.890625 23.390625 \nQ 54.890625 11.625 47.5625 5.09375 \nQ 40.234375 -1.421875 26.90625 -1.421875 \nQ 22.3125 -1.421875 17.546875 -0.640625 \nQ 12.796875 0.140625 7.71875 1.703125 \nL 7.71875 11.625 \nQ 12.109375 9.234375 16.796875 8.0625 \nQ 21.484375 6.890625 26.703125 6.890625 \nQ 35.15625 6.890625 40.078125 11.328125 \nQ 45.015625 15.765625 45.015625 23.390625 \nQ 45.015625 31 40.078125 35.4375 \nQ 35.15625 39.890625 26.703125 39.890625 \nQ 22.75 39.890625 18.8125 39.015625 \nQ 14.890625 38.140625 10.796875 36.28125 \nz\n\" id=\"DejaVuSans-53\"/>\n       </defs>\n       <use xlink:href=\"#DejaVuSans-51\"/>\n       <use x=\"63.623047\" xlink:href=\"#DejaVuSans-53\"/>\n      </g>\n     </g>\n    </g>\n    <g id=\"xtick_14\">\n     <g id=\"line2d_14\">\n      <g>\n       <use style=\"stroke:#000000;stroke-width:0.8;\" x=\"362.986242\" xlink:href=\"#md02a95e2aa\" y=\"295.2\"/>\n      </g>\n     </g>\n     <g id=\"text_14\">\n      <!-- 37 -->\n      <g transform=\"translate(356.623742 309.798437)scale(0.1 -0.1)\">\n       <defs>\n        <path d=\"M 8.203125 72.90625 \nL 55.078125 72.90625 \nL 55.078125 68.703125 \nL 28.609375 0 \nL 18.3125 0 \nL 43.21875 64.59375 \nL 8.203125 64.59375 \nz\n\" id=\"DejaVuSans-55\"/>\n       </defs>\n       <use xlink:href=\"#DejaVuSans-51\"/>\n       <use x=\"63.623047\" xlink:href=\"#DejaVuSans-55\"/>\n      </g>\n     </g>\n    </g>\n    <g id=\"xtick_15\">\n     <g id=\"line2d_15\">\n      <g>\n       <use style=\"stroke:#000000;stroke-width:0.8;\" x=\"386.362865\" xlink:href=\"#md02a95e2aa\" y=\"295.2\"/>\n      </g>\n     </g>\n     <g id=\"text_15\">\n      <!-- 40 -->\n      <g transform=\"translate(380.000365 309.798437)scale(0.1 -0.1)\">\n       <use xlink:href=\"#DejaVuSans-52\"/>\n       <use x=\"63.623047\" xlink:href=\"#DejaVuSans-48\"/>\n      </g>\n     </g>\n    </g>\n    <g id=\"xtick_16\">\n     <g id=\"line2d_16\">\n      <g>\n       <use style=\"stroke:#000000;stroke-width:0.8;\" x=\"409.739489\" xlink:href=\"#md02a95e2aa\" y=\"295.2\"/>\n      </g>\n     </g>\n     <g id=\"text_16\">\n      <!-- 47 -->\n      <g transform=\"translate(403.376989 309.798437)scale(0.1 -0.1)\">\n       <use xlink:href=\"#DejaVuSans-52\"/>\n       <use x=\"63.623047\" xlink:href=\"#DejaVuSans-55\"/>\n      </g>\n     </g>\n    </g>\n    <g id=\"xtick_17\">\n     <g id=\"line2d_17\">\n      <g>\n       <use style=\"stroke:#000000;stroke-width:0.8;\" x=\"433.116112\" xlink:href=\"#md02a95e2aa\" y=\"295.2\"/>\n      </g>\n     </g>\n     <g id=\"text_17\">\n      <!-- 48 -->\n      <g transform=\"translate(426.753612 309.798437)scale(0.1 -0.1)\">\n       <use xlink:href=\"#DejaVuSans-52\"/>\n       <use x=\"63.623047\" xlink:href=\"#DejaVuSans-56\"/>\n      </g>\n     </g>\n    </g>\n   </g>\n   <g id=\"matplotlib.axis_2\">\n    <g id=\"ytick_1\">\n     <g id=\"line2d_18\">\n      <defs>\n       <path d=\"M 0 0 \nL -3.5 0 \n\" id=\"m5e469840fe\" style=\"stroke:#000000;stroke-width:0.8;\"/>\n      </defs>\n      <g>\n       <use style=\"stroke:#000000;stroke-width:0.8;\" x=\"30.103125\" xlink:href=\"#m5e469840fe\" y=\"295.2\"/>\n      </g>\n     </g>\n     <g id=\"text_18\">\n      <!-- 0.0 -->\n      <g transform=\"translate(7.2 298.999219)scale(0.1 -0.1)\">\n       <defs>\n        <path d=\"M 10.6875 12.40625 \nL 21 12.40625 \nL 21 0 \nL 10.6875 0 \nz\n\" id=\"DejaVuSans-46\"/>\n       </defs>\n       <use xlink:href=\"#DejaVuSans-48\"/>\n       <use x=\"63.623047\" xlink:href=\"#DejaVuSans-46\"/>\n       <use x=\"95.410156\" xlink:href=\"#DejaVuSans-48\"/>\n      </g>\n     </g>\n    </g>\n    <g id=\"ytick_2\">\n     <g id=\"line2d_19\">\n      <g>\n       <use style=\"stroke:#000000;stroke-width:0.8;\" x=\"30.103125\" xlink:href=\"#m5e469840fe\" y=\"258.628571\"/>\n      </g>\n     </g>\n     <g id=\"text_19\">\n      <!-- 0.1 -->\n      <g transform=\"translate(7.2 262.42779)scale(0.1 -0.1)\">\n       <use xlink:href=\"#DejaVuSans-48\"/>\n       <use x=\"63.623047\" xlink:href=\"#DejaVuSans-46\"/>\n       <use x=\"95.410156\" xlink:href=\"#DejaVuSans-49\"/>\n      </g>\n     </g>\n    </g>\n    <g id=\"ytick_3\">\n     <g id=\"line2d_20\">\n      <g>\n       <use style=\"stroke:#000000;stroke-width:0.8;\" x=\"30.103125\" xlink:href=\"#m5e469840fe\" y=\"222.057143\"/>\n      </g>\n     </g>\n     <g id=\"text_20\">\n      <!-- 0.2 -->\n      <g transform=\"translate(7.2 225.856362)scale(0.1 -0.1)\">\n       <use xlink:href=\"#DejaVuSans-48\"/>\n       <use x=\"63.623047\" xlink:href=\"#DejaVuSans-46\"/>\n       <use x=\"95.410156\" xlink:href=\"#DejaVuSans-50\"/>\n      </g>\n     </g>\n    </g>\n    <g id=\"ytick_4\">\n     <g id=\"line2d_21\">\n      <g>\n       <use style=\"stroke:#000000;stroke-width:0.8;\" x=\"30.103125\" xlink:href=\"#m5e469840fe\" y=\"185.485714\"/>\n      </g>\n     </g>\n     <g id=\"text_21\">\n      <!-- 0.3 -->\n      <g transform=\"translate(7.2 189.284933)scale(0.1 -0.1)\">\n       <use xlink:href=\"#DejaVuSans-48\"/>\n       <use x=\"63.623047\" xlink:href=\"#DejaVuSans-46\"/>\n       <use x=\"95.410156\" xlink:href=\"#DejaVuSans-51\"/>\n      </g>\n     </g>\n    </g>\n    <g id=\"ytick_5\">\n     <g id=\"line2d_22\">\n      <g>\n       <use style=\"stroke:#000000;stroke-width:0.8;\" x=\"30.103125\" xlink:href=\"#m5e469840fe\" y=\"148.914286\"/>\n      </g>\n     </g>\n     <g id=\"text_22\">\n      <!-- 0.4 -->\n      <g transform=\"translate(7.2 152.713504)scale(0.1 -0.1)\">\n       <use xlink:href=\"#DejaVuSans-48\"/>\n       <use x=\"63.623047\" xlink:href=\"#DejaVuSans-46\"/>\n       <use x=\"95.410156\" xlink:href=\"#DejaVuSans-52\"/>\n      </g>\n     </g>\n    </g>\n    <g id=\"ytick_6\">\n     <g id=\"line2d_23\">\n      <g>\n       <use style=\"stroke:#000000;stroke-width:0.8;\" x=\"30.103125\" xlink:href=\"#m5e469840fe\" y=\"112.342857\"/>\n      </g>\n     </g>\n     <g id=\"text_23\">\n      <!-- 0.5 -->\n      <g transform=\"translate(7.2 116.142076)scale(0.1 -0.1)\">\n       <use xlink:href=\"#DejaVuSans-48\"/>\n       <use x=\"63.623047\" xlink:href=\"#DejaVuSans-46\"/>\n       <use x=\"95.410156\" xlink:href=\"#DejaVuSans-53\"/>\n      </g>\n     </g>\n    </g>\n    <g id=\"ytick_7\">\n     <g id=\"line2d_24\">\n      <g>\n       <use style=\"stroke:#000000;stroke-width:0.8;\" x=\"30.103125\" xlink:href=\"#m5e469840fe\" y=\"75.771429\"/>\n      </g>\n     </g>\n     <g id=\"text_24\">\n      <!-- 0.6 -->\n      <g transform=\"translate(7.2 79.570647)scale(0.1 -0.1)\">\n       <use xlink:href=\"#DejaVuSans-48\"/>\n       <use x=\"63.623047\" xlink:href=\"#DejaVuSans-46\"/>\n       <use x=\"95.410156\" xlink:href=\"#DejaVuSans-54\"/>\n      </g>\n     </g>\n    </g>\n    <g id=\"ytick_8\">\n     <g id=\"line2d_25\">\n      <g>\n       <use style=\"stroke:#000000;stroke-width:0.8;\" x=\"30.103125\" xlink:href=\"#m5e469840fe\" y=\"39.2\"/>\n      </g>\n     </g>\n     <g id=\"text_25\">\n      <!-- 0.7 -->\n      <g transform=\"translate(7.2 42.999219)scale(0.1 -0.1)\">\n       <use xlink:href=\"#DejaVuSans-48\"/>\n       <use x=\"63.623047\" xlink:href=\"#DejaVuSans-46\"/>\n       <use x=\"95.410156\" xlink:href=\"#DejaVuSans-55\"/>\n      </g>\n     </g>\n    </g>\n   </g>\n   <g id=\"patch_20\">\n    <path d=\"M 30.103125 295.2 \nL 30.103125 7.2 \n\" style=\"fill:none;stroke:#000000;stroke-linecap:square;stroke-linejoin:miter;stroke-width:0.8;\"/>\n   </g>\n   <g id=\"patch_21\">\n    <path d=\"M 462.103125 295.2 \nL 462.103125 7.2 \n\" style=\"fill:none;stroke:#000000;stroke-linecap:square;stroke-linejoin:miter;stroke-width:0.8;\"/>\n   </g>\n   <g id=\"patch_22\">\n    <path d=\"M 30.103125 295.2 \nL 462.103125 295.2 \n\" style=\"fill:none;stroke:#000000;stroke-linecap:square;stroke-linejoin:miter;stroke-width:0.8;\"/>\n   </g>\n   <g id=\"patch_23\">\n    <path d=\"M 30.103125 7.2 \nL 462.103125 7.2 \n\" style=\"fill:none;stroke:#000000;stroke-linecap:square;stroke-linejoin:miter;stroke-width:0.8;\"/>\n   </g>\n  </g>\n </g>\n <defs>\n  <clipPath id=\"paede73ee98\">\n   <rect height=\"288\" width=\"432\" x=\"30.103125\" y=\"7.2\"/>\n  </clipPath>\n </defs>\n</svg>\n",
      "image/png": "[encoded data removed]"
     },
     "metadata": {
      "needs_background": "light"
     }
    },
    {
     "output_type": "stream",
     "name": "stdout",
     "text": [
      "Num de acc que pasa de 0.5:  17\n",
      "****************************************************\n",
      "0.5\n",
      "     ****************************************************\n",
      "     Pred:  [0 0 0 0 0 0 1 0 0 0 1 0 0 0 0 0 0 0 0 0 0 0 0 0 0 0 0 0 0 0]\n",
      "     Data:  [1 0 0 0 0 1 1 0 0 1 1 0 1 1 1 1 0 0 0 0 1 1 1 0 0 1 1 1 0 0]\n",
      "     ACC 0.5666666666666667\n",
      "     F1 0.23529411764705882\n",
      "     Recal 0.13333333333333333\n",
      "     Precision 1.0\n",
      "     ****************************************************\n",
      "     Bad accu\n",
      "     ****************************************************\n",
      "     Bad accu\n",
      "     ****************************************************\n",
      "     Bad accu\n",
      "     ****************************************************\n",
      "     Bad accu\n",
      "     ****************************************************\n",
      "     Pred:  [0 0 0 0 0 0 0 0 0 0 0 0 0 0 0 0 0 0 0 0 1 0 0 0 0 0 0 0 0 0]\n",
      "     Data:  [0 0 1 0 0 1 0 0 1 1 1 1 0 0 1 0 1 0 1 0 1 0 1 1 0 0 0 1 0 0]\n",
      "     ACC 0.6\n",
      "     F1 0.14285714285714288\n",
      "     Recal 0.07692307692307693\n",
      "     Precision 1.0\n",
      "     ****************************************************\n",
      "     Bad accu\n",
      "     ****************************************************\n",
      "     Bad accu\n",
      "     ****************************************************\n",
      "     Bad accu\n",
      "     ****************************************************\n",
      "     Bad accu\n",
      "     ****************************************************\n",
      "     Bad accu\n",
      "     ****************************************************\n",
      "     Bad accu\n",
      "     ****************************************************\n",
      "     Pred:  [1 0 1 1 1 0 0 1 0 0 0 0 1 0 1 1 1 0 1 1 0 0 0 1 0 1 1 0 0 0]\n",
      "     Data:  [0 1 0 1 0 0 0 1 0 1 0 0 1 0 0 0 1 0 1 1 0 0 1 1 1 0 0 0 0 1]\n",
      "     ACC 0.6\n",
      "     F1 0.5384615384615384\n",
      "     Recal 0.5833333333333334\n",
      "     Precision 0.5\n",
      "     ****************************************************\n",
      "     Bad accu\n",
      "     ****************************************************\n",
      "     Bad accu\n",
      "     ****************************************************\n",
      "     Pred:  [1 0 1 0 0 0 0 0 0 0 0 1 0 1 0 1 0 1 1 0 0 0 0 0 1 0 0 1 0 0]\n",
      "     Data:  [0 1 1 0 1 1 0 0 0 1 1 0 0 0 1 1 0 1 1 0 0 0 0 1 0 0 0 0 0 1]\n",
      "     ACC 0.5666666666666667\n",
      "     F1 0.380952380952381\n",
      "     Recal 0.3333333333333333\n",
      "     Precision 0.4444444444444444\n",
      "     ****************************************************\n",
      "     Bad accu\n",
      "     ****************************************************\n",
      "     Bad accu\n",
      "     ****************************************************\n",
      "     Pred:  [0 0 1 0 1 0 0 0 0 0 0 0 1 0 0 0 0 0 0 1 0 0 0 0 1 1 1 0 1 0]\n",
      "     Data:  [1 0 0 1 0 0 1 0 1 1 0 0 1 0 0 0 1 0 1 0 0 0 0 1 1 1 1 0 0 0]\n",
      "     ACC 0.6\n",
      "     F1 0.4\n",
      "     Recal 0.3333333333333333\n",
      "     Precision 0.5\n",
      "     ****************************************************\n",
      "     Pred:  [0 0 0 0 0 0 1 0 0 0 1 0 1 0 0 0 1 0 0 0 0 0 0 0 0 0 1 1 1 1]\n",
      "     Data:  [0 1 1 1 0 0 1 0 0 0 1 0 1 1 0 0 0 0 0 0 0 1 1 0 0 0 1 1 1 0]\n",
      "     ACC 0.7333333333333333\n",
      "     F1 0.6\n",
      "     Recal 0.5\n",
      "     Precision 0.75\n",
      "     ****************************************************\n",
      "     Bad accu\n",
      "     ****************************************************\n",
      "     Bad accu\n",
      "     ****************************************************\n",
      "     Bad accu\n",
      "     ****************************************************\n",
      "     Bad accu\n",
      "     ****************************************************\n",
      "     Bad accu\n",
      "     ****************************************************\n",
      "     Bad accu\n",
      "     ****************************************************\n",
      "     Pred:  [0 0 0 0 0 1 0 0 0 0 0 0 0 1 1 0 0 1 1 0 1 0 0 0 1 0 0 0 0 1]\n",
      "     Data:  [1 0 0 0 1 1 0 0 0 0 1 1 0 1 0 1 0 1 1 0 1 1 0 1 0 0 1 0 1 0]\n",
      "     ACC 0.6\n",
      "     F1 0.45454545454545453\n",
      "     Recal 0.35714285714285715\n",
      "     Precision 0.625\n",
      "     ****************************************************\n",
      "     Pred:  [1 0 0 1 0 0 0 1 0 1 0 0 1 1 0 1 0 0 1 1 1 1 1 1 0 1 0 1 1 1]\n",
      "     Data:  [1 1 0 1 0 0 1 0 0 0 0 0 0 1 0 0 0 0 1 1 0 0 1 0 0 1 0 1 0 0]\n",
      "     ACC 0.6333333333333333\n",
      "     F1 0.5925925925925927\n",
      "     Recal 0.8\n",
      "     Precision 0.47058823529411764\n",
      "     ****************************************************\n",
      "     Pred:  [0 0 0 0 0 0 0 1 0 0 0 1 0 0 1 0 1 0 0 0 0 0 0 0 1 1 0 0 0 1]\n",
      "     Data:  [1 0 1 1 0 0 0 1 0 0 0 1 1 0 0 0 1 0 0 0 1 0 0 0 0 1 1 0 1 0]\n",
      "     ACC 0.6666666666666666\n",
      "     F1 0.4444444444444444\n",
      "     Recal 0.36363636363636365\n",
      "     Precision 0.5714285714285714\n",
      "     ****************************************************\n",
      "     Bad accu\n",
      "     ****************************************************\n",
      "     Bad accu\n",
      "     ****************************************************\n",
      "     Pred:  [1 1 1 0 0 0 1 0 0 0 0 0 1 0 0 1 1 0 1 1 0 0 1 1 0 0 0 0 0 0]\n",
      "     Data:  [0 0 0 1 0 1 0 0 1 0 0 0 1 0 0 1 0 0 1 0 1 0 1 0 1 0 1 0 0 0]\n",
      "     ACC 0.5666666666666667\n",
      "     F1 0.380952380952381\n",
      "     Recal 0.4\n",
      "     Precision 0.36363636363636365\n",
      "     ****************************************************\n",
      "     Pred:  [0 1 0 0 1 1 1 0 0 0 1 0 0 1 0 0 0 1 0 0 0 0 1 0 1 0 0 1 1 0]\n",
      "     Data:  [0 0 0 0 0 0 0 1 0 0 1 0 0 0 1 0 0 1 0 0 0 0 0 0 1 0 1 1 0 1]\n",
      "     ACC 0.6333333333333333\n",
      "     F1 0.4210526315789474\n",
      "     Recal 0.5\n",
      "     Precision 0.36363636363636365\n",
      "     ****************************************************\n",
      "     Pred:  [1 1 0 1 0 0 0 0 0 0 0 0 0 0 0 0 1 0 0 0 0 0 0 0 1 0 0 0 0 0]\n",
      "     Data:  [0 1 1 0 0 0 0 1 0 0 0 0 1 0 0 1 0 1 0 0 1 0 1 0 1 0 0 0 1 1]\n",
      "     ACC 0.6\n",
      "     F1 0.25000000000000006\n",
      "     Recal 0.18181818181818182\n",
      "     Precision 0.4\n",
      "     ****************************************************\n",
      "     Pred:  [0 0 0 1 1 0 1 1 1 0 0 1 1 1 1 1 1 0 0 1 0 0 0 0 1 1 1 1 0 0]\n",
      "     Data:  [0 1 0 0 1 0 1 1 1 1 0 0 0 1 0 0 0 1 0 0 0 0 0 0 0 1 0 1 0 0]\n",
      "     ACC 0.6\n",
      "     F1 0.5384615384615384\n",
      "     Recal 0.7\n",
      "     Precision 0.4375\n",
      "     ****************************************************\n",
      "     Bad accu\n",
      "     ****************************************************\n",
      "     Pred:  [0 0 0 0 0 0 0 1 0 0 0 0 1 0 1 0 0 0 1 0 0 0 0 0 0 0 0 0 0 0]\n",
      "     Data:  [1 0 0 0 0 1 0 0 1 1 0 0 1 1 1 1 1 0 0 1 0 0 1 0 0 1 0 0 1 0]\n",
      "     ACC 0.5666666666666667\n",
      "     F1 0.23529411764705882\n",
      "     Recal 0.15384615384615385\n",
      "     Precision 0.5\n",
      "     ****************************************************\n",
      "     Bad accu\n",
      "     ****************************************************\n",
      "     Bad accu\n",
      "     ****************************************************\n",
      "     Pred:  [1 1 1 1 0 1 1 1 0 0 0 0 0 1 1 0 1 0 1 0 0 0 0 0 0 0 1 0 0 0]\n",
      "     Data:  [0 0 1 1 0 1 0 1 1 0 0 1 1 0 0 0 0 1 1 0 0 0 0 1 0 0 0 0 1 0]\n",
      "     ACC 0.5666666666666667\n",
      "     F1 0.43478260869565216\n",
      "     Recal 0.45454545454545453\n",
      "     Precision 0.4166666666666667\n",
      "     ****************************************************\n",
      "     Bad accu\n",
      "     ****************************************************\n",
      "     Bad accu\n",
      "     ****************************************************\n",
      "     Bad accu\n",
      "     ****************************************************\n",
      "     Pred:  [1 0 0 1 0 1 0 1 1 1 0 0 1 0 0 0 0 0 1 0 0 1 1 1 0 0 0 0 1 0]\n",
      "     Data:  [1 0 0 1 0 0 0 0 1 0 0 0 1 0 0 1 0 0 0 0 0 0 1 0 1 0 1 1 0 0]\n",
      "     ACC 0.6333333333333333\n",
      "     F1 0.4761904761904762\n",
      "     Recal 0.5555555555555556\n",
      "     Precision 0.4166666666666667\n",
      "     ****************************************************\n",
      "     Bad accu\n",
      "     ****************************************************\n",
      "     Bad accu\n",
      "     ****************************************************\n",
      "     Bad accu\n",
      "     ****************************************************\n",
      "     Bad accu\n",
      "     ****************************************************\n",
      "     Pred:  [0 0 1 0 0 1 0 0 0 0 0 1 0 0 0 0 0 0 0 1 1 0 0 0 0 0 0 0 1 0]\n",
      "     Data:  [0 1 0 1 0 0 1 0 1 0 0 1 1 0 1 0 1 0 1 1 1 0 1 0 0 1 0 0 0 0]\n",
      "     ACC 0.5666666666666667\n",
      "     F1 0.3157894736842105\n",
      "     Recal 0.23076923076923078\n",
      "     Precision 0.5\n",
      "     ****************************************************\n",
      "     Bad accu\n"
     ]
    },
    {
     "output_type": "display_data",
     "data": {
      "text/plain": "<Figure size 432x288 with 1 Axes>",
      "image/svg+xml": "<?xml version=\"1.0\" encoding=\"utf-8\" standalone=\"no\"?>\n<!DOCTYPE svg PUBLIC \"-//W3C//DTD SVG 1.1//EN\"\n  \"http://www.w3.org/Graphics/SVG/1.1/DTD/svg11.dtd\">\n<!-- Created with matplotlib (https://matplotlib.org/) -->\n<svg height=\"319.078125pt\" version=\"1.1\" viewBox=\"0 0 469.303125 319.078125\" width=\"469.303125pt\" xmlns=\"http://www.w3.org/2000/svg\" xmlns:xlink=\"http://www.w3.org/1999/xlink\">\n <metadata>\n  <rdf:RDF xmlns:cc=\"http://creativecommons.org/ns#\" xmlns:dc=\"http://purl.org/dc/elements/1.1/\" xmlns:rdf=\"http://www.w3.org/1999/02/22-rdf-syntax-ns#\">\n   <cc:Work>\n    <dc:type rdf:resource=\"http://purl.org/dc/dcmitype/StillImage\"/>\n    <dc:date>2021-02-24T12:48:24.103010</dc:date>\n    <dc:format>image/svg+xml</dc:format>\n    <dc:creator>\n     <cc:Agent>\n      <dc:title>Matplotlib v3.3.2, https://matplotlib.org/</dc:title>\n     </cc:Agent>\n    </dc:creator>\n   </cc:Work>\n  </rdf:RDF>\n </metadata>\n <defs>\n  <style type=\"text/css\">*{stroke-linecap:butt;stroke-linejoin:round;}</style>\n </defs>\n <g id=\"figure_1\">\n  <g id=\"patch_1\">\n   <path d=\"M 0 319.078125 \nL 469.303125 319.078125 \nL 469.303125 0 \nL 0 0 \nz\n\" style=\"fill:none;\"/>\n  </g>\n  <g id=\"axes_1\">\n   <g id=\"patch_2\">\n    <path d=\"M 30.103125 295.2 \nL 462.103125 295.2 \nL 462.103125 7.2 \nL 30.103125 7.2 \nz\n\" style=\"fill:#ffffff;\"/>\n   </g>\n   <g id=\"patch_3\">\n    <path clip-path=\"url(#pd04875db49)\" d=\"M 49.739489 295.2 \nL 68.440787 295.2 \nL 68.440787 83.251948 \nL 49.739489 83.251948 \nz\n\" style=\"fill:#1f77b4;\"/>\n   </g>\n   <g id=\"patch_4\">\n    <path clip-path=\"url(#pd04875db49)\" d=\"M 73.116112 295.2 \nL 91.817411 295.2 \nL 91.817411 70.784416 \nL 73.116112 70.784416 \nz\n\" style=\"fill:#1f77b4;\"/>\n   </g>\n   <g id=\"patch_5\">\n    <path clip-path=\"url(#pd04875db49)\" d=\"M 96.492735 295.2 \nL 115.194034 295.2 \nL 115.194034 70.784416 \nL 96.492735 70.784416 \nz\n\" style=\"fill:#1f77b4;\"/>\n   </g>\n   <g id=\"patch_6\">\n    <path clip-path=\"url(#pd04875db49)\" d=\"M 119.869359 295.2 \nL 138.570657 295.2 \nL 138.570657 83.251948 \nL 119.869359 83.251948 \nz\n\" style=\"fill:#1f77b4;\"/>\n   </g>\n   <g id=\"patch_7\">\n    <path clip-path=\"url(#pd04875db49)\" d=\"M 143.245982 295.2 \nL 161.947281 295.2 \nL 161.947281 70.784416 \nL 143.245982 70.784416 \nz\n\" style=\"fill:#1f77b4;\"/>\n   </g>\n   <g id=\"patch_8\">\n    <path clip-path=\"url(#pd04875db49)\" d=\"M 166.622606 295.2 \nL 185.323904 295.2 \nL 185.323904 20.914286 \nL 166.622606 20.914286 \nz\n\" style=\"fill:#1f77b4;\"/>\n   </g>\n   <g id=\"patch_9\">\n    <path clip-path=\"url(#pd04875db49)\" d=\"M 189.999229 295.2 \nL 208.700528 295.2 \nL 208.700528 70.784416 \nL 189.999229 70.784416 \nz\n\" style=\"fill:#1f77b4;\"/>\n   </g>\n   <g id=\"patch_10\">\n    <path clip-path=\"url(#pd04875db49)\" d=\"M 213.375852 295.2 \nL 232.077151 295.2 \nL 232.077151 58.316883 \nL 213.375852 58.316883 \nz\n\" style=\"fill:#1f77b4;\"/>\n   </g>\n   <g id=\"patch_11\">\n    <path clip-path=\"url(#pd04875db49)\" d=\"M 236.752476 295.2 \nL 255.453774 295.2 \nL 255.453774 45.849351 \nL 236.752476 45.849351 \nz\n\" style=\"fill:#1f77b4;\"/>\n   </g>\n   <g id=\"patch_12\">\n    <path clip-path=\"url(#pd04875db49)\" d=\"M 260.129099 295.2 \nL 278.830398 295.2 \nL 278.830398 83.251948 \nL 260.129099 83.251948 \nz\n\" style=\"fill:#1f77b4;\"/>\n   </g>\n   <g id=\"patch_13\">\n    <path clip-path=\"url(#pd04875db49)\" d=\"M 283.505722 295.2 \nL 302.207021 295.2 \nL 302.207021 58.316883 \nL 283.505722 58.316883 \nz\n\" style=\"fill:#1f77b4;\"/>\n   </g>\n   <g id=\"patch_14\">\n    <path clip-path=\"url(#pd04875db49)\" d=\"M 306.882346 295.2 \nL 325.583644 295.2 \nL 325.583644 70.784416 \nL 306.882346 70.784416 \nz\n\" style=\"fill:#1f77b4;\"/>\n   </g>\n   <g id=\"patch_15\">\n    <path clip-path=\"url(#pd04875db49)\" d=\"M 330.258969 295.2 \nL 348.960268 295.2 \nL 348.960268 70.784416 \nL 330.258969 70.784416 \nz\n\" style=\"fill:#1f77b4;\"/>\n   </g>\n   <g id=\"patch_16\">\n    <path clip-path=\"url(#pd04875db49)\" d=\"M 353.635593 295.2 \nL 372.336891 295.2 \nL 372.336891 83.251948 \nL 353.635593 83.251948 \nz\n\" style=\"fill:#1f77b4;\"/>\n   </g>\n   <g id=\"patch_17\">\n    <path clip-path=\"url(#pd04875db49)\" d=\"M 377.012216 295.2 \nL 395.713515 295.2 \nL 395.713515 83.251948 \nL 377.012216 83.251948 \nz\n\" style=\"fill:#1f77b4;\"/>\n   </g>\n   <g id=\"patch_18\">\n    <path clip-path=\"url(#pd04875db49)\" d=\"M 400.388839 295.2 \nL 419.090138 295.2 \nL 419.090138 58.316883 \nL 400.388839 58.316883 \nz\n\" style=\"fill:#1f77b4;\"/>\n   </g>\n   <g id=\"patch_19\">\n    <path clip-path=\"url(#pd04875db49)\" d=\"M 423.765463 295.2 \nL 442.466761 295.2 \nL 442.466761 83.251948 \nL 423.765463 83.251948 \nz\n\" style=\"fill:#1f77b4;\"/>\n   </g>\n   <g id=\"matplotlib.axis_1\">\n    <g id=\"xtick_1\">\n     <g id=\"line2d_1\">\n      <defs>\n       <path d=\"M 0 0 \nL 0 3.5 \n\" id=\"me4d1664385\" style=\"stroke:#000000;stroke-width:0.8;\"/>\n      </defs>\n      <g>\n       <use style=\"stroke:#000000;stroke-width:0.8;\" x=\"59.090138\" xlink:href=\"#me4d1664385\" y=\"295.2\"/>\n      </g>\n     </g>\n     <g id=\"text_1\">\n      <!-- 0 -->\n      <g transform=\"translate(55.908888 309.798437)scale(0.1 -0.1)\">\n       <defs>\n        <path d=\"M 31.78125 66.40625 \nQ 24.171875 66.40625 20.328125 58.90625 \nQ 16.5 51.421875 16.5 36.375 \nQ 16.5 21.390625 20.328125 13.890625 \nQ 24.171875 6.390625 31.78125 6.390625 \nQ 39.453125 6.390625 43.28125 13.890625 \nQ 47.125 21.390625 47.125 36.375 \nQ 47.125 51.421875 43.28125 58.90625 \nQ 39.453125 66.40625 31.78125 66.40625 \nz\nM 31.78125 74.21875 \nQ 44.046875 74.21875 50.515625 64.515625 \nQ 56.984375 54.828125 56.984375 36.375 \nQ 56.984375 17.96875 50.515625 8.265625 \nQ 44.046875 -1.421875 31.78125 -1.421875 \nQ 19.53125 -1.421875 13.0625 8.265625 \nQ 6.59375 17.96875 6.59375 36.375 \nQ 6.59375 54.828125 13.0625 64.515625 \nQ 19.53125 74.21875 31.78125 74.21875 \nz\n\" id=\"DejaVuSans-48\"/>\n       </defs>\n       <use xlink:href=\"#DejaVuSans-48\"/>\n      </g>\n     </g>\n    </g>\n    <g id=\"xtick_2\">\n     <g id=\"line2d_2\">\n      <g>\n       <use style=\"stroke:#000000;stroke-width:0.8;\" x=\"82.466761\" xlink:href=\"#me4d1664385\" y=\"295.2\"/>\n      </g>\n     </g>\n     <g id=\"text_2\">\n      <!-- 5 -->\n      <g transform=\"translate(79.285511 309.798437)scale(0.1 -0.1)\">\n       <defs>\n        <path d=\"M 10.796875 72.90625 \nL 49.515625 72.90625 \nL 49.515625 64.59375 \nL 19.828125 64.59375 \nL 19.828125 46.734375 \nQ 21.96875 47.46875 24.109375 47.828125 \nQ 26.265625 48.1875 28.421875 48.1875 \nQ 40.625 48.1875 47.75 41.5 \nQ 54.890625 34.8125 54.890625 23.390625 \nQ 54.890625 11.625 47.5625 5.09375 \nQ 40.234375 -1.421875 26.90625 -1.421875 \nQ 22.3125 -1.421875 17.546875 -0.640625 \nQ 12.796875 0.140625 7.71875 1.703125 \nL 7.71875 11.625 \nQ 12.109375 9.234375 16.796875 8.0625 \nQ 21.484375 6.890625 26.703125 6.890625 \nQ 35.15625 6.890625 40.078125 11.328125 \nQ 45.015625 15.765625 45.015625 23.390625 \nQ 45.015625 31 40.078125 35.4375 \nQ 35.15625 39.890625 26.703125 39.890625 \nQ 22.75 39.890625 18.8125 39.015625 \nQ 14.890625 38.140625 10.796875 36.28125 \nz\n\" id=\"DejaVuSans-53\"/>\n       </defs>\n       <use xlink:href=\"#DejaVuSans-53\"/>\n      </g>\n     </g>\n    </g>\n    <g id=\"xtick_3\">\n     <g id=\"line2d_3\">\n      <g>\n       <use style=\"stroke:#000000;stroke-width:0.8;\" x=\"105.843385\" xlink:href=\"#me4d1664385\" y=\"295.2\"/>\n      </g>\n     </g>\n     <g id=\"text_3\">\n      <!-- 12 -->\n      <g transform=\"translate(99.480885 309.798437)scale(0.1 -0.1)\">\n       <defs>\n        <path d=\"M 12.40625 8.296875 \nL 28.515625 8.296875 \nL 28.515625 63.921875 \nL 10.984375 60.40625 \nL 10.984375 69.390625 \nL 28.421875 72.90625 \nL 38.28125 72.90625 \nL 38.28125 8.296875 \nL 54.390625 8.296875 \nL 54.390625 0 \nL 12.40625 0 \nz\n\" id=\"DejaVuSans-49\"/>\n        <path d=\"M 19.1875 8.296875 \nL 53.609375 8.296875 \nL 53.609375 0 \nL 7.328125 0 \nL 7.328125 8.296875 \nQ 12.9375 14.109375 22.625 23.890625 \nQ 32.328125 33.6875 34.8125 36.53125 \nQ 39.546875 41.84375 41.421875 45.53125 \nQ 43.3125 49.21875 43.3125 52.78125 \nQ 43.3125 58.59375 39.234375 62.25 \nQ 35.15625 65.921875 28.609375 65.921875 \nQ 23.96875 65.921875 18.8125 64.3125 \nQ 13.671875 62.703125 7.8125 59.421875 \nL 7.8125 69.390625 \nQ 13.765625 71.78125 18.9375 73 \nQ 24.125 74.21875 28.421875 74.21875 \nQ 39.75 74.21875 46.484375 68.546875 \nQ 53.21875 62.890625 53.21875 53.421875 \nQ 53.21875 48.921875 51.53125 44.890625 \nQ 49.859375 40.875 45.40625 35.40625 \nQ 44.1875 33.984375 37.640625 27.21875 \nQ 31.109375 20.453125 19.1875 8.296875 \nz\n\" id=\"DejaVuSans-50\"/>\n       </defs>\n       <use xlink:href=\"#DejaVuSans-49\"/>\n       <use x=\"63.623047\" xlink:href=\"#DejaVuSans-50\"/>\n      </g>\n     </g>\n    </g>\n    <g id=\"xtick_4\">\n     <g id=\"line2d_4\">\n      <g>\n       <use style=\"stroke:#000000;stroke-width:0.8;\" x=\"129.220008\" xlink:href=\"#me4d1664385\" y=\"295.2\"/>\n      </g>\n     </g>\n     <g id=\"text_4\">\n      <!-- 15 -->\n      <g transform=\"translate(122.857508 309.798437)scale(0.1 -0.1)\">\n       <use xlink:href=\"#DejaVuSans-49\"/>\n       <use x=\"63.623047\" xlink:href=\"#DejaVuSans-53\"/>\n      </g>\n     </g>\n    </g>\n    <g id=\"xtick_5\">\n     <g id=\"line2d_5\">\n      <g>\n       <use style=\"stroke:#000000;stroke-width:0.8;\" x=\"152.596631\" xlink:href=\"#me4d1664385\" y=\"295.2\"/>\n      </g>\n     </g>\n     <g id=\"text_5\">\n      <!-- 18 -->\n      <g transform=\"translate(146.234131 309.798437)scale(0.1 -0.1)\">\n       <defs>\n        <path d=\"M 31.78125 34.625 \nQ 24.75 34.625 20.71875 30.859375 \nQ 16.703125 27.09375 16.703125 20.515625 \nQ 16.703125 13.921875 20.71875 10.15625 \nQ 24.75 6.390625 31.78125 6.390625 \nQ 38.8125 6.390625 42.859375 10.171875 \nQ 46.921875 13.96875 46.921875 20.515625 \nQ 46.921875 27.09375 42.890625 30.859375 \nQ 38.875 34.625 31.78125 34.625 \nz\nM 21.921875 38.8125 \nQ 15.578125 40.375 12.03125 44.71875 \nQ 8.5 49.078125 8.5 55.328125 \nQ 8.5 64.0625 14.71875 69.140625 \nQ 20.953125 74.21875 31.78125 74.21875 \nQ 42.671875 74.21875 48.875 69.140625 \nQ 55.078125 64.0625 55.078125 55.328125 \nQ 55.078125 49.078125 51.53125 44.71875 \nQ 48 40.375 41.703125 38.8125 \nQ 48.828125 37.15625 52.796875 32.3125 \nQ 56.78125 27.484375 56.78125 20.515625 \nQ 56.78125 9.90625 50.3125 4.234375 \nQ 43.84375 -1.421875 31.78125 -1.421875 \nQ 19.734375 -1.421875 13.25 4.234375 \nQ 6.78125 9.90625 6.78125 20.515625 \nQ 6.78125 27.484375 10.78125 32.3125 \nQ 14.796875 37.15625 21.921875 38.8125 \nz\nM 18.3125 54.390625 \nQ 18.3125 48.734375 21.84375 45.5625 \nQ 25.390625 42.390625 31.78125 42.390625 \nQ 38.140625 42.390625 41.71875 45.5625 \nQ 45.3125 48.734375 45.3125 54.390625 \nQ 45.3125 60.0625 41.71875 63.234375 \nQ 38.140625 66.40625 31.78125 66.40625 \nQ 25.390625 66.40625 21.84375 63.234375 \nQ 18.3125 60.0625 18.3125 54.390625 \nz\n\" id=\"DejaVuSans-56\"/>\n       </defs>\n       <use xlink:href=\"#DejaVuSans-49\"/>\n       <use x=\"63.623047\" xlink:href=\"#DejaVuSans-56\"/>\n      </g>\n     </g>\n    </g>\n    <g id=\"xtick_6\">\n     <g id=\"line2d_6\">\n      <g>\n       <use style=\"stroke:#000000;stroke-width:0.8;\" x=\"175.973255\" xlink:href=\"#me4d1664385\" y=\"295.2\"/>\n      </g>\n     </g>\n     <g id=\"text_6\">\n      <!-- 19 -->\n      <g transform=\"translate(169.610755 309.798437)scale(0.1 -0.1)\">\n       <defs>\n        <path d=\"M 10.984375 1.515625 \nL 10.984375 10.5 \nQ 14.703125 8.734375 18.5 7.8125 \nQ 22.3125 6.890625 25.984375 6.890625 \nQ 35.75 6.890625 40.890625 13.453125 \nQ 46.046875 20.015625 46.78125 33.40625 \nQ 43.953125 29.203125 39.59375 26.953125 \nQ 35.25 24.703125 29.984375 24.703125 \nQ 19.046875 24.703125 12.671875 31.3125 \nQ 6.296875 37.9375 6.296875 49.421875 \nQ 6.296875 60.640625 12.9375 67.421875 \nQ 19.578125 74.21875 30.609375 74.21875 \nQ 43.265625 74.21875 49.921875 64.515625 \nQ 56.59375 54.828125 56.59375 36.375 \nQ 56.59375 19.140625 48.40625 8.859375 \nQ 40.234375 -1.421875 26.421875 -1.421875 \nQ 22.703125 -1.421875 18.890625 -0.6875 \nQ 15.09375 0.046875 10.984375 1.515625 \nz\nM 30.609375 32.421875 \nQ 37.25 32.421875 41.125 36.953125 \nQ 45.015625 41.5 45.015625 49.421875 \nQ 45.015625 57.28125 41.125 61.84375 \nQ 37.25 66.40625 30.609375 66.40625 \nQ 23.96875 66.40625 20.09375 61.84375 \nQ 16.21875 57.28125 16.21875 49.421875 \nQ 16.21875 41.5 20.09375 36.953125 \nQ 23.96875 32.421875 30.609375 32.421875 \nz\n\" id=\"DejaVuSans-57\"/>\n       </defs>\n       <use xlink:href=\"#DejaVuSans-49\"/>\n       <use x=\"63.623047\" xlink:href=\"#DejaVuSans-57\"/>\n      </g>\n     </g>\n    </g>\n    <g id=\"xtick_7\">\n     <g id=\"line2d_7\">\n      <g>\n       <use style=\"stroke:#000000;stroke-width:0.8;\" x=\"199.349878\" xlink:href=\"#me4d1664385\" y=\"295.2\"/>\n      </g>\n     </g>\n     <g id=\"text_7\">\n      <!-- 26 -->\n      <g transform=\"translate(192.987378 309.798437)scale(0.1 -0.1)\">\n       <defs>\n        <path d=\"M 33.015625 40.375 \nQ 26.375 40.375 22.484375 35.828125 \nQ 18.609375 31.296875 18.609375 23.390625 \nQ 18.609375 15.53125 22.484375 10.953125 \nQ 26.375 6.390625 33.015625 6.390625 \nQ 39.65625 6.390625 43.53125 10.953125 \nQ 47.40625 15.53125 47.40625 23.390625 \nQ 47.40625 31.296875 43.53125 35.828125 \nQ 39.65625 40.375 33.015625 40.375 \nz\nM 52.59375 71.296875 \nL 52.59375 62.3125 \nQ 48.875 64.0625 45.09375 64.984375 \nQ 41.3125 65.921875 37.59375 65.921875 \nQ 27.828125 65.921875 22.671875 59.328125 \nQ 17.53125 52.734375 16.796875 39.40625 \nQ 19.671875 43.65625 24.015625 45.921875 \nQ 28.375 48.1875 33.59375 48.1875 \nQ 44.578125 48.1875 50.953125 41.515625 \nQ 57.328125 34.859375 57.328125 23.390625 \nQ 57.328125 12.15625 50.6875 5.359375 \nQ 44.046875 -1.421875 33.015625 -1.421875 \nQ 20.359375 -1.421875 13.671875 8.265625 \nQ 6.984375 17.96875 6.984375 36.375 \nQ 6.984375 53.65625 15.1875 63.9375 \nQ 23.390625 74.21875 37.203125 74.21875 \nQ 40.921875 74.21875 44.703125 73.484375 \nQ 48.484375 72.75 52.59375 71.296875 \nz\n\" id=\"DejaVuSans-54\"/>\n       </defs>\n       <use xlink:href=\"#DejaVuSans-50\"/>\n       <use x=\"63.623047\" xlink:href=\"#DejaVuSans-54\"/>\n      </g>\n     </g>\n    </g>\n    <g id=\"xtick_8\">\n     <g id=\"line2d_8\">\n      <g>\n       <use style=\"stroke:#000000;stroke-width:0.8;\" x=\"222.726502\" xlink:href=\"#me4d1664385\" y=\"295.2\"/>\n      </g>\n     </g>\n     <g id=\"text_8\">\n      <!-- 27 -->\n      <g transform=\"translate(216.364002 309.798437)scale(0.1 -0.1)\">\n       <defs>\n        <path d=\"M 8.203125 72.90625 \nL 55.078125 72.90625 \nL 55.078125 68.703125 \nL 28.609375 0 \nL 18.3125 0 \nL 43.21875 64.59375 \nL 8.203125 64.59375 \nz\n\" id=\"DejaVuSans-55\"/>\n       </defs>\n       <use xlink:href=\"#DejaVuSans-50\"/>\n       <use x=\"63.623047\" xlink:href=\"#DejaVuSans-55\"/>\n      </g>\n     </g>\n    </g>\n    <g id=\"xtick_9\">\n     <g id=\"line2d_9\">\n      <g>\n       <use style=\"stroke:#000000;stroke-width:0.8;\" x=\"246.103125\" xlink:href=\"#me4d1664385\" y=\"295.2\"/>\n      </g>\n     </g>\n     <g id=\"text_9\">\n      <!-- 28 -->\n      <g transform=\"translate(239.740625 309.798437)scale(0.1 -0.1)\">\n       <use xlink:href=\"#DejaVuSans-50\"/>\n       <use x=\"63.623047\" xlink:href=\"#DejaVuSans-56\"/>\n      </g>\n     </g>\n    </g>\n    <g id=\"xtick_10\">\n     <g id=\"line2d_10\">\n      <g>\n       <use style=\"stroke:#000000;stroke-width:0.8;\" x=\"269.479748\" xlink:href=\"#me4d1664385\" y=\"295.2\"/>\n      </g>\n     </g>\n     <g id=\"text_10\">\n      <!-- 31 -->\n      <g transform=\"translate(263.117248 309.798437)scale(0.1 -0.1)\">\n       <defs>\n        <path d=\"M 40.578125 39.3125 \nQ 47.65625 37.796875 51.625 33 \nQ 55.609375 28.21875 55.609375 21.1875 \nQ 55.609375 10.40625 48.1875 4.484375 \nQ 40.765625 -1.421875 27.09375 -1.421875 \nQ 22.515625 -1.421875 17.65625 -0.515625 \nQ 12.796875 0.390625 7.625 2.203125 \nL 7.625 11.71875 \nQ 11.71875 9.328125 16.59375 8.109375 \nQ 21.484375 6.890625 26.8125 6.890625 \nQ 36.078125 6.890625 40.9375 10.546875 \nQ 45.796875 14.203125 45.796875 21.1875 \nQ 45.796875 27.640625 41.28125 31.265625 \nQ 36.765625 34.90625 28.71875 34.90625 \nL 20.21875 34.90625 \nL 20.21875 43.015625 \nL 29.109375 43.015625 \nQ 36.375 43.015625 40.234375 45.921875 \nQ 44.09375 48.828125 44.09375 54.296875 \nQ 44.09375 59.90625 40.109375 62.90625 \nQ 36.140625 65.921875 28.71875 65.921875 \nQ 24.65625 65.921875 20.015625 65.03125 \nQ 15.375 64.15625 9.8125 62.3125 \nL 9.8125 71.09375 \nQ 15.4375 72.65625 20.34375 73.4375 \nQ 25.25 74.21875 29.59375 74.21875 \nQ 40.828125 74.21875 47.359375 69.109375 \nQ 53.90625 64.015625 53.90625 55.328125 \nQ 53.90625 49.265625 50.4375 45.09375 \nQ 46.96875 40.921875 40.578125 39.3125 \nz\n\" id=\"DejaVuSans-51\"/>\n       </defs>\n       <use xlink:href=\"#DejaVuSans-51\"/>\n       <use x=\"63.623047\" xlink:href=\"#DejaVuSans-49\"/>\n      </g>\n     </g>\n    </g>\n    <g id=\"xtick_11\">\n     <g id=\"line2d_11\">\n      <g>\n       <use style=\"stroke:#000000;stroke-width:0.8;\" x=\"292.856372\" xlink:href=\"#me4d1664385\" y=\"295.2\"/>\n      </g>\n     </g>\n     <g id=\"text_11\">\n      <!-- 32 -->\n      <g transform=\"translate(286.493872 309.798437)scale(0.1 -0.1)\">\n       <use xlink:href=\"#DejaVuSans-51\"/>\n       <use x=\"63.623047\" xlink:href=\"#DejaVuSans-50\"/>\n      </g>\n     </g>\n    </g>\n    <g id=\"xtick_12\">\n     <g id=\"line2d_12\">\n      <g>\n       <use style=\"stroke:#000000;stroke-width:0.8;\" x=\"316.232995\" xlink:href=\"#me4d1664385\" y=\"295.2\"/>\n      </g>\n     </g>\n     <g id=\"text_12\">\n      <!-- 33 -->\n      <g transform=\"translate(309.870495 309.798437)scale(0.1 -0.1)\">\n       <use xlink:href=\"#DejaVuSans-51\"/>\n       <use x=\"63.623047\" xlink:href=\"#DejaVuSans-51\"/>\n      </g>\n     </g>\n    </g>\n    <g id=\"xtick_13\">\n     <g id=\"line2d_13\">\n      <g>\n       <use style=\"stroke:#000000;stroke-width:0.8;\" x=\"339.609619\" xlink:href=\"#me4d1664385\" y=\"295.2\"/>\n      </g>\n     </g>\n     <g id=\"text_13\">\n      <!-- 34 -->\n      <g transform=\"translate(333.247119 309.798437)scale(0.1 -0.1)\">\n       <defs>\n        <path d=\"M 37.796875 64.3125 \nL 12.890625 25.390625 \nL 37.796875 25.390625 \nz\nM 35.203125 72.90625 \nL 47.609375 72.90625 \nL 47.609375 25.390625 \nL 58.015625 25.390625 \nL 58.015625 17.1875 \nL 47.609375 17.1875 \nL 47.609375 0 \nL 37.796875 0 \nL 37.796875 17.1875 \nL 4.890625 17.1875 \nL 4.890625 26.703125 \nz\n\" id=\"DejaVuSans-52\"/>\n       </defs>\n       <use xlink:href=\"#DejaVuSans-51\"/>\n       <use x=\"63.623047\" xlink:href=\"#DejaVuSans-52\"/>\n      </g>\n     </g>\n    </g>\n    <g id=\"xtick_14\">\n     <g id=\"line2d_14\">\n      <g>\n       <use style=\"stroke:#000000;stroke-width:0.8;\" x=\"362.986242\" xlink:href=\"#me4d1664385\" y=\"295.2\"/>\n      </g>\n     </g>\n     <g id=\"text_14\">\n      <!-- 36 -->\n      <g transform=\"translate(356.623742 309.798437)scale(0.1 -0.1)\">\n       <use xlink:href=\"#DejaVuSans-51\"/>\n       <use x=\"63.623047\" xlink:href=\"#DejaVuSans-54\"/>\n      </g>\n     </g>\n    </g>\n    <g id=\"xtick_15\">\n     <g id=\"line2d_15\">\n      <g>\n       <use style=\"stroke:#000000;stroke-width:0.8;\" x=\"386.362865\" xlink:href=\"#me4d1664385\" y=\"295.2\"/>\n      </g>\n     </g>\n     <g id=\"text_15\">\n      <!-- 39 -->\n      <g transform=\"translate(380.000365 309.798437)scale(0.1 -0.1)\">\n       <use xlink:href=\"#DejaVuSans-51\"/>\n       <use x=\"63.623047\" xlink:href=\"#DejaVuSans-57\"/>\n      </g>\n     </g>\n    </g>\n    <g id=\"xtick_16\">\n     <g id=\"line2d_16\">\n      <g>\n       <use style=\"stroke:#000000;stroke-width:0.8;\" x=\"409.739489\" xlink:href=\"#me4d1664385\" y=\"295.2\"/>\n      </g>\n     </g>\n     <g id=\"text_16\">\n      <!-- 43 -->\n      <g transform=\"translate(403.376989 309.798437)scale(0.1 -0.1)\">\n       <use xlink:href=\"#DejaVuSans-52\"/>\n       <use x=\"63.623047\" xlink:href=\"#DejaVuSans-51\"/>\n      </g>\n     </g>\n    </g>\n    <g id=\"xtick_17\">\n     <g id=\"line2d_17\">\n      <g>\n       <use style=\"stroke:#000000;stroke-width:0.8;\" x=\"433.116112\" xlink:href=\"#me4d1664385\" y=\"295.2\"/>\n      </g>\n     </g>\n     <g id=\"text_17\">\n      <!-- 48 -->\n      <g transform=\"translate(426.753612 309.798437)scale(0.1 -0.1)\">\n       <use xlink:href=\"#DejaVuSans-52\"/>\n       <use x=\"63.623047\" xlink:href=\"#DejaVuSans-56\"/>\n      </g>\n     </g>\n    </g>\n   </g>\n   <g id=\"matplotlib.axis_2\">\n    <g id=\"ytick_1\">\n     <g id=\"line2d_18\">\n      <defs>\n       <path d=\"M 0 0 \nL -3.5 0 \n\" id=\"m5c3619ef3d\" style=\"stroke:#000000;stroke-width:0.8;\"/>\n      </defs>\n      <g>\n       <use style=\"stroke:#000000;stroke-width:0.8;\" x=\"30.103125\" xlink:href=\"#m5c3619ef3d\" y=\"295.2\"/>\n      </g>\n     </g>\n     <g id=\"text_18\">\n      <!-- 0.0 -->\n      <g transform=\"translate(7.2 298.999219)scale(0.1 -0.1)\">\n       <defs>\n        <path d=\"M 10.6875 12.40625 \nL 21 12.40625 \nL 21 0 \nL 10.6875 0 \nz\n\" id=\"DejaVuSans-46\"/>\n       </defs>\n       <use xlink:href=\"#DejaVuSans-48\"/>\n       <use x=\"63.623047\" xlink:href=\"#DejaVuSans-46\"/>\n       <use x=\"95.410156\" xlink:href=\"#DejaVuSans-48\"/>\n      </g>\n     </g>\n    </g>\n    <g id=\"ytick_2\">\n     <g id=\"line2d_19\">\n      <g>\n       <use style=\"stroke:#000000;stroke-width:0.8;\" x=\"30.103125\" xlink:href=\"#m5c3619ef3d\" y=\"257.797403\"/>\n      </g>\n     </g>\n     <g id=\"text_19\">\n      <!-- 0.1 -->\n      <g transform=\"translate(7.2 261.596621)scale(0.1 -0.1)\">\n       <use xlink:href=\"#DejaVuSans-48\"/>\n       <use x=\"63.623047\" xlink:href=\"#DejaVuSans-46\"/>\n       <use x=\"95.410156\" xlink:href=\"#DejaVuSans-49\"/>\n      </g>\n     </g>\n    </g>\n    <g id=\"ytick_3\">\n     <g id=\"line2d_20\">\n      <g>\n       <use style=\"stroke:#000000;stroke-width:0.8;\" x=\"30.103125\" xlink:href=\"#m5c3619ef3d\" y=\"220.394805\"/>\n      </g>\n     </g>\n     <g id=\"text_20\">\n      <!-- 0.2 -->\n      <g transform=\"translate(7.2 224.194024)scale(0.1 -0.1)\">\n       <use xlink:href=\"#DejaVuSans-48\"/>\n       <use x=\"63.623047\" xlink:href=\"#DejaVuSans-46\"/>\n       <use x=\"95.410156\" xlink:href=\"#DejaVuSans-50\"/>\n      </g>\n     </g>\n    </g>\n    <g id=\"ytick_4\">\n     <g id=\"line2d_21\">\n      <g>\n       <use style=\"stroke:#000000;stroke-width:0.8;\" x=\"30.103125\" xlink:href=\"#m5c3619ef3d\" y=\"182.992208\"/>\n      </g>\n     </g>\n     <g id=\"text_21\">\n      <!-- 0.3 -->\n      <g transform=\"translate(7.2 186.791427)scale(0.1 -0.1)\">\n       <use xlink:href=\"#DejaVuSans-48\"/>\n       <use x=\"63.623047\" xlink:href=\"#DejaVuSans-46\"/>\n       <use x=\"95.410156\" xlink:href=\"#DejaVuSans-51\"/>\n      </g>\n     </g>\n    </g>\n    <g id=\"ytick_5\">\n     <g id=\"line2d_22\">\n      <g>\n       <use style=\"stroke:#000000;stroke-width:0.8;\" x=\"30.103125\" xlink:href=\"#m5c3619ef3d\" y=\"145.58961\"/>\n      </g>\n     </g>\n     <g id=\"text_22\">\n      <!-- 0.4 -->\n      <g transform=\"translate(7.2 149.388829)scale(0.1 -0.1)\">\n       <use xlink:href=\"#DejaVuSans-48\"/>\n       <use x=\"63.623047\" xlink:href=\"#DejaVuSans-46\"/>\n       <use x=\"95.410156\" xlink:href=\"#DejaVuSans-52\"/>\n      </g>\n     </g>\n    </g>\n    <g id=\"ytick_6\">\n     <g id=\"line2d_23\">\n      <g>\n       <use style=\"stroke:#000000;stroke-width:0.8;\" x=\"30.103125\" xlink:href=\"#m5c3619ef3d\" y=\"108.187013\"/>\n      </g>\n     </g>\n     <g id=\"text_23\">\n      <!-- 0.5 -->\n      <g transform=\"translate(7.2 111.986232)scale(0.1 -0.1)\">\n       <use xlink:href=\"#DejaVuSans-48\"/>\n       <use x=\"63.623047\" xlink:href=\"#DejaVuSans-46\"/>\n       <use x=\"95.410156\" xlink:href=\"#DejaVuSans-53\"/>\n      </g>\n     </g>\n    </g>\n    <g id=\"ytick_7\">\n     <g id=\"line2d_24\">\n      <g>\n       <use style=\"stroke:#000000;stroke-width:0.8;\" x=\"30.103125\" xlink:href=\"#m5c3619ef3d\" y=\"70.784416\"/>\n      </g>\n     </g>\n     <g id=\"text_24\">\n      <!-- 0.6 -->\n      <g transform=\"translate(7.2 74.583634)scale(0.1 -0.1)\">\n       <use xlink:href=\"#DejaVuSans-48\"/>\n       <use x=\"63.623047\" xlink:href=\"#DejaVuSans-46\"/>\n       <use x=\"95.410156\" xlink:href=\"#DejaVuSans-54\"/>\n      </g>\n     </g>\n    </g>\n    <g id=\"ytick_8\">\n     <g id=\"line2d_25\">\n      <g>\n       <use style=\"stroke:#000000;stroke-width:0.8;\" x=\"30.103125\" xlink:href=\"#m5c3619ef3d\" y=\"33.381818\"/>\n      </g>\n     </g>\n     <g id=\"text_25\">\n      <!-- 0.7 -->\n      <g transform=\"translate(7.2 37.181037)scale(0.1 -0.1)\">\n       <use xlink:href=\"#DejaVuSans-48\"/>\n       <use x=\"63.623047\" xlink:href=\"#DejaVuSans-46\"/>\n       <use x=\"95.410156\" xlink:href=\"#DejaVuSans-55\"/>\n      </g>\n     </g>\n    </g>\n   </g>\n   <g id=\"patch_20\">\n    <path d=\"M 30.103125 295.2 \nL 30.103125 7.2 \n\" style=\"fill:none;stroke:#000000;stroke-linecap:square;stroke-linejoin:miter;stroke-width:0.8;\"/>\n   </g>\n   <g id=\"patch_21\">\n    <path d=\"M 462.103125 295.2 \nL 462.103125 7.2 \n\" style=\"fill:none;stroke:#000000;stroke-linecap:square;stroke-linejoin:miter;stroke-width:0.8;\"/>\n   </g>\n   <g id=\"patch_22\">\n    <path d=\"M 30.103125 295.2 \nL 462.103125 295.2 \n\" style=\"fill:none;stroke:#000000;stroke-linecap:square;stroke-linejoin:miter;stroke-width:0.8;\"/>\n   </g>\n   <g id=\"patch_23\">\n    <path d=\"M 30.103125 7.2 \nL 462.103125 7.2 \n\" style=\"fill:none;stroke:#000000;stroke-linecap:square;stroke-linejoin:miter;stroke-width:0.8;\"/>\n   </g>\n  </g>\n </g>\n <defs>\n  <clipPath id=\"pd04875db49\">\n   <rect height=\"288\" width=\"432\" x=\"30.103125\" y=\"7.2\"/>\n  </clipPath>\n </defs>\n</svg>\n",
      "image/png": "[encoded data removed]"
     },
     "metadata": {
      "needs_background": "light"
     }
    },
    {
     "output_type": "stream",
     "name": "stdout",
     "text": [
      "Num de acc que pasa de 0.5:  17\n",
      "****************************************************\n",
      "0.6\n",
      "     ****************************************************\n",
      "     Bad accu\n",
      "     ****************************************************\n",
      "     Bad accu\n",
      "     ****************************************************\n",
      "     Bad accu\n",
      "     ****************************************************\n",
      "     Pred:  [0 0 1 0 0 0 0 0 0 0 0 0 0 0 0 0 0 0 0 0 1 1 0 0 0 0 0 0 1 0 0 0 1 0 0 0]\n",
      "     Data:  [1 1 1 0 0 1 0 1 1 1 0 1 1 1 0 1 0 0 0 0 0 1 0 0 1 0 1 0 0 0 1 0 0 0 0 0]\n",
      "     ACC 0.5555555555555556\n",
      "     F1 0.2\n",
      "     Recal 0.13333333333333333\n",
      "     Precision 0.4\n",
      "     ****************************************************\n",
      "     Pred:  [1 1 1 0 1 0 1 1 0 0 1 1 0 0 0 0 1 1 1 0 1 0 0 0 1 0 1 1 0 0 1 0 1 1 1 0]\n",
      "     Data:  [1 1 0 0 0 1 1 0 0 1 0 1 0 0 0 0 0 1 1 0 1 0 0 0 0 0 0 1 1 0 0 1 0 1 0 0]\n",
      "     ACC 0.6111111111111112\n",
      "     F1 0.5625\n",
      "     Recal 0.6923076923076923\n",
      "     Precision 0.47368421052631576\n",
      "     ****************************************************\n",
      "     Pred:  [0 0 0 1 1 0 0 0 0 0 0 1 1 0 1 0 0 0 0 0 0 0 0 0 0 1 0 0 0 0 0 0 0 0 0 0]\n",
      "     Data:  [0 0 1 0 1 1 0 0 0 1 0 1 0 0 1 1 1 1 1 0 1 0 0 0 0 0 0 0 0 0 1 1 1 0 1 0]\n",
      "     ACC 0.5833333333333334\n",
      "     F1 0.28571428571428575\n",
      "     Recal 0.2\n",
      "     Precision 0.5\n",
      "     ****************************************************\n",
      "     Bad accu\n",
      "     ****************************************************\n",
      "     Bad accu\n",
      "     ****************************************************\n",
      "     Bad accu\n",
      "     ****************************************************\n",
      "     Bad accu\n",
      "     ****************************************************\n",
      "     Bad accu\n",
      "     ****************************************************\n",
      "     Bad accu\n",
      "     ****************************************************\n",
      "     Bad accu\n",
      "     ****************************************************\n",
      "     Pred:  [1 0 0 0 0 0 1 0 0 1 0 1 0 1 0 0 0 0 0 0 1 0 0 0 0 0 0 0 1 0 0 0 0 1 0 0]\n",
      "     Data:  [0 0 0 0 0 0 0 1 0 0 1 0 0 1 0 1 0 0 1 0 0 1 0 0 1 0 1 1 1 1 1 0 0 0 0 0]\n",
      "     ACC 0.5555555555555556\n",
      "     F1 0.2\n",
      "     Recal 0.16666666666666666\n",
      "     Precision 0.25\n",
      "     ****************************************************\n",
      "     Pred:  [0 1 0 1 0 0 1 0 0 1 1 0 0 0 0 1 0 0 0 0 0 1 0 0 0 1 0 1 0 0 0 0 0 0 0 1]\n",
      "     Data:  [1 0 0 0 0 0 1 0 0 1 0 1 0 0 0 1 0 0 0 0 0 1 1 0 0 1 1 1 1 0 1 0 0 1 1 1]\n",
      "     ACC 0.6944444444444444\n",
      "     F1 0.56\n",
      "     Recal 0.4666666666666667\n",
      "     Precision 0.7\n",
      "     ****************************************************\n",
      "     Bad accu\n",
      "     ****************************************************\n",
      "     Bad accu\n",
      "     ****************************************************\n",
      "     Bad accu\n",
      "     ****************************************************\n",
      "     Pred:  [1 0 0 0 0 0 0 0 1 0 0 0 1 1 1 0 0 1 1 0 0 0 0 0 1 1 1 0 0 0 0 0 1 0 1 1]\n",
      "     Data:  [1 0 0 0 1 1 0 0 0 0 0 0 0 1 0 0 0 1 1 1 1 0 0 1 0 0 0 1 1 0 1 0 1 1 1 0]\n",
      "     ACC 0.5555555555555556\n",
      "     F1 0.42857142857142855\n",
      "     Recal 0.4\n",
      "     Precision 0.46153846153846156\n",
      "     ****************************************************\n",
      "     Bad accu\n",
      "     ****************************************************\n",
      "     Bad accu\n",
      "     ****************************************************\n",
      "     Pred:  [0 0 0 0 0 0 0 1 0 0 0 0 1 0 0 0 0 0 0 0 0 0 0 0 0 0 0 0 0 0 0 0 0 0 0 0]\n",
      "     Data:  [0 1 1 1 1 1 0 1 1 1 0 1 1 0 0 0 0 1 0 0 1 0 0 0 0 0 1 0 0 0 1 1 0 1 0 0]\n",
      "     ACC 0.6111111111111112\n",
      "     F1 0.2222222222222222\n",
      "     Recal 0.125\n",
      "     Precision 1.0\n",
      "     ****************************************************\n",
      "     Bad accu\n",
      "     ****************************************************\n",
      "     Bad accu\n",
      "     ****************************************************\n",
      "     Bad accu\n",
      "     ****************************************************\n",
      "     Bad accu\n",
      "     ****************************************************\n",
      "     Bad accu\n",
      "     ****************************************************\n",
      "     Bad accu\n",
      "     ****************************************************\n",
      "     Bad accu\n",
      "     ****************************************************\n",
      "     Pred:  [0 0 0 0 0 0 0 0 0 0 1 1 1 0 0 1 0 0 1 0 0 0 0 0 1 0 0 0 1 0 0 0 0 0 0 1]\n",
      "     Data:  [0 0 1 0 0 0 0 0 0 0 0 0 0 1 0 1 1 1 0 1 0 0 0 1 1 0 1 1 0 0 0 1 1 1 0 1]\n",
      "     ACC 0.5555555555555556\n",
      "     F1 0.2727272727272727\n",
      "     Recal 0.21428571428571427\n",
      "     Precision 0.375\n",
      "     ****************************************************\n",
      "     Bad accu\n",
      "     ****************************************************\n",
      "     Bad accu\n",
      "     ****************************************************\n",
      "     Bad accu\n",
      "     ****************************************************\n",
      "     Pred:  [1 1 1 0 1 1 0 0 0 0 1 0 1 0 0 0 0 1 0 1 0 0 0 0 1 0 0 1 1 0 0 0 0 0 1 0]\n",
      "     Data:  [1 0 0 1 0 1 0 0 0 0 0 0 1 0 0 1 0 1 0 1 1 0 1 1 0 0 0 1 0 0 1 0 0 1 1 0]\n",
      "     ACC 0.6388888888888888\n",
      "     F1 0.5185185185185186\n",
      "     Recal 0.5\n",
      "     Precision 0.5384615384615384\n",
      "     ****************************************************\n",
      "     Bad accu\n",
      "     ****************************************************\n",
      "     Bad accu\n",
      "     ****************************************************\n",
      "     Bad accu\n",
      "     ****************************************************\n",
      "     Bad accu\n",
      "     ****************************************************\n",
      "     Pred:  [0 0 0 0 0 0 0 0 0 0 0 1 0 0 0 0 0 0 0 0 0 1 0 0 0 0 0 0 0 0 0 0 0 0 0 0]\n",
      "     Data:  [1 0 0 1 1 1 0 1 0 0 0 1 0 0 0 0 1 0 0 1 1 1 0 1 1 1 0 0 0 1 0 0 0 0 0 1]\n",
      "     ACC 0.6388888888888888\n",
      "     F1 0.23529411764705882\n",
      "     Recal 0.13333333333333333\n",
      "     Precision 1.0\n",
      "     ****************************************************\n",
      "     Pred:  [0 0 0 0 1 1 0 1 1 0 1 0 1 0 0 1 0 1 0 0 0 0 0 0 0 1 0 0 0 0 0 0 0 0 0 0]\n",
      "     Data:  [1 0 0 1 0 1 0 0 1 0 1 0 0 1 0 0 1 1 0 0 0 1 0 1 0 1 0 0 1 0 0 1 0 0 0 0]\n",
      "     ACC 0.6666666666666666\n",
      "     F1 0.4545454545454546\n",
      "     Recal 0.38461538461538464\n",
      "     Precision 0.5555555555555556\n",
      "     ****************************************************\n",
      "     Bad accu\n",
      "     ****************************************************\n",
      "     Pred:  [0 0 0 0 0 0 0 1 0 1 0 0 1 0 0 0 0 0 0 0 1 1 0 1 0 0 0 0 1 1 0 0 0 0 0 0]\n",
      "     Data:  [0 0 0 0 1 1 0 0 0 0 0 1 1 0 1 0 0 1 1 0 1 1 0 1 1 0 0 1 1 0 1 0 0 0 0 1]\n",
      "     ACC 0.6388888888888888\n",
      "     F1 0.43478260869565216\n",
      "     Recal 0.3333333333333333\n",
      "     Precision 0.625\n",
      "     ****************************************************\n",
      "     Bad accu\n",
      "     ****************************************************\n",
      "     Pred:  [0 0 0 1 0 0 0 1 0 0 1 1 0 0 1 0 1 1 1 1 0 1 1 0 1 0 0 0 1 0 0 1 1 0 0 0]\n",
      "     Data:  [1 0 1 0 0 0 0 1 1 0 0 0 0 0 1 0 1 0 1 1 1 1 0 1 1 0 0 0 1 0 1 0 0 0 1 1]\n",
      "     ACC 0.5833333333333334\n",
      "     F1 0.5161290322580646\n",
      "     Recal 0.5\n",
      "     Precision 0.5333333333333333\n",
      "     ****************************************************\n",
      "     Pred:  [0 0 0 0 1 0 0 0 0 1 1 0 0 0 0 0 1 0 0 0 1 1 0 1 0 0 0 0 0 1 0 1 0 0 0 0]\n",
      "     Data:  [1 0 1 0 1 1 0 1 0 1 0 1 1 0 0 1 0 0 0 0 1 1 0 1 1 0 1 1 0 0 0 0 1 0 1 0]\n",
      "     ACC 0.5555555555555556\n",
      "     F1 0.3846153846153846\n",
      "     Recal 0.29411764705882354\n",
      "     Precision 0.5555555555555556\n",
      "     ****************************************************\n",
      "     Pred:  [0 0 0 1 0 0 0 0 0 0 0 0 1 0 0 0 0 0 0 1 0 0 0 0 0 0 0 0 0 0 0 0 0 0 0 0]\n",
      "     Data:  [1 0 1 1 1 1 0 0 1 0 1 0 0 0 1 1 1 0 0 1 0 0 0 0 0 0 0 1 0 0 1 0 1 0 1 0]\n",
      "     ACC 0.6111111111111112\n",
      "     F1 0.2222222222222222\n",
      "     Recal 0.13333333333333333\n",
      "     Precision 0.6666666666666666\n",
      "     ****************************************************\n",
      "     Bad accu\n",
      "     ****************************************************\n",
      "     Bad accu\n",
      "     ****************************************************\n",
      "     Bad accu\n",
      "     ****************************************************\n",
      "     Bad accu\n"
     ]
    },
    {
     "output_type": "display_data",
     "data": {
      "text/plain": "<Figure size 432x288 with 1 Axes>",
      "image/svg+xml": "<?xml version=\"1.0\" encoding=\"utf-8\" standalone=\"no\"?>\n<!DOCTYPE svg PUBLIC \"-//W3C//DTD SVG 1.1//EN\"\n  \"http://www.w3.org/Graphics/SVG/1.1/DTD/svg11.dtd\">\n<!-- Created with matplotlib (https://matplotlib.org/) -->\n<svg height=\"319.078125pt\" version=\"1.1\" viewBox=\"0 0 469.303125 319.078125\" width=\"469.303125pt\" xmlns=\"http://www.w3.org/2000/svg\" xmlns:xlink=\"http://www.w3.org/1999/xlink\">\n <metadata>\n  <rdf:RDF xmlns:cc=\"http://creativecommons.org/ns#\" xmlns:dc=\"http://purl.org/dc/elements/1.1/\" xmlns:rdf=\"http://www.w3.org/1999/02/22-rdf-syntax-ns#\">\n   <cc:Work>\n    <dc:type rdf:resource=\"http://purl.org/dc/dcmitype/StillImage\"/>\n    <dc:date>2021-02-24T12:48:25.578879</dc:date>\n    <dc:format>image/svg+xml</dc:format>\n    <dc:creator>\n     <cc:Agent>\n      <dc:title>Matplotlib v3.3.2, https://matplotlib.org/</dc:title>\n     </cc:Agent>\n    </dc:creator>\n   </cc:Work>\n  </rdf:RDF>\n </metadata>\n <defs>\n  <style type=\"text/css\">*{stroke-linecap:butt;stroke-linejoin:round;}</style>\n </defs>\n <g id=\"figure_1\">\n  <g id=\"patch_1\">\n   <path d=\"M 0 319.078125 \nL 469.303125 319.078125 \nL 469.303125 0 \nL 0 0 \nz\n\" style=\"fill:none;\"/>\n  </g>\n  <g id=\"axes_1\">\n   <g id=\"patch_2\">\n    <path d=\"M 30.103125 295.2 \nL 462.103125 295.2 \nL 462.103125 7.2 \nL 30.103125 7.2 \nz\n\" style=\"fill:#ffffff;\"/>\n   </g>\n   <g id=\"patch_3\">\n    <path clip-path=\"url(#p4b6d96052d)\" d=\"M 49.739489 295.2 \nL 70.96799 295.2 \nL 70.96799 75.771429 \nL 49.739489 75.771429 \nz\n\" style=\"fill:#1f77b4;\"/>\n   </g>\n   <g id=\"patch_4\">\n    <path clip-path=\"url(#p4b6d96052d)\" d=\"M 76.275115 295.2 \nL 97.503616 295.2 \nL 97.503616 53.828571 \nL 76.275115 53.828571 \nz\n\" style=\"fill:#1f77b4;\"/>\n   </g>\n   <g id=\"patch_5\">\n    <path clip-path=\"url(#p4b6d96052d)\" d=\"M 102.810742 295.2 \nL 124.039243 295.2 \nL 124.039243 64.8 \nL 102.810742 64.8 \nz\n\" style=\"fill:#1f77b4;\"/>\n   </g>\n   <g id=\"patch_6\">\n    <path clip-path=\"url(#p4b6d96052d)\" d=\"M 129.346368 295.2 \nL 150.574869 295.2 \nL 150.574869 75.771429 \nL 129.346368 75.771429 \nz\n\" style=\"fill:#1f77b4;\"/>\n   </g>\n   <g id=\"patch_7\">\n    <path clip-path=\"url(#p4b6d96052d)\" d=\"M 155.881995 295.2 \nL 177.110496 295.2 \nL 177.110496 20.914286 \nL 155.881995 20.914286 \nz\n\" style=\"fill:#1f77b4;\"/>\n   </g>\n   <g id=\"patch_8\">\n    <path clip-path=\"url(#p4b6d96052d)\" d=\"M 182.417621 295.2 \nL 203.646123 295.2 \nL 203.646123 75.771429 \nL 182.417621 75.771429 \nz\n\" style=\"fill:#1f77b4;\"/>\n   </g>\n   <g id=\"patch_9\">\n    <path clip-path=\"url(#p4b6d96052d)\" d=\"M 208.953248 295.2 \nL 230.181749 295.2 \nL 230.181749 53.828571 \nL 208.953248 53.828571 \nz\n\" style=\"fill:#1f77b4;\"/>\n   </g>\n   <g id=\"patch_10\">\n    <path clip-path=\"url(#p4b6d96052d)\" d=\"M 235.488874 295.2 \nL 256.717376 295.2 \nL 256.717376 75.771429 \nL 235.488874 75.771429 \nz\n\" style=\"fill:#1f77b4;\"/>\n   </g>\n   <g id=\"patch_11\">\n    <path clip-path=\"url(#p4b6d96052d)\" d=\"M 262.024501 295.2 \nL 283.253002 295.2 \nL 283.253002 42.857143 \nL 262.024501 42.857143 \nz\n\" style=\"fill:#1f77b4;\"/>\n   </g>\n   <g id=\"patch_12\">\n    <path clip-path=\"url(#p4b6d96052d)\" d=\"M 288.560127 295.2 \nL 309.788629 295.2 \nL 309.788629 42.857143 \nL 288.560127 42.857143 \nz\n\" style=\"fill:#1f77b4;\"/>\n   </g>\n   <g id=\"patch_13\">\n    <path clip-path=\"url(#p4b6d96052d)\" d=\"M 315.095754 295.2 \nL 336.324255 295.2 \nL 336.324255 31.885714 \nL 315.095754 31.885714 \nz\n\" style=\"fill:#1f77b4;\"/>\n   </g>\n   <g id=\"patch_14\">\n    <path clip-path=\"url(#p4b6d96052d)\" d=\"M 341.631381 295.2 \nL 362.859882 295.2 \nL 362.859882 42.857143 \nL 341.631381 42.857143 \nz\n\" style=\"fill:#1f77b4;\"/>\n   </g>\n   <g id=\"patch_15\">\n    <path clip-path=\"url(#p4b6d96052d)\" d=\"M 368.167007 295.2 \nL 389.395508 295.2 \nL 389.395508 64.8 \nL 368.167007 64.8 \nz\n\" style=\"fill:#1f77b4;\"/>\n   </g>\n   <g id=\"patch_16\">\n    <path clip-path=\"url(#p4b6d96052d)\" d=\"M 394.702634 295.2 \nL 415.931135 295.2 \nL 415.931135 75.771429 \nL 394.702634 75.771429 \nz\n\" style=\"fill:#1f77b4;\"/>\n   </g>\n   <g id=\"patch_17\">\n    <path clip-path=\"url(#p4b6d96052d)\" d=\"M 421.23826 295.2 \nL 442.466761 295.2 \nL 442.466761 53.828571 \nL 421.23826 53.828571 \nz\n\" style=\"fill:#1f77b4;\"/>\n   </g>\n   <g id=\"matplotlib.axis_1\">\n    <g id=\"xtick_1\">\n     <g id=\"line2d_1\">\n      <defs>\n       <path d=\"M 0 0 \nL 0 3.5 \n\" id=\"mf50d766580\" style=\"stroke:#000000;stroke-width:0.8;\"/>\n      </defs>\n      <g>\n       <use style=\"stroke:#000000;stroke-width:0.8;\" x=\"60.353739\" xlink:href=\"#mf50d766580\" y=\"295.2\"/>\n      </g>\n     </g>\n     <g id=\"text_1\">\n      <!-- 3 -->\n      <g transform=\"translate(57.172489 309.798437)scale(0.1 -0.1)\">\n       <defs>\n        <path d=\"M 40.578125 39.3125 \nQ 47.65625 37.796875 51.625 33 \nQ 55.609375 28.21875 55.609375 21.1875 \nQ 55.609375 10.40625 48.1875 4.484375 \nQ 40.765625 -1.421875 27.09375 -1.421875 \nQ 22.515625 -1.421875 17.65625 -0.515625 \nQ 12.796875 0.390625 7.625 2.203125 \nL 7.625 11.71875 \nQ 11.71875 9.328125 16.59375 8.109375 \nQ 21.484375 6.890625 26.8125 6.890625 \nQ 36.078125 6.890625 40.9375 10.546875 \nQ 45.796875 14.203125 45.796875 21.1875 \nQ 45.796875 27.640625 41.28125 31.265625 \nQ 36.765625 34.90625 28.71875 34.90625 \nL 20.21875 34.90625 \nL 20.21875 43.015625 \nL 29.109375 43.015625 \nQ 36.375 43.015625 40.234375 45.921875 \nQ 44.09375 48.828125 44.09375 54.296875 \nQ 44.09375 59.90625 40.109375 62.90625 \nQ 36.140625 65.921875 28.71875 65.921875 \nQ 24.65625 65.921875 20.015625 65.03125 \nQ 15.375 64.15625 9.8125 62.3125 \nL 9.8125 71.09375 \nQ 15.4375 72.65625 20.34375 73.4375 \nQ 25.25 74.21875 29.59375 74.21875 \nQ 40.828125 74.21875 47.359375 69.109375 \nQ 53.90625 64.015625 53.90625 55.328125 \nQ 53.90625 49.265625 50.4375 45.09375 \nQ 46.96875 40.921875 40.578125 39.3125 \nz\n\" id=\"DejaVuSans-51\"/>\n       </defs>\n       <use xlink:href=\"#DejaVuSans-51\"/>\n      </g>\n     </g>\n    </g>\n    <g id=\"xtick_2\">\n     <g id=\"line2d_2\">\n      <g>\n       <use style=\"stroke:#000000;stroke-width:0.8;\" x=\"86.889366\" xlink:href=\"#mf50d766580\" y=\"295.2\"/>\n      </g>\n     </g>\n     <g id=\"text_2\">\n      <!-- 4 -->\n      <g transform=\"translate(83.708116 309.798437)scale(0.1 -0.1)\">\n       <defs>\n        <path d=\"M 37.796875 64.3125 \nL 12.890625 25.390625 \nL 37.796875 25.390625 \nz\nM 35.203125 72.90625 \nL 47.609375 72.90625 \nL 47.609375 25.390625 \nL 58.015625 25.390625 \nL 58.015625 17.1875 \nL 47.609375 17.1875 \nL 47.609375 0 \nL 37.796875 0 \nL 37.796875 17.1875 \nL 4.890625 17.1875 \nL 4.890625 26.703125 \nz\n\" id=\"DejaVuSans-52\"/>\n       </defs>\n       <use xlink:href=\"#DejaVuSans-52\"/>\n      </g>\n     </g>\n    </g>\n    <g id=\"xtick_3\">\n     <g id=\"line2d_3\">\n      <g>\n       <use style=\"stroke:#000000;stroke-width:0.8;\" x=\"113.424992\" xlink:href=\"#mf50d766580\" y=\"295.2\"/>\n      </g>\n     </g>\n     <g id=\"text_3\">\n      <!-- 5 -->\n      <g transform=\"translate(110.243742 309.798437)scale(0.1 -0.1)\">\n       <defs>\n        <path d=\"M 10.796875 72.90625 \nL 49.515625 72.90625 \nL 49.515625 64.59375 \nL 19.828125 64.59375 \nL 19.828125 46.734375 \nQ 21.96875 47.46875 24.109375 47.828125 \nQ 26.265625 48.1875 28.421875 48.1875 \nQ 40.625 48.1875 47.75 41.5 \nQ 54.890625 34.8125 54.890625 23.390625 \nQ 54.890625 11.625 47.5625 5.09375 \nQ 40.234375 -1.421875 26.90625 -1.421875 \nQ 22.3125 -1.421875 17.546875 -0.640625 \nQ 12.796875 0.140625 7.71875 1.703125 \nL 7.71875 11.625 \nQ 12.109375 9.234375 16.796875 8.0625 \nQ 21.484375 6.890625 26.703125 6.890625 \nQ 35.15625 6.890625 40.078125 11.328125 \nQ 45.015625 15.765625 45.015625 23.390625 \nQ 45.015625 31 40.078125 35.4375 \nQ 35.15625 39.890625 26.703125 39.890625 \nQ 22.75 39.890625 18.8125 39.015625 \nQ 14.890625 38.140625 10.796875 36.28125 \nz\n\" id=\"DejaVuSans-53\"/>\n       </defs>\n       <use xlink:href=\"#DejaVuSans-53\"/>\n      </g>\n     </g>\n    </g>\n    <g id=\"xtick_4\">\n     <g id=\"line2d_4\">\n      <g>\n       <use style=\"stroke:#000000;stroke-width:0.8;\" x=\"139.960619\" xlink:href=\"#mf50d766580\" y=\"295.2\"/>\n      </g>\n     </g>\n     <g id=\"text_4\">\n      <!-- 13 -->\n      <g transform=\"translate(133.598119 309.798437)scale(0.1 -0.1)\">\n       <defs>\n        <path d=\"M 12.40625 8.296875 \nL 28.515625 8.296875 \nL 28.515625 63.921875 \nL 10.984375 60.40625 \nL 10.984375 69.390625 \nL 28.421875 72.90625 \nL 38.28125 72.90625 \nL 38.28125 8.296875 \nL 54.390625 8.296875 \nL 54.390625 0 \nL 12.40625 0 \nz\n\" id=\"DejaVuSans-49\"/>\n       </defs>\n       <use xlink:href=\"#DejaVuSans-49\"/>\n       <use x=\"63.623047\" xlink:href=\"#DejaVuSans-51\"/>\n      </g>\n     </g>\n    </g>\n    <g id=\"xtick_5\">\n     <g id=\"line2d_5\">\n      <g>\n       <use style=\"stroke:#000000;stroke-width:0.8;\" x=\"166.496245\" xlink:href=\"#mf50d766580\" y=\"295.2\"/>\n      </g>\n     </g>\n     <g id=\"text_5\">\n      <!-- 14 -->\n      <g transform=\"translate(160.133745 309.798437)scale(0.1 -0.1)\">\n       <use xlink:href=\"#DejaVuSans-49\"/>\n       <use x=\"63.623047\" xlink:href=\"#DejaVuSans-52\"/>\n      </g>\n     </g>\n    </g>\n    <g id=\"xtick_6\">\n     <g id=\"line2d_6\">\n      <g>\n       <use style=\"stroke:#000000;stroke-width:0.8;\" x=\"193.031872\" xlink:href=\"#mf50d766580\" y=\"295.2\"/>\n      </g>\n     </g>\n     <g id=\"text_6\">\n      <!-- 18 -->\n      <g transform=\"translate(186.669372 309.798437)scale(0.1 -0.1)\">\n       <defs>\n        <path d=\"M 31.78125 34.625 \nQ 24.75 34.625 20.71875 30.859375 \nQ 16.703125 27.09375 16.703125 20.515625 \nQ 16.703125 13.921875 20.71875 10.15625 \nQ 24.75 6.390625 31.78125 6.390625 \nQ 38.8125 6.390625 42.859375 10.171875 \nQ 46.921875 13.96875 46.921875 20.515625 \nQ 46.921875 27.09375 42.890625 30.859375 \nQ 38.875 34.625 31.78125 34.625 \nz\nM 21.921875 38.8125 \nQ 15.578125 40.375 12.03125 44.71875 \nQ 8.5 49.078125 8.5 55.328125 \nQ 8.5 64.0625 14.71875 69.140625 \nQ 20.953125 74.21875 31.78125 74.21875 \nQ 42.671875 74.21875 48.875 69.140625 \nQ 55.078125 64.0625 55.078125 55.328125 \nQ 55.078125 49.078125 51.53125 44.71875 \nQ 48 40.375 41.703125 38.8125 \nQ 48.828125 37.15625 52.796875 32.3125 \nQ 56.78125 27.484375 56.78125 20.515625 \nQ 56.78125 9.90625 50.3125 4.234375 \nQ 43.84375 -1.421875 31.78125 -1.421875 \nQ 19.734375 -1.421875 13.25 4.234375 \nQ 6.78125 9.90625 6.78125 20.515625 \nQ 6.78125 27.484375 10.78125 32.3125 \nQ 14.796875 37.15625 21.921875 38.8125 \nz\nM 18.3125 54.390625 \nQ 18.3125 48.734375 21.84375 45.5625 \nQ 25.390625 42.390625 31.78125 42.390625 \nQ 38.140625 42.390625 41.71875 45.5625 \nQ 45.3125 48.734375 45.3125 54.390625 \nQ 45.3125 60.0625 41.71875 63.234375 \nQ 38.140625 66.40625 31.78125 66.40625 \nQ 25.390625 66.40625 21.84375 63.234375 \nQ 18.3125 60.0625 18.3125 54.390625 \nz\n\" id=\"DejaVuSans-56\"/>\n       </defs>\n       <use xlink:href=\"#DejaVuSans-49\"/>\n       <use x=\"63.623047\" xlink:href=\"#DejaVuSans-56\"/>\n      </g>\n     </g>\n    </g>\n    <g id=\"xtick_7\">\n     <g id=\"line2d_7\">\n      <g>\n       <use style=\"stroke:#000000;stroke-width:0.8;\" x=\"219.567498\" xlink:href=\"#mf50d766580\" y=\"295.2\"/>\n      </g>\n     </g>\n     <g id=\"text_7\">\n      <!-- 21 -->\n      <g transform=\"translate(213.204998 309.798437)scale(0.1 -0.1)\">\n       <defs>\n        <path d=\"M 19.1875 8.296875 \nL 53.609375 8.296875 \nL 53.609375 0 \nL 7.328125 0 \nL 7.328125 8.296875 \nQ 12.9375 14.109375 22.625 23.890625 \nQ 32.328125 33.6875 34.8125 36.53125 \nQ 39.546875 41.84375 41.421875 45.53125 \nQ 43.3125 49.21875 43.3125 52.78125 \nQ 43.3125 58.59375 39.234375 62.25 \nQ 35.15625 65.921875 28.609375 65.921875 \nQ 23.96875 65.921875 18.8125 64.3125 \nQ 13.671875 62.703125 7.8125 59.421875 \nL 7.8125 69.390625 \nQ 13.765625 71.78125 18.9375 73 \nQ 24.125 74.21875 28.421875 74.21875 \nQ 39.75 74.21875 46.484375 68.546875 \nQ 53.21875 62.890625 53.21875 53.421875 \nQ 53.21875 48.921875 51.53125 44.890625 \nQ 49.859375 40.875 45.40625 35.40625 \nQ 44.1875 33.984375 37.640625 27.21875 \nQ 31.109375 20.453125 19.1875 8.296875 \nz\n\" id=\"DejaVuSans-50\"/>\n       </defs>\n       <use xlink:href=\"#DejaVuSans-50\"/>\n       <use x=\"63.623047\" xlink:href=\"#DejaVuSans-49\"/>\n      </g>\n     </g>\n    </g>\n    <g id=\"xtick_8\">\n     <g id=\"line2d_8\">\n      <g>\n       <use style=\"stroke:#000000;stroke-width:0.8;\" x=\"246.103125\" xlink:href=\"#mf50d766580\" y=\"295.2\"/>\n      </g>\n     </g>\n     <g id=\"text_8\">\n      <!-- 29 -->\n      <g transform=\"translate(239.740625 309.798437)scale(0.1 -0.1)\">\n       <defs>\n        <path d=\"M 10.984375 1.515625 \nL 10.984375 10.5 \nQ 14.703125 8.734375 18.5 7.8125 \nQ 22.3125 6.890625 25.984375 6.890625 \nQ 35.75 6.890625 40.890625 13.453125 \nQ 46.046875 20.015625 46.78125 33.40625 \nQ 43.953125 29.203125 39.59375 26.953125 \nQ 35.25 24.703125 29.984375 24.703125 \nQ 19.046875 24.703125 12.671875 31.3125 \nQ 6.296875 37.9375 6.296875 49.421875 \nQ 6.296875 60.640625 12.9375 67.421875 \nQ 19.578125 74.21875 30.609375 74.21875 \nQ 43.265625 74.21875 49.921875 64.515625 \nQ 56.59375 54.828125 56.59375 36.375 \nQ 56.59375 19.140625 48.40625 8.859375 \nQ 40.234375 -1.421875 26.421875 -1.421875 \nQ 22.703125 -1.421875 18.890625 -0.6875 \nQ 15.09375 0.046875 10.984375 1.515625 \nz\nM 30.609375 32.421875 \nQ 37.25 32.421875 41.125 36.953125 \nQ 45.015625 41.5 45.015625 49.421875 \nQ 45.015625 57.28125 41.125 61.84375 \nQ 37.25 66.40625 30.609375 66.40625 \nQ 23.96875 66.40625 20.09375 61.84375 \nQ 16.21875 57.28125 16.21875 49.421875 \nQ 16.21875 41.5 20.09375 36.953125 \nQ 23.96875 32.421875 30.609375 32.421875 \nz\n\" id=\"DejaVuSans-57\"/>\n       </defs>\n       <use xlink:href=\"#DejaVuSans-50\"/>\n       <use x=\"63.623047\" xlink:href=\"#DejaVuSans-57\"/>\n      </g>\n     </g>\n    </g>\n    <g id=\"xtick_9\">\n     <g id=\"line2d_9\">\n      <g>\n       <use style=\"stroke:#000000;stroke-width:0.8;\" x=\"272.638752\" xlink:href=\"#mf50d766580\" y=\"295.2\"/>\n      </g>\n     </g>\n     <g id=\"text_9\">\n      <!-- 33 -->\n      <g transform=\"translate(266.276252 309.798437)scale(0.1 -0.1)\">\n       <use xlink:href=\"#DejaVuSans-51\"/>\n       <use x=\"63.623047\" xlink:href=\"#DejaVuSans-51\"/>\n      </g>\n     </g>\n    </g>\n    <g id=\"xtick_10\">\n     <g id=\"line2d_10\">\n      <g>\n       <use style=\"stroke:#000000;stroke-width:0.8;\" x=\"299.174378\" xlink:href=\"#mf50d766580\" y=\"295.2\"/>\n      </g>\n     </g>\n     <g id=\"text_10\">\n      <!-- 38 -->\n      <g transform=\"translate(292.811878 309.798437)scale(0.1 -0.1)\">\n       <use xlink:href=\"#DejaVuSans-51\"/>\n       <use x=\"63.623047\" xlink:href=\"#DejaVuSans-56\"/>\n      </g>\n     </g>\n    </g>\n    <g id=\"xtick_11\">\n     <g id=\"line2d_11\">\n      <g>\n       <use style=\"stroke:#000000;stroke-width:0.8;\" x=\"325.710005\" xlink:href=\"#mf50d766580\" y=\"295.2\"/>\n      </g>\n     </g>\n     <g id=\"text_11\">\n      <!-- 39 -->\n      <g transform=\"translate(319.347505 309.798437)scale(0.1 -0.1)\">\n       <use xlink:href=\"#DejaVuSans-51\"/>\n       <use x=\"63.623047\" xlink:href=\"#DejaVuSans-57\"/>\n      </g>\n     </g>\n    </g>\n    <g id=\"xtick_12\">\n     <g id=\"line2d_12\">\n      <g>\n       <use style=\"stroke:#000000;stroke-width:0.8;\" x=\"352.245631\" xlink:href=\"#mf50d766580\" y=\"295.2\"/>\n      </g>\n     </g>\n     <g id=\"text_12\">\n      <!-- 41 -->\n      <g transform=\"translate(345.883131 309.798437)scale(0.1 -0.1)\">\n       <use xlink:href=\"#DejaVuSans-52\"/>\n       <use x=\"63.623047\" xlink:href=\"#DejaVuSans-49\"/>\n      </g>\n     </g>\n    </g>\n    <g id=\"xtick_13\">\n     <g id=\"line2d_13\">\n      <g>\n       <use style=\"stroke:#000000;stroke-width:0.8;\" x=\"378.781258\" xlink:href=\"#mf50d766580\" y=\"295.2\"/>\n      </g>\n     </g>\n     <g id=\"text_13\">\n      <!-- 43 -->\n      <g transform=\"translate(372.418758 309.798437)scale(0.1 -0.1)\">\n       <use xlink:href=\"#DejaVuSans-52\"/>\n       <use x=\"63.623047\" xlink:href=\"#DejaVuSans-51\"/>\n      </g>\n     </g>\n    </g>\n    <g id=\"xtick_14\">\n     <g id=\"line2d_14\">\n      <g>\n       <use style=\"stroke:#000000;stroke-width:0.8;\" x=\"405.316884\" xlink:href=\"#mf50d766580\" y=\"295.2\"/>\n      </g>\n     </g>\n     <g id=\"text_14\">\n      <!-- 44 -->\n      <g transform=\"translate(398.954384 309.798437)scale(0.1 -0.1)\">\n       <use xlink:href=\"#DejaVuSans-52\"/>\n       <use x=\"63.623047\" xlink:href=\"#DejaVuSans-52\"/>\n      </g>\n     </g>\n    </g>\n    <g id=\"xtick_15\">\n     <g id=\"line2d_15\">\n      <g>\n       <use style=\"stroke:#000000;stroke-width:0.8;\" x=\"431.852511\" xlink:href=\"#mf50d766580\" y=\"295.2\"/>\n      </g>\n     </g>\n     <g id=\"text_15\">\n      <!-- 45 -->\n      <g transform=\"translate(425.490011 309.798437)scale(0.1 -0.1)\">\n       <use xlink:href=\"#DejaVuSans-52\"/>\n       <use x=\"63.623047\" xlink:href=\"#DejaVuSans-53\"/>\n      </g>\n     </g>\n    </g>\n   </g>\n   <g id=\"matplotlib.axis_2\">\n    <g id=\"ytick_1\">\n     <g id=\"line2d_16\">\n      <defs>\n       <path d=\"M 0 0 \nL -3.5 0 \n\" id=\"ma25d4c2de3\" style=\"stroke:#000000;stroke-width:0.8;\"/>\n      </defs>\n      <g>\n       <use style=\"stroke:#000000;stroke-width:0.8;\" x=\"30.103125\" xlink:href=\"#ma25d4c2de3\" y=\"295.2\"/>\n      </g>\n     </g>\n     <g id=\"text_16\">\n      <!-- 0.0 -->\n      <g transform=\"translate(7.2 298.999219)scale(0.1 -0.1)\">\n       <defs>\n        <path d=\"M 31.78125 66.40625 \nQ 24.171875 66.40625 20.328125 58.90625 \nQ 16.5 51.421875 16.5 36.375 \nQ 16.5 21.390625 20.328125 13.890625 \nQ 24.171875 6.390625 31.78125 6.390625 \nQ 39.453125 6.390625 43.28125 13.890625 \nQ 47.125 21.390625 47.125 36.375 \nQ 47.125 51.421875 43.28125 58.90625 \nQ 39.453125 66.40625 31.78125 66.40625 \nz\nM 31.78125 74.21875 \nQ 44.046875 74.21875 50.515625 64.515625 \nQ 56.984375 54.828125 56.984375 36.375 \nQ 56.984375 17.96875 50.515625 8.265625 \nQ 44.046875 -1.421875 31.78125 -1.421875 \nQ 19.53125 -1.421875 13.0625 8.265625 \nQ 6.59375 17.96875 6.59375 36.375 \nQ 6.59375 54.828125 13.0625 64.515625 \nQ 19.53125 74.21875 31.78125 74.21875 \nz\n\" id=\"DejaVuSans-48\"/>\n        <path d=\"M 10.6875 12.40625 \nL 21 12.40625 \nL 21 0 \nL 10.6875 0 \nz\n\" id=\"DejaVuSans-46\"/>\n       </defs>\n       <use xlink:href=\"#DejaVuSans-48\"/>\n       <use x=\"63.623047\" xlink:href=\"#DejaVuSans-46\"/>\n       <use x=\"95.410156\" xlink:href=\"#DejaVuSans-48\"/>\n      </g>\n     </g>\n    </g>\n    <g id=\"ytick_2\">\n     <g id=\"line2d_17\">\n      <g>\n       <use style=\"stroke:#000000;stroke-width:0.8;\" x=\"30.103125\" xlink:href=\"#ma25d4c2de3\" y=\"255.702857\"/>\n      </g>\n     </g>\n     <g id=\"text_17\">\n      <!-- 0.1 -->\n      <g transform=\"translate(7.2 259.502076)scale(0.1 -0.1)\">\n       <use xlink:href=\"#DejaVuSans-48\"/>\n       <use x=\"63.623047\" xlink:href=\"#DejaVuSans-46\"/>\n       <use x=\"95.410156\" xlink:href=\"#DejaVuSans-49\"/>\n      </g>\n     </g>\n    </g>\n    <g id=\"ytick_3\">\n     <g id=\"line2d_18\">\n      <g>\n       <use style=\"stroke:#000000;stroke-width:0.8;\" x=\"30.103125\" xlink:href=\"#ma25d4c2de3\" y=\"216.205714\"/>\n      </g>\n     </g>\n     <g id=\"text_18\">\n      <!-- 0.2 -->\n      <g transform=\"translate(7.2 220.004933)scale(0.1 -0.1)\">\n       <use xlink:href=\"#DejaVuSans-48\"/>\n       <use x=\"63.623047\" xlink:href=\"#DejaVuSans-46\"/>\n       <use x=\"95.410156\" xlink:href=\"#DejaVuSans-50\"/>\n      </g>\n     </g>\n    </g>\n    <g id=\"ytick_4\">\n     <g id=\"line2d_19\">\n      <g>\n       <use style=\"stroke:#000000;stroke-width:0.8;\" x=\"30.103125\" xlink:href=\"#ma25d4c2de3\" y=\"176.708571\"/>\n      </g>\n     </g>\n     <g id=\"text_19\">\n      <!-- 0.3 -->\n      <g transform=\"translate(7.2 180.50779)scale(0.1 -0.1)\">\n       <use xlink:href=\"#DejaVuSans-48\"/>\n       <use x=\"63.623047\" xlink:href=\"#DejaVuSans-46\"/>\n       <use x=\"95.410156\" xlink:href=\"#DejaVuSans-51\"/>\n      </g>\n     </g>\n    </g>\n    <g id=\"ytick_5\">\n     <g id=\"line2d_20\">\n      <g>\n       <use style=\"stroke:#000000;stroke-width:0.8;\" x=\"30.103125\" xlink:href=\"#ma25d4c2de3\" y=\"137.211429\"/>\n      </g>\n     </g>\n     <g id=\"text_20\">\n      <!-- 0.4 -->\n      <g transform=\"translate(7.2 141.010647)scale(0.1 -0.1)\">\n       <use xlink:href=\"#DejaVuSans-48\"/>\n       <use x=\"63.623047\" xlink:href=\"#DejaVuSans-46\"/>\n       <use x=\"95.410156\" xlink:href=\"#DejaVuSans-52\"/>\n      </g>\n     </g>\n    </g>\n    <g id=\"ytick_6\">\n     <g id=\"line2d_21\">\n      <g>\n       <use style=\"stroke:#000000;stroke-width:0.8;\" x=\"30.103125\" xlink:href=\"#ma25d4c2de3\" y=\"97.714286\"/>\n      </g>\n     </g>\n     <g id=\"text_21\">\n      <!-- 0.5 -->\n      <g transform=\"translate(7.2 101.513504)scale(0.1 -0.1)\">\n       <use xlink:href=\"#DejaVuSans-48\"/>\n       <use x=\"63.623047\" xlink:href=\"#DejaVuSans-46\"/>\n       <use x=\"95.410156\" xlink:href=\"#DejaVuSans-53\"/>\n      </g>\n     </g>\n    </g>\n    <g id=\"ytick_7\">\n     <g id=\"line2d_22\">\n      <g>\n       <use style=\"stroke:#000000;stroke-width:0.8;\" x=\"30.103125\" xlink:href=\"#ma25d4c2de3\" y=\"58.217143\"/>\n      </g>\n     </g>\n     <g id=\"text_22\">\n      <!-- 0.6 -->\n      <g transform=\"translate(7.2 62.016362)scale(0.1 -0.1)\">\n       <defs>\n        <path d=\"M 33.015625 40.375 \nQ 26.375 40.375 22.484375 35.828125 \nQ 18.609375 31.296875 18.609375 23.390625 \nQ 18.609375 15.53125 22.484375 10.953125 \nQ 26.375 6.390625 33.015625 6.390625 \nQ 39.65625 6.390625 43.53125 10.953125 \nQ 47.40625 15.53125 47.40625 23.390625 \nQ 47.40625 31.296875 43.53125 35.828125 \nQ 39.65625 40.375 33.015625 40.375 \nz\nM 52.59375 71.296875 \nL 52.59375 62.3125 \nQ 48.875 64.0625 45.09375 64.984375 \nQ 41.3125 65.921875 37.59375 65.921875 \nQ 27.828125 65.921875 22.671875 59.328125 \nQ 17.53125 52.734375 16.796875 39.40625 \nQ 19.671875 43.65625 24.015625 45.921875 \nQ 28.375 48.1875 33.59375 48.1875 \nQ 44.578125 48.1875 50.953125 41.515625 \nQ 57.328125 34.859375 57.328125 23.390625 \nQ 57.328125 12.15625 50.6875 5.359375 \nQ 44.046875 -1.421875 33.015625 -1.421875 \nQ 20.359375 -1.421875 13.671875 8.265625 \nQ 6.984375 17.96875 6.984375 36.375 \nQ 6.984375 53.65625 15.1875 63.9375 \nQ 23.390625 74.21875 37.203125 74.21875 \nQ 40.921875 74.21875 44.703125 73.484375 \nQ 48.484375 72.75 52.59375 71.296875 \nz\n\" id=\"DejaVuSans-54\"/>\n       </defs>\n       <use xlink:href=\"#DejaVuSans-48\"/>\n       <use x=\"63.623047\" xlink:href=\"#DejaVuSans-46\"/>\n       <use x=\"95.410156\" xlink:href=\"#DejaVuSans-54\"/>\n      </g>\n     </g>\n    </g>\n    <g id=\"ytick_8\">\n     <g id=\"line2d_23\">\n      <g>\n       <use style=\"stroke:#000000;stroke-width:0.8;\" x=\"30.103125\" xlink:href=\"#ma25d4c2de3\" y=\"18.72\"/>\n      </g>\n     </g>\n     <g id=\"text_23\">\n      <!-- 0.7 -->\n      <g transform=\"translate(7.2 22.519219)scale(0.1 -0.1)\">\n       <defs>\n        <path d=\"M 8.203125 72.90625 \nL 55.078125 72.90625 \nL 55.078125 68.703125 \nL 28.609375 0 \nL 18.3125 0 \nL 43.21875 64.59375 \nL 8.203125 64.59375 \nz\n\" id=\"DejaVuSans-55\"/>\n       </defs>\n       <use xlink:href=\"#DejaVuSans-48\"/>\n       <use x=\"63.623047\" xlink:href=\"#DejaVuSans-46\"/>\n       <use x=\"95.410156\" xlink:href=\"#DejaVuSans-55\"/>\n      </g>\n     </g>\n    </g>\n   </g>\n   <g id=\"patch_18\">\n    <path d=\"M 30.103125 295.2 \nL 30.103125 7.2 \n\" style=\"fill:none;stroke:#000000;stroke-linecap:square;stroke-linejoin:miter;stroke-width:0.8;\"/>\n   </g>\n   <g id=\"patch_19\">\n    <path d=\"M 462.103125 295.2 \nL 462.103125 7.2 \n\" style=\"fill:none;stroke:#000000;stroke-linecap:square;stroke-linejoin:miter;stroke-width:0.8;\"/>\n   </g>\n   <g id=\"patch_20\">\n    <path d=\"M 30.103125 295.2 \nL 462.103125 295.2 \n\" style=\"fill:none;stroke:#000000;stroke-linecap:square;stroke-linejoin:miter;stroke-width:0.8;\"/>\n   </g>\n   <g id=\"patch_21\">\n    <path d=\"M 30.103125 7.2 \nL 462.103125 7.2 \n\" style=\"fill:none;stroke:#000000;stroke-linecap:square;stroke-linejoin:miter;stroke-width:0.8;\"/>\n   </g>\n  </g>\n </g>\n <defs>\n  <clipPath id=\"p4b6d96052d\">\n   <rect height=\"288\" width=\"432\" x=\"30.103125\" y=\"7.2\"/>\n  </clipPath>\n </defs>\n</svg>\n",
      "image/png": "[encoded data removed]"
     },
     "metadata": {
      "needs_background": "light"
     }
    },
    {
     "output_type": "stream",
     "name": "stdout",
     "text": [
      "Num de acc que pasa de 0.5:  15\n",
      "****************************************************\n",
      "0.7\n",
      "     ****************************************************\n",
      "     Pred:  [1 0 0 0 0 0 0 0 0 0 0 1 0 0 0 1 0 0 0 1 0 0 0 0 0 0 0 0 0 0 0 0 0 0 0 0 0\n",
      " 0 0 0 0 0]\n",
      "     Data:  [0 1 0 0 1 0 1 0 1 1 1 1 0 0 1 1 0 0 0 0 0 1 0 1 1 0 0 0 1 0 1 0 0 0 1 0 0\n",
      " 1 0 1 0 0]\n",
      "     ACC 0.5952380952380952\n",
      "     F1 0.19047619047619047\n",
      "     Recal 0.11764705882352941\n",
      "     Precision 0.5\n",
      "     ****************************************************\n",
      "     Bad accu\n",
      "     ****************************************************\n",
      "     Bad accu\n",
      "     ****************************************************\n",
      "     Bad accu\n",
      "     ****************************************************\n",
      "     Bad accu\n",
      "     ****************************************************\n",
      "     Bad accu\n",
      "     ****************************************************\n",
      "     Bad accu\n",
      "     ****************************************************\n",
      "     Pred:  [0 0 0 0 0 0 1 0 0 1 0 0 1 0 0 0 1 0 0 0 0 0 0 0 1 0 0 0 0 0 0 0 0 0 0 1 0\n",
      " 0 0 0 0 0]\n",
      "     Data:  [1 0 1 1 0 1 0 0 0 1 0 1 1 1 1 0 1 1 1 0 0 0 0 0 1 0 0 0 0 0 0 1 1 0 0 0 0\n",
      " 1 0 1 0 0]\n",
      "     ACC 0.6428571428571429\n",
      "     F1 0.3478260869565218\n",
      "     Recal 0.23529411764705882\n",
      "     Precision 0.6666666666666666\n",
      "     ****************************************************\n",
      "     Pred:  [1 0 1 0 1 0 1 0 1 0 1 0 0 0 0 1 0 0 1 1 0 0 0 0 0 0 0 1 0 0 0 0 0 0 0 0 0\n",
      " 0 0 0 1 0]\n",
      "     Data:  [1 1 1 0 0 1 1 0 0 0 1 1 1 0 0 1 1 0 0 1 0 0 0 0 1 0 0 0 0 0 1 0 0 0 0 1 0\n",
      " 0 1 1 0 0]\n",
      "     ACC 0.6428571428571429\n",
      "     F1 0.4444444444444444\n",
      "     Recal 0.375\n",
      "     Precision 0.5454545454545454\n",
      "     ****************************************************\n",
      "     Pred:  [1 1 1 0 1 0 0 0 1 0 0 0 0 0 1 0 0 0 1 0 0 1 0 0 0 0 0 0 0 0 0 1 1 1 1 1 0\n",
      " 0 0 0 0 1]\n",
      "     Data:  [1 1 1 0 0 0 0 0 0 0 0 0 0 0 0 1 0 1 1 1 1 1 0 1 1 1 0 1 0 0 0 1 1 0 0 0 0\n",
      " 0 1 1 0 0]\n",
      "     ACC 0.5952380952380952\n",
      "     F1 0.45161290322580644\n",
      "     Recal 0.4117647058823529\n",
      "     Precision 0.5\n",
      "     ****************************************************\n",
      "     Bad accu\n",
      "     ****************************************************\n",
      "     Bad accu\n",
      "     ****************************************************\n",
      "     Pred:  [0 0 0 0 1 1 0 0 0 0 0 0 1 0 0 0 0 1 1 0 1 0 0 1 0 0 1 1 0 0 0 0 0 0 1 0 0\n",
      " 0 0 1 0 0]\n",
      "     Data:  [0 0 0 0 1 1 0 0 1 0 0 1 0 1 0 1 0 0 1 0 0 1 0 1 1 1 0 0 1 0 1 0 0 0 1 0 1\n",
      " 1 0 0 0 0]\n",
      "     ACC 0.5952380952380952\n",
      "     F1 0.3703703703703703\n",
      "     Recal 0.3125\n",
      "     Precision 0.45454545454545453\n",
      "     ****************************************************\n",
      "     Bad accu\n",
      "     ****************************************************\n",
      "     Pred:  [1 0 0 0 0 0 0 0 0 1 0 0 0 0 1 0 0 0 1 0 0 1 0 0 0 0 0 1 0 0 0 1 0 0 0 0 0\n",
      " 0 0 1 0 1]\n",
      "     Data:  [1 1 1 0 1 0 1 0 0 1 1 0 0 1 1 1 1 0 0 0 0 0 0 0 0 0 0 1 1 1 0 0 1 0 0 0 0\n",
      " 0 1 0 0 0]\n",
      "     ACC 0.5952380952380952\n",
      "     F1 0.32\n",
      "     Recal 0.25\n",
      "     Precision 0.4444444444444444\n",
      "     ****************************************************\n",
      "     Pred:  [0 0 0 0 0 0 0 0 0 0 0 0 0 0 0 1 0 1 0 0 0 0 0 0 0 0 0 0 1 1 0 1 1 1 0 0 0\n",
      " 0 0 0 0 0]\n",
      "     Data:  [0 0 1 1 1 1 0 1 0 0 0 1 0 0 0 1 0 0 1 0 1 0 0 0 0 0 1 0 0 0 0 1 1 0 1 0 1\n",
      " 1 0 1 0 1]\n",
      "     ACC 0.5714285714285714\n",
      "     F1 0.25\n",
      "     Recal 0.17647058823529413\n",
      "     Precision 0.42857142857142855\n",
      "     ****************************************************\n",
      "     Bad accu\n",
      "     ****************************************************\n",
      "     Bad accu\n",
      "     ****************************************************\n",
      "     Pred:  [1 0 0 0 0 0 0 0 0 0 0 0 0 0 0 0 0 0 0 0 0 0 0 0 0 0 0 0 0 0 0 0 0 0 1 0 0\n",
      " 0 0 0 0 0]\n",
      "     Data:  [1 1 0 1 0 0 0 1 1 1 1 0 0 0 1 0 0 1 1 0 0 0 0 0 0 0 1 1 0 1 1 1 0 0 1 1 0\n",
      " 0 0 1 1 0]\n",
      "     ACC 0.5952380952380952\n",
      "     F1 0.1904761904761905\n",
      "     Recal 0.10526315789473684\n",
      "     Precision 1.0\n",
      "     ****************************************************\n",
      "     Pred:  [0 1 0 1 1 1 0 1 0 0 0 0 0 0 0 1 1 1 1 0 0 0 0 0 0 0 1 0 1 0 0 0 0 0 1 0 0\n",
      " 1 1 0 1 0]\n",
      "     Data:  [0 1 0 1 1 1 0 0 0 0 1 0 0 0 0 1 1 0 0 1 1 1 1 0 1 0 0 0 1 1 1 1 0 0 0 0 0\n",
      " 0 0 1 1 0]\n",
      "     ACC 0.5952380952380952\n",
      "     F1 0.4848484848484848\n",
      "     Recal 0.4444444444444444\n",
      "     Precision 0.5333333333333333\n",
      "     ****************************************************\n",
      "     Bad accu\n",
      "     ****************************************************\n",
      "     Bad accu\n",
      "     ****************************************************\n",
      "     Bad accu\n",
      "     ****************************************************\n",
      "     Bad accu\n",
      "     ****************************************************\n",
      "     Bad accu\n",
      "     ****************************************************\n",
      "     Bad accu\n",
      "     ****************************************************\n",
      "     Pred:  [0 1 0 0 0 1 1 0 1 1 1 1 1 0 1 1 1 1 1 1 0 0 0 0 0 1 0 0 0 0 0 0 1 1 1 1 1\n",
      " 1 0 1 1 0]\n",
      "     Data:  [0 0 0 0 0 0 1 0 0 1 0 0 1 0 0 0 0 0 1 1 0 1 0 1 0 0 0 0 1 0 1 0 1 0 1 1 1\n",
      " 1 1 0 1 0]\n",
      "     ACC 0.5952380952380952\n",
      "     F1 0.5641025641025642\n",
      "     Recal 0.6875\n",
      "     Precision 0.4782608695652174\n",
      "     ****************************************************\n",
      "     Pred:  [0 1 0 0 0 1 0 0 0 0 0 0 0 0 0 0 0 0 0 1 0 1 0 0 0 0 0 0 1 0 0 1 0 0 0 0 1\n",
      " 0 1 1 1 0]\n",
      "     Data:  [0 1 0 0 1 0 1 1 1 1 0 0 0 0 0 0 0 0 0 0 0 1 1 0 1 0 0 0 0 0 0 0 1 1 1 0 1\n",
      " 1 0 1 0 0]\n",
      "     ACC 0.5952380952380952\n",
      "     F1 0.32\n",
      "     Recal 0.26666666666666666\n",
      "     Precision 0.4\n",
      "     ****************************************************\n",
      "     Bad accu\n",
      "     ****************************************************\n",
      "     Bad accu\n",
      "     ****************************************************\n",
      "     Pred:  [0 0 0 0 0 0 0 0 0 0 1 0 0 0 0 0 0 0 0 0 0 1 0 1 1 0 0 0 0 0 0 0 1 0 0 0 0\n",
      " 0 0 1 0 0]\n",
      "     Data:  [0 0 1 0 0 0 1 0 1 1 0 1 0 1 0 0 0 0 0 0 1 1 1 1 0 0 0 0 1 0 0 0 0 1 1 1 0\n",
      " 1 1 1 0 1]\n",
      "     ACC 0.5714285714285714\n",
      "     F1 0.25\n",
      "     Recal 0.16666666666666666\n",
      "     Precision 0.5\n",
      "     ****************************************************\n",
      "     Bad accu\n",
      "     ****************************************************\n",
      "     Bad accu\n",
      "     ****************************************************\n",
      "     Bad accu\n",
      "     ****************************************************\n",
      "     Pred:  [0 1 1 0 0 0 0 1 0 0 0 0 0 0 1 1 0 0 0 1 1 1 1 0 0 1 1 0 0 0 0 0 0 0 1 0 0\n",
      " 0 0 0 0 0]\n",
      "     Data:  [1 1 0 0 0 0 0 1 0 0 1 1 1 0 1 0 0 0 1 1 0 0 0 0 0 1 0 0 0 1 1 0 0 0 1 1 0\n",
      " 1 0 1 1 1]\n",
      "     ACC 0.5714285714285714\n",
      "     F1 0.4\n",
      "     Recal 0.3333333333333333\n",
      "     Precision 0.5\n",
      "     ****************************************************\n",
      "     Bad accu\n",
      "     ****************************************************\n",
      "     Bad accu\n",
      "     ****************************************************\n",
      "     Bad accu\n",
      "     ****************************************************\n",
      "     Bad accu\n",
      "     ****************************************************\n",
      "     Bad accu\n",
      "     ****************************************************\n",
      "     Bad accu\n",
      "     ****************************************************\n",
      "     Pred:  [1 0 1 0 0 0 0 0 1 1 0 0 0 0 1 0 0 0 0 0 0 1 1 1 1 0 0 0 0 0 0 0 1 1 0 0 1\n",
      " 0 0 0 0 1]\n",
      "     Data:  [1 0 1 0 0 1 1 0 1 1 1 0 0 0 0 0 0 1 0 0 0 0 0 1 0 0 0 1 1 1 0 0 0 1 0 0 0\n",
      " 0 0 1 1 1]\n",
      "     ACC 0.6428571428571429\n",
      "     F1 0.4827586206896552\n",
      "     Recal 0.4375\n",
      "     Precision 0.5384615384615384\n",
      "     ****************************************************\n",
      "     Bad accu\n",
      "     ****************************************************\n",
      "     Pred:  [0 1 0 0 0 0 0 1 1 1 0 0 0 0 0 0 0 0 0 0 0 0 0 0 0 0 0 0 0 0 0 1 0 0 0 0 0\n",
      " 1 0 0 0 0]\n",
      "     Data:  [0 0 1 1 0 1 1 1 0 0 0 0 0 1 1 0 0 0 0 1 1 0 0 0 0 1 0 0 0 1 1 1 0 0 1 1 0\n",
      " 1 0 0 0 1]\n",
      "     ACC 0.5952380952380952\n",
      "     F1 0.2608695652173913\n",
      "     Recal 0.17647058823529413\n",
      "     Precision 0.5\n",
      "     ****************************************************\n",
      "     Bad accu\n",
      "     ****************************************************\n",
      "     Bad accu\n",
      "     ****************************************************\n",
      "     Bad accu\n",
      "     ****************************************************\n",
      "     Pred:  [1 0 0 0 0 0 0 0 0 1 0 1 0 0 0 1 0 1 0 1 0 0 1 0 1 1 0 0 0 0 1 0 1 0 0 1 0\n",
      " 1 0 0 1 0]\n",
      "     Data:  [0 1 0 0 1 0 0 0 1 1 0 1 0 1 1 0 0 0 0 0 0 1 1 1 1 0 0 0 1 1 1 0 1 0 0 1 0\n",
      " 0 0 1 0 0]\n",
      "     ACC 0.5952380952380952\n",
      "     F1 0.45161290322580644\n",
      "     Recal 0.4117647058823529\n",
      "     Precision 0.5\n",
      "     ****************************************************\n",
      "     Bad accu\n",
      "     ****************************************************\n",
      "     Bad accu\n"
     ]
    },
    {
     "output_type": "display_data",
     "data": {
      "text/plain": "<Figure size 432x288 with 1 Axes>",
      "image/svg+xml": "<?xml version=\"1.0\" encoding=\"utf-8\" standalone=\"no\"?>\n<!DOCTYPE svg PUBLIC \"-//W3C//DTD SVG 1.1//EN\"\n  \"http://www.w3.org/Graphics/SVG/1.1/DTD/svg11.dtd\">\n<!-- Created with matplotlib (https://matplotlib.org/) -->\n<svg height=\"319.078125pt\" version=\"1.1\" viewBox=\"0 0 469.303125 319.078125\" width=\"469.303125pt\" xmlns=\"http://www.w3.org/2000/svg\" xmlns:xlink=\"http://www.w3.org/1999/xlink\">\n <metadata>\n  <rdf:RDF xmlns:cc=\"http://creativecommons.org/ns#\" xmlns:dc=\"http://purl.org/dc/elements/1.1/\" xmlns:rdf=\"http://www.w3.org/1999/02/22-rdf-syntax-ns#\">\n   <cc:Work>\n    <dc:type rdf:resource=\"http://purl.org/dc/dcmitype/StillImage\"/>\n    <dc:date>2021-02-24T12:48:26.853903</dc:date>\n    <dc:format>image/svg+xml</dc:format>\n    <dc:creator>\n     <cc:Agent>\n      <dc:title>Matplotlib v3.3.2, https://matplotlib.org/</dc:title>\n     </cc:Agent>\n    </dc:creator>\n   </cc:Work>\n  </rdf:RDF>\n </metadata>\n <defs>\n  <style type=\"text/css\">*{stroke-linecap:butt;stroke-linejoin:round;}</style>\n </defs>\n <g id=\"figure_1\">\n  <g id=\"patch_1\">\n   <path d=\"M 0 319.078125 \nL 469.303125 319.078125 \nL 469.303125 0 \nL 0 0 \nz\n\" style=\"fill:none;\"/>\n  </g>\n  <g id=\"axes_1\">\n   <g id=\"patch_2\">\n    <path d=\"M 30.103125 295.2 \nL 462.103125 295.2 \nL 462.103125 7.2 \nL 30.103125 7.2 \nz\n\" style=\"fill:#ffffff;\"/>\n   </g>\n   <g id=\"patch_3\">\n    <path clip-path=\"url(#p71d398e0f5)\" d=\"M 49.739489 295.2 \nL 69.624414 295.2 \nL 69.624414 41.231746 \nL 49.739489 41.231746 \nz\n\" style=\"fill:#1f77b4;\"/>\n   </g>\n   <g id=\"patch_4\">\n    <path clip-path=\"url(#p71d398e0f5)\" d=\"M 74.595645 295.2 \nL 94.48057 295.2 \nL 94.48057 20.914286 \nL 74.595645 20.914286 \nz\n\" style=\"fill:#1f77b4;\"/>\n   </g>\n   <g id=\"patch_5\">\n    <path clip-path=\"url(#p71d398e0f5)\" d=\"M 99.451802 295.2 \nL 119.336727 295.2 \nL 119.336727 20.914286 \nL 99.451802 20.914286 \nz\n\" style=\"fill:#1f77b4;\"/>\n   </g>\n   <g id=\"patch_6\">\n    <path clip-path=\"url(#p71d398e0f5)\" d=\"M 124.307958 295.2 \nL 144.192883 295.2 \nL 144.192883 41.231746 \nL 124.307958 41.231746 \nz\n\" style=\"fill:#1f77b4;\"/>\n   </g>\n   <g id=\"patch_7\">\n    <path clip-path=\"url(#p71d398e0f5)\" d=\"M 149.164115 295.2 \nL 169.04904 295.2 \nL 169.04904 41.231746 \nL 149.164115 41.231746 \nz\n\" style=\"fill:#1f77b4;\"/>\n   </g>\n   <g id=\"patch_8\">\n    <path clip-path=\"url(#p71d398e0f5)\" d=\"M 174.020271 295.2 \nL 193.905196 295.2 \nL 193.905196 41.231746 \nL 174.020271 41.231746 \nz\n\" style=\"fill:#1f77b4;\"/>\n   </g>\n   <g id=\"patch_9\">\n    <path clip-path=\"url(#p71d398e0f5)\" d=\"M 198.876428 295.2 \nL 218.761353 295.2 \nL 218.761353 51.390476 \nL 198.876428 51.390476 \nz\n\" style=\"fill:#1f77b4;\"/>\n   </g>\n   <g id=\"patch_10\">\n    <path clip-path=\"url(#p71d398e0f5)\" d=\"M 223.732584 295.2 \nL 243.617509 295.2 \nL 243.617509 41.231746 \nL 223.732584 41.231746 \nz\n\" style=\"fill:#1f77b4;\"/>\n   </g>\n   <g id=\"patch_11\">\n    <path clip-path=\"url(#p71d398e0f5)\" d=\"M 248.588741 295.2 \nL 268.473666 295.2 \nL 268.473666 41.231746 \nL 248.588741 41.231746 \nz\n\" style=\"fill:#1f77b4;\"/>\n   </g>\n   <g id=\"patch_12\">\n    <path clip-path=\"url(#p71d398e0f5)\" d=\"M 273.444897 295.2 \nL 293.329822 295.2 \nL 293.329822 41.231746 \nL 273.444897 41.231746 \nz\n\" style=\"fill:#1f77b4;\"/>\n   </g>\n   <g id=\"patch_13\">\n    <path clip-path=\"url(#p71d398e0f5)\" d=\"M 298.301054 295.2 \nL 318.185979 295.2 \nL 318.185979 41.231746 \nL 298.301054 41.231746 \nz\n\" style=\"fill:#1f77b4;\"/>\n   </g>\n   <g id=\"patch_14\">\n    <path clip-path=\"url(#p71d398e0f5)\" d=\"M 323.15721 295.2 \nL 343.042135 295.2 \nL 343.042135 51.390476 \nL 323.15721 51.390476 \nz\n\" style=\"fill:#1f77b4;\"/>\n   </g>\n   <g id=\"patch_15\">\n    <path clip-path=\"url(#p71d398e0f5)\" d=\"M 348.013367 295.2 \nL 367.898292 295.2 \nL 367.898292 51.390476 \nL 348.013367 51.390476 \nz\n\" style=\"fill:#1f77b4;\"/>\n   </g>\n   <g id=\"patch_16\">\n    <path clip-path=\"url(#p71d398e0f5)\" d=\"M 372.869523 295.2 \nL 392.754448 295.2 \nL 392.754448 20.914286 \nL 372.869523 20.914286 \nz\n\" style=\"fill:#1f77b4;\"/>\n   </g>\n   <g id=\"patch_17\">\n    <path clip-path=\"url(#p71d398e0f5)\" d=\"M 397.72568 295.2 \nL 417.610605 295.2 \nL 417.610605 41.231746 \nL 397.72568 41.231746 \nz\n\" style=\"fill:#1f77b4;\"/>\n   </g>\n   <g id=\"patch_18\">\n    <path clip-path=\"url(#p71d398e0f5)\" d=\"M 422.581836 295.2 \nL 442.466761 295.2 \nL 442.466761 41.231746 \nL 422.581836 41.231746 \nz\n\" style=\"fill:#1f77b4;\"/>\n   </g>\n   <g id=\"matplotlib.axis_1\">\n    <g id=\"xtick_1\">\n     <g id=\"line2d_1\">\n      <defs>\n       <path d=\"M 0 0 \nL 0 3.5 \n\" id=\"mbb60537951\" style=\"stroke:#000000;stroke-width:0.8;\"/>\n      </defs>\n      <g>\n       <use style=\"stroke:#000000;stroke-width:0.8;\" x=\"59.681951\" xlink:href=\"#mbb60537951\" y=\"295.2\"/>\n      </g>\n     </g>\n     <g id=\"text_1\">\n      <!-- 0 -->\n      <g transform=\"translate(56.500701 309.798437)scale(0.1 -0.1)\">\n       <defs>\n        <path d=\"M 31.78125 66.40625 \nQ 24.171875 66.40625 20.328125 58.90625 \nQ 16.5 51.421875 16.5 36.375 \nQ 16.5 21.390625 20.328125 13.890625 \nQ 24.171875 6.390625 31.78125 6.390625 \nQ 39.453125 6.390625 43.28125 13.890625 \nQ 47.125 21.390625 47.125 36.375 \nQ 47.125 51.421875 43.28125 58.90625 \nQ 39.453125 66.40625 31.78125 66.40625 \nz\nM 31.78125 74.21875 \nQ 44.046875 74.21875 50.515625 64.515625 \nQ 56.984375 54.828125 56.984375 36.375 \nQ 56.984375 17.96875 50.515625 8.265625 \nQ 44.046875 -1.421875 31.78125 -1.421875 \nQ 19.53125 -1.421875 13.0625 8.265625 \nQ 6.59375 17.96875 6.59375 36.375 \nQ 6.59375 54.828125 13.0625 64.515625 \nQ 19.53125 74.21875 31.78125 74.21875 \nz\n\" id=\"DejaVuSans-48\"/>\n       </defs>\n       <use xlink:href=\"#DejaVuSans-48\"/>\n      </g>\n     </g>\n    </g>\n    <g id=\"xtick_2\">\n     <g id=\"line2d_2\">\n      <g>\n       <use style=\"stroke:#000000;stroke-width:0.8;\" x=\"84.538108\" xlink:href=\"#mbb60537951\" y=\"295.2\"/>\n      </g>\n     </g>\n     <g id=\"text_2\">\n      <!-- 7 -->\n      <g transform=\"translate(81.356858 309.798437)scale(0.1 -0.1)\">\n       <defs>\n        <path d=\"M 8.203125 72.90625 \nL 55.078125 72.90625 \nL 55.078125 68.703125 \nL 28.609375 0 \nL 18.3125 0 \nL 43.21875 64.59375 \nL 8.203125 64.59375 \nz\n\" id=\"DejaVuSans-55\"/>\n       </defs>\n       <use xlink:href=\"#DejaVuSans-55\"/>\n      </g>\n     </g>\n    </g>\n    <g id=\"xtick_3\">\n     <g id=\"line2d_3\">\n      <g>\n       <use style=\"stroke:#000000;stroke-width:0.8;\" x=\"109.394264\" xlink:href=\"#mbb60537951\" y=\"295.2\"/>\n      </g>\n     </g>\n     <g id=\"text_3\">\n      <!-- 8 -->\n      <g transform=\"translate(106.213014 309.798437)scale(0.1 -0.1)\">\n       <defs>\n        <path d=\"M 31.78125 34.625 \nQ 24.75 34.625 20.71875 30.859375 \nQ 16.703125 27.09375 16.703125 20.515625 \nQ 16.703125 13.921875 20.71875 10.15625 \nQ 24.75 6.390625 31.78125 6.390625 \nQ 38.8125 6.390625 42.859375 10.171875 \nQ 46.921875 13.96875 46.921875 20.515625 \nQ 46.921875 27.09375 42.890625 30.859375 \nQ 38.875 34.625 31.78125 34.625 \nz\nM 21.921875 38.8125 \nQ 15.578125 40.375 12.03125 44.71875 \nQ 8.5 49.078125 8.5 55.328125 \nQ 8.5 64.0625 14.71875 69.140625 \nQ 20.953125 74.21875 31.78125 74.21875 \nQ 42.671875 74.21875 48.875 69.140625 \nQ 55.078125 64.0625 55.078125 55.328125 \nQ 55.078125 49.078125 51.53125 44.71875 \nQ 48 40.375 41.703125 38.8125 \nQ 48.828125 37.15625 52.796875 32.3125 \nQ 56.78125 27.484375 56.78125 20.515625 \nQ 56.78125 9.90625 50.3125 4.234375 \nQ 43.84375 -1.421875 31.78125 -1.421875 \nQ 19.734375 -1.421875 13.25 4.234375 \nQ 6.78125 9.90625 6.78125 20.515625 \nQ 6.78125 27.484375 10.78125 32.3125 \nQ 14.796875 37.15625 21.921875 38.8125 \nz\nM 18.3125 54.390625 \nQ 18.3125 48.734375 21.84375 45.5625 \nQ 25.390625 42.390625 31.78125 42.390625 \nQ 38.140625 42.390625 41.71875 45.5625 \nQ 45.3125 48.734375 45.3125 54.390625 \nQ 45.3125 60.0625 41.71875 63.234375 \nQ 38.140625 66.40625 31.78125 66.40625 \nQ 25.390625 66.40625 21.84375 63.234375 \nQ 18.3125 60.0625 18.3125 54.390625 \nz\n\" id=\"DejaVuSans-56\"/>\n       </defs>\n       <use xlink:href=\"#DejaVuSans-56\"/>\n      </g>\n     </g>\n    </g>\n    <g id=\"xtick_4\">\n     <g id=\"line2d_4\">\n      <g>\n       <use style=\"stroke:#000000;stroke-width:0.8;\" x=\"134.250421\" xlink:href=\"#mbb60537951\" y=\"295.2\"/>\n      </g>\n     </g>\n     <g id=\"text_4\">\n      <!-- 9 -->\n      <g transform=\"translate(131.069171 309.798437)scale(0.1 -0.1)\">\n       <defs>\n        <path d=\"M 10.984375 1.515625 \nL 10.984375 10.5 \nQ 14.703125 8.734375 18.5 7.8125 \nQ 22.3125 6.890625 25.984375 6.890625 \nQ 35.75 6.890625 40.890625 13.453125 \nQ 46.046875 20.015625 46.78125 33.40625 \nQ 43.953125 29.203125 39.59375 26.953125 \nQ 35.25 24.703125 29.984375 24.703125 \nQ 19.046875 24.703125 12.671875 31.3125 \nQ 6.296875 37.9375 6.296875 49.421875 \nQ 6.296875 60.640625 12.9375 67.421875 \nQ 19.578125 74.21875 30.609375 74.21875 \nQ 43.265625 74.21875 49.921875 64.515625 \nQ 56.59375 54.828125 56.59375 36.375 \nQ 56.59375 19.140625 48.40625 8.859375 \nQ 40.234375 -1.421875 26.421875 -1.421875 \nQ 22.703125 -1.421875 18.890625 -0.6875 \nQ 15.09375 0.046875 10.984375 1.515625 \nz\nM 30.609375 32.421875 \nQ 37.25 32.421875 41.125 36.953125 \nQ 45.015625 41.5 45.015625 49.421875 \nQ 45.015625 57.28125 41.125 61.84375 \nQ 37.25 66.40625 30.609375 66.40625 \nQ 23.96875 66.40625 20.09375 61.84375 \nQ 16.21875 57.28125 16.21875 49.421875 \nQ 16.21875 41.5 20.09375 36.953125 \nQ 23.96875 32.421875 30.609375 32.421875 \nz\n\" id=\"DejaVuSans-57\"/>\n       </defs>\n       <use xlink:href=\"#DejaVuSans-57\"/>\n      </g>\n     </g>\n    </g>\n    <g id=\"xtick_5\">\n     <g id=\"line2d_5\">\n      <g>\n       <use style=\"stroke:#000000;stroke-width:0.8;\" x=\"159.106577\" xlink:href=\"#mbb60537951\" y=\"295.2\"/>\n      </g>\n     </g>\n     <g id=\"text_5\">\n      <!-- 12 -->\n      <g transform=\"translate(152.744077 309.798437)scale(0.1 -0.1)\">\n       <defs>\n        <path d=\"M 12.40625 8.296875 \nL 28.515625 8.296875 \nL 28.515625 63.921875 \nL 10.984375 60.40625 \nL 10.984375 69.390625 \nL 28.421875 72.90625 \nL 38.28125 72.90625 \nL 38.28125 8.296875 \nL 54.390625 8.296875 \nL 54.390625 0 \nL 12.40625 0 \nz\n\" id=\"DejaVuSans-49\"/>\n        <path d=\"M 19.1875 8.296875 \nL 53.609375 8.296875 \nL 53.609375 0 \nL 7.328125 0 \nL 7.328125 8.296875 \nQ 12.9375 14.109375 22.625 23.890625 \nQ 32.328125 33.6875 34.8125 36.53125 \nQ 39.546875 41.84375 41.421875 45.53125 \nQ 43.3125 49.21875 43.3125 52.78125 \nQ 43.3125 58.59375 39.234375 62.25 \nQ 35.15625 65.921875 28.609375 65.921875 \nQ 23.96875 65.921875 18.8125 64.3125 \nQ 13.671875 62.703125 7.8125 59.421875 \nL 7.8125 69.390625 \nQ 13.765625 71.78125 18.9375 73 \nQ 24.125 74.21875 28.421875 74.21875 \nQ 39.75 74.21875 46.484375 68.546875 \nQ 53.21875 62.890625 53.21875 53.421875 \nQ 53.21875 48.921875 51.53125 44.890625 \nQ 49.859375 40.875 45.40625 35.40625 \nQ 44.1875 33.984375 37.640625 27.21875 \nQ 31.109375 20.453125 19.1875 8.296875 \nz\n\" id=\"DejaVuSans-50\"/>\n       </defs>\n       <use xlink:href=\"#DejaVuSans-49\"/>\n       <use x=\"63.623047\" xlink:href=\"#DejaVuSans-50\"/>\n      </g>\n     </g>\n    </g>\n    <g id=\"xtick_6\">\n     <g id=\"line2d_6\">\n      <g>\n       <use style=\"stroke:#000000;stroke-width:0.8;\" x=\"183.962734\" xlink:href=\"#mbb60537951\" y=\"295.2\"/>\n      </g>\n     </g>\n     <g id=\"text_6\">\n      <!-- 14 -->\n      <g transform=\"translate(177.600234 309.798437)scale(0.1 -0.1)\">\n       <defs>\n        <path d=\"M 37.796875 64.3125 \nL 12.890625 25.390625 \nL 37.796875 25.390625 \nz\nM 35.203125 72.90625 \nL 47.609375 72.90625 \nL 47.609375 25.390625 \nL 58.015625 25.390625 \nL 58.015625 17.1875 \nL 47.609375 17.1875 \nL 47.609375 0 \nL 37.796875 0 \nL 37.796875 17.1875 \nL 4.890625 17.1875 \nL 4.890625 26.703125 \nz\n\" id=\"DejaVuSans-52\"/>\n       </defs>\n       <use xlink:href=\"#DejaVuSans-49\"/>\n       <use x=\"63.623047\" xlink:href=\"#DejaVuSans-52\"/>\n      </g>\n     </g>\n    </g>\n    <g id=\"xtick_7\">\n     <g id=\"line2d_7\">\n      <g>\n       <use style=\"stroke:#000000;stroke-width:0.8;\" x=\"208.81889\" xlink:href=\"#mbb60537951\" y=\"295.2\"/>\n      </g>\n     </g>\n     <g id=\"text_7\">\n      <!-- 15 -->\n      <g transform=\"translate(202.45639 309.798437)scale(0.1 -0.1)\">\n       <defs>\n        <path d=\"M 10.796875 72.90625 \nL 49.515625 72.90625 \nL 49.515625 64.59375 \nL 19.828125 64.59375 \nL 19.828125 46.734375 \nQ 21.96875 47.46875 24.109375 47.828125 \nQ 26.265625 48.1875 28.421875 48.1875 \nQ 40.625 48.1875 47.75 41.5 \nQ 54.890625 34.8125 54.890625 23.390625 \nQ 54.890625 11.625 47.5625 5.09375 \nQ 40.234375 -1.421875 26.90625 -1.421875 \nQ 22.3125 -1.421875 17.546875 -0.640625 \nQ 12.796875 0.140625 7.71875 1.703125 \nL 7.71875 11.625 \nQ 12.109375 9.234375 16.796875 8.0625 \nQ 21.484375 6.890625 26.703125 6.890625 \nQ 35.15625 6.890625 40.078125 11.328125 \nQ 45.015625 15.765625 45.015625 23.390625 \nQ 45.015625 31 40.078125 35.4375 \nQ 35.15625 39.890625 26.703125 39.890625 \nQ 22.75 39.890625 18.8125 39.015625 \nQ 14.890625 38.140625 10.796875 36.28125 \nz\n\" id=\"DejaVuSans-53\"/>\n       </defs>\n       <use xlink:href=\"#DejaVuSans-49\"/>\n       <use x=\"63.623047\" xlink:href=\"#DejaVuSans-53\"/>\n      </g>\n     </g>\n    </g>\n    <g id=\"xtick_8\">\n     <g id=\"line2d_8\">\n      <g>\n       <use style=\"stroke:#000000;stroke-width:0.8;\" x=\"233.675047\" xlink:href=\"#mbb60537951\" y=\"295.2\"/>\n      </g>\n     </g>\n     <g id=\"text_8\">\n      <!-- 18 -->\n      <g transform=\"translate(227.312547 309.798437)scale(0.1 -0.1)\">\n       <use xlink:href=\"#DejaVuSans-49\"/>\n       <use x=\"63.623047\" xlink:href=\"#DejaVuSans-56\"/>\n      </g>\n     </g>\n    </g>\n    <g id=\"xtick_9\">\n     <g id=\"line2d_9\">\n      <g>\n       <use style=\"stroke:#000000;stroke-width:0.8;\" x=\"258.531203\" xlink:href=\"#mbb60537951\" y=\"295.2\"/>\n      </g>\n     </g>\n     <g id=\"text_9\">\n      <!-- 19 -->\n      <g transform=\"translate(252.168703 309.798437)scale(0.1 -0.1)\">\n       <use xlink:href=\"#DejaVuSans-49\"/>\n       <use x=\"63.623047\" xlink:href=\"#DejaVuSans-57\"/>\n      </g>\n     </g>\n    </g>\n    <g id=\"xtick_10\">\n     <g id=\"line2d_10\">\n      <g>\n       <use style=\"stroke:#000000;stroke-width:0.8;\" x=\"283.38736\" xlink:href=\"#mbb60537951\" y=\"295.2\"/>\n      </g>\n     </g>\n     <g id=\"text_10\">\n      <!-- 26 -->\n      <g transform=\"translate(277.02486 309.798437)scale(0.1 -0.1)\">\n       <defs>\n        <path d=\"M 33.015625 40.375 \nQ 26.375 40.375 22.484375 35.828125 \nQ 18.609375 31.296875 18.609375 23.390625 \nQ 18.609375 15.53125 22.484375 10.953125 \nQ 26.375 6.390625 33.015625 6.390625 \nQ 39.65625 6.390625 43.53125 10.953125 \nQ 47.40625 15.53125 47.40625 23.390625 \nQ 47.40625 31.296875 43.53125 35.828125 \nQ 39.65625 40.375 33.015625 40.375 \nz\nM 52.59375 71.296875 \nL 52.59375 62.3125 \nQ 48.875 64.0625 45.09375 64.984375 \nQ 41.3125 65.921875 37.59375 65.921875 \nQ 27.828125 65.921875 22.671875 59.328125 \nQ 17.53125 52.734375 16.796875 39.40625 \nQ 19.671875 43.65625 24.015625 45.921875 \nQ 28.375 48.1875 33.59375 48.1875 \nQ 44.578125 48.1875 50.953125 41.515625 \nQ 57.328125 34.859375 57.328125 23.390625 \nQ 57.328125 12.15625 50.6875 5.359375 \nQ 44.046875 -1.421875 33.015625 -1.421875 \nQ 20.359375 -1.421875 13.671875 8.265625 \nQ 6.984375 17.96875 6.984375 36.375 \nQ 6.984375 53.65625 15.1875 63.9375 \nQ 23.390625 74.21875 37.203125 74.21875 \nQ 40.921875 74.21875 44.703125 73.484375 \nQ 48.484375 72.75 52.59375 71.296875 \nz\n\" id=\"DejaVuSans-54\"/>\n       </defs>\n       <use xlink:href=\"#DejaVuSans-50\"/>\n       <use x=\"63.623047\" xlink:href=\"#DejaVuSans-54\"/>\n      </g>\n     </g>\n    </g>\n    <g id=\"xtick_11\">\n     <g id=\"line2d_11\">\n      <g>\n       <use style=\"stroke:#000000;stroke-width:0.8;\" x=\"308.243516\" xlink:href=\"#mbb60537951\" y=\"295.2\"/>\n      </g>\n     </g>\n     <g id=\"text_11\">\n      <!-- 27 -->\n      <g transform=\"translate(301.881016 309.798437)scale(0.1 -0.1)\">\n       <use xlink:href=\"#DejaVuSans-50\"/>\n       <use x=\"63.623047\" xlink:href=\"#DejaVuSans-55\"/>\n      </g>\n     </g>\n    </g>\n    <g id=\"xtick_12\">\n     <g id=\"line2d_12\">\n      <g>\n       <use style=\"stroke:#000000;stroke-width:0.8;\" x=\"333.099673\" xlink:href=\"#mbb60537951\" y=\"295.2\"/>\n      </g>\n     </g>\n     <g id=\"text_12\">\n      <!-- 30 -->\n      <g transform=\"translate(326.737173 309.798437)scale(0.1 -0.1)\">\n       <defs>\n        <path d=\"M 40.578125 39.3125 \nQ 47.65625 37.796875 51.625 33 \nQ 55.609375 28.21875 55.609375 21.1875 \nQ 55.609375 10.40625 48.1875 4.484375 \nQ 40.765625 -1.421875 27.09375 -1.421875 \nQ 22.515625 -1.421875 17.65625 -0.515625 \nQ 12.796875 0.390625 7.625 2.203125 \nL 7.625 11.71875 \nQ 11.71875 9.328125 16.59375 8.109375 \nQ 21.484375 6.890625 26.8125 6.890625 \nQ 36.078125 6.890625 40.9375 10.546875 \nQ 45.796875 14.203125 45.796875 21.1875 \nQ 45.796875 27.640625 41.28125 31.265625 \nQ 36.765625 34.90625 28.71875 34.90625 \nL 20.21875 34.90625 \nL 20.21875 43.015625 \nL 29.109375 43.015625 \nQ 36.375 43.015625 40.234375 45.921875 \nQ 44.09375 48.828125 44.09375 54.296875 \nQ 44.09375 59.90625 40.109375 62.90625 \nQ 36.140625 65.921875 28.71875 65.921875 \nQ 24.65625 65.921875 20.015625 65.03125 \nQ 15.375 64.15625 9.8125 62.3125 \nL 9.8125 71.09375 \nQ 15.4375 72.65625 20.34375 73.4375 \nQ 25.25 74.21875 29.59375 74.21875 \nQ 40.828125 74.21875 47.359375 69.109375 \nQ 53.90625 64.015625 53.90625 55.328125 \nQ 53.90625 49.265625 50.4375 45.09375 \nQ 46.96875 40.921875 40.578125 39.3125 \nz\n\" id=\"DejaVuSans-51\"/>\n       </defs>\n       <use xlink:href=\"#DejaVuSans-51\"/>\n       <use x=\"63.623047\" xlink:href=\"#DejaVuSans-48\"/>\n      </g>\n     </g>\n    </g>\n    <g id=\"xtick_13\">\n     <g id=\"line2d_13\">\n      <g>\n       <use style=\"stroke:#000000;stroke-width:0.8;\" x=\"357.955829\" xlink:href=\"#mbb60537951\" y=\"295.2\"/>\n      </g>\n     </g>\n     <g id=\"text_13\">\n      <!-- 34 -->\n      <g transform=\"translate(351.593329 309.798437)scale(0.1 -0.1)\">\n       <use xlink:href=\"#DejaVuSans-51\"/>\n       <use x=\"63.623047\" xlink:href=\"#DejaVuSans-52\"/>\n      </g>\n     </g>\n    </g>\n    <g id=\"xtick_14\">\n     <g id=\"line2d_14\">\n      <g>\n       <use style=\"stroke:#000000;stroke-width:0.8;\" x=\"382.811986\" xlink:href=\"#mbb60537951\" y=\"295.2\"/>\n      </g>\n     </g>\n     <g id=\"text_14\">\n      <!-- 41 -->\n      <g transform=\"translate(376.449486 309.798437)scale(0.1 -0.1)\">\n       <use xlink:href=\"#DejaVuSans-52\"/>\n       <use x=\"63.623047\" xlink:href=\"#DejaVuSans-49\"/>\n      </g>\n     </g>\n    </g>\n    <g id=\"xtick_15\">\n     <g id=\"line2d_15\">\n      <g>\n       <use style=\"stroke:#000000;stroke-width:0.8;\" x=\"407.668142\" xlink:href=\"#mbb60537951\" y=\"295.2\"/>\n      </g>\n     </g>\n     <g id=\"text_15\">\n      <!-- 43 -->\n      <g transform=\"translate(401.305642 309.798437)scale(0.1 -0.1)\">\n       <use xlink:href=\"#DejaVuSans-52\"/>\n       <use x=\"63.623047\" xlink:href=\"#DejaVuSans-51\"/>\n      </g>\n     </g>\n    </g>\n    <g id=\"xtick_16\">\n     <g id=\"line2d_16\">\n      <g>\n       <use style=\"stroke:#000000;stroke-width:0.8;\" x=\"432.524299\" xlink:href=\"#mbb60537951\" y=\"295.2\"/>\n      </g>\n     </g>\n     <g id=\"text_16\">\n      <!-- 47 -->\n      <g transform=\"translate(426.161799 309.798437)scale(0.1 -0.1)\">\n       <use xlink:href=\"#DejaVuSans-52\"/>\n       <use x=\"63.623047\" xlink:href=\"#DejaVuSans-55\"/>\n      </g>\n     </g>\n    </g>\n   </g>\n   <g id=\"matplotlib.axis_2\">\n    <g id=\"ytick_1\">\n     <g id=\"line2d_17\">\n      <defs>\n       <path d=\"M 0 0 \nL -3.5 0 \n\" id=\"mc9a665488a\" style=\"stroke:#000000;stroke-width:0.8;\"/>\n      </defs>\n      <g>\n       <use style=\"stroke:#000000;stroke-width:0.8;\" x=\"30.103125\" xlink:href=\"#mc9a665488a\" y=\"295.2\"/>\n      </g>\n     </g>\n     <g id=\"text_17\">\n      <!-- 0.0 -->\n      <g transform=\"translate(7.2 298.999219)scale(0.1 -0.1)\">\n       <defs>\n        <path d=\"M 10.6875 12.40625 \nL 21 12.40625 \nL 21 0 \nL 10.6875 0 \nz\n\" id=\"DejaVuSans-46\"/>\n       </defs>\n       <use xlink:href=\"#DejaVuSans-48\"/>\n       <use x=\"63.623047\" xlink:href=\"#DejaVuSans-46\"/>\n       <use x=\"95.410156\" xlink:href=\"#DejaVuSans-48\"/>\n      </g>\n     </g>\n    </g>\n    <g id=\"ytick_2\">\n     <g id=\"line2d_18\">\n      <g>\n       <use style=\"stroke:#000000;stroke-width:0.8;\" x=\"30.103125\" xlink:href=\"#mc9a665488a\" y=\"252.533333\"/>\n      </g>\n     </g>\n     <g id=\"text_18\">\n      <!-- 0.1 -->\n      <g transform=\"translate(7.2 256.332552)scale(0.1 -0.1)\">\n       <use xlink:href=\"#DejaVuSans-48\"/>\n       <use x=\"63.623047\" xlink:href=\"#DejaVuSans-46\"/>\n       <use x=\"95.410156\" xlink:href=\"#DejaVuSans-49\"/>\n      </g>\n     </g>\n    </g>\n    <g id=\"ytick_3\">\n     <g id=\"line2d_19\">\n      <g>\n       <use style=\"stroke:#000000;stroke-width:0.8;\" x=\"30.103125\" xlink:href=\"#mc9a665488a\" y=\"209.866667\"/>\n      </g>\n     </g>\n     <g id=\"text_19\">\n      <!-- 0.2 -->\n      <g transform=\"translate(7.2 213.665885)scale(0.1 -0.1)\">\n       <use xlink:href=\"#DejaVuSans-48\"/>\n       <use x=\"63.623047\" xlink:href=\"#DejaVuSans-46\"/>\n       <use x=\"95.410156\" xlink:href=\"#DejaVuSans-50\"/>\n      </g>\n     </g>\n    </g>\n    <g id=\"ytick_4\">\n     <g id=\"line2d_20\">\n      <g>\n       <use style=\"stroke:#000000;stroke-width:0.8;\" x=\"30.103125\" xlink:href=\"#mc9a665488a\" y=\"167.2\"/>\n      </g>\n     </g>\n     <g id=\"text_20\">\n      <!-- 0.3 -->\n      <g transform=\"translate(7.2 170.999219)scale(0.1 -0.1)\">\n       <use xlink:href=\"#DejaVuSans-48\"/>\n       <use x=\"63.623047\" xlink:href=\"#DejaVuSans-46\"/>\n       <use x=\"95.410156\" xlink:href=\"#DejaVuSans-51\"/>\n      </g>\n     </g>\n    </g>\n    <g id=\"ytick_5\">\n     <g id=\"line2d_21\">\n      <g>\n       <use style=\"stroke:#000000;stroke-width:0.8;\" x=\"30.103125\" xlink:href=\"#mc9a665488a\" y=\"124.533333\"/>\n      </g>\n     </g>\n     <g id=\"text_21\">\n      <!-- 0.4 -->\n      <g transform=\"translate(7.2 128.332552)scale(0.1 -0.1)\">\n       <use xlink:href=\"#DejaVuSans-48\"/>\n       <use x=\"63.623047\" xlink:href=\"#DejaVuSans-46\"/>\n       <use x=\"95.410156\" xlink:href=\"#DejaVuSans-52\"/>\n      </g>\n     </g>\n    </g>\n    <g id=\"ytick_6\">\n     <g id=\"line2d_22\">\n      <g>\n       <use style=\"stroke:#000000;stroke-width:0.8;\" x=\"30.103125\" xlink:href=\"#mc9a665488a\" y=\"81.866667\"/>\n      </g>\n     </g>\n     <g id=\"text_22\">\n      <!-- 0.5 -->\n      <g transform=\"translate(7.2 85.665885)scale(0.1 -0.1)\">\n       <use xlink:href=\"#DejaVuSans-48\"/>\n       <use x=\"63.623047\" xlink:href=\"#DejaVuSans-46\"/>\n       <use x=\"95.410156\" xlink:href=\"#DejaVuSans-53\"/>\n      </g>\n     </g>\n    </g>\n    <g id=\"ytick_7\">\n     <g id=\"line2d_23\">\n      <g>\n       <use style=\"stroke:#000000;stroke-width:0.8;\" x=\"30.103125\" xlink:href=\"#mc9a665488a\" y=\"39.2\"/>\n      </g>\n     </g>\n     <g id=\"text_23\">\n      <!-- 0.6 -->\n      <g transform=\"translate(7.2 42.999219)scale(0.1 -0.1)\">\n       <use xlink:href=\"#DejaVuSans-48\"/>\n       <use x=\"63.623047\" xlink:href=\"#DejaVuSans-46\"/>\n       <use x=\"95.410156\" xlink:href=\"#DejaVuSans-54\"/>\n      </g>\n     </g>\n    </g>\n   </g>\n   <g id=\"patch_19\">\n    <path d=\"M 30.103125 295.2 \nL 30.103125 7.2 \n\" style=\"fill:none;stroke:#000000;stroke-linecap:square;stroke-linejoin:miter;stroke-width:0.8;\"/>\n   </g>\n   <g id=\"patch_20\">\n    <path d=\"M 462.103125 295.2 \nL 462.103125 7.2 \n\" style=\"fill:none;stroke:#000000;stroke-linecap:square;stroke-linejoin:miter;stroke-width:0.8;\"/>\n   </g>\n   <g id=\"patch_21\">\n    <path d=\"M 30.103125 295.2 \nL 462.103125 295.2 \n\" style=\"fill:none;stroke:#000000;stroke-linecap:square;stroke-linejoin:miter;stroke-width:0.8;\"/>\n   </g>\n   <g id=\"patch_22\">\n    <path d=\"M 30.103125 7.2 \nL 462.103125 7.2 \n\" style=\"fill:none;stroke:#000000;stroke-linecap:square;stroke-linejoin:miter;stroke-width:0.8;\"/>\n   </g>\n  </g>\n </g>\n <defs>\n  <clipPath id=\"p71d398e0f5\">\n   <rect height=\"288\" width=\"432\" x=\"30.103125\" y=\"7.2\"/>\n  </clipPath>\n </defs>\n</svg>\n",
      "image/png": "[encoded data removed]"
     },
     "metadata": {
      "needs_background": "light"
     }
    },
    {
     "output_type": "stream",
     "name": "stdout",
     "text": [
      "Num de acc que pasa de 0.5:  16\n"
     ]
    }
   ],
   "source": [
    "#https://d1rwhvwstyk9gu.cloudfront.net/2020/02/XG-Boost-FINAL-01.png \n",
    "\n",
    "for i in range(1,8):\n",
    "    print(\"****************************************************\")\n",
    "    print('0.'+str(i))\n",
    "    numpase = 0\n",
    "    accur = []\n",
    "    xin = []\n",
    "    for t in range(0,50):\n",
    "\n",
    "        print(\"     ****************************************************\")\n",
    "        c = list(zip(X3, Lavels3))\n",
    "        random.shuffle(c)\n",
    "\n",
    "        DX, DY = zip(*c)\n",
    "        DX = np.array(DX)\n",
    "        DY = np.array(DY)\n",
    "        trainX, testX, trainY, testY = train_test_split(DX, DY, test_size=float('0.'+str(i)))\n",
    "        X_train = (trainX - np.mean(trainX)) / np.std(trainX)\n",
    "        X_test = (testX - np.mean(testX)) / np.std(testX)\n",
    "\n",
    "        xgb_model = xgb.XGBClassifier(max_depth=5,learning_rate=0.1,n_estimators=50,\n",
    "                                        objective='binary:logistic',booster='gbtree',n_jobs=10,\n",
    "                                        subsample=0.9, colsample_bytree=0.9, colsample_bylevel=0.9,\n",
    "                                        reg_alpha=0.5, reg_lambda=1.0,gamma=0,\n",
    "                                        scale_pos_weight=1)\n",
    "        xgb_model.fit(X_train,trainY)\n",
    "        predY = xgb_model.predict(X_test)\n",
    "        if float(accuracy_score(y_true=testY, y_pred=predY))>0.55:\n",
    "            print('     Pred: ', predY)\n",
    "            print('     Data: ', testY)\n",
    "            print(\"     ACC\",accuracy_score(y_true=testY, y_pred=predY))\n",
    "            print(\"     F1\",f1_score(y_true=testY, y_pred=predY))\n",
    "            print(\"     Recal\",recall_score(y_true=testY,y_pred=predY))\n",
    "            print(\"     Precision\",precision_score(y_true=testY, y_pred=predY))\n",
    "            numpase=numpase+1\n",
    "            accur.append(float(accuracy_score(y_true=testY, y_pred=predY)))\n",
    "            xin.append(str(t))\n",
    "            \n",
    "        else:\n",
    "            print('     Bad accu')\n",
    "    fig = plt.figure()\n",
    "    ax = fig.add_axes([0,0,1,1])\n",
    "    ax.bar(xin,accur)\n",
    "    plt.show()\n",
    "    \n",
    "\n",
    "    print('Num de acc que pasa de 0.5: ',numpase)"
   ]
  },
  {
   "cell_type": "code",
   "execution_count": 61,
   "metadata": {},
   "outputs": [
    {
     "output_type": "execute_result",
     "data": {
      "text/plain": [
       "0.601765873015873"
      ]
     },
     "metadata": {},
     "execution_count": 61
    }
   ],
   "source": []
  },
  {
   "cell_type": "code",
   "execution_count": 22,
   "metadata": {},
   "outputs": [
    {
     "output_type": "display_data",
     "data": {
      "application/vnd.plotly.v1+json": {
       "config": {
        "plotlyServerURL": "https://plot.ly"
       },
       "data": [
        {
         "diagonal": {
          "visible": false
         },
         "dimensions": [
          {
           "axis": {
            "matches": true
           },
           "label": "PC 1 (53.1%)",
           "values": [
            0.3681477319002047,
            -0.27173406064436006,
            0.0012444890361176036,
            -0.15136556266072282,
            -0.01337393746162492,
            -0.2377130887198258,
            -0.13027514577773427,
            -0.1420232729085106,
            0.4067020982776968,
            -0.017366331642775484,
            -0.013449864926235035,
            -0.33758871893751025,
            -0.08842912280243345,
            0.070789268936771,
            0.15463645090501565,
            -0.46971267463260336,
            -0.42280957024665794,
            -0.20713671800590436,
            -0.22236873208816602,
            0.3855502151282439,
            0.43606242608015805,
            0.12305155648702619,
            0.3031940040616925,
            0.4389595798036609,
            0.35907546974773036,
            0.3490358146826813,
            0.08000717698037246,
            0.16165338666717224,
            0.37080480001219013,
            0.2547903542707221,
            0.19383976134682412,
            -0.4455724798151835,
            0.10836922933503865,
            -0.2909324800902375,
            -0.4893270165582386,
            0.002062977164512124,
            -0.3077122102074132,
            -0.27177401485446845,
            -0.27517756870100774,
            -0.36289853533561756,
            -0.12090087978780295,
            0.18164380626634694,
            -0.055775491905454784,
            0.20944533978702046,
            0.022720657428713903,
            0.24077124788263907,
            0.2658563749115921,
            -0.27666229326805847,
            -0.374313915804173,
            0.15594058717899428,
            -0.2411708432596312,
            0.5143959908914747,
            0.5190024488938701,
            -0.20411988634479994,
            0.45003701356997533,
            0.2041439324987111,
            -0.12493584666595846,
            -0.4638378053362706,
            -0.301476120743786
           ]
          },
          {
           "axis": {
            "matches": true
           },
           "label": "PC 2 (31.9%)",
           "values": [
            -0.24513123531380449,
            0.2256185277882343,
            0.11856421553930518,
            0.11660136289715164,
            0.016582070741774337,
            -0.1898441286858368,
            -0.07444522550492896,
            -0.3291154361044005,
            0.17389493428525316,
            0.05852796124945161,
            0.1617059109442347,
            0.09897917057796257,
            -0.12272950986584856,
            0.37179388799944935,
            0.3151557155604287,
            -0.12118795751108369,
            -0.09924163295269299,
            0.28289031590020447,
            0.09338947831021281,
            -0.029292788593167893,
            -0.23250033253096514,
            -0.3814182374311088,
            0.2683536774470893,
            -0.17786053019997458,
            0.18924169320598502,
            -0.2290272580723573,
            0.2110073874797611,
            0.46865810328156776,
            0.17730964778272398,
            0.2218752445120818,
            -0.34104522261448017,
            -0.02113410422704017,
            -0.17856224368583493,
            0.17964705927387706,
            -0.19018538030015697,
            0.2934957606982843,
            0.13923924304945526,
            -0.03241837050190742,
            -0.04834970625154608,
            -0.15643139933710404,
            0.07757030150687695,
            -0.3737125006363531,
            -0.3515821952271701,
            -0.34077151645084114,
            0.39850880677432343,
            -0.09907835819934223,
            0.16174609809561857,
            -0.3173685624102371,
            0.059678207595579125,
            0.4749469368137646,
            -0.057387465563819726,
            -0.2406896634724159,
            -0.19876352665667169,
            -0.1490288417164699,
            0.07874869545662824,
            -0.1757911358765549,
            0.13116330942568027,
            -0.1395647857741375,
            0.0787655274752964
           ]
          }
         ],
         "hovertemplate": "%{xaxis.title.text}=%{x}<br>%{yaxis.title.text}=%{y}<br>color=%{marker.color}<extra></extra>",
         "legendgroup": "",
         "marker": {
          "color": [
           0,
           0,
           0,
           0,
           0,
           0,
           0,
           0,
           0,
           0,
           0,
           0,
           1,
           0,
           0,
           0,
           0,
           1,
           0,
           0,
           1,
           0,
           0,
           0,
           0,
           0,
           0,
           0,
           0,
           0,
           0,
           1,
           0,
           0,
           1,
           0,
           0,
           0,
           0,
           0,
           1,
           1,
           1,
           1,
           1,
           1,
           1,
           1,
           1,
           1,
           1,
           1,
           1,
           1,
           1,
           1,
           1,
           1,
           1
          ],
          "coloraxis": "coloraxis",
          "symbol": "circle"
         },
         "name": "",
         "showlegend": false,
         "type": "splom"
        }
       ],
       "layout": {
        "coloraxis": {
         "colorbar": {
          "title": {
           "text": "color"
          }
         },
         "colorscale": [
          [
           0,
           "#0d0887"
          ],
          [
           0.1111111111111111,
           "#46039f"
          ],
          [
           0.2222222222222222,
           "#7201a8"
          ],
          [
           0.3333333333333333,
           "#9c179e"
          ],
          [
           0.4444444444444444,
           "#bd3786"
          ],
          [
           0.5555555555555556,
           "#d8576b"
          ],
          [
           0.6666666666666666,
           "#ed7953"
          ],
          [
           0.7777777777777778,
           "#fb9f3a"
          ],
          [
           0.8888888888888888,
           "#fdca26"
          ],
          [
           1,
           "#f0f921"
          ]
         ]
        },
        "dragmode": "select",
        "legend": {
         "tracegroupgap": 0
        },
        "margin": {
         "t": 60
        },
        "template": {
         "data": {
          "bar": [
           {
            "error_x": {
             "color": "#2a3f5f"
            },
            "error_y": {
             "color": "#2a3f5f"
            },
            "marker": {
             "line": {
              "color": "#E5ECF6",
              "width": 0.5
             }
            },
            "type": "bar"
           }
          ],
          "barpolar": [
           {
            "marker": {
             "line": {
              "color": "#E5ECF6",
              "width": 0.5
             }
            },
            "type": "barpolar"
           }
          ],
          "carpet": [
           {
            "aaxis": {
             "endlinecolor": "#2a3f5f",
             "gridcolor": "white",
             "linecolor": "white",
             "minorgridcolor": "white",
             "startlinecolor": "#2a3f5f"
            },
            "baxis": {
             "endlinecolor": "#2a3f5f",
             "gridcolor": "white",
             "linecolor": "white",
             "minorgridcolor": "white",
             "startlinecolor": "#2a3f5f"
            },
            "type": "carpet"
           }
          ],
          "choropleth": [
           {
            "colorbar": {
             "outlinewidth": 0,
             "ticks": ""
            },
            "type": "choropleth"
           }
          ],
          "contour": [
           {
            "colorbar": {
             "outlinewidth": 0,
             "ticks": ""
            },
            "colorscale": [
             [
              0,
              "#0d0887"
             ],
             [
              0.1111111111111111,
              "#46039f"
             ],
             [
              0.2222222222222222,
              "#7201a8"
             ],
             [
              0.3333333333333333,
              "#9c179e"
             ],
             [
              0.4444444444444444,
              "#bd3786"
             ],
             [
              0.5555555555555556,
              "#d8576b"
             ],
             [
              0.6666666666666666,
              "#ed7953"
             ],
             [
              0.7777777777777778,
              "#fb9f3a"
             ],
             [
              0.8888888888888888,
              "#fdca26"
             ],
             [
              1,
              "#f0f921"
             ]
            ],
            "type": "contour"
           }
          ],
          "contourcarpet": [
           {
            "colorbar": {
             "outlinewidth": 0,
             "ticks": ""
            },
            "type": "contourcarpet"
           }
          ],
          "heatmap": [
           {
            "colorbar": {
             "outlinewidth": 0,
             "ticks": ""
            },
            "colorscale": [
             [
              0,
              "#0d0887"
             ],
             [
              0.1111111111111111,
              "#46039f"
             ],
             [
              0.2222222222222222,
              "#7201a8"
             ],
             [
              0.3333333333333333,
              "#9c179e"
             ],
             [
              0.4444444444444444,
              "#bd3786"
             ],
             [
              0.5555555555555556,
              "#d8576b"
             ],
             [
              0.6666666666666666,
              "#ed7953"
             ],
             [
              0.7777777777777778,
              "#fb9f3a"
             ],
             [
              0.8888888888888888,
              "#fdca26"
             ],
             [
              1,
              "#f0f921"
             ]
            ],
            "type": "heatmap"
           }
          ],
          "heatmapgl": [
           {
            "colorbar": {
             "outlinewidth": 0,
             "ticks": ""
            },
            "colorscale": [
             [
              0,
              "#0d0887"
             ],
             [
              0.1111111111111111,
              "#46039f"
             ],
             [
              0.2222222222222222,
              "#7201a8"
             ],
             [
              0.3333333333333333,
              "#9c179e"
             ],
             [
              0.4444444444444444,
              "#bd3786"
             ],
             [
              0.5555555555555556,
              "#d8576b"
             ],
             [
              0.6666666666666666,
              "#ed7953"
             ],
             [
              0.7777777777777778,
              "#fb9f3a"
             ],
             [
              0.8888888888888888,
              "#fdca26"
             ],
             [
              1,
              "#f0f921"
             ]
            ],
            "type": "heatmapgl"
           }
          ],
          "histogram": [
           {
            "marker": {
             "colorbar": {
              "outlinewidth": 0,
              "ticks": ""
             }
            },
            "type": "histogram"
           }
          ],
          "histogram2d": [
           {
            "colorbar": {
             "outlinewidth": 0,
             "ticks": ""
            },
            "colorscale": [
             [
              0,
              "#0d0887"
             ],
             [
              0.1111111111111111,
              "#46039f"
             ],
             [
              0.2222222222222222,
              "#7201a8"
             ],
             [
              0.3333333333333333,
              "#9c179e"
             ],
             [
              0.4444444444444444,
              "#bd3786"
             ],
             [
              0.5555555555555556,
              "#d8576b"
             ],
             [
              0.6666666666666666,
              "#ed7953"
             ],
             [
              0.7777777777777778,
              "#fb9f3a"
             ],
             [
              0.8888888888888888,
              "#fdca26"
             ],
             [
              1,
              "#f0f921"
             ]
            ],
            "type": "histogram2d"
           }
          ],
          "histogram2dcontour": [
           {
            "colorbar": {
             "outlinewidth": 0,
             "ticks": ""
            },
            "colorscale": [
             [
              0,
              "#0d0887"
             ],
             [
              0.1111111111111111,
              "#46039f"
             ],
             [
              0.2222222222222222,
              "#7201a8"
             ],
             [
              0.3333333333333333,
              "#9c179e"
             ],
             [
              0.4444444444444444,
              "#bd3786"
             ],
             [
              0.5555555555555556,
              "#d8576b"
             ],
             [
              0.6666666666666666,
              "#ed7953"
             ],
             [
              0.7777777777777778,
              "#fb9f3a"
             ],
             [
              0.8888888888888888,
              "#fdca26"
             ],
             [
              1,
              "#f0f921"
             ]
            ],
            "type": "histogram2dcontour"
           }
          ],
          "mesh3d": [
           {
            "colorbar": {
             "outlinewidth": 0,
             "ticks": ""
            },
            "type": "mesh3d"
           }
          ],
          "parcoords": [
           {
            "line": {
             "colorbar": {
              "outlinewidth": 0,
              "ticks": ""
             }
            },
            "type": "parcoords"
           }
          ],
          "pie": [
           {
            "automargin": true,
            "type": "pie"
           }
          ],
          "scatter": [
           {
            "marker": {
             "colorbar": {
              "outlinewidth": 0,
              "ticks": ""
             }
            },
            "type": "scatter"
           }
          ],
          "scatter3d": [
           {
            "line": {
             "colorbar": {
              "outlinewidth": 0,
              "ticks": ""
             }
            },
            "marker": {
             "colorbar": {
              "outlinewidth": 0,
              "ticks": ""
             }
            },
            "type": "scatter3d"
           }
          ],
          "scattercarpet": [
           {
            "marker": {
             "colorbar": {
              "outlinewidth": 0,
              "ticks": ""
             }
            },
            "type": "scattercarpet"
           }
          ],
          "scattergeo": [
           {
            "marker": {
             "colorbar": {
              "outlinewidth": 0,
              "ticks": ""
             }
            },
            "type": "scattergeo"
           }
          ],
          "scattergl": [
           {
            "marker": {
             "colorbar": {
              "outlinewidth": 0,
              "ticks": ""
             }
            },
            "type": "scattergl"
           }
          ],
          "scattermapbox": [
           {
            "marker": {
             "colorbar": {
              "outlinewidth": 0,
              "ticks": ""
             }
            },
            "type": "scattermapbox"
           }
          ],
          "scatterpolar": [
           {
            "marker": {
             "colorbar": {
              "outlinewidth": 0,
              "ticks": ""
             }
            },
            "type": "scatterpolar"
           }
          ],
          "scatterpolargl": [
           {
            "marker": {
             "colorbar": {
              "outlinewidth": 0,
              "ticks": ""
             }
            },
            "type": "scatterpolargl"
           }
          ],
          "scatterternary": [
           {
            "marker": {
             "colorbar": {
              "outlinewidth": 0,
              "ticks": ""
             }
            },
            "type": "scatterternary"
           }
          ],
          "surface": [
           {
            "colorbar": {
             "outlinewidth": 0,
             "ticks": ""
            },
            "colorscale": [
             [
              0,
              "#0d0887"
             ],
             [
              0.1111111111111111,
              "#46039f"
             ],
             [
              0.2222222222222222,
              "#7201a8"
             ],
             [
              0.3333333333333333,
              "#9c179e"
             ],
             [
              0.4444444444444444,
              "#bd3786"
             ],
             [
              0.5555555555555556,
              "#d8576b"
             ],
             [
              0.6666666666666666,
              "#ed7953"
             ],
             [
              0.7777777777777778,
              "#fb9f3a"
             ],
             [
              0.8888888888888888,
              "#fdca26"
             ],
             [
              1,
              "#f0f921"
             ]
            ],
            "type": "surface"
           }
          ],
          "table": [
           {
            "cells": {
             "fill": {
              "color": "#EBF0F8"
             },
             "line": {
              "color": "white"
             }
            },
            "header": {
             "fill": {
              "color": "#C8D4E3"
             },
             "line": {
              "color": "white"
             }
            },
            "type": "table"
           }
          ]
         },
         "layout": {
          "annotationdefaults": {
           "arrowcolor": "#2a3f5f",
           "arrowhead": 0,
           "arrowwidth": 1
          },
          "autotypenumbers": "strict",
          "coloraxis": {
           "colorbar": {
            "outlinewidth": 0,
            "ticks": ""
           }
          },
          "colorscale": {
           "diverging": [
            [
             0,
             "#8e0152"
            ],
            [
             0.1,
             "#c51b7d"
            ],
            [
             0.2,
             "#de77ae"
            ],
            [
             0.3,
             "#f1b6da"
            ],
            [
             0.4,
             "#fde0ef"
            ],
            [
             0.5,
             "#f7f7f7"
            ],
            [
             0.6,
             "#e6f5d0"
            ],
            [
             0.7,
             "#b8e186"
            ],
            [
             0.8,
             "#7fbc41"
            ],
            [
             0.9,
             "#4d9221"
            ],
            [
             1,
             "#276419"
            ]
           ],
           "sequential": [
            [
             0,
             "#0d0887"
            ],
            [
             0.1111111111111111,
             "#46039f"
            ],
            [
             0.2222222222222222,
             "#7201a8"
            ],
            [
             0.3333333333333333,
             "#9c179e"
            ],
            [
             0.4444444444444444,
             "#bd3786"
            ],
            [
             0.5555555555555556,
             "#d8576b"
            ],
            [
             0.6666666666666666,
             "#ed7953"
            ],
            [
             0.7777777777777778,
             "#fb9f3a"
            ],
            [
             0.8888888888888888,
             "#fdca26"
            ],
            [
             1,
             "#f0f921"
            ]
           ],
           "sequentialminus": [
            [
             0,
             "#0d0887"
            ],
            [
             0.1111111111111111,
             "#46039f"
            ],
            [
             0.2222222222222222,
             "#7201a8"
            ],
            [
             0.3333333333333333,
             "#9c179e"
            ],
            [
             0.4444444444444444,
             "#bd3786"
            ],
            [
             0.5555555555555556,
             "#d8576b"
            ],
            [
             0.6666666666666666,
             "#ed7953"
            ],
            [
             0.7777777777777778,
             "#fb9f3a"
            ],
            [
             0.8888888888888888,
             "#fdca26"
            ],
            [
             1,
             "#f0f921"
            ]
           ]
          },
          "colorway": [
           "#636efa",
           "#EF553B",
           "#00cc96",
           "#ab63fa",
           "#FFA15A",
           "#19d3f3",
           "#FF6692",
           "#B6E880",
           "#FF97FF",
           "#FECB52"
          ],
          "font": {
           "color": "#2a3f5f"
          },
          "geo": {
           "bgcolor": "white",
           "lakecolor": "white",
           "landcolor": "#E5ECF6",
           "showlakes": true,
           "showland": true,
           "subunitcolor": "white"
          },
          "hoverlabel": {
           "align": "left"
          },
          "hovermode": "closest",
          "mapbox": {
           "style": "light"
          },
          "paper_bgcolor": "white",
          "plot_bgcolor": "#E5ECF6",
          "polar": {
           "angularaxis": {
            "gridcolor": "white",
            "linecolor": "white",
            "ticks": ""
           },
           "bgcolor": "#E5ECF6",
           "radialaxis": {
            "gridcolor": "white",
            "linecolor": "white",
            "ticks": ""
           }
          },
          "scene": {
           "xaxis": {
            "backgroundcolor": "#E5ECF6",
            "gridcolor": "white",
            "gridwidth": 2,
            "linecolor": "white",
            "showbackground": true,
            "ticks": "",
            "zerolinecolor": "white"
           },
           "yaxis": {
            "backgroundcolor": "#E5ECF6",
            "gridcolor": "white",
            "gridwidth": 2,
            "linecolor": "white",
            "showbackground": true,
            "ticks": "",
            "zerolinecolor": "white"
           },
           "zaxis": {
            "backgroundcolor": "#E5ECF6",
            "gridcolor": "white",
            "gridwidth": 2,
            "linecolor": "white",
            "showbackground": true,
            "ticks": "",
            "zerolinecolor": "white"
           }
          },
          "shapedefaults": {
           "line": {
            "color": "#2a3f5f"
           }
          },
          "ternary": {
           "aaxis": {
            "gridcolor": "white",
            "linecolor": "white",
            "ticks": ""
           },
           "baxis": {
            "gridcolor": "white",
            "linecolor": "white",
            "ticks": ""
           },
           "bgcolor": "#E5ECF6",
           "caxis": {
            "gridcolor": "white",
            "linecolor": "white",
            "ticks": ""
           }
          },
          "title": {
           "x": 0.05
          },
          "xaxis": {
           "automargin": true,
           "gridcolor": "white",
           "linecolor": "white",
           "ticks": "",
           "title": {
            "standoff": 15
           },
           "zerolinecolor": "white",
           "zerolinewidth": 2
          },
          "yaxis": {
           "automargin": true,
           "gridcolor": "white",
           "linecolor": "white",
           "ticks": "",
           "title": {
            "standoff": 15
           },
           "zerolinecolor": "white",
           "zerolinewidth": 2
          }
         }
        }
       }
      }
     },
     "metadata": {}
    }
   ],
   "source": [
    "import plotly.express as px\n",
    "from sklearn.decomposition import PCA\n",
    "\n",
    "#Stander the features - but not the subjects. !!! <- in this plot\n",
    "\n",
    "Y3 = np.array(Lavels3)\n",
    "#Data\n",
    "X3=np.array(X3)\n",
    "pca = PCA()\n",
    "components = pca.fit_transform(X3)\n",
    "labels = {\n",
    "    str(i): f\"PC {i+1} ({var:.1f}%)\"\n",
    "    for i, var in enumerate(pca.explained_variance_ratio_ * 100)\n",
    "}\n",
    "\n",
    "fig = px.scatter_matrix(\n",
    "    components,\n",
    "    labels=labels,\n",
    "    dimensions=range(2),\n",
    "    color=Y3\n",
    ")\n",
    "fig.update_traces(diagonal_visible=False)\n",
    "fig.show()"
   ]
  },
  {
   "cell_type": "code",
   "execution_count": null,
   "metadata": {},
   "outputs": [],
   "source": []
  }
 ]
}