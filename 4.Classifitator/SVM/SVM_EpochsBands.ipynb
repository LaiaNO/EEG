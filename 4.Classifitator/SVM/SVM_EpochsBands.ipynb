{
 "metadata": {
  "language_info": {
   "codemirror_mode": {
    "name": "ipython",
    "version": 3
   },
   "file_extension": ".py",
   "mimetype": "text/x-python",
   "name": "python",
   "nbconvert_exporter": "python",
   "pygments_lexer": "ipython3",
   "version": "3.8.5-final"
  },
  "orig_nbformat": 2,
  "kernelspec": {
   "name": "python3",
   "display_name": "Python 3",
   "language": "python"
  }
 },
 "nbformat": 4,
 "nbformat_minor": 2,
 "cells": [
  {
   "cell_type": "code",
   "execution_count": 1,
   "metadata": {},
   "outputs": [
    {
     "output_type": "execute_result",
     "data": {
      "text/plain": [
       "'Analisis:\\n- All the data (list = patient with all values)\\n- BandPower = patient = 12 brain reagions = 5 bands = 1 value\\n\\n\\n- Lavels structure all patiens with one value = list (no shape)'"
      ]
     },
     "metadata": {},
     "execution_count": 1
    }
   ],
   "source": [
    "'''Analisis:\n",
    "- All the data (list = patient with all values)\n",
    "- BandPower = patient = 12 brain reagions = 5 bands = 1 value\n",
    "\n",
    "\n",
    "- Lavels structure all patiens with one value = list (no shape)'''"
   ]
  },
  {
   "cell_type": "code",
   "execution_count": 2,
   "metadata": {},
   "outputs": [],
   "source": [
    "#Multiple regression is like linear regression, but with more than one independent value, meaning that we try to predict a value based on two or more variables.\n",
    "import numpy as np\n",
    "import matplotlib.pyplot as plt\n",
    "from numpy import savetxt\n",
    "import pickle\n",
    "import csv\n",
    "from sklearn import linear_model\n",
    "from sklearn.svm import SVC\n",
    "from sklearn.model_selection import train_test_split\n",
    "from sklearn.metrics import confusion_matrix\n",
    "from sklearn.metrics import accuracy_score\n",
    "import pandas as pd\n",
    "import seaborn as sns\n",
    "import statsmodels.formula.api as smf\n",
    "from sklearn.linear_model import LinearRegression\n",
    "from sklearn import metrics\n",
    "from sklearn import preprocessing\n",
    "from sklearn.svm import LinearSVC\n",
    "from sklearn.metrics import roc_auc_score\n",
    "from sklearn.metrics import recall_score\n",
    "from sklearn.metrics import accuracy_score"
   ]
  },
  {
   "cell_type": "code",
   "execution_count": 3,
   "metadata": {},
   "outputs": [],
   "source": [
    "with open(\"/Users/laianavarroolivella/Proyectos/EEG/list_final_EO.txt\", \"rb\") as fp:   # Unpickling\n",
    "    withEpoch = pickle.load(fp)\n",
    "\n",
    "with open(\"/Users/laianavarroolivella/Proyectos/EEG/1.create12ChanelsXPatient/sorted_list_ECsave.txt\", \"rb\") as fp:   # Unpickling\n",
    "    sorted_list_EC_up = pickle.load(fp)\n",
    "\n",
    "with open(\"/Users/laianavarroolivella/Proyectos/EEG/1.create12ChanelsXPatient/sorted_list_EO_save.txt\", \"rb\") as fp:   # Unpickling\n",
    "    sorted_list_EO_up = pickle.load(fp)"
   ]
  },
  {
   "cell_type": "code",
   "execution_count": 4,
   "metadata": {},
   "outputs": [],
   "source": [
    "listEO =[]\n",
    "listEC =[]\n",
    "for e in range(0,len(sorted_list_EO_up)):       #For each frequency band:\n",
    "    hename = sorted_list_EO_up[e]   #Select the name of the patient\n",
    "    hename = str(hename[:-7])  #Select only the number witout the extension \n",
    "    listEO.append(hename)\n",
    "\n",
    "for e in range(0,len(sorted_list_EC_up)):       #For each frequency band:\n",
    "    hename = sorted_list_EC_up[e]   #Select the name of the patient\n",
    "    hename = str(hename[:-7])  #Select only the number witout the extension \n",
    "    listEC.append(hename)"
   ]
  },
  {
   "cell_type": "code",
   "execution_count": 5,
   "metadata": {},
   "outputs": [],
   "source": [
    "#Import the data to analise\n",
    "#Open the file in universal line ending mode \n",
    "with open('/Users/laianavarroolivella/Proyectos/EEG/Files_EEG/TEIQue-SF.csv', 'rU') as infile:\n",
    "  # read the file as a dictionary for each row ({header : value})\n",
    "  data = {}\n",
    "  reader = csv.DictReader(infile)\n",
    "  for row in reader:\n",
    "    for header, value in row.items():\n",
    "      try:\n",
    "        data[header].append(value)\n",
    "      except KeyError:\n",
    "        data[header] = [value]\n",
    "\n",
    "# extract the variables you want\n",
    "names = data['ID']\n",
    "TeiQueSF_emotionality = data['TeiQueSF_emotionality']\n",
    "TeiQueSF_wellBeing = data['TeiQueSF_well_being']"
   ]
  },
  {
   "cell_type": "code",
   "execution_count": 6,
   "metadata": {},
   "outputs": [],
   "source": [
    "del withEpoch[151]\n",
    "del withEpoch[151]"
   ]
  },
  {
   "cell_type": "code",
   "execution_count": 7,
   "metadata": {},
   "outputs": [],
   "source": [
    "longimin = 600\n",
    "for i in withEpoch:\n",
    "    if len(i)<longimin:\n",
    "        longimin=len(i)"
   ]
  },
  {
   "cell_type": "code",
   "execution_count": 8,
   "metadata": {},
   "outputs": [],
   "source": [
    "Data = []\n",
    "for i in withEpoch:\n",
    "    Data.append(i[:400])"
   ]
  },
  {
   "cell_type": "code",
   "execution_count": 9,
   "metadata": {},
   "outputs": [],
   "source": [
    "del sorted_list_EO_up[151]\n",
    "del sorted_list_EO_up[151]"
   ]
  },
  {
   "cell_type": "code",
   "execution_count": 10,
   "metadata": {},
   "outputs": [],
   "source": [
    "xCorr = []\n",
    "for e in range(0,len(sorted_list_EO_up)):       #For each frequency band:\n",
    "    hename = sorted_list_EO_up[e]   #Select the name of the patient\n",
    "    hename = str(hename[:-7])  #Select only the number witout the extension \n",
    "    if hename in names:    #If this is in the testNames:\n",
    "        indices = [i for i, s in enumerate(names) if hename in s] #Get the position of the testNames\n",
    "        x = (float(TeiQueSF_wellBeing[int(indices[0])])) #Get the value of the patient in the test selected\n",
    "        xCorr.append(x) #Add it in to the xCorr\n",
    "    else:\n",
    "        print(\"No esta\"+hename)"
   ]
  },
  {
   "cell_type": "code",
   "execution_count": 11,
   "metadata": {},
   "outputs": [
    {
     "output_type": "stream",
     "name": "stdout",
     "text": [
      "<class 'numpy.ndarray'>\n<class 'numpy.ndarray'>\n"
     ]
    }
   ],
   "source": [
    "#Data\n",
    "X=np.array(Data)\n",
    "print(type(X))\n",
    "print(type(X[0]))"
   ]
  },
  {
   "cell_type": "code",
   "execution_count": 69,
   "metadata": {},
   "outputs": [],
   "source": [
    "#Lavels\n",
    "Lavels2 = []\n",
    "for i  in xCorr:\n",
    "    if i>4.0:\n",
    "        Lavels2.append(int(0))\n",
    "    if i<=4.0:\n",
    "        Lavels2.append(int(1))\n",
    "\n",
    "Y = np.array(Lavels2)\n",
    "\n"
   ]
  },
  {
   "cell_type": "code",
   "execution_count": 13,
   "metadata": {},
   "outputs": [
    {
     "output_type": "execute_result",
     "data": {
      "text/plain": [
       "(185, 400)"
      ]
     },
     "metadata": {},
     "execution_count": 13
    }
   ],
   "source": [
    "X.shape"
   ]
  },
  {
   "cell_type": "code",
   "execution_count": 81,
   "metadata": {},
   "outputs": [],
   "source": [
    "X_train, X_test, y_train, y_test = train_test_split(X, Y, test_size=0.2, random_state='4')\n",
    "#Normalize data X_train"
   ]
  },
  {
   "cell_type": "code",
   "execution_count": 75,
   "metadata": {},
   "outputs": [
    {
     "output_type": "stream",
     "name": "stdout",
     "text": [
      "(148, 400)\n(37, 400)\n\n\n(148,)\n(37,)\n\n\n"
     ]
    }
   ],
   "source": [
    "print(X_train.shape)\n",
    "print(X_test.shape)\n",
    "print('\\n')\n",
    "print(y_train.shape)\n",
    "print(y_test.shape)\n",
    "print('\\n')"
   ]
  },
  {
   "cell_type": "code",
   "execution_count": 94,
   "metadata": {},
   "outputs": [
    {
     "output_type": "stream",
     "name": "stdout",
     "text": [
      "LinearSVC(max_iter=10000, multi_class='crammer_singer', tol=1e-05)\n",
      "Predictet: [0 0 0 0 0 0 0 0 0 0 0 0 0 0 0 0 0 0 0 0 0 0 0 0 0 0 0 0 0 0 0 0 0 0 0 0 0]\n",
      "\n",
      "Accuracy:  0.8918918918918919\n",
      "El q ha de ser:  [0 0 0 0 0 1 0 0 0 0 0 1 0 0 0 1 0 0 0 0 0 0 0 0 0 0 0 0 0 0 0 0 0 0 0 1 0]\n",
      "Roc:  0.5\n",
      "Recall:  0.0\n",
      "LinearSVC(max_iter=10000, multi_class='crammer_singer', tol=1e-05)\n",
      "Predictet: [0 0 0 0 0 0 0 0 0 0 0 0 0 0 0 0 0 0 0 0 0 0 0 0 0 0 0 0 0 0 0 0 0 0 0 0 0]\n",
      "\n",
      "Accuracy:  0.8918918918918919\n",
      "El q ha de ser:  [0 0 0 0 0 1 0 0 0 0 0 1 0 0 0 1 0 0 0 0 0 0 0 0 0 0 0 0 0 0 0 0 0 0 0 1 0]\n",
      "Roc:  0.5\n",
      "Recall:  0.0\n",
      "LinearSVC(max_iter=10000, multi_class='crammer_singer', tol=1e-05)\n",
      "Predictet: [0 0 0 0 0 0 0 0 0 0 0 0 0 0 0 0 0 0 0 0 0 0 0 0 0 0 0 0 0 0 0 0 0 0 0 0 0]\n",
      "\n",
      "Accuracy:  0.8918918918918919\n",
      "El q ha de ser:  [0 0 0 0 0 1 0 0 0 0 0 1 0 0 0 1 0 0 0 0 0 0 0 0 0 0 0 0 0 0 0 0 0 0 0 1 0]\n",
      "Roc:  0.5\n",
      "Recall:  0.0\n",
      "LinearSVC(max_iter=10000, multi_class='crammer_singer', tol=1e-05)\n",
      "Predictet: [0 0 0 0 0 0 0 0 0 0 0 0 0 0 0 0 0 0 0 0 0 0 0 0 0 0 0 0 0 0 0 0 0 0 0 0 0]\n",
      "\n",
      "Accuracy:  0.8918918918918919\n",
      "El q ha de ser:  [0 0 0 0 0 1 0 0 0 0 0 1 0 0 0 1 0 0 0 0 0 0 0 0 0 0 0 0 0 0 0 0 0 0 0 1 0]\n",
      "Roc:  0.5\n",
      "Recall:  0.0\n",
      "LinearSVC(max_iter=10000, multi_class='crammer_singer', tol=1e-05)\n",
      "Predictet: [0 0 0 0 0 0 0 0 0 0 0 0 0 0 0 0 0 0 0 0 0 0 0 0 0 0 0 0 0 0 0 0 0 0 0 0 0]\n",
      "\n",
      "Accuracy:  0.8918918918918919\n",
      "El q ha de ser:  [0 0 0 0 0 1 0 0 0 0 0 1 0 0 0 1 0 0 0 0 0 0 0 0 0 0 0 0 0 0 0 0 0 0 0 1 0]\n",
      "Roc:  0.5\n",
      "Recall:  0.0\n",
      "LinearSVC(max_iter=10000, multi_class='crammer_singer', tol=1e-05)\n",
      "Predictet: [0 0 0 0 0 0 0 0 0 0 0 0 0 0 0 0 0 0 0 0 0 0 0 0 0 0 0 0 0 0 0 0 0 0 0 0 0]\n",
      "\n",
      "Accuracy:  0.8918918918918919\n",
      "El q ha de ser:  [0 0 0 0 0 1 0 0 0 0 0 1 0 0 0 1 0 0 0 0 0 0 0 0 0 0 0 0 0 0 0 0 0 0 0 1 0]\n",
      "Roc:  0.5\n",
      "Recall:  0.0\n",
      "LinearSVC(max_iter=10000, multi_class='crammer_singer', tol=1e-05)\n",
      "Predictet: [0 0 0 0 0 0 0 0 0 0 0 0 0 0 0 0 0 0 0 0 0 0 0 0 0 0 0 0 0 0 0 0 0 0 0 0 0]\n",
      "\n",
      "Accuracy:  0.8918918918918919\n",
      "El q ha de ser:  [0 0 0 0 0 1 0 0 0 0 0 1 0 0 0 1 0 0 0 0 0 0 0 0 0 0 0 0 0 0 0 0 0 0 0 1 0]\n",
      "Roc:  0.5\n",
      "Recall:  0.0\n",
      "LinearSVC(max_iter=10000, multi_class='crammer_singer', tol=1e-05)\n",
      "Predictet: [0 0 0 0 0 0 0 0 0 0 0 0 0 0 0 0 0 0 0 0 0 0 0 0 0 0 0 0 0 0 0 0 0 0 0 0 0]\n",
      "\n",
      "Accuracy:  0.8918918918918919\n",
      "El q ha de ser:  [0 0 0 0 0 1 0 0 0 0 0 1 0 0 0 1 0 0 0 0 0 0 0 0 0 0 0 0 0 0 0 0 0 0 0 1 0]\n",
      "Roc:  0.5\n",
      "Recall:  0.0\n",
      "LinearSVC(max_iter=10000, multi_class='crammer_singer', tol=1e-05)\n",
      "Predictet: [0 0 0 0 0 0 0 0 0 0 0 0 0 0 0 0 0 0 0 0 0 0 0 0 0 0 0 0 0 0 0 0 0 0 0 0 0]\n",
      "\n",
      "Accuracy:  0.8918918918918919\n",
      "El q ha de ser:  [0 0 0 0 0 1 0 0 0 0 0 1 0 0 0 1 0 0 0 0 0 0 0 0 0 0 0 0 0 0 0 0 0 0 0 1 0]\n",
      "Roc:  0.5\n",
      "Recall:  0.0\n",
      "LinearSVC(max_iter=10000, multi_class='crammer_singer', tol=1e-05)\n",
      "Predictet: [0 0 0 0 0 0 0 0 0 0 0 0 0 0 0 0 0 0 0 0 0 0 0 0 0 0 0 0 0 0 0 0 0 0 0 0 0]\n",
      "\n",
      "Accuracy:  0.8918918918918919\n",
      "El q ha de ser:  [0 0 0 0 0 1 0 0 0 0 0 1 0 0 0 1 0 0 0 0 0 0 0 0 0 0 0 0 0 0 0 0 0 0 0 1 0]\n",
      "Roc:  0.5\n",
      "Recall:  0.0\n"
     ]
    }
   ],
   "source": [
    "for i in range(0,10):\n",
    "    X_train, X_test, y_train, y_test = train_test_split(X, Y, test_size=0.2, random_state=1)\n",
    "    \n",
    "    # Create an object, or instance, of the class.\n",
    "    clf = LinearSVC(random_state=0, tol=1e-4)\n",
    "    # Train it\n",
    "    # Adjust the parameters so it can predict the correct class as accurately.\n",
    "    clf = LinearSVC(penalty='l2', loss='squared_hinge', dual=True, tol=0.00001,\n",
    "                    C=1.0, multi_class='crammer_singer', fit_intercept=True,\n",
    "                    intercept_scaling=1, class_weight=None, verbose=0,\n",
    "                    random_state=None, max_iter=10000)\n",
    "    #fitting (learning) the parameters of a model in sklearn is fit(X, y).\n",
    "    print(clf.fit(X_train, y_train))\n",
    "    clf.coef_\n",
    "    clf.intercept_\n",
    "    clf.score(X_train, y_train)\n",
    "    #predict the class of the test data\n",
    "    #sklearn is predict(X)\n",
    "    prediction = (clf.predict(X_test))\n",
    "    print('Predictet: {}\\n'.format(prediction) )\n",
    "    # Then, compute the classification accuracy obtained.\n",
    "    print('Accuracy: ', accuracy_score(y_test, prediction))\n",
    "    print('El q ha de ser: ',y_test)\n",
    "\n",
    "    print('Roc: ',roc_auc_score(y_test, prediction))\n",
    "\n",
    "    print('Recall: ',recall_score(y_test, prediction))"
   ]
  },
  {
   "cell_type": "code",
   "execution_count": 80,
   "metadata": {},
   "outputs": [
    {
     "output_type": "stream",
     "name": "stdout",
     "text": [
      "SVC()\nPredictet: [0 0 0 0 0 0 0 0 0 0 0 0 0 0 0 0 0 0 0 0 0 0 0 0 0 0 0 0 0 0 0 0 0 0 0 0 0]\n\nAccuracy:  0.9459459459459459\n"
     ]
    }
   ],
   "source": [
    "from sklearn.svm import SVC\n",
    "clf2 = SVC(C=1.0, kernel='rbf', gamma='scale', coef0=0.0, shrinking=True, probability=False, tol=0.001, cache_size=200, class_weight=None, verbose=False, max_iter=- 1, decision_function_shape='ovr', break_ties=False, random_state=None)\n",
    "print(clf2.fit(X_train, y_train))\n",
    "#predict the class of the test data\n",
    "#sklearn is predict(X)\n",
    "prediction = (clf2.predict(X_test))\n",
    "print('Predictet: {}\\n'.format(prediction) )\n",
    "# Then, compute the classification accuracy obtained.\n",
    "print('Accuracy: ', accuracy_score(y_test, prediction))\n"
   ]
  },
  {
   "cell_type": "code",
   "execution_count": null,
   "metadata": {},
   "outputs": [],
   "source": [
    "#KERAS\n",
    "#Tensorflow"
   ]
  }
 ]
}