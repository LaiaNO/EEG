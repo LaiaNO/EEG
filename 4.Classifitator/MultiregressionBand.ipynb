{
 "metadata": {
  "language_info": {
   "codemirror_mode": {
    "name": "ipython",
    "version": 3
   },
   "file_extension": ".py",
   "mimetype": "text/x-python",
   "name": "python",
   "nbconvert_exporter": "python",
   "pygments_lexer": "ipython3",
   "version": "3.8.5-final"
  },
  "orig_nbformat": 2,
  "kernelspec": {
   "name": "python3",
   "display_name": "Python 3",
   "language": "python"
  }
 },
 "nbformat": 4,
 "nbformat_minor": 2,
 "cells": [
  {
   "cell_type": "code",
   "execution_count": 1,
   "metadata": {},
   "outputs": [],
   "source": [
    "#Multiple regression is like linear regression, but with more than one independent value, meaning that we try to predict a value based on two or more variables.\n",
    "import numpy as np\n",
    "import matplotlib.pyplot as plt\n",
    "from numpy import savetxt\n",
    "import pickle\n",
    "import csv"
   ]
  },
  {
   "cell_type": "code",
   "execution_count": 22,
   "metadata": {},
   "outputs": [
    {
     "output_type": "error",
     "ename": "FileNotFoundError",
     "evalue": "[Errno 2] No such file or directory: '/Users/laianavarroolivella/Proyectos/EEG/1.create12ChanelsXPatient/sorted_list_EOsave.txt'",
     "traceback": [
      "\u001b[0;31m---------------------------------------------------------------------------\u001b[0m",
      "\u001b[0;31mFileNotFoundError\u001b[0m                         Traceback (most recent call last)",
      "\u001b[0;32m<ipython-input-22-0c68a38f04e5>\u001b[0m in \u001b[0;36m<module>\u001b[0;34m\u001b[0m\n\u001b[1;32m      7\u001b[0m \u001b[0;34m\u001b[0m\u001b[0m\n\u001b[1;32m      8\u001b[0m \u001b[0;34m\u001b[0m\u001b[0m\n\u001b[0;32m----> 9\u001b[0;31m \u001b[0;32mwith\u001b[0m \u001b[0mopen\u001b[0m\u001b[0;34m(\u001b[0m\u001b[0;34m\"/Users/laianavarroolivella/Proyectos/EEG/1.create12ChanelsXPatient/sorted_list_EOsave.txt\"\u001b[0m\u001b[0;34m,\u001b[0m \u001b[0;34m\"rb\"\u001b[0m\u001b[0;34m)\u001b[0m \u001b[0;32mas\u001b[0m \u001b[0mfp\u001b[0m\u001b[0;34m:\u001b[0m   \u001b[0;31m# Unpickling\u001b[0m\u001b[0;34m\u001b[0m\u001b[0;34m\u001b[0m\u001b[0m\n\u001b[0m\u001b[1;32m     10\u001b[0m     \u001b[0msorted_list_EO_up\u001b[0m \u001b[0;34m=\u001b[0m \u001b[0mpickle\u001b[0m\u001b[0;34m.\u001b[0m\u001b[0mload\u001b[0m\u001b[0;34m(\u001b[0m\u001b[0mfp\u001b[0m\u001b[0;34m)\u001b[0m\u001b[0;34m\u001b[0m\u001b[0;34m\u001b[0m\u001b[0m\n",
      "\u001b[0;31mFileNotFoundError\u001b[0m: [Errno 2] No such file or directory: '/Users/laianavarroolivella/Proyectos/EEG/1.create12ChanelsXPatient/sorted_list_EOsave.txt'"
     ]
    }
   ],
   "source": [
    "with open(\"/Users/laianavarroolivella/Proyectos/EEG/1.create12ChanelsXPatient/EO_EC_Pacients_save.txt\", \"rb\") as fp:   # Unpickling\n",
    "    EO_EC_Pacients_up = pickle.load(fp)\n",
    "\n",
    "\n",
    "with open(\"/Users/laianavarroolivella/Proyectos/EEG/1.create12ChanelsXPatient/sorted_list_ECsave.txt\", \"rb\") as fp:   # Unpickling\n",
    "    sorted_list_EC_up = pickle.load(fp)\n",
    "\n",
    "\n",
    "with open(\"/Users/laianavarroolivella/Proyectos/EEG/1.create12ChanelsXPatient/sorted_list_EOsave.txt\", \"rb\") as fp:   # Unpickling\n",
    "    sorted_list_EO_up = pickle.load(fp)"
   ]
  },
  {
   "cell_type": "code",
   "execution_count": 15,
   "metadata": {},
   "outputs": [],
   "source": [
    "#Import the data to analise\n",
    "#Open the file in universal line ending mode \n",
    "with open('/Users/laianavarroolivella/Proyectos/EEG/Files_EEG/TEIQue-SF.csv', 'rU') as infile:\n",
    "  # read the file as a dictionary for each row ({header : value})\n",
    "  data = {}\n",
    "  reader = csv.DictReader(infile)\n",
    "  for row in reader:\n",
    "    for header, value in row.items():\n",
    "      try:\n",
    "        data[header].append(value)\n",
    "      except KeyError:\n",
    "        data[header] = [value]\n",
    "\n",
    "# extract the variables you want\n",
    "names = data['ID']\n",
    "TeiQueSF_emotionality = data['TeiQueSF_emotionality']\n",
    "TeiQueSF_wellBeing = data['TeiQueSF_well_being']"
   ]
  },
  {
   "cell_type": "code",
   "execution_count": 25,
   "metadata": {},
   "outputs": [],
   "source": [
    "xCorr = []\n",
    "for e in range(0,len(sorted_list_EC_up)):       #For each frequency band:\n",
    "    hename = sorted_list_EC_up[e]   #Select the name of the patient\n",
    "    hename = str(hename[:-7])  #Select only the number witout the extension \n",
    "    if hename in names:    #If this is in the testNames:\n",
    "        indices = [i for i, s in enumerate(names) if hename in s] #Get the position of the testNames\n",
    "        x = (float(TeiQueSF_wellBeing[int(indices[0])])) #Get the value of the patient in the test selected\n",
    "        xCorr.append(x) #Add it in to the xCorr\n",
    "    else:\n",
    "        print(\"No esta\"+hename)"
   ]
  },
  {
   "cell_type": "code",
   "execution_count": 8,
   "metadata": {},
   "outputs": [],
   "source": [
    "All_EC = []\n",
    "for e in EO_EC_Pacients_up:\n",
    "    All_EC.append(e[0])\n"
   ]
  },
  {
   "cell_type": "code",
   "execution_count": 9,
   "metadata": {},
   "outputs": [],
   "source": [
    "trainX = All_EC[:-20]\n",
    "trainY\n",
    "testX = All_EC[-20:]\n",
    "testy"
   ]
  },
  {
   "cell_type": "code",
   "execution_count": 13,
   "metadata": {},
   "outputs": [
    {
     "output_type": "execute_result",
     "data": {
      "text/plain": [
       "20"
      ]
     },
     "metadata": {},
     "execution_count": 13
    }
   ],
   "source": [
    "regr = linear_model.LinearRegression()\n",
    "regr.fit(X, y)"
   ]
  },
  {
   "cell_type": "code",
   "execution_count": null,
   "metadata": {},
   "outputs": [],
   "source": []
  }
 ]
}