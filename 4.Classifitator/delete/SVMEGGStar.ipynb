{
 "metadata": {
  "language_info": {
   "codemirror_mode": {
    "name": "ipython",
    "version": 3
   },
   "file_extension": ".py",
   "mimetype": "text/x-python",
   "name": "python",
   "nbconvert_exporter": "python",
   "pygments_lexer": "ipython3",
   "version": "3.8.5"
  },
  "orig_nbformat": 2,
  "kernelspec": {
   "name": "python3",
   "display_name": "Python 3",
   "language": "python"
  }
 },
 "nbformat": 4,
 "nbformat_minor": 2,
 "cells": [
  {
   "cell_type": "code",
   "execution_count": 1,
   "metadata": {},
   "outputs": [
    {
     "output_type": "execute_result",
     "data": {
      "text/plain": [
       "'Analisis:\\n- All the data (list = patient with all values)\\n- BandPower = patient = 12 brain reagions = 5 bands = 1 value\\n\\n\\n- Lavels structure all patiens with one value = list (no shape)'"
      ]
     },
     "metadata": {},
     "execution_count": 1
    }
   ],
   "source": [
    "'''Analisis:\n",
    "- All the data (list = patient with all values)\n",
    "- BandPower = patient = 12 brain reagions = 5 bands = 1 value\n",
    "\n",
    "\n",
    "- Lavels structure all patiens with one value = list (no shape)'''"
   ]
  },
  {
   "cell_type": "code",
   "execution_count": 2,
   "metadata": {},
   "outputs": [],
   "source": [
    "#Multiple regression is like linear regression, but with more than one independent value, meaning that we try to predict a value based on two or more variables.\n",
    "import numpy as np\n",
    "import matplotlib.pyplot as plt\n",
    "from numpy import savetxt\n",
    "import pickle\n",
    "import csv\n",
    "from sklearn import linear_model\n",
    "from sklearn.svm import SVC\n",
    "from sklearn.model_selection import train_test_split\n",
    "from sklearn.metrics import confusion_matrix\n",
    "from sklearn.metrics import accuracy_score\n",
    "import pandas as pd\n",
    "import seaborn as sns\n",
    "import statsmodels.formula.api as smf\n",
    "from sklearn.linear_model import LinearRegression\n",
    "from sklearn import metrics\n",
    "from sklearn import preprocessing\n",
    "from sklearn.svm import LinearSVC\n",
    "from sklearn.metrics import roc_auc_score\n",
    "from sklearn.metrics import recall_score\n",
    "from sklearn.metrics import accuracy_score\n",
    "from sklearn.utils import shuffle\n"
   ]
  },
  {
   "cell_type": "code",
   "execution_count": 3,
   "metadata": {},
   "outputs": [],
   "source": [
    "with open(\"/Users/laianavarroolivella/Proyectos/EEG/5.EEGAllChanels/Features/Feature_array_EC_norm.p\", \"rb\") as fp:   # Unpickling\n",
    "    Feature_array_EC_norm = pickle.load(fp)\n",
    "with open(\"/Users/laianavarroolivella/Proyectos/EEG/5.EEGAllChanels/Features/Feature_array_EO_norm.p\", \"rb\") as fp:   # Unpickling\n",
    "    Feature_array_EO_norm = pickle.load(fp)\n",
    "\n",
    "with open(\"/Users/laianavarroolivella/Proyectos/EEG/5.EEGAllChanels/Features/Sub_idx_EC\", \"rb\") as fp:   # Unpickling\n",
    "    Sub_idx_EC = pickle.load(fp)\n",
    "with open(\"/Users/laianavarroolivella/Proyectos/EEG/5.EEGAllChanels/Features/Sub_idx_EO\", \"rb\") as fp:   # Unpickling\n",
    "    Sub_idx_EO = pickle.load(fp)\n",
    "\n",
    "with open(\"/Users/laianavarroolivella/Proyectos/EEG/5.EEGAllChanels/Features/nameseo.txt\", \"rb\") as fp:   # Unpickling\n",
    "    Old_EO = pickle.load(fp)\n",
    "with open(\"/Users/laianavarroolivella/Proyectos/EEG/5.EEGAllChanels/Features/namesec.txt\", \"rb\") as fp:   # Unpickling\n",
    "    Old_EC = pickle.load(fp)"
   ]
  },
  {
   "cell_type": "code",
   "execution_count": 4,
   "metadata": {},
   "outputs": [],
   "source": [
    "#Import the data to analise\n",
    "#Open the file in universal line ending mode \n",
    "with open('/Users/laianavarroolivella/Proyectos/EEG/Files_EEG/TEIQue-SF.csv', 'rU') as infile:\n",
    "  # read the file as a dictionary for each row ({header : value})\n",
    "  data = {}\n",
    "  reader = csv.DictReader(infile)\n",
    "  for row in reader:\n",
    "    for header, value in row.items():\n",
    "      try:\n",
    "        data[header].append(value)\n",
    "      except KeyError:\n",
    "        data[header] = [value]\n",
    "\n",
    "# extract the variables you want\n",
    "names = data['ID']\n",
    "TeiQueSF_emotionality = data['TeiQueSF_emotionality']\n",
    "TeiQueSF_wellBeing = data['TeiQueSF_well_being']"
   ]
  },
  {
   "cell_type": "code",
   "execution_count": 5,
   "metadata": {},
   "outputs": [],
   "source": [
    "xCorr= []\n",
    "for i in Sub_idx_EC:\n",
    "    hename = Old_EC[int(i)]   #Select the name of the patient\n",
    "    hename = str(hename[:-7])  #Select only the number witout the extension \n",
    "    if hename in names:    #If this is in the testNames:\n",
    "        indices = [i for i, s in enumerate(names) if hename in s] #Get the position of the testNames\n",
    "        x = (float(TeiQueSF_wellBeing[int(indices[0])])) #Get the value of the patient in the test selected\n",
    "        xCorr.append(x) #Add it in to the xCorr\n",
    "    else:\n",
    "        print(\"No esta\"+hename)"
   ]
  },
  {
   "cell_type": "code",
   "execution_count": 6,
   "metadata": {},
   "outputs": [],
   "source": [
    "newdata = []\n",
    "for e in Feature_array_EC_norm:\n",
    "    d = []\n",
    "    d.append(e[0])\n",
    "    d.append(e[2])\n",
    "    newdata.append(d)"
   ]
  },
  {
   "cell_type": "code",
   "execution_count": 7,
   "metadata": {},
   "outputs": [
    {
     "output_type": "stream",
     "name": "stdout",
     "text": [
      "<class 'numpy.ndarray'>\n<class 'numpy.ndarray'>\n"
     ]
    }
   ],
   "source": [
    "#Data\n",
    "X=np.array(newdata)\n",
    "print(type(X))\n",
    "print(type(X[0]))"
   ]
  },
  {
   "cell_type": "code",
   "execution_count": 8,
   "metadata": {},
   "outputs": [],
   "source": [
    "'''#Lavels\n",
    "Y = np.array(xCorr)\n",
    "print(type(Y))\n",
    "print(type(Y[0]))'''\n",
    "#Lavels\n",
    "Lavels2 = []\n",
    "for i  in xCorr:\n",
    "    if i>5.0:\n",
    "        Lavels2.append(int(1))\n",
    "    if i<=5.0:\n",
    "        Lavels2.append(int(0))\n",
    "\n",
    "Y = np.array(Lavels2)\n"
   ]
  },
  {
   "cell_type": "code",
   "execution_count": 9,
   "metadata": {},
   "outputs": [
    {
     "output_type": "execute_result",
     "data": {
      "text/plain": [
       "(141, 2)"
      ]
     },
     "metadata": {},
     "execution_count": 9
    }
   ],
   "source": [
    "X.shape"
   ]
  },
  {
   "cell_type": "code",
   "execution_count": 10,
   "metadata": {},
   "outputs": [
    {
     "output_type": "execute_result",
     "data": {
      "text/plain": [
       "(141,)"
      ]
     },
     "metadata": {},
     "execution_count": 10
    }
   ],
   "source": [
    "Y.shape"
   ]
  },
  {
   "cell_type": "code",
   "execution_count": 13,
   "metadata": {},
   "outputs": [
    {
     "output_type": "stream",
     "name": "stdout",
     "text": [
      "[1 1 1 1 0 1 0 0 1 0 1 1 1 0 1 1 1 1 0 1 0 1 1 1 0 0 1 1 0 1 1 1 1 1 1 1 1\n 1 1 0 1 1 1 1 1 1 1 1 1 0 1 1 0 1 1 1 1 0 1 1 1 1 1 1 1 1 1 1 0 0 1 1 1 1\n 1 0 1 1 1 1 1 1 1 0 1 1 0 1 1 1 1 1 0 1 1 1 1 1 1 0 0 0 0 1 0 1 0 1 1 1 0\n 1 1 1 1 1 1 1 0 1 1 1 1 0 1 0 0 0 1 1 1 1 1 1 1 1 1 0 1 0 1]\n"
     ]
    }
   ],
   "source": [
    "print((Y))"
   ]
  },
  {
   "cell_type": "code",
   "execution_count": 12,
   "metadata": {},
   "outputs": [
    {
     "output_type": "stream",
     "name": "stdout",
     "text": [
      "LinearSVC(max_iter=100000, multi_class='crammer_singer', tol=1e-05)\nPredictet: [1 1 1 1 1 1 1 1 1 1 1 1 1 1 1]\nEl q ha de ser:  [1 1 1 1 1 1 0 1 1 1 1 1 1 1 0]\nAccuracy:  0.8666666666666667\nRoc:  0.5\nRecall:  1.0\n \nLinearSVC(max_iter=100000, multi_class='crammer_singer', tol=1e-05)\nPredictet: [1 1 1 1 1 1 1 1 1 1 1 1 1 1 1]\nEl q ha de ser:  [1 1 0 1 1 1 0 1 1 1 1 1 1 1 0]\nAccuracy:  0.8\nRoc:  0.5\nRecall:  1.0\n \nLinearSVC(max_iter=100000, multi_class='crammer_singer', tol=1e-05)\nPredictet: [1 1 1 1 1 1 1 1 1 1 1 1 1 1 1]\nEl q ha de ser:  [1 0 1 1 1 0 1 0 1 0 1 1 1 0 1]\nAccuracy:  0.6666666666666666\nRoc:  0.5\nRecall:  1.0\n \nLinearSVC(max_iter=100000, multi_class='crammer_singer', tol=1e-05)\nPredictet: [1 1 1 1 1 1 1 1 1 1 1 1 1 1 1]\nEl q ha de ser:  [1 0 0 1 1 1 1 0 1 1 1 1 1 1 1]\nAccuracy:  0.8\nRoc:  0.5\nRecall:  1.0\n \nLinearSVC(max_iter=100000, multi_class='crammer_singer', tol=1e-05)\nPredictet: [1 1 1 1 1 1 1 1 1 1 1 1 1 1 1]\nEl q ha de ser:  [1 1 1 1 1 1 0 0 1 0 1 1 1 0 1]\nAccuracy:  0.7333333333333333\nRoc:  0.5\nRecall:  1.0\n \nLinearSVC(max_iter=100000, multi_class='crammer_singer', tol=1e-05)\nPredictet: [1 1 1 1 1 1 1 1 1 1 1 1 1 1 1]\nEl q ha de ser:  [1 1 0 1 0 1 1 1 0 1 1 1 1 1 1]\nAccuracy:  0.8\nRoc:  0.5\nRecall:  1.0\n \nLinearSVC(max_iter=100000, multi_class='crammer_singer', tol=1e-05)\nPredictet: [1 1 1 1 1 1 1 1 1 1 1 1 1 1 1]\nEl q ha de ser:  [1 1 0 0 1 1 1 1 1 1 1 1 0 1 1]\nAccuracy:  0.8\nRoc:  0.5\nRecall:  1.0\n \nLinearSVC(max_iter=100000, multi_class='crammer_singer', tol=1e-05)\nPredictet: [1 1 1 1 1 1 1 1 1 1 1 1 1 1 1]\nEl q ha de ser:  [1 1 1 1 1 1 1 0 1 1 1 1 1 1 1]\nAccuracy:  0.9333333333333333\nRoc:  0.5\nRecall:  1.0\n \nLinearSVC(max_iter=100000, multi_class='crammer_singer', tol=1e-05)\nPredictet: [1 1 1 1 1 1 1 1 1 1 1 1 1 1 1]\nEl q ha de ser:  [1 0 1 0 0 1 1 1 1 0 0 1 1 1 1]\nAccuracy:  0.6666666666666666\nRoc:  0.5\nRecall:  1.0\n \nLinearSVC(max_iter=100000, multi_class='crammer_singer', tol=1e-05)\nPredictet: [1 1 1 1 1 1 1 1 1 1 1 1 1 1 1]\nEl q ha de ser:  [1 1 1 0 1 1 1 1 1 1 1 1 1 0 0]\nAccuracy:  0.8\nRoc:  0.5\nRecall:  1.0\n \n"
     ]
    }
   ],
   "source": [
    "for i in range(0,10):\n",
    "    X, Y = shuffle(X, Y)\n",
    "    X_train, X_test, y_train, y_test = train_test_split(X, Y, test_size=0.10)\n",
    "\n",
    "    # Create an object, or instance, of the class.\n",
    "    # Train it\n",
    "    # Adjust the parameters so it can predict the correct class as accurately.\n",
    "    clf = LinearSVC(penalty='l2', loss='squared_hinge', dual=True, tol=0.00001,\n",
    "                    C=1.0, multi_class='crammer_singer', fit_intercept=True,\n",
    "                    intercept_scaling=1, class_weight=None, verbose=0,\n",
    "                    random_state=None, max_iter=100000)\n",
    "    #fitting (learning) the parameters of a model in sklearn is fit(X, y).\n",
    "    print(clf.fit(X_train, y_train))\n",
    "    clf.coef_\n",
    "    clf.intercept_\n",
    "    clf.score(X_train, y_train)\n",
    "    #predict the class of the test data\n",
    "    #sklearn is predict(X)\n",
    "    prediction = (clf.predict(X_test))\n",
    "    print('Predictet: {}'.format(prediction) )\n",
    "    print('El q ha de ser: ',y_test)\n",
    "    # Then, compute the classification accuracy obtained.\n",
    "    print('Accuracy: ', accuracy_score(y_test, prediction))\n",
    "\n",
    "    print('Roc: ',roc_auc_score(y_test, prediction))\n",
    "\n",
    "    print('Recall: ',recall_score(y_test, prediction))\n",
    "    print(' ')"
   ]
  },
  {
   "cell_type": "code",
   "execution_count": null,
   "metadata": {},
   "outputs": [],
   "source": []
  }
 ]
}