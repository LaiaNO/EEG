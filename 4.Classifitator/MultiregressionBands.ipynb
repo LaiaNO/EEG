{
 "metadata": {
  "language_info": {
   "codemirror_mode": {
    "name": "ipython",
    "version": 3
   },
   "file_extension": ".py",
   "mimetype": "text/x-python",
   "name": "python",
   "nbconvert_exporter": "python",
   "pygments_lexer": "ipython3",
   "version": "3.8.5-final"
  },
  "orig_nbformat": 2,
  "kernelspec": {
   "name": "python3",
   "display_name": "Python 3",
   "language": "python"
  }
 },
 "nbformat": 4,
 "nbformat_minor": 2,
 "cells": [
  {
   "cell_type": "code",
   "execution_count": 1,
   "metadata": {},
   "outputs": [
    {
     "output_type": "execute_result",
     "data": {
      "text/plain": [
       "'Analisis:\\n- All the data (list = patient with all values)\\n- BandPower = patient = 12 brain reagions = 5 bands = 1 value\\n\\n\\n- Lavels structure all patiens with one value = list (no shape)'"
      ]
     },
     "metadata": {},
     "execution_count": 1
    }
   ],
   "source": [
    "'''Analisis:\n",
    "- All the data (list = patient with all values)\n",
    "- BandPower = patient = 12 brain reagions = 5 bands = 1 value\n",
    "\n",
    "\n",
    "- Lavels structure all patiens with one value = list (no shape)'''"
   ]
  },
  {
   "cell_type": "code",
   "execution_count": 24,
   "metadata": {},
   "outputs": [],
   "source": [
    "#Multiple regression is like linear regression, but with more than one independent value, meaning that we try to predict a value based on two or more variables.\n",
    "import numpy as np\n",
    "import matplotlib.pyplot as plt\n",
    "from numpy import savetxt\n",
    "import pickle\n",
    "import csv\n",
    "from sklearn import linear_model\n",
    "from sklearn.svm import SVC\n",
    "from sklearn import svm\n",
    "from sklearn.model_selection import train_test_split\n",
    "from sklearn.metrics import confusion_matrix\n",
    "from sklearn.metrics import accuracy_score\n",
    "import pandas as pd\n",
    "import seaborn as sns\n",
    "import statsmodels.formula.api as smf\n",
    "from sklearn.linear_model import LinearRegression\n",
    "from sklearn import metrics"
   ]
  },
  {
   "cell_type": "code",
   "execution_count": 56,
   "metadata": {},
   "outputs": [
    {
     "output_type": "stream",
     "name": "stdout",
     "text": [
      "12\n5\n187\n[0.13687358079089113, 0.2608587434146743, 0.2634709782481588, 0.23186056614364345, 0.1746941654630223, 0.22303454863239516, 0.22338387489374834, 0.165122742061091, 0.28149714240020063, 0.21311961944059085, 0.27274317822200006, 0.26209577300936937, 0.18095155728812443, 0.26721362832545226, 0.25535714683676114, 0.2816374779758885, 0.2313726514074267, 0.34411657568466836, 0.2764397570721108, 0.20344666402225148, 0.13283199193915235, 0.09827671168129254, 0.2359445209752834, 0.1319458797798827, 0.11669918456687299, 0.12602264877987535, 0.1790845227147819, 0.31475497543366726, 0.26730307571284506, 0.21694616225060714, 0.09919560126907005, 0.25872068149191885, 0.18069227335237478, 0.305106691132682, 0.22475856251224757, 0.205901252760525, 0.274253289528396, 0.20762104838441048, 0.23458157887365075, 0.3218976285875164, 0.41045627432333043, 0.2876729373733401, 0.25770853643017855, 0.28553388461594126, 0.2525619445686872, 0.235086346985915, 0.23268168886201057, 0.2933904696762321, 0.17920404179523824, 0.2351805102078262, 0.11096210350119157, 0.17722360864831757, 0.45393832457129474, 0.0797697027119732, 0.10987626463071798, 0.14995769726746908, 0.11332865751721864, 0.20790347752743318, 0.1891570761813262, 0.1440645605164405, 0.18060169651168584, 0.2099676772639869, 0.08439844666743959, 0.19658730514984077, 0.1843285531173836, 0.30785486037053633, 0.21994558479358256, 0.2949272218505258, 0.2474331292477327, 0.20034797219540457, 0.13122211626184913, 0.19254982395170755, 0.18912913948355436, 0.09757076471829003, 0.20469027440256288, 0.17932072105894079, 0.1920991544788136, 0.2971035964521625, 0.28276295859417727, 0.3529409545035996, 0.163696961391598, 0.36369722336734833, 0.28643506265521634, 0.16805562763198406, 0.2641112018552484, 0.18010803722443341, 0.20907518846032475, 0.19305476056119864, 0.17508318806595355, 0.25865889332016045, 0.43599270047783484, 0.11213654742841217, 0.1818612270359569, 0.2394419482574649, 0.23186510391659976, 0.16198853827135448, 0.26113122164451075, 0.19560829018018638, 0.22839161098397734, 0.2682989890195115, 0.13026170249870628, 0.2423036863800816, 0.09190232617869416, 0.22596347136845338, 0.12260762127832991, 0.1177658020251545, 0.21738408529303788, 0.21511587233006446, 0.2728350838167734, 0.31402092387385105, 0.27142345799487844, 0.2901156168530983, 0.24818814577586268, 0.36265777505198815, 0.11682288233085254, 0.25833404272014127, 0.2830223310754403, 0.30565443726451275, 0.30575222568916743, 0.239420219564571, 0.13059669948616473, 0.14009474909008912, 0.13385410625999933, 0.1966859294384466, 0.24629471003318612, 0.15382849411237753, 0.16485396472266853, 0.18360979767199542, 0.17052559460878322, 0.193596474103686, 0.13662573346065782, 0.17413160229984054, 0.2305228609083198, 0.15084900274272528, 0.20273038863367654, 0.2637597230000547, 0.2123571065658616, 0.17542460007983812, 0.22702339902066004, 0.19027337493484292, 0.2908028631454534, 0.1512119214926261, 0.12092617706087624, 0.15121986351295463, 0.1834827539989568, 0.1904869759453741, 0.22388818251567122, 0.14628873473491916, 0.20292463365081684, 0.15130893690391115, 0.14448787524683915, 0.17072092174675224, 0.18809975039823412, 0.1312964561365413, 0.20970536711194315, 0.1965780912549989, 0.21217006134111682, 0.12489600221503136, 0.13290733125868914, 0.16430735749499276, 0.16499918859317902, 0.19148819654018284, 0.1659404095784251, 0.2039250275752869, 0.24853722111424842, 0.25972921728129506, 0.3342845088815764, 0.34517825364092475, 0.151309620673031, 0.23853388388999866, 0.2258639293214958, 0.2728789036572496, 0.26228667014968987, 0.2169691287731383, 0.3456488822367507, 0.2485968252947424, 0.2646077789257899, 0.2564049173878389, 0.186396169688501, 0.19605478490493888, 0.1716674351133401, 0.20355320035674598, 0.29147715193225854, 0.22699284209560439, 0.16819233174093245, 0.12445530549518295, 0.20627088609377983]\n"
     ]
    }
   ],
   "source": [
    "print(len(withEpoch))\n",
    "print(len(withEpoch[0]))\n",
    "print(len(withEpoch[0][0]))\n",
    "print((withEpoch[0][0]))"
   ]
  },
  {
   "cell_type": "code",
   "execution_count": 3,
   "metadata": {},
   "outputs": [],
   "source": [
    "with open(\"/Users/laianavarroolivella/Proyectos/EEG/2.BanPOwerEpoch12Chanels/list_final_EO.txt\", \"rb\") as fp:   # Unpickling\n",
    "    withEpoch = pickle.load(fp)\n",
    "\n",
    "with open(\"/Users/laianavarroolivella/Proyectos/EEG/1.create12ChanelsXPatient/sorted_list_ECsave.txt\", \"rb\") as fp:   # Unpickling\n",
    "    sorted_list_EC_up = pickle.load(fp)\n",
    "\n",
    "with open(\"/Users/laianavarroolivella/Proyectos/EEG/1.create12ChanelsXPatient/sorted_list_EO_save.txt\", \"rb\") as fp:   # Unpickling\n",
    "    sorted_list_EO_up = pickle.load(fp)"
   ]
  },
  {
   "cell_type": "code",
   "execution_count": 4,
   "metadata": {},
   "outputs": [],
   "source": [
    "#Import the data to analise\n",
    "#Open the file in universal line ending mode \n",
    "with open('/Users/laianavarroolivella/Proyectos/EEG/Files_EEG/TEIQue-SF.csv', 'rU') as infile:\n",
    "  # read the file as a dictionary for each row ({header : value})\n",
    "  data = {}\n",
    "  reader = csv.DictReader(infile)\n",
    "  for row in reader:\n",
    "    for header, value in row.items():\n",
    "      try:\n",
    "        data[header].append(value)\n",
    "      except KeyError:\n",
    "        data[header] = [value]\n",
    "\n",
    "# extract the variables you want\n",
    "names = data['ID']\n",
    "TeiQueSF_emotionality = data['TeiQueSF_emotionality']\n",
    "TeiQueSF_wellBeing = data['TeiQueSF_well_being']"
   ]
  },
  {
   "cell_type": "code",
   "execution_count": 5,
   "metadata": {},
   "outputs": [],
   "source": [
    "xCorr = []\n",
    "for e in range(0,len(sorted_list_EO_up)):       #For each frequency band:\n",
    "    hename = sorted_list_EO_up[e]   #Select the name of the patient\n",
    "    hename = str(hename[:-7])  #Select only the number witout the extension \n",
    "    if hename in names:    #If this is in the testNames:\n",
    "        indices = [i for i, s in enumerate(names) if hename in s] #Get the position of the testNames\n",
    "        x = (float(TeiQueSF_wellBeing[int(indices[0])])) #Get the value of the patient in the test selected\n",
    "        xCorr.append(x) #Add it in to the xCorr\n",
    "    else:\n",
    "        print(\"No esta\"+hename)"
   ]
  },
  {
   "cell_type": "code",
   "execution_count": 13,
   "metadata": {},
   "outputs": [
    {
     "output_type": "stream",
     "name": "stdout",
     "text": [
      "(12, 5, 187)\n(187, 5, 12)\n(187, 60)\n"
     ]
    }
   ],
   "source": [
    "#Epoch (samples data point) all incluede for each subject <- + band + brain region (concatenated)\n",
    "\n",
    "#All Epochs ! Majoriti points <- find a ave\n",
    "a = np.array(withEpoch)\n",
    "print(a.shape)\n",
    "b = a.T\n",
    "print(b.shape)\n",
    "c = b.reshape(187,60)\n",
    "print(c.shape)"
   ]
  },
  {
   "cell_type": "code",
   "execution_count": 9,
   "metadata": {},
   "outputs": [
    {
     "output_type": "stream",
     "name": "stdout",
     "text": [
      "<class 'numpy.ndarray'>\n<class 'numpy.float64'>\n"
     ]
    }
   ],
   "source": [
    "#Lavels\n",
    "Y = np.array(xCorr)\n",
    "print(type(Y))\n",
    "print(type(Y[0]))"
   ]
  },
  {
   "cell_type": "code",
   "execution_count": 38,
   "metadata": {},
   "outputs": [],
   "source": [
    "X_train, X_test, y_train, y_test = train_test_split(c, Y, test_size=0.2, random_state=None)"
   ]
  },
  {
   "cell_type": "code",
   "execution_count": null,
   "metadata": {},
   "outputs": [],
   "source": [
    "# Training = normalise! - mean and standar desv.\n",
    "# Test should be the same\n"
   ]
  },
  {
   "cell_type": "code",
   "execution_count": 27,
   "metadata": {},
   "outputs": [
    {
     "output_type": "stream",
     "name": "stdout",
     "text": [
      "(149, 5, 12)\n(38, 5, 12)\n\n\n(149,)\n(38,)\n\n\n"
     ]
    }
   ],
   "source": [
    "print(X_train.shape)\n",
    "print(X_test.shape)\n",
    "print('\\n')\n",
    "print(y_train.shape)\n",
    "print(y_test.shape)"
   ]
  },
  {
   "cell_type": "code",
   "execution_count": 40,
   "metadata": {},
   "outputs": [],
   "source": [
    "regr = linear_model.LinearRegression().fit(X_train, y_train)"
   ]
  },
  {
   "cell_type": "code",
   "execution_count": 41,
   "metadata": {},
   "outputs": [
    {
     "output_type": "execute_result",
     "data": {
      "text/plain": [
       "0.3127504605171769"
      ]
     },
     "metadata": {},
     "execution_count": 41
    }
   ],
   "source": [
    "regr.score(X_train, y_train)"
   ]
  },
  {
   "cell_type": "code",
   "execution_count": 42,
   "metadata": {},
   "outputs": [
    {
     "output_type": "execute_result",
     "data": {
      "text/plain": [
       "array([-1.08027846e+00,  1.08496097e+01, -9.02668152e+00,  1.64281838e+00,\n",
       "        2.80228414e-01, -1.22665430e+01,  1.64273904e+01, -1.42900240e+00,\n",
       "        2.07571409e+01, -2.27608770e+00, -1.57465432e+01, -6.93343454e+00,\n",
       "        2.79467625e+00, -1.00744839e+00,  1.01104620e+00,  4.51907384e+00,\n",
       "       -7.55761592e-02, -5.55501400e+00,  1.67277785e-01,  2.95795698e+00,\n",
       "        4.45028130e+00,  6.98873747e-01, -9.45033703e-01, -6.25981344e+00,\n",
       "        1.36530192e+00,  5.86478370e+00, -2.33863922e+00, -9.95258615e+00,\n",
       "       -5.41398110e+00,  4.06465111e+00, -1.01737860e+00,  9.74207381e+00,\n",
       "        4.39093632e+00,  8.29430732e+00, -1.30485333e+01, -3.35019030e+00,\n",
       "       -1.11133018e+00, -2.18083328e+00,  1.96977214e+00,  2.08743512e+01,\n",
       "        1.65190479e+01,  4.43653532e+01,  3.82185286e+01, -6.34156600e+01,\n",
       "        1.42405736e+02, -2.79848331e+00, -1.65053534e+02, -2.08241317e+01,\n",
       "       -1.47102736e+01,  8.44823234e+00, -2.11504018e+01,  3.89103777e+00,\n",
       "       -1.24289503e+00, -9.95056710e+01, -1.87134944e+02,  2.26301003e+02,\n",
       "       -4.68754316e+02,  8.54072071e+00,  6.46285951e+02, -1.36064708e+01])"
      ]
     },
     "metadata": {},
     "execution_count": 42
    }
   ],
   "source": [
    "regr.coef_"
   ]
  },
  {
   "cell_type": "code",
   "execution_count": 43,
   "metadata": {},
   "outputs": [
    {
     "output_type": "execute_result",
     "data": {
      "text/plain": [
       "5.377772671619355"
      ]
     },
     "metadata": {},
     "execution_count": 43
    }
   ],
   "source": [
    "regr.intercept_"
   ]
  },
  {
   "cell_type": "code",
   "execution_count": 44,
   "metadata": {},
   "outputs": [],
   "source": [
    "y_pred = regr.predict(X_test)"
   ]
  },
  {
   "cell_type": "code",
   "execution_count": 45,
   "metadata": {},
   "outputs": [
    {
     "output_type": "stream",
     "name": "stdout",
     "text": [
      "1.550674114344988\n12.494175008863406\n3.5347100317937548\n"
     ]
    }
   ],
   "source": [
    "# MAE output is non-negative floating point. The best value is 0.0.\n",
    "print(metrics.mean_absolute_error(y_test, y_pred))\n",
    "# A non-negative floating point value (the best value is 0.0), or an array of floating point values, one for each individual target.\n",
    "print(metrics.mean_squared_error(y_test, y_pred))\n",
    "print(np.sqrt(metrics.mean_squared_error(y_test, y_pred)))"
   ]
  },
  {
   "cell_type": "code",
   "execution_count": 47,
   "metadata": {},
   "outputs": [
    {
     "output_type": "execute_result",
     "data": {
      "text/plain": [
       "array([  5.10908076,   5.18832987,   5.94051614,   5.97274679,\n",
       "         5.66529845,   5.45863101,   5.12895805,   6.07526274,\n",
       "         6.03976559,   5.50735286,   5.87573254,   5.65128134,\n",
       "       -16.76765533,   5.91555935,   5.89089311,   4.99320052,\n",
       "         5.1644762 ,   6.73041354,   5.77927634,   5.57614557,\n",
       "         5.26582294,   6.35606118,   5.69230901,   3.54328787,\n",
       "         7.26188704,   5.52159783,   5.08854701,   5.04187601,\n",
       "         4.66894025,   5.99892787,   4.58568301,   5.56312186,\n",
       "         5.24754648,   5.16580446,   3.79739861,   5.26842165,\n",
       "         5.88479009,   4.57519832])"
      ]
     },
     "metadata": {},
     "execution_count": 47
    }
   ],
   "source": [
    "y_pred"
   ]
  },
  {
   "cell_type": "code",
   "execution_count": 49,
   "metadata": {},
   "outputs": [
    {
     "output_type": "execute_result",
     "data": {
      "text/plain": [
       "array([6.5       , 5.66666667, 6.33333333, 6.66666667, 5.83333333,\n",
       "       5.83333333, 5.83333333, 4.        , 4.33333333, 6.83333333,\n",
       "       4.66666667, 4.5       , 3.83333333, 4.33333333, 6.83333333,\n",
       "       4.66666667, 5.83333333, 6.5       , 5.33333333, 6.83333333,\n",
       "       3.        , 5.33333333, 6.5       , 5.        , 6.66666667,\n",
       "       6.16666667, 6.33333333, 6.16666667, 6.16666667, 6.5       ,\n",
       "       6.66666667, 4.5       , 6.33333333, 6.5       , 4.5       ,\n",
       "       6.66666667, 6.5       , 6.33333333])"
      ]
     },
     "metadata": {},
     "execution_count": 49
    }
   ],
   "source": [
    "y_test"
   ]
  },
  {
   "cell_type": "code",
   "execution_count": 46,
   "metadata": {},
   "outputs": [
    {
     "output_type": "stream",
     "name": "stdout",
     "text": [
      "-11.373260566531844\n"
     ]
    }
   ],
   "source": [
    "#The best possible score is 1.0 and it can be negative (because the model can be arbitrarily worse). \n",
    "print(regr.score(X_test, y_pred))"
   ]
  },
  {
   "cell_type": "code",
   "execution_count": null,
   "metadata": {},
   "outputs": [],
   "source": []
  }
 ]
}