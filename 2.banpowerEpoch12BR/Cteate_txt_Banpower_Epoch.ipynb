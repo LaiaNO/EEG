{
 "metadata": {
  "language_info": {
   "codemirror_mode": {
    "name": "ipython",
    "version": 3
   },
   "file_extension": ".py",
   "mimetype": "text/x-python",
   "name": "python",
   "nbconvert_exporter": "python",
   "pygments_lexer": "ipython3",
   "version": "3.8.5-final"
  },
  "orig_nbformat": 2,
  "kernelspec": {
   "name": "python3",
   "display_name": "Python 3.8.5 64-bit ('anaconda3': virtualenv)",
   "metadata": {
    "interpreter": {
     "hash": "47118186456967e3c1047db8e7e8640be95e41027d91cfa2ea66d2138c8f2405"
    }
   }
  }
 },
 "nbformat": 4,
 "nbformat_minor": 2,
 "cells": [
  {
   "cell_type": "code",
   "execution_count": 1,
   "metadata": {},
   "outputs": [],
   "source": [
    "from numpy import asarray\n",
    "from numpy import savetxt\n",
    "import pickle\n",
    "import csv\n",
    "from BandPower_Calcul_EPoch import BanPoer_Epoch"
   ]
  },
  {
   "cell_type": "code",
   "execution_count": 2,
   "metadata": {},
   "outputs": [],
   "source": [
    "with open(\"/Users/laianavarroolivella/Proyectos/EEG/1.dataToBrainReagions/EO_EC_Data.txt\", \"rb\") as fp:   # Unpickling\n",
    "    EO_EC_Data = pickle.load(fp)"
   ]
  },
  {
   "cell_type": "code",
   "execution_count": 3,
   "metadata": {},
   "outputs": [
    {
     "output_type": "stream",
     "name": "stdout",
     "text": [
      "0\n",
      "1\n",
      "2\n",
      "3\n",
      "4\n",
      "5\n",
      "6\n",
      "7\n",
      "8\n",
      "9\n",
      "10\n",
      "11\n"
     ]
    }
   ],
   "source": [
    "list_final_EO = []\n",
    "\n",
    "for i in range(0,12):\n",
    "    listageneral = []\n",
    "    print(i)\n",
    "\n",
    "    p1, p2, p3, p4, p5, p6 = BanPoer_Epoch(EO_EC_Data, i,0)\n",
    "\n",
    "    listageneral.append(p2)\n",
    "    listageneral.append(p3)\n",
    "    listageneral.append(p4)\n",
    "    listageneral.append(p5)\n",
    "    listageneral.append(p6)\n",
    "\n",
    "    list_final_EO.append(listageneral)"
   ]
  },
  {
   "cell_type": "code",
   "execution_count": 4,
   "metadata": {},
   "outputs": [
    {
     "output_type": "stream",
     "name": "stdout",
     "text": [
      "0\n",
      "1\n",
      "2\n",
      "3\n",
      "4\n",
      "5\n",
      "6\n",
      "7\n",
      "8\n",
      "9\n",
      "10\n",
      "11\n"
     ]
    }
   ],
   "source": [
    "list_final_EC = []\n",
    "\n",
    "for i in range(0,12):\n",
    "    listageneral = []\n",
    "    print(i)\n",
    "\n",
    "    p1, p2, p3, p4, p5, p6 = BanPoer_Epoch(EO_EC_Data, i,1)\n",
    "\n",
    "    listageneral.append(p2)\n",
    "    listageneral.append(p3)\n",
    "    listageneral.append(p4)\n",
    "    listageneral.append(p5)\n",
    "    listageneral.append(p6)\n",
    "\n",
    "    list_final_EC.append(listageneral)"
   ]
  },
  {
   "cell_type": "code",
   "execution_count": 5,
   "metadata": {},
   "outputs": [],
   "source": [
    "with open(\"/Users/laianavarroolivella/Proyectos/EEG/2.banpowerEpoch12BR/list_finalEO.txt\", \"wb\") as fp:   #Pickling\n",
    "    pickle.dump(list_final_EO, fp)\n",
    "\n",
    "with open(\"/Users/laianavarroolivella/Proyectos/EEG/2.banpowerEpoch12BR/list_finalEC.txt\", \"wb\") as fp:   #Pickling\n",
    "    pickle.dump(list_final_EC, fp)\n"
   ]
  }
 ]
}