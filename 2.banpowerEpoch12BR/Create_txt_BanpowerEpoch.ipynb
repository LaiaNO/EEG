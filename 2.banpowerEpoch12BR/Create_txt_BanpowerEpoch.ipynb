{
 "metadata": {
  "language_info": {
   "codemirror_mode": {
    "name": "ipython",
    "version": 3
   },
   "file_extension": ".py",
   "mimetype": "text/x-python",
   "name": "python",
   "nbconvert_exporter": "python",
   "pygments_lexer": "ipython3",
   "version": "3.8.5-final"
  },
  "orig_nbformat": 2,
  "kernelspec": {
   "name": "python3",
   "display_name": "Python 3.8.5 64-bit ('anaconda3': virtualenv)",
   "metadata": {
    "interpreter": {
     "hash": "47118186456967e3c1047db8e7e8640be95e41027d91cfa2ea66d2138c8f2405"
    }
   }
  }
 },
 "nbformat": 4,
 "nbformat_minor": 2,
 "cells": [
  {
   "cell_type": "code",
   "execution_count": 1,
   "metadata": {},
   "outputs": [],
   "source": [
    "#IMPORT\n",
    "from numpy import asarray\n",
    "from numpy import savetxt\n",
    "import pickle\n",
    "import csv\n",
    "from BandPower_Calcul_EPoch import BanPoer_Epoch"
   ]
  },
  {
   "cell_type": "code",
   "execution_count": 2,
   "metadata": {},
   "outputs": [],
   "source": [
    "# OPEN THE DATA TXT WITH ALL PATIENTS DATA.\n",
    "with open(\"/Users/laianavarroolivella/Proyectos/EEG/1.dataToBrainReagions/EO_EC_Data.txt\", \"rb\") as fp:   \n",
    "    EO_EC_Data = pickle.load(fp)"
   ]
  },
  {
   "cell_type": "code",
   "execution_count": 3,
   "metadata": {},
   "outputs": [],
   "source": [
    "#LIST OF THE NAMES FOR EACH BRAIN REAGION\n",
    "groups = ['Anterior_midline', 'Left_frontal', 'Right_frontal', 'Left_temporal', 'Left_central', 'Left_parietal',\n",
    "              'Left_Occipital', 'Right_Occipital', 'Right_parietal', 'Right_temporal', 'Posterior_midline', 'Right_central']"
   ]
  },
  {
   "cell_type": "code",
   "execution_count": 4,
   "metadata": {},
   "outputs": [
    {
     "output_type": "stream",
     "name": "stdout",
     "text": [
      "EXTRACTIN THE EPOCHS AND BANDPOWER OF THE BRAIN REAGION:  Anterior_midline\n",
      "EXTRACTIN THE EPOCHS AND BANDPOWER OF THE BRAIN REAGION:  Left_frontal\n",
      "EXTRACTIN THE EPOCHS AND BANDPOWER OF THE BRAIN REAGION:  Right_frontal\n",
      "EXTRACTIN THE EPOCHS AND BANDPOWER OF THE BRAIN REAGION:  Left_temporal\n",
      "EXTRACTIN THE EPOCHS AND BANDPOWER OF THE BRAIN REAGION:  Left_central\n",
      "EXTRACTIN THE EPOCHS AND BANDPOWER OF THE BRAIN REAGION:  Left_parietal\n",
      "EXTRACTIN THE EPOCHS AND BANDPOWER OF THE BRAIN REAGION:  Left_Occipital\n",
      "EXTRACTIN THE EPOCHS AND BANDPOWER OF THE BRAIN REAGION:  Right_Occipital\n",
      "EXTRACTIN THE EPOCHS AND BANDPOWER OF THE BRAIN REAGION:  Right_parietal\n",
      "EXTRACTIN THE EPOCHS AND BANDPOWER OF THE BRAIN REAGION:  Right_temporal\n",
      "EXTRACTIN THE EPOCHS AND BANDPOWER OF THE BRAIN REAGION:  Posterior_midline\n",
      "EXTRACTIN THE EPOCHS AND BANDPOWER OF THE BRAIN REAGION:  Right_central\n"
     ]
    }
   ],
   "source": [
    "# LIST TO SAVE THE 12 BRAIN REAGIONS DATA WITH THE BANDPOWER OF EACH EPOCH AND BANDS.\n",
    "list_final_EO = []\n",
    "# LOOP OF THE 12 BRAIN REAGIONS\n",
    "for i in range(0,12):\n",
    "    print('EXTRACTIN THE EPOCHS AND BANDPOWER OF THE BRAIN REAGION: ',groups[i]) #PRINT THE REAGION THAT IT'S IN COURSE\n",
    "    #list_BR = pacient_delta_EO, pacient_theta_EO, pacient_alpha_EO, pacient_beta_EO, pacient_gama_l_EO, pacient_gama_u_EO\n",
    "    list_BR = BanPoer_Epoch(EO_EC_Data, i,0)\n",
    "    #SAVED ALL IN ONE LIST\n",
    "    list_final_EO.append(list_BR)"
   ]
  },
  {
   "cell_type": "code",
   "execution_count": 5,
   "metadata": {},
   "outputs": [
    {
     "output_type": "stream",
     "name": "stdout",
     "text": [
      "EXTRACTIN THE EPOCHS AND BANDPOWER OF THE BRAIN REAGION:  Anterior_midline\n",
      "EXTRACTIN THE EPOCHS AND BANDPOWER OF THE BRAIN REAGION:  Left_frontal\n",
      "EXTRACTIN THE EPOCHS AND BANDPOWER OF THE BRAIN REAGION:  Right_frontal\n",
      "EXTRACTIN THE EPOCHS AND BANDPOWER OF THE BRAIN REAGION:  Left_temporal\n",
      "EXTRACTIN THE EPOCHS AND BANDPOWER OF THE BRAIN REAGION:  Left_central\n",
      "EXTRACTIN THE EPOCHS AND BANDPOWER OF THE BRAIN REAGION:  Left_parietal\n",
      "EXTRACTIN THE EPOCHS AND BANDPOWER OF THE BRAIN REAGION:  Left_Occipital\n",
      "EXTRACTIN THE EPOCHS AND BANDPOWER OF THE BRAIN REAGION:  Right_Occipital\n",
      "EXTRACTIN THE EPOCHS AND BANDPOWER OF THE BRAIN REAGION:  Right_parietal\n",
      "EXTRACTIN THE EPOCHS AND BANDPOWER OF THE BRAIN REAGION:  Right_temporal\n",
      "EXTRACTIN THE EPOCHS AND BANDPOWER OF THE BRAIN REAGION:  Posterior_midline\n",
      "EXTRACTIN THE EPOCHS AND BANDPOWER OF THE BRAIN REAGION:  Right_central\n"
     ]
    }
   ],
   "source": [
    "# LIST TO SAVE THE 12 BRAIN REAGIONS DATA WITH THE BANDPOWER OF EACH EPOCH AND BANDS.\n",
    "list_final_EC = []\n",
    "# LOOP OF THE 12 BRAIN REAGIONS\n",
    "for i in range(0,12):\n",
    "    print('EXTRACTIN THE EPOCHS AND BANDPOWER OF THE BRAIN REAGION: ',groups[i]) #PRINT THE REAGION THAT IT'S IN COURSE\n",
    "    #list_BR = pacient_delta_EO, pacient_theta_EO, pacient_alpha_EO, pacient_beta_EO, pacient_gama_l_EO, pacient_gama_u_EO\n",
    "    list_BR = BanPoer_Epoch(EO_EC_Data, i,1)\n",
    "    #SAVED ALL IN ONE LIST\n",
    "    list_final_EC.append(list_BR)"
   ]
  },
  {
   "cell_type": "code",
   "execution_count": 6,
   "metadata": {},
   "outputs": [],
   "source": [
    "# SAVE THE 12 BRAIN REAGIONS DATA WITH THE BANDPOWER OF EACH EPOCH FOR EO\n",
    "with open(\"/Users/laianavarroolivella/Proyectos/EEG/2.banpowerEpoch12BR/list_finalEO.txt\", \"wb\") as fp:   #Pickling\n",
    "    pickle.dump(list_final_EO, fp)\n",
    "# SAVE THE 12 BRAIN REAGIONS DATA WITH THE BANDPOWER OF EACH EPOCH FOR EC\n",
    "with open(\"/Users/laianavarroolivella/Proyectos/EEG/2.banpowerEpoch12BR/list_finalEC.txt\", \"wb\") as fp:   #Pickling\n",
    "    pickle.dump(list_final_EC, fp)"
   ]
  }
 ]
}