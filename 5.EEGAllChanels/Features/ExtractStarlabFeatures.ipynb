{
 "metadata": {
  "language_info": {
   "codemirror_mode": {
    "name": "ipython",
    "version": 3
   },
   "file_extension": ".py",
   "mimetype": "text/x-python",
   "name": "python",
   "nbconvert_exporter": "python",
   "pygments_lexer": "ipython3",
   "version": "3.8.5-final"
  },
  "orig_nbformat": 2,
  "kernelspec": {
   "name": "python3",
   "display_name": "Python 3",
   "language": "python"
  }
 },
 "nbformat": 4,
 "nbformat_minor": 2,
 "cells": [
  {
   "cell_type": "code",
   "execution_count": 1,
   "metadata": {},
   "outputs": [],
   "source": [
    "from numpy import asarray\n",
    "from numpy import savetxt\n",
    "import pickle\n",
    "import csv"
   ]
  },
  {
   "cell_type": "code",
   "execution_count": 5,
   "metadata": {},
   "outputs": [],
   "source": [
    "#Feature_array_EC_norm = Eyes closed normalised features\n",
    "#Feature_array_EO_norm = Eyes open normalised features\n",
    "#Feature_array_EC_no_norm = Eyes closed raw features\n",
    "#Feature_array_EO_no_norm = Eyes open raw features\n",
    "\n",
    "with open(\"/Users/laianavarroolivella/Proyectos/EEG/5.EEGAllChanels/Features/Feature_array_EC_norm.p\", \"rb\") as fp:   # Unpickling\n",
    "    Feature_array_EC_norm = pickle.load(fp)\n",
    "with open(\"/Users/laianavarroolivella/Proyectos/EEG/5.EEGAllChanels/Features/Feature_array_EO_norm.p\", \"rb\") as fp:   # Unpickling\n",
    "    Feature_array_EO_norm = pickle.load(fp)\n",
    "\n",
    "with open(\"/Users/laianavarroolivella/Proyectos/EEG/5.EEGAllChanels/Features/Sub_idx_EC\", \"rb\") as fp:   # Unpickling\n",
    "    Sub_idx_EC = pickle.load(fp)\n",
    "with open(\"/Users/laianavarroolivella/Proyectos/EEG/5.EEGAllChanels/Features/Sub_idx_EO\", \"rb\") as fp:   # Unpickling\n",
    "    Sub_idx_EO = pickle.load(fp)\n"
   ]
  },
  {
   "cell_type": "code",
   "execution_count": 8,
   "metadata": {},
   "outputs": [
    {
     "output_type": "execute_result",
     "data": {
      "text/plain": [
       "array([-0.09789527,  0.39472181,  0.73278371])"
      ]
     },
     "metadata": {},
     "execution_count": 8
    }
   ],
   "source": [
    "(Feature_array_EC_norm[0])"
   ]
  },
  {
   "cell_type": "code",
   "execution_count": 4,
   "metadata": {},
   "outputs": [
    {
     "output_type": "execute_result",
     "data": {
      "text/plain": [
       "146"
      ]
     },
     "metadata": {},
     "execution_count": 4
    }
   ],
   "source": [
    "len(Feature_array_EO_norm)"
   ]
  }
 ]
}