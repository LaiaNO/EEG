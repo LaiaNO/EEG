{
 "metadata": {
  "language_info": {
   "codemirror_mode": {
    "name": "ipython",
    "version": 3
   },
   "file_extension": ".py",
   "mimetype": "text/x-python",
   "name": "python",
   "nbconvert_exporter": "python",
   "pygments_lexer": "ipython3",
   "version": "3.8.5-final"
  },
  "orig_nbformat": 2,
  "kernelspec": {
   "name": "python3",
   "display_name": "Python 3"
  }
 },
 "nbformat": 4,
 "nbformat_minor": 2,
 "cells": [
  {
   "cell_type": "code",
   "execution_count": 1,
   "metadata": {},
   "outputs": [],
   "source": [
    "#IMPORT\n",
    "\n",
    "import matplotlib\n",
    "import matplotlib.pyplot as plt # plotting\n",
    "import numpy as np # linear algebra\n",
    "import pandas as pd # data processing, CSV file I/O (e.g. pd.read_csv)\n",
    "import scipy\n",
    "import scipy.interpolate\n",
    "import mne\n",
    "import scipy"
   ]
  },
  {
   "cell_type": "code",
   "execution_count": 2,
   "metadata": {},
   "outputs": [
    {
     "output_type": "stream",
     "name": "stdout",
     "text": [
      "Reading Files/Preprocessed/sub-010002_EC.fdt\n",
      "Reading 0 ... 119344  =      0.000 ...   477.376 secs...\n",
      "<Info | 8 non-empty values\n",
      " bads: []\n",
      " ch_names: Fp1, Fp2, F7, F3, Fz, F4, F8, FC5, FC1, FC2, FC6, C3, Cz, C4, ...\n",
      " chs: 59 EEG\n",
      " custom_ref_applied: False\n",
      " dig: 59 items (59 EEG)\n",
      " highpass: 0.0 Hz\n",
      " lowpass: 125.0 Hz\n",
      " meas_date: unspecified\n",
      " nchan: 59\n",
      " projs: []\n",
      " sfreq: 250.0 Hz\n",
      ">\n"
     ]
    }
   ],
   "source": [
    "#EEGLAB (.set, .fdt)\n",
    "x=mne.io.read_raw_eeglab('Files/Preprocessed/sub-010002_EC.set', preload=True, verbose=True)\n",
    "print(x.info)"
   ]
  },
  {
   "cell_type": "code",
   "execution_count": 27,
   "metadata": {},
   "outputs": [
    {
     "output_type": "stream",
     "name": "stdout",
     "text": [
      "59\n['Fp1', 'Fp2', 'F7', 'F3', 'Fz', 'F4', 'F8', 'FC5', 'FC1', 'FC2', 'FC6', 'C3', 'Cz', 'C4', 'T8', 'CP5', 'CP1', 'CP2', 'CP6', 'AFz', 'P7', 'P3', 'Pz', 'P4', 'P8', 'PO9', 'O1', 'Oz', 'O2', 'PO10', 'AF7', 'AF3', 'AF4', 'AF8', 'F5', 'F1', 'F2', 'F6', 'FT7', 'FC3', 'FC4', 'FT8', 'C5', 'C1', 'C2', 'C6', 'CP3', 'CPz', 'CP4', 'TP8', 'P5', 'P1', 'P2', 'P6', 'PO7', 'PO3', 'POz', 'PO4', 'PO8']\n"
     ]
    }
   ],
   "source": [
    "chanles_names = x.ch_names\n",
    "print(len(x.ch_names))\n",
    "print(chanles_names)"
   ]
  },
  {
   "cell_type": "code",
   "execution_count": 4,
   "metadata": {},
   "outputs": [],
   "source": [
    "datax = x._data"
   ]
  },
  {
   "cell_type": "code",
   "execution_count": 5,
   "metadata": {},
   "outputs": [
    {
     "output_type": "execute_result",
     "data": {
      "text/plain": [
       "(59, 119345)"
      ]
     },
     "metadata": {},
     "execution_count": 5
    }
   ],
   "source": [
    "datax.shape"
   ]
  },
  {
   "cell_type": "code",
   "execution_count": 6,
   "metadata": {},
   "outputs": [
    {
     "output_type": "execute_result",
     "data": {
      "text/plain": [
       "numpy.ndarray"
      ]
     },
     "metadata": {},
     "execution_count": 6
    }
   ],
   "source": [
    "type(datax)"
   ]
  },
  {
   "cell_type": "code",
   "execution_count": 7,
   "metadata": {},
   "outputs": [
    {
     "output_type": "stream",
     "name": "stdout",
     "text": [
      "Fitting ICA to data using 59 channels (please be patient, this may take a while)\n",
      "Inferring max_pca_components from picks\n",
      "Selecting by number: 20 components\n",
      "Fitting ICA took 3.7s.\n"
     ]
    },
    {
     "output_type": "execute_result",
     "data": {
      "text/plain": [
       "<ICA | raw data decomposition, fit (fastica): 119345 samples, 20 components, channels used: \"eeg\", 2 sources marked for exclusion>"
      ]
     },
     "metadata": {},
     "execution_count": 7
    }
   ],
   "source": [
    "\n",
    "ica = mne.preprocessing.ICA(n_components=20, random_state=97, max_iter=800)\n",
    "ica.fit(x)\n",
    "\n",
    "ica.exclude = [1, 2]  # details on how we picked these are omitted here\n",
    "ica"
   ]
  },
  {
   "cell_type": "code",
   "execution_count": 78,
   "metadata": {},
   "outputs": [
    {
     "output_type": "execute_result",
     "data": {
      "text/plain": [
       "array([[ 3.40185380e-06, -1.15108478e-06, -3.05285215e-06, ...,\n",
       "        -5.36247635e-06, -1.07306349e-06,  1.44466424e-06],\n",
       "       [ 2.23387265e-06,  2.42891002e-06, -1.71568549e-06, ...,\n",
       "        -4.02878571e-06, -3.61581445e-06, -1.67563868e-06],\n",
       "       [-3.92220187e-06, -5.43169308e-06, -7.98797464e-06, ...,\n",
       "        -2.61301637e-06, -2.29822683e-06, -1.08431530e-06],\n",
       "       ...,\n",
       "       [-9.06954002e-06, -1.13523130e-05, -1.27948065e-05, ...,\n",
       "         8.56233406e-06,  6.84639597e-06,  3.32538366e-06],\n",
       "       [-6.15342760e-06, -4.73464394e-06, -4.12048912e-06, ...,\n",
       "         8.53900814e-06,  6.83162975e-06,  3.94542956e-06],\n",
       "       [-2.96153688e-06, -6.27886891e-07, -1.67830978e-08, ...,\n",
       "         3.16720605e-06,  7.71605730e-06,  1.06859007e-05]])"
      ]
     },
     "metadata": {},
     "execution_count": 78
    }
   ],
   "source": [
    "datax"
   ]
  },
  {
   "cell_type": "code",
   "execution_count": 51,
   "metadata": {},
   "outputs": [],
   "source": [
    "upperchanels=[]\n",
    "for i in chanles_names:\n",
    "    r = i.upper()\n",
    "    upperchanels.append(r)"
   ]
  },
  {
   "cell_type": "code",
   "execution_count": 52,
   "metadata": {},
   "outputs": [],
   "source": [
    "i=0\n",
    "l=[]\n",
    "\n",
    "for e in datax:\n",
    "    f=[]\n",
    "    f.append(upperchanels[i])\n",
    "    i=i+1\n",
    "    f.append(e)\n",
    "    l.append(f)"
   ]
  },
  {
   "cell_type": "code",
   "execution_count": 86,
   "metadata": {},
   "outputs": [],
   "source": [
    "def group(nomgroup):\n",
    "    group_date = []\n",
    "    for e in nomgroup:\n",
    "        if e in upperchanels:\n",
    "            num = upperchanels.index(e)\n",
    "            print(num)\n",
    "            group_date.append(datax[num])  \n",
    "    print(group_date)\n",
    "    return group_date\n"
   ]
  },
  {
   "cell_type": "code",
   "execution_count": 87,
   "metadata": {},
   "outputs": [
    {
     "output_type": "stream",
     "name": "stdout",
     "text": [
      "19\n4\n12\n[array([ 2.00113463e-06,  2.77764261e-07, -1.97529757e-06, ...,\n       -2.74235582e-06, -3.56392652e-07,  1.90224111e-06]), array([ 1.13943183e-06,  1.32182136e-07, -9.68359768e-07, ...,\n       -1.28164268e-06,  4.11021084e-07,  1.90983510e-06]), array([ 2.98180014e-07, -5.47748089e-07, -1.56322765e-06, ...,\n       -4.34549570e-07, -1.47793972e-06, -2.09546876e-06])]\n"
     ]
    }
   ],
   "source": [
    "#GROUP 1: FP2, AFZ, FZ, FCZ, CZ\n",
    "group1= [\"Fp2\", \"AFZ\", \"FZ\", \"FCZ\", \"CZ\"]\n",
    "group1_date = group(group1)"
   ]
  },
  {
   "cell_type": "code",
   "execution_count": 88,
   "metadata": {},
   "outputs": [
    {
     "output_type": "stream",
     "name": "stdout",
     "text": [
      "2\n34\n3\n35\n30\n31\n0\n[array([-3.92220187e-06, -5.43169308e-06, -7.98797464e-06, ...,\n       -2.61301637e-06, -2.29822683e-06, -1.08431530e-06]), array([-4.65124321e-06, -4.63179207e-06, -4.77108622e-06, ...,\n       -6.37663984e-06, -9.91707146e-07,  1.92381907e-06]), array([-1.41631055e-06, -1.97848690e-06, -2.98664570e-06, ...,\n       -4.68126678e-06,  2.76007354e-07,  4.18328714e-06]), array([ 2.54191458e-07, -4.19309735e-07, -1.35697889e-06, ...,\n       -1.82592273e-06,  1.10799837e-06,  3.53006649e-06]), array([ 3.11117578e-06,  1.31903470e-06, -1.22595239e-06, ...,\n       -1.68120790e-06, -3.47618771e-06, -2.81636143e-06]), array([-8.75274166e-08, -8.88440967e-07, -1.93517590e-06, ...,\n       -2.71626925e-06,  4.38633382e-07,  3.19130039e-06]), array([ 3.40185380e-06, -1.15108478e-06, -3.05285215e-06, ...,\n       -5.36247635e-06, -1.07306349e-06,  1.44466424e-06])]\n"
     ]
    }
   ],
   "source": [
    "#GROUP 2: F7, F5, F3, F1, AF7, AF3, FP1\n",
    "group2= [\"F7\", \"F5\", \"F3\", \"F1\", \"AF7\", \"AF3\", \"FP1\"]\n",
    "group2_date = group1_date = group(group2)"
   ]
  },
  {
   "cell_type": "code",
   "execution_count": 89,
   "metadata": {},
   "outputs": [
    {
     "output_type": "stream",
     "name": "stdout",
     "text": [
      "1\n32\n33\n36\n5\n37\n6\n[array([ 2.23387265e-06,  2.42891002e-06, -1.71568549e-06, ...,\n       -4.02878571e-06, -3.61581445e-06, -1.67563868e-06]), array([ 1.70486331e-06, -7.57790029e-07, -3.73955727e-06, ...,\n       -2.50763845e-06, -1.31757772e-06, -3.61216247e-07]), array([ 3.06162238e-06,  2.38537836e-06, -1.82144356e-06, ...,\n       -5.16917086e-06, -6.51833677e-06, -4.91533422e-06]), array([ 1.29774761e-06, -3.97162884e-07, -1.92429149e-06, ...,\n       -6.02354825e-07, -1.16406336e-07,  1.06947064e-07]), array([ 7.20209956e-07, -2.08521080e-06, -3.78601623e-06, ...,\n        1.93757069e-06,  1.96353757e-06,  2.03945130e-07]), array([-3.11221385e-06, -5.69084263e-06, -6.45881605e-06, ...,\n        5.79795837e-06,  6.30293703e-06,  1.57499433e-06]), array([ 1.90496516e-06,  1.27765864e-07, -4.25945139e-06, ...,\n        5.13332903e-07,  4.56194758e-07, -1.00211287e-06])]\n"
     ]
    }
   ],
   "source": [
    "#GROUP 3: FP2, AF4, AF8, F2, F4, F6, F8\n",
    "group3= [\"FP2\", \"AF4\", \"AF8\", \"F2\", \"F4\", \"F6\", \"F8\"]\n",
    "group3_date = group1_date = group(group3)"
   ]
  },
  {
   "cell_type": "code",
   "execution_count": 81,
   "metadata": {},
   "outputs": [
    {
     "output_type": "stream",
     "name": "stdout",
     "text": [
      "38\n[array([-1.84910417e-06, -3.92169547e-06, -6.16709328e-06, ...,\n       -3.11031604e-06, -1.91561389e-06, -1.53229654e-06])]\n"
     ]
    }
   ],
   "source": [
    "#GROUP 4: FT7, T7, TP7\n",
    "group4= [\"FT7\", \"T7\", \"TP7\"]\n",
    "group4_date = group1_date = group(group4)"
   ]
  },
  {
   "cell_type": "code",
   "execution_count": 90,
   "metadata": {},
   "outputs": [
    {
     "output_type": "stream",
     "name": "stdout",
     "text": [
      "7\n39\n8\n42\n11\n43\n[array([-1.60232580e-06,  6.08750403e-07,  4.07119417e-06, ...,\n       -1.58970499e-05, -1.03050680e-05, -3.77248979e-06]), array([-2.99032658e-07, -1.16765130e-06, -2.40230060e-06, ...,\n       -4.34433985e-06, -4.97395307e-07,  3.10283136e-06]), array([ 4.43814218e-07, -1.55052006e-07, -1.09324217e-06, ...,\n       -4.09914255e-07,  1.45459712e-06,  3.05571985e-06]), array([-1.23885322e-06, -1.92825365e-06, -2.12844491e-06, ...,\n       -5.30958223e-06, -3.42080355e-06, -9.47161317e-07]), array([ 2.00634551e-06, -7.24666893e-07, -3.82867908e-06, ...,\n       -7.44289577e-07,  8.81697536e-07,  2.45382285e-06]), array([ 1.49370813e-06, -5.68740964e-07, -3.11952615e-06, ...,\n        1.18720710e-06,  1.59358931e-06,  1.90362489e-06])]\n"
     ]
    }
   ],
   "source": [
    "#GROUP 5: FC5, FC3, FC1, C5, C3, C1\n",
    "group5= [\"FC5\", \"FC3\", \"FC1\", \"C5\", \"C3\", \"C1\"]\n",
    "group5_date = group1_date = group(group5)"
   ]
  },
  {
   "cell_type": "code",
   "execution_count": 91,
   "metadata": {},
   "outputs": [
    {
     "output_type": "stream",
     "name": "stdout",
     "text": [
      "15\n46\n16\n20\n50\n23\n51\n[array([ 3.47012949e-06,  2.36244518e-08, -3.56060052e-06, ...,\n        1.12081993e-06,  1.83995974e-06,  1.98656452e-06]), array([ 4.33474588e-06, -5.26999176e-07, -5.64368773e-06, ...,\n        4.24675465e-06,  4.61148024e-06,  4.08634853e-06]), array([ 3.27001810e-06, -1.07466578e-06, -5.61063576e-06, ...,\n        4.76674938e-06,  4.48524904e-06,  3.40462303e-06]), array([ 3.22025299e-06, -2.03981549e-07, -4.61595440e-06, ...,\n        4.76245165e-07,  4.61803496e-07,  4.50123340e-07]), array([ 3.14241815e-06, -2.21012878e-06, -7.48739862e-06, ...,\n        5.95269108e-06,  6.15658331e-06,  4.71871328e-06]), array([-2.78237462e-07,  6.97606206e-07, -1.76756814e-07, ...,\n        7.82822418e-06,  4.20630646e-06, -3.97999547e-08]), array([ 2.08149266e-06, -3.00035119e-06, -7.89499140e-06, ...,\n        7.68975163e-06,  7.35936880e-06,  5.22172117e-06])]\n"
     ]
    }
   ],
   "source": [
    "#GROUP 6: CP5, CP3, CP1, P7, P5, P3, P1\n",
    "group6= [\"CP5\", \"CP3\", \"CP1\", \"P7\", \"P5\", \"P4\", \"P1\"]\n",
    "group6_date = group1_date = group(group6)"
   ]
  },
  {
   "cell_type": "code",
   "execution_count": 92,
   "metadata": {},
   "outputs": [
    {
     "output_type": "stream",
     "name": "stdout",
     "text": [
      "54\n55\n26\n[array([-1.01543784e-06, -6.31406832e-06, -1.20493011e-05, ...,\n        9.21383560e-07,  6.34320021e-07,  1.15184046e-07]), array([-3.89220786e-06, -9.30286217e-06, -1.39476957e-05, ...,\n        5.97450686e-06,  5.74525261e-06,  3.63659644e-06]), array([-7.66255713e-06, -1.31769142e-05, -1.80814171e-05, ...,\n        1.50085747e-06,  1.39621997e-06,  2.74718285e-07])]\n"
     ]
    }
   ],
   "source": [
    "#GROUP 7: PO7, PO3, O1\n",
    "group7= [\"PO7\", \"PO3\", \"O1\"]\n",
    "group7_date = group1_date = group(group7)"
   ]
  },
  {
   "cell_type": "code",
   "execution_count": 93,
   "metadata": {},
   "outputs": [
    {
     "output_type": "stream",
     "name": "stdout",
     "text": [
      "57\n58\n28\n[array([-6.15342760e-06, -4.73464394e-06, -4.12048912e-06, ...,\n        8.53900814e-06,  6.83162975e-06,  3.94542956e-06]), array([-2.96153688e-06, -6.27886891e-07, -1.67830978e-08, ...,\n        3.16720605e-06,  7.71605730e-06,  1.06859007e-05]), array([-8.22264290e-06, -6.93706036e-06, -6.45979261e-06, ...,\n        3.56986737e-06,  5.91925240e-06,  6.77884483e-06])]\n"
     ]
    }
   ],
   "source": [
    "#GROUP 8: PO4, PO8, O2\n",
    "group8= [\"PO4\", \"PO8\", \"O2\"]\n",
    "group8_date = group1_date = group(group8)"
   ]
  },
  {
   "cell_type": "code",
   "execution_count": 94,
   "metadata": {},
   "outputs": [
    {
     "output_type": "stream",
     "name": "stdout",
     "text": [
      "52\n23\n53\n24\n17\n[array([-1.47515118e-06, -2.33250427e-06, -4.06742859e-06, ...,\n        6.85974741e-06,  3.60017180e-06, -4.25377160e-07]), array([-2.78237462e-07,  6.97606206e-07, -1.76756814e-07, ...,\n        7.82822418e-06,  4.20630646e-06, -3.97999547e-08]), array([2.81692243e-06, 4.73433971e-06, 3.94555998e-06, ...,\n       7.15848541e-06, 6.32591295e-06, 4.65109015e-06]), array([3.07216144e-06, 4.92464256e-06, 4.00997114e-06, ...,\n       6.92143917e-06, 6.37987947e-06, 4.97241259e-06]), array([ 3.05704474e-07, -1.08453476e-06, -3.30957890e-06, ...,\n        2.32525706e-06, -1.05001271e-06, -4.18602133e-06])]\n"
     ]
    }
   ],
   "source": [
    "#GROUP 9: P2, P4, P6, P8, CP2, PC4, PC6\n",
    "group9= [\"P2\", \"P4\", \"P6\", \"P8\", \"CP2\", \"PC4\", \"PC6\"]\n",
    "group9_date = group(group9)"
   ]
  },
  {
   "cell_type": "code",
   "execution_count": 95,
   "metadata": {},
   "outputs": [
    {
     "output_type": "stream",
     "name": "stdout",
     "text": [
      "41\n14\n49\n[array([ 1.63161063e-06,  7.71445692e-07, -2.65021062e-06, ...,\n        1.73230684e-06,  8.38467479e-07, -2.39775205e-06]), array([ 5.14658976e-06,  6.21827173e-06,  3.08973742e-06, ...,\n        2.70251942e-06,  1.16623962e-06, -2.35376143e-06]), array([ 5.35196686e-06,  6.40279961e-06,  3.34141541e-06, ...,\n        3.11299181e-06,  1.77002454e-06, -1.46207845e-06])]\n"
     ]
    }
   ],
   "source": [
    "#GROUP 10: FT8, T8, TP8\n",
    "group10= [\"FT8\", \"T8\", \"TP8\"]\n",
    "group10_date = group(group10)"
   ]
  },
  {
   "cell_type": "code",
   "execution_count": 96,
   "metadata": {},
   "outputs": [
    {
     "output_type": "stream",
     "name": "stdout",
     "text": [
      "47\n56\n27\n[array([ 1.51127541e-06, -1.49094808e-06, -4.65670300e-06, ...,\n        2.01288438e-06,  4.90526855e-07, -1.02789950e-06]), array([-9.06954002e-06, -1.13523130e-05, -1.27948065e-05, ...,\n        8.56233406e-06,  6.84639597e-06,  3.32538366e-06]), array([-1.06186686e-05, -1.31184549e-05, -1.51505213e-05, ...,\n        2.93949342e-06,  2.99145460e-06,  1.73740721e-06])]\n"
     ]
    }
   ],
   "source": [
    "#GROUP 11: CPZ, PZ, POZ, OZ, IZ\n",
    "group11= [\"CPZ\", \"Pz\", \"POZ\", \"OZ\", \"IZ\"]\n",
    "group11_date = group(group11)"
   ]
  },
  {
   "cell_type": "code",
   "execution_count": 97,
   "metadata": {},
   "outputs": [
    {
     "output_type": "stream",
     "name": "stdout",
     "text": [
      "9\n40\n10\n44\n13\n45\n[array([ 9.74396586e-07, -2.88839400e-07, -1.47224820e-06, ...,\n       -5.56892574e-07, -1.97748125e-06, -2.85992885e-06]), array([ 7.31900036e-07, -1.28245664e-06, -3.37313509e-06, ...,\n        7.23405600e-07, -1.67501450e-06, -4.31259012e-06]), array([ 4.98399258e-07, -1.38187122e-06, -4.17399073e-06, ...,\n        2.10639429e-06,  4.09468770e-07, -3.19888783e-06]), array([ 3.64324808e-07, -8.57553244e-07, -2.51371026e-06, ...,\n       -2.21664473e-07, -3.12326956e-06, -5.26962662e-06]), array([ 1.00797343e-06,  3.60129982e-07, -1.71947110e-06, ...,\n        1.70719719e-06, -2.90213108e-06, -7.12549686e-06]), array([ 2.52068186e-06,  2.68036008e-06,  3.32879514e-07, ...,\n        3.21530819e-06, -1.14606544e-07, -4.50300217e-06])]\n"
     ]
    }
   ],
   "source": [
    "#GROUP 12: FC2, FC4, FC6, C2, C4, C6\n",
    "group12= [\"FC2\", \"FC4\", \"FC6\", \"C2\", \"C4\", \"C6\"]\n",
    "group12_date = group(group12)"
   ]
  },
  {
   "cell_type": "code",
   "execution_count": 98,
   "metadata": {},
   "outputs": [
    {
     "output_type": "stream",
     "name": "stdout",
     "text": [
      "FP1\nFP2\nF7\nF3\nF4\nF8\nCP6\nP3\nPZ\nPO9\nPO10\nAF7\nAF3\nAF4\nAF8\nF5\nF1\nF2\nF6\nFT7\nCP4\n21\n"
     ]
    }
   ],
   "source": [
    "GROUPPP=[\"FC2\", \"FC4\", \"FC6\", \"C2\", \"C4\", \"C6\", \"CPZ\", \"Pz\", \"POZ\", \"OZ\", \"IZ\", \"FT8\", \"T8\", \"TP8\", \"P2\", \"P4\", \"P6\", \"P8\", \"CP2\", \"PC4\", \"PC6\", \"PO4\", \"PO8\", \"O2\", \"PO7\", \"PO3\", \"O1\", \"CP5\", \"CP3\", \"CP1\", \"P7\", \"P5\", \"P4\", \"P1\", \"FC5\", \"FC3\", \"FC1\", \"C5\", \"C3\", \"C1\", \"Fp2\", \"AFZ\", \"FZ\", \"FCZ\", \"CZ\"]\n",
    "# CHANELS NOT IN THE IMAGE:\n",
    "NUMER_ITEMS_NOR=0\n",
    "for i in upperchanels:\n",
    "    if i not in GROUPPP:\n",
    "        print(i)\n",
    "        NUMER_ITEMS_NOR=NUMER_ITEMS_NOR+1\n",
    "print(NUMER_ITEMS_NOR)"
   ]
  },
  {
   "cell_type": "code",
   "execution_count": null,
   "metadata": {},
   "outputs": [],
   "source": []
  }
 ]
}