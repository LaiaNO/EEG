{
 "metadata": {
  "language_info": {
   "codemirror_mode": {
    "name": "ipython",
    "version": 3
   },
   "file_extension": ".py",
   "mimetype": "text/x-python",
   "name": "python",
   "nbconvert_exporter": "python",
   "pygments_lexer": "ipython3",
   "version": "3.8.5-final"
  },
  "orig_nbformat": 2,
  "kernelspec": {
   "name": "python3",
   "display_name": "Python 3"
  }
 },
 "nbformat": 4,
 "nbformat_minor": 2,
 "cells": [
  {
   "cell_type": "code",
   "execution_count": 41,
   "metadata": {},
   "outputs": [],
   "source": [
    "#IMPORT\n",
    "\n",
    "import matplotlib\n",
    "import matplotlib.pyplot as plt # plotting\n",
    "import numpy as np # linear algebra\n",
    "import pandas as pd # data processing, CSV file I/O (e.g. pd.read_csv)\n",
    "import scipy\n",
    "import scipy.interpolate\n",
    "import mne\n",
    "import scipy\n",
    "import statistics"
   ]
  },
  {
   "cell_type": "code",
   "execution_count": 2,
   "metadata": {},
   "outputs": [
    {
     "output_type": "stream",
     "name": "stdout",
     "text": [
      "Reading Files/Preprocessed/sub-010002_EC.fdt\n",
      "Reading 0 ... 119344  =      0.000 ...   477.376 secs...\n",
      "<Info | 8 non-empty values\n",
      " bads: []\n",
      " ch_names: Fp1, Fp2, F7, F3, Fz, F4, F8, FC5, FC1, FC2, FC6, C3, Cz, C4, ...\n",
      " chs: 59 EEG\n",
      " custom_ref_applied: False\n",
      " dig: 59 items (59 EEG)\n",
      " highpass: 0.0 Hz\n",
      " lowpass: 125.0 Hz\n",
      " meas_date: unspecified\n",
      " nchan: 59\n",
      " projs: []\n",
      " sfreq: 250.0 Hz\n",
      ">\n"
     ]
    }
   ],
   "source": [
    "#EEGLAB (.set, .fdt)\n",
    "x=mne.io.read_raw_eeglab('Files/Preprocessed/sub-010002_EC.set', preload=True, verbose=True)\n",
    "print(x.info)"
   ]
  },
  {
   "cell_type": "code",
   "execution_count": 3,
   "metadata": {},
   "outputs": [
    {
     "output_type": "stream",
     "name": "stdout",
     "text": [
      "59\n['Fp1', 'Fp2', 'F7', 'F3', 'Fz', 'F4', 'F8', 'FC5', 'FC1', 'FC2', 'FC6', 'C3', 'Cz', 'C4', 'T8', 'CP5', 'CP1', 'CP2', 'CP6', 'AFz', 'P7', 'P3', 'Pz', 'P4', 'P8', 'PO9', 'O1', 'Oz', 'O2', 'PO10', 'AF7', 'AF3', 'AF4', 'AF8', 'F5', 'F1', 'F2', 'F6', 'FT7', 'FC3', 'FC4', 'FT8', 'C5', 'C1', 'C2', 'C6', 'CP3', 'CPz', 'CP4', 'TP8', 'P5', 'P1', 'P2', 'P6', 'PO7', 'PO3', 'POz', 'PO4', 'PO8']\n"
     ]
    }
   ],
   "source": [
    "chanles_names = x.ch_names\n",
    "print(len(x.ch_names))\n",
    "print(chanles_names)"
   ]
  },
  {
   "cell_type": "code",
   "execution_count": 4,
   "metadata": {},
   "outputs": [],
   "source": [
    "datax = x._data"
   ]
  },
  {
   "cell_type": "code",
   "execution_count": 5,
   "metadata": {},
   "outputs": [
    {
     "output_type": "execute_result",
     "data": {
      "text/plain": [
       "(59, 119345)"
      ]
     },
     "metadata": {},
     "execution_count": 5
    }
   ],
   "source": [
    "datax.shape"
   ]
  },
  {
   "cell_type": "code",
   "execution_count": 6,
   "metadata": {},
   "outputs": [
    {
     "output_type": "execute_result",
     "data": {
      "text/plain": [
       "numpy.ndarray"
      ]
     },
     "metadata": {},
     "execution_count": 6
    }
   ],
   "source": [
    "type(datax)"
   ]
  },
  {
   "cell_type": "code",
   "execution_count": 7,
   "metadata": {},
   "outputs": [
    {
     "output_type": "stream",
     "name": "stdout",
     "text": [
      "Fitting ICA to data using 59 channels (please be patient, this may take a while)\n",
      "Inferring max_pca_components from picks\n",
      "Selecting by number: 20 components\n",
      "Fitting ICA took 4.2s.\n"
     ]
    },
    {
     "output_type": "execute_result",
     "data": {
      "text/plain": [
       "<ICA | raw data decomposition, fit (fastica): 119345 samples, 20 components, channels used: \"eeg\", 2 sources marked for exclusion>"
      ]
     },
     "metadata": {},
     "execution_count": 7
    }
   ],
   "source": [
    "\n",
    "ica = mne.preprocessing.ICA(n_components=20, random_state=97, max_iter=800)\n",
    "ica.fit(x)\n",
    "\n",
    "ica.exclude = [1, 2]  # details on how we picked these are omitted here\n",
    "ica"
   ]
  },
  {
   "cell_type": "code",
   "execution_count": 8,
   "metadata": {},
   "outputs": [
    {
     "output_type": "execute_result",
     "data": {
      "text/plain": [
       "array([[ 3.40185380e-06, -1.15108478e-06, -3.05285215e-06, ...,\n",
       "        -5.36247635e-06, -1.07306349e-06,  1.44466424e-06],\n",
       "       [ 2.23387265e-06,  2.42891002e-06, -1.71568549e-06, ...,\n",
       "        -4.02878571e-06, -3.61581445e-06, -1.67563868e-06],\n",
       "       [-3.92220187e-06, -5.43169308e-06, -7.98797464e-06, ...,\n",
       "        -2.61301637e-06, -2.29822683e-06, -1.08431530e-06],\n",
       "       ...,\n",
       "       [-9.06954002e-06, -1.13523130e-05, -1.27948065e-05, ...,\n",
       "         8.56233406e-06,  6.84639597e-06,  3.32538366e-06],\n",
       "       [-6.15342760e-06, -4.73464394e-06, -4.12048912e-06, ...,\n",
       "         8.53900814e-06,  6.83162975e-06,  3.94542956e-06],\n",
       "       [-2.96153688e-06, -6.27886891e-07, -1.67830978e-08, ...,\n",
       "         3.16720605e-06,  7.71605730e-06,  1.06859007e-05]])"
      ]
     },
     "metadata": {},
     "execution_count": 8
    }
   ],
   "source": [
    "datax"
   ]
  },
  {
   "cell_type": "code",
   "execution_count": 9,
   "metadata": {},
   "outputs": [],
   "source": [
    "upperchanels=[]\n",
    "for i in chanles_names:\n",
    "    r = i.upper()\n",
    "    upperchanels.append(r)"
   ]
  },
  {
   "cell_type": "code",
   "execution_count": 10,
   "metadata": {},
   "outputs": [],
   "source": [
    "i=0\n",
    "l=[]\n",
    "\n",
    "for e in datax:\n",
    "    f=[]\n",
    "    f.append(upperchanels[i])\n",
    "    i=i+1\n",
    "    f.append(e)\n",
    "    l.append(f)"
   ]
  },
  {
   "cell_type": "code",
   "execution_count": 11,
   "metadata": {},
   "outputs": [],
   "source": [
    "def group(nomgroup):\n",
    "    group_date = []\n",
    "    for e in nomgroup:\n",
    "        if e in upperchanels:\n",
    "            num = upperchanels.index(e)\n",
    "            #print(num)\n",
    "            group_date.append(datax[num])  \n",
    "    #print(group_date)\n",
    "    return group_date\n"
   ]
  },
  {
   "cell_type": "code",
   "execution_count": 39,
   "metadata": {},
   "outputs": [],
   "source": [
    "#Medium \n",
    "#group_dat = [[1,2,3,..., 119345],[1,2,3,..., 119345],[1,2,3,..., 119345],[1,2,3,..., 119345]]\n",
    "def mediumchanels(group_dat):\n",
    "    segundo = len(group_dat[0])\n",
    "    primero = len(group_dat)\n",
    "    mean_data = []\n",
    "    for i in range (0,segundo):\n",
    "        suma1=[]\n",
    "        for e in range(0,primero):\n",
    "            suma1.append(group_dat[e][i])\n",
    "        numpero = statistics.median(suma1)\n",
    "        mean_data.append(numpero)\n",
    "    return mean_data\n",
    "        \n"
   ]
  },
  {
   "cell_type": "code",
   "execution_count": 52,
   "metadata": {},
   "outputs": [
    {
     "output_type": "stream",
     "name": "stdout",
     "text": [
      "12\n"
     ]
    }
   ],
   "source": [
    "#LOOP GROUPS\n",
    "#GROUPS\n",
    "group1= [\"Fp2\", \"AFZ\", \"FZ\", \"FCZ\", \"CZ\"]\n",
    "group2= [\"F7\", \"F5\", \"F3\", \"F1\", \"AF7\", \"AF3\", \"FP1\"]\n",
    "group3= [\"FP2\", \"AF4\", \"AF8\", \"F2\", \"F4\", \"F6\", \"F8\"]\n",
    "group4= [\"FT7\", \"T7\", \"TP7\"]\n",
    "group5= [\"FC5\", \"FC3\", \"FC1\", \"C5\", \"C3\", \"C1\"]\n",
    "group6= [\"CP5\", \"CP3\", \"CP1\", \"P7\", \"P5\", \"P4\", \"P1\"]\n",
    "group7= [\"PO7\", \"PO3\", \"O1\"]\n",
    "group8= [\"PO4\", \"PO8\", \"O2\"]\n",
    "group9= [\"P2\", \"P4\", \"P6\", \"P8\", \"CP2\", \"PC4\", \"PC6\"]\n",
    "group10= [\"FT8\", \"T8\", \"TP8\"]\n",
    "group11= [\"CPZ\", \"Pz\", \"POZ\", \"OZ\", \"IZ\"]\n",
    "group12= [\"FC2\", \"FC4\", \"FC6\", \"C2\", \"C4\", \"C6\"]\n",
    "\n",
    "#X\n",
    "groups = [group1, group2, group3, group4, group5, group6, group7, group8, group9, group10, group11, group12]\n",
    "\n",
    "groups_date_finale = [] #Save all informatio chanels 12.\n",
    "\n",
    "for i in groups:\n",
    "    group_date = group(i)\n",
    "    mean_group = mediumchanels(group_date)\n",
    "    mean_array = np.array(mean_group)\n",
    "    groups_date_finale.append(mean_array)\n",
    "groups_date_final = np.array(groups_date_finale)"
   ]
  },
  {
   "cell_type": "code",
   "execution_count": 57,
   "metadata": {},
   "outputs": [
    {
     "output_type": "stream",
     "name": "stdout",
     "text": [
      "21\n['FP1', 'FP2', 'F7', 'F3', 'F4', 'F8', 'CP6', 'P3', 'PZ', 'PO9', 'PO10', 'AF7', 'AF3', 'AF4', 'AF8', 'F5', 'F1', 'F2', 'F6', 'FT7', 'CP4']\n"
     ]
    }
   ],
   "source": [
    "GROUPPP=[\"FC2\", \"FC4\", \"FC6\", \"C2\", \"C4\", \"C6\", \"CPZ\", \"Pz\", \"POZ\", \"OZ\", \"IZ\", \"FT8\", \"T8\", \"TP8\", \"P2\", \"P4\", \"P6\", \"P8\", \"CP2\", \"PC4\", \"PC6\", \"PO4\", \"PO8\", \"O2\", \"PO7\", \"PO3\", \"O1\", \"CP5\", \"CP3\", \"CP1\", \"P7\", \"P5\", \"P4\", \"P1\", \"FC5\", \"FC3\", \"FC1\", \"C5\", \"C3\", \"C1\", \"Fp2\", \"AFZ\", \"FZ\", \"FCZ\", \"CZ\"]\n",
    "# CHANELS NOT IN THE IMAGE:\n",
    "notingroup=[]\n",
    "NUMER_ITEMS_NOR=0\n",
    "for i in upperchanels:\n",
    "    if i not in GROUPPP:\n",
    "        notingroup.append(i)\n",
    "        NUMER_ITEMS_NOR=NUMER_ITEMS_NOR+1\n",
    "print(NUMER_ITEMS_NOR)\n",
    "print(notingroup)"
   ]
  },
  {
   "cell_type": "code",
   "execution_count": null,
   "metadata": {},
   "outputs": [],
   "source": []
  }
 ]
}